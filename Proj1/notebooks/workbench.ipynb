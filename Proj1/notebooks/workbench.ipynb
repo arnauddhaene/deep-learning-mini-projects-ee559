{
 "cells": [
  {
   "cell_type": "code",
   "execution_count": 2,
   "metadata": {},
   "outputs": [],
   "source": [
    "import json\n",
    "import math\n",
    "import pandas as pd\n",
    "import numpy as np\n",
    "import plotly.express as px"
   ]
  },
  {
   "cell_type": "code",
   "execution_count": null,
   "metadata": {},
   "outputs": [],
   "source": [
    "z_data = np.empty((5, 5))\n",
    "\n",
    "for datapoint in tuning:\n",
    "    \n",
    "    print(f\"{math.log10(float(datapoint['learning_rate']))} {math.log10(float(datapoint['decay']))}\")\n",
    "    \n",
    "    z_data[int(-1 * math.log10(float(datapoint['learning_rate']))) - 1, int(-1 * math.log10(float(datapoint['decay']))) - 1] = float(datapoint['train_accuracy'])\n",
    "    \n",
    "    \n",
    "z_data = pd.DataFrame(z_data)"
   ]
  },
  {
   "cell_type": "code",
   "execution_count": 32,
   "metadata": {},
   "outputs": [],
   "source": [
    "mlparams = pd.read_csv('../hyperparameters-mlp.csv')"
   ]
  },
  {
   "cell_type": "code",
   "execution_count": 36,
   "metadata": {},
   "outputs": [
    {
     "data": {
      "application/vnd.plotly.v1+json": {
       "config": {
        "plotlyServerURL": "https://plot.ly"
       },
       "data": [
        {
         "hovertemplate": "learning_rate=%{x}<br>decay=%{y}<br>train_accuracy=%{marker.color}<extra></extra>",
         "legendgroup": "",
         "marker": {
          "color": [
           0.7856800007820129,
           0.7796133335431417,
           0.774146667321523,
           0.7701333316167196,
           0.7196666630109151,
           0.931386665503184,
           0.946639997959137,
           0.9293733342488608,
           0.9063200004895527,
           0.6371999971071879,
           0.9454266675313314,
           0.9409866682688396,
           0.938600001335144,
           0.9388933340708416,
           0.8278533339500427,
           0.5193333526452383,
           0.5331066918373107,
           0.5629866456985474,
           0.5770133229096731,
           0.546999990940094,
           0.9094933358828228,
           0.8988399998346964,
           0.905573336283366,
           0.8611733357111613,
           0.600453344186147
          ],
          "coloraxis": "coloraxis",
          "symbol": "circle"
         },
         "mode": "markers",
         "name": "",
         "orientation": "v",
         "showlegend": false,
         "type": "scatter",
         "x": [
          0.0001,
          0.0001,
          0.0001,
          0.0001,
          0.0001,
          0.005,
          0.005,
          0.005,
          0.005,
          0.005,
          0.001,
          0.001,
          0.001,
          0.001,
          0.001,
          0.05,
          0.05,
          0.05,
          0.05,
          0.05,
          0.01,
          0.01,
          0.01,
          0.01,
          0.01
         ],
         "xaxis": "x",
         "y": [
          0.00001,
          0.0001,
          0.001,
          0.01,
          0.1,
          0.00001,
          0.0001,
          0.001,
          0.01,
          0.1,
          0.00001,
          0.0001,
          0.001,
          0.01,
          0.1,
          0.00001,
          0.0001,
          0.001,
          0.01,
          0.1,
          0.00001,
          0.0001,
          0.001,
          0.01,
          0.1
         ],
         "yaxis": "y"
        }
       ],
       "layout": {
        "autosize": true,
        "coloraxis": {
         "colorbar": {
          "title": {
           "text": "train_accuracy"
          }
         },
         "colorscale": [
          [
           0,
           "#0d0887"
          ],
          [
           0.1111111111111111,
           "#46039f"
          ],
          [
           0.2222222222222222,
           "#7201a8"
          ],
          [
           0.3333333333333333,
           "#9c179e"
          ],
          [
           0.4444444444444444,
           "#bd3786"
          ],
          [
           0.5555555555555556,
           "#d8576b"
          ],
          [
           0.6666666666666666,
           "#ed7953"
          ],
          [
           0.7777777777777778,
           "#fb9f3a"
          ],
          [
           0.8888888888888888,
           "#fdca26"
          ],
          [
           1,
           "#f0f921"
          ]
         ]
        },
        "legend": {
         "tracegroupgap": 0
        },
        "margin": {
         "t": 60
        },
        "template": {
         "data": {
          "bar": [
           {
            "error_x": {
             "color": "#2a3f5f"
            },
            "error_y": {
             "color": "#2a3f5f"
            },
            "marker": {
             "line": {
              "color": "#E5ECF6",
              "width": 0.5
             }
            },
            "type": "bar"
           }
          ],
          "barpolar": [
           {
            "marker": {
             "line": {
              "color": "#E5ECF6",
              "width": 0.5
             }
            },
            "type": "barpolar"
           }
          ],
          "carpet": [
           {
            "aaxis": {
             "endlinecolor": "#2a3f5f",
             "gridcolor": "white",
             "linecolor": "white",
             "minorgridcolor": "white",
             "startlinecolor": "#2a3f5f"
            },
            "baxis": {
             "endlinecolor": "#2a3f5f",
             "gridcolor": "white",
             "linecolor": "white",
             "minorgridcolor": "white",
             "startlinecolor": "#2a3f5f"
            },
            "type": "carpet"
           }
          ],
          "choropleth": [
           {
            "colorbar": {
             "outlinewidth": 0,
             "ticks": ""
            },
            "type": "choropleth"
           }
          ],
          "contour": [
           {
            "colorbar": {
             "outlinewidth": 0,
             "ticks": ""
            },
            "colorscale": [
             [
              0,
              "#0d0887"
             ],
             [
              0.1111111111111111,
              "#46039f"
             ],
             [
              0.2222222222222222,
              "#7201a8"
             ],
             [
              0.3333333333333333,
              "#9c179e"
             ],
             [
              0.4444444444444444,
              "#bd3786"
             ],
             [
              0.5555555555555556,
              "#d8576b"
             ],
             [
              0.6666666666666666,
              "#ed7953"
             ],
             [
              0.7777777777777778,
              "#fb9f3a"
             ],
             [
              0.8888888888888888,
              "#fdca26"
             ],
             [
              1,
              "#f0f921"
             ]
            ],
            "type": "contour"
           }
          ],
          "contourcarpet": [
           {
            "colorbar": {
             "outlinewidth": 0,
             "ticks": ""
            },
            "type": "contourcarpet"
           }
          ],
          "heatmap": [
           {
            "colorbar": {
             "outlinewidth": 0,
             "ticks": ""
            },
            "colorscale": [
             [
              0,
              "#0d0887"
             ],
             [
              0.1111111111111111,
              "#46039f"
             ],
             [
              0.2222222222222222,
              "#7201a8"
             ],
             [
              0.3333333333333333,
              "#9c179e"
             ],
             [
              0.4444444444444444,
              "#bd3786"
             ],
             [
              0.5555555555555556,
              "#d8576b"
             ],
             [
              0.6666666666666666,
              "#ed7953"
             ],
             [
              0.7777777777777778,
              "#fb9f3a"
             ],
             [
              0.8888888888888888,
              "#fdca26"
             ],
             [
              1,
              "#f0f921"
             ]
            ],
            "type": "heatmap"
           }
          ],
          "heatmapgl": [
           {
            "colorbar": {
             "outlinewidth": 0,
             "ticks": ""
            },
            "colorscale": [
             [
              0,
              "#0d0887"
             ],
             [
              0.1111111111111111,
              "#46039f"
             ],
             [
              0.2222222222222222,
              "#7201a8"
             ],
             [
              0.3333333333333333,
              "#9c179e"
             ],
             [
              0.4444444444444444,
              "#bd3786"
             ],
             [
              0.5555555555555556,
              "#d8576b"
             ],
             [
              0.6666666666666666,
              "#ed7953"
             ],
             [
              0.7777777777777778,
              "#fb9f3a"
             ],
             [
              0.8888888888888888,
              "#fdca26"
             ],
             [
              1,
              "#f0f921"
             ]
            ],
            "type": "heatmapgl"
           }
          ],
          "histogram": [
           {
            "marker": {
             "colorbar": {
              "outlinewidth": 0,
              "ticks": ""
             }
            },
            "type": "histogram"
           }
          ],
          "histogram2d": [
           {
            "colorbar": {
             "outlinewidth": 0,
             "ticks": ""
            },
            "colorscale": [
             [
              0,
              "#0d0887"
             ],
             [
              0.1111111111111111,
              "#46039f"
             ],
             [
              0.2222222222222222,
              "#7201a8"
             ],
             [
              0.3333333333333333,
              "#9c179e"
             ],
             [
              0.4444444444444444,
              "#bd3786"
             ],
             [
              0.5555555555555556,
              "#d8576b"
             ],
             [
              0.6666666666666666,
              "#ed7953"
             ],
             [
              0.7777777777777778,
              "#fb9f3a"
             ],
             [
              0.8888888888888888,
              "#fdca26"
             ],
             [
              1,
              "#f0f921"
             ]
            ],
            "type": "histogram2d"
           }
          ],
          "histogram2dcontour": [
           {
            "colorbar": {
             "outlinewidth": 0,
             "ticks": ""
            },
            "colorscale": [
             [
              0,
              "#0d0887"
             ],
             [
              0.1111111111111111,
              "#46039f"
             ],
             [
              0.2222222222222222,
              "#7201a8"
             ],
             [
              0.3333333333333333,
              "#9c179e"
             ],
             [
              0.4444444444444444,
              "#bd3786"
             ],
             [
              0.5555555555555556,
              "#d8576b"
             ],
             [
              0.6666666666666666,
              "#ed7953"
             ],
             [
              0.7777777777777778,
              "#fb9f3a"
             ],
             [
              0.8888888888888888,
              "#fdca26"
             ],
             [
              1,
              "#f0f921"
             ]
            ],
            "type": "histogram2dcontour"
           }
          ],
          "mesh3d": [
           {
            "colorbar": {
             "outlinewidth": 0,
             "ticks": ""
            },
            "type": "mesh3d"
           }
          ],
          "parcoords": [
           {
            "line": {
             "colorbar": {
              "outlinewidth": 0,
              "ticks": ""
             }
            },
            "type": "parcoords"
           }
          ],
          "pie": [
           {
            "automargin": true,
            "type": "pie"
           }
          ],
          "scatter": [
           {
            "marker": {
             "colorbar": {
              "outlinewidth": 0,
              "ticks": ""
             }
            },
            "type": "scatter"
           }
          ],
          "scatter3d": [
           {
            "line": {
             "colorbar": {
              "outlinewidth": 0,
              "ticks": ""
             }
            },
            "marker": {
             "colorbar": {
              "outlinewidth": 0,
              "ticks": ""
             }
            },
            "type": "scatter3d"
           }
          ],
          "scattercarpet": [
           {
            "marker": {
             "colorbar": {
              "outlinewidth": 0,
              "ticks": ""
             }
            },
            "type": "scattercarpet"
           }
          ],
          "scattergeo": [
           {
            "marker": {
             "colorbar": {
              "outlinewidth": 0,
              "ticks": ""
             }
            },
            "type": "scattergeo"
           }
          ],
          "scattergl": [
           {
            "marker": {
             "colorbar": {
              "outlinewidth": 0,
              "ticks": ""
             }
            },
            "type": "scattergl"
           }
          ],
          "scattermapbox": [
           {
            "marker": {
             "colorbar": {
              "outlinewidth": 0,
              "ticks": ""
             }
            },
            "type": "scattermapbox"
           }
          ],
          "scatterpolar": [
           {
            "marker": {
             "colorbar": {
              "outlinewidth": 0,
              "ticks": ""
             }
            },
            "type": "scatterpolar"
           }
          ],
          "scatterpolargl": [
           {
            "marker": {
             "colorbar": {
              "outlinewidth": 0,
              "ticks": ""
             }
            },
            "type": "scatterpolargl"
           }
          ],
          "scatterternary": [
           {
            "marker": {
             "colorbar": {
              "outlinewidth": 0,
              "ticks": ""
             }
            },
            "type": "scatterternary"
           }
          ],
          "surface": [
           {
            "colorbar": {
             "outlinewidth": 0,
             "ticks": ""
            },
            "colorscale": [
             [
              0,
              "#0d0887"
             ],
             [
              0.1111111111111111,
              "#46039f"
             ],
             [
              0.2222222222222222,
              "#7201a8"
             ],
             [
              0.3333333333333333,
              "#9c179e"
             ],
             [
              0.4444444444444444,
              "#bd3786"
             ],
             [
              0.5555555555555556,
              "#d8576b"
             ],
             [
              0.6666666666666666,
              "#ed7953"
             ],
             [
              0.7777777777777778,
              "#fb9f3a"
             ],
             [
              0.8888888888888888,
              "#fdca26"
             ],
             [
              1,
              "#f0f921"
             ]
            ],
            "type": "surface"
           }
          ],
          "table": [
           {
            "cells": {
             "fill": {
              "color": "#EBF0F8"
             },
             "line": {
              "color": "white"
             }
            },
            "header": {
             "fill": {
              "color": "#C8D4E3"
             },
             "line": {
              "color": "white"
             }
            },
            "type": "table"
           }
          ]
         },
         "layout": {
          "annotationdefaults": {
           "arrowcolor": "#2a3f5f",
           "arrowhead": 0,
           "arrowwidth": 1
          },
          "autotypenumbers": "strict",
          "coloraxis": {
           "colorbar": {
            "outlinewidth": 0,
            "ticks": ""
           }
          },
          "colorscale": {
           "diverging": [
            [
             0,
             "#8e0152"
            ],
            [
             0.1,
             "#c51b7d"
            ],
            [
             0.2,
             "#de77ae"
            ],
            [
             0.3,
             "#f1b6da"
            ],
            [
             0.4,
             "#fde0ef"
            ],
            [
             0.5,
             "#f7f7f7"
            ],
            [
             0.6,
             "#e6f5d0"
            ],
            [
             0.7,
             "#b8e186"
            ],
            [
             0.8,
             "#7fbc41"
            ],
            [
             0.9,
             "#4d9221"
            ],
            [
             1,
             "#276419"
            ]
           ],
           "sequential": [
            [
             0,
             "#0d0887"
            ],
            [
             0.1111111111111111,
             "#46039f"
            ],
            [
             0.2222222222222222,
             "#7201a8"
            ],
            [
             0.3333333333333333,
             "#9c179e"
            ],
            [
             0.4444444444444444,
             "#bd3786"
            ],
            [
             0.5555555555555556,
             "#d8576b"
            ],
            [
             0.6666666666666666,
             "#ed7953"
            ],
            [
             0.7777777777777778,
             "#fb9f3a"
            ],
            [
             0.8888888888888888,
             "#fdca26"
            ],
            [
             1,
             "#f0f921"
            ]
           ],
           "sequentialminus": [
            [
             0,
             "#0d0887"
            ],
            [
             0.1111111111111111,
             "#46039f"
            ],
            [
             0.2222222222222222,
             "#7201a8"
            ],
            [
             0.3333333333333333,
             "#9c179e"
            ],
            [
             0.4444444444444444,
             "#bd3786"
            ],
            [
             0.5555555555555556,
             "#d8576b"
            ],
            [
             0.6666666666666666,
             "#ed7953"
            ],
            [
             0.7777777777777778,
             "#fb9f3a"
            ],
            [
             0.8888888888888888,
             "#fdca26"
            ],
            [
             1,
             "#f0f921"
            ]
           ]
          },
          "colorway": [
           "#636efa",
           "#EF553B",
           "#00cc96",
           "#ab63fa",
           "#FFA15A",
           "#19d3f3",
           "#FF6692",
           "#B6E880",
           "#FF97FF",
           "#FECB52"
          ],
          "font": {
           "color": "#2a3f5f"
          },
          "geo": {
           "bgcolor": "white",
           "lakecolor": "white",
           "landcolor": "#E5ECF6",
           "showlakes": true,
           "showland": true,
           "subunitcolor": "white"
          },
          "hoverlabel": {
           "align": "left"
          },
          "hovermode": "closest",
          "mapbox": {
           "style": "light"
          },
          "paper_bgcolor": "white",
          "plot_bgcolor": "#E5ECF6",
          "polar": {
           "angularaxis": {
            "gridcolor": "white",
            "linecolor": "white",
            "ticks": ""
           },
           "bgcolor": "#E5ECF6",
           "radialaxis": {
            "gridcolor": "white",
            "linecolor": "white",
            "ticks": ""
           }
          },
          "scene": {
           "xaxis": {
            "backgroundcolor": "#E5ECF6",
            "gridcolor": "white",
            "gridwidth": 2,
            "linecolor": "white",
            "showbackground": true,
            "ticks": "",
            "zerolinecolor": "white"
           },
           "yaxis": {
            "backgroundcolor": "#E5ECF6",
            "gridcolor": "white",
            "gridwidth": 2,
            "linecolor": "white",
            "showbackground": true,
            "ticks": "",
            "zerolinecolor": "white"
           },
           "zaxis": {
            "backgroundcolor": "#E5ECF6",
            "gridcolor": "white",
            "gridwidth": 2,
            "linecolor": "white",
            "showbackground": true,
            "ticks": "",
            "zerolinecolor": "white"
           }
          },
          "shapedefaults": {
           "line": {
            "color": "#2a3f5f"
           }
          },
          "ternary": {
           "aaxis": {
            "gridcolor": "white",
            "linecolor": "white",
            "ticks": ""
           },
           "baxis": {
            "gridcolor": "white",
            "linecolor": "white",
            "ticks": ""
           },
           "bgcolor": "#E5ECF6",
           "caxis": {
            "gridcolor": "white",
            "linecolor": "white",
            "ticks": ""
           }
          },
          "title": {
           "x": 0.05
          },
          "xaxis": {
           "automargin": true,
           "gridcolor": "white",
           "linecolor": "white",
           "ticks": "",
           "title": {
            "standoff": 15
           },
           "zerolinecolor": "white",
           "zerolinewidth": 2
          },
          "yaxis": {
           "automargin": true,
           "gridcolor": "white",
           "linecolor": "white",
           "ticks": "",
           "title": {
            "standoff": 15
           },
           "zerolinecolor": "white",
           "zerolinewidth": 2
          }
         }
        },
        "xaxis": {
         "anchor": "y",
         "autorange": true,
         "domain": [
          0,
          1
         ],
         "range": [
          -4.164823958846244,
          -1.1362060368177362
         ],
         "title": {
          "text": "learning_rate"
         },
         "type": "log"
        },
        "yaxis": {
         "anchor": "x",
         "autorange": true,
         "domain": [
          0,
          1
         ],
         "range": [
          -5.283609576427256,
          -0.7163904235727439
         ],
         "title": {
          "text": "decay"
         },
         "type": "log"
        }
       }
      },
      "image/png": "[encoded data removed]",
      "text/html": [
       "<div>                            <div id=\"c7ed4143-8ec9-4eca-bd6b-7c510941b6b3\" class=\"plotly-graph-div\" style=\"height:525px; width:100%;\"></div>            <script type=\"text/javascript\">                require([\"plotly\"], function(Plotly) {                    window.PLOTLYENV=window.PLOTLYENV || {};                                    if (document.getElementById(\"c7ed4143-8ec9-4eca-bd6b-7c510941b6b3\")) {                    Plotly.newPlot(                        \"c7ed4143-8ec9-4eca-bd6b-7c510941b6b3\",                        [{\"hovertemplate\": \"learning_rate=%{x}<br>decay=%{y}<br>train_accuracy=%{marker.color}<extra></extra>\", \"legendgroup\": \"\", \"marker\": {\"color\": [0.7856800007820129, 0.7796133335431417, 0.774146667321523, 0.7701333316167196, 0.7196666630109151, 0.931386665503184, 0.946639997959137, 0.9293733342488608, 0.9063200004895527, 0.6371999971071879, 0.9454266675313314, 0.9409866682688396, 0.938600001335144, 0.9388933340708416, 0.8278533339500427, 0.5193333526452383, 0.5331066918373107, 0.5629866456985474, 0.5770133229096731, 0.546999990940094, 0.9094933358828228, 0.8988399998346964, 0.905573336283366, 0.8611733357111613, 0.600453344186147], \"coloraxis\": \"coloraxis\", \"symbol\": \"circle\"}, \"mode\": \"markers\", \"name\": \"\", \"orientation\": \"v\", \"showlegend\": false, \"type\": \"scatter\", \"x\": [0.0001, 0.0001, 0.0001, 0.0001, 0.0001, 0.005, 0.005, 0.005, 0.005, 0.005, 0.001, 0.001, 0.001, 0.001, 0.001, 0.05, 0.05, 0.05, 0.05, 0.05, 0.01, 0.01, 0.01, 0.01, 0.01], \"xaxis\": \"x\", \"y\": [1e-05, 0.0001, 0.001, 0.01, 0.1, 1e-05, 0.0001, 0.001, 0.01, 0.1, 1e-05, 0.0001, 0.001, 0.01, 0.1, 1e-05, 0.0001, 0.001, 0.01, 0.1, 1e-05, 0.0001, 0.001, 0.01, 0.1], \"yaxis\": \"y\"}],                        {\"coloraxis\": {\"colorbar\": {\"title\": {\"text\": \"train_accuracy\"}}, \"colorscale\": [[0.0, \"#0d0887\"], [0.1111111111111111, \"#46039f\"], [0.2222222222222222, \"#7201a8\"], [0.3333333333333333, \"#9c179e\"], [0.4444444444444444, \"#bd3786\"], [0.5555555555555556, \"#d8576b\"], [0.6666666666666666, \"#ed7953\"], [0.7777777777777778, \"#fb9f3a\"], [0.8888888888888888, \"#fdca26\"], [1.0, \"#f0f921\"]]}, \"legend\": {\"tracegroupgap\": 0}, \"margin\": {\"t\": 60}, \"template\": {\"data\": {\"bar\": [{\"error_x\": {\"color\": \"#2a3f5f\"}, \"error_y\": {\"color\": \"#2a3f5f\"}, \"marker\": {\"line\": {\"color\": \"#E5ECF6\", \"width\": 0.5}}, \"type\": \"bar\"}], \"barpolar\": [{\"marker\": {\"line\": {\"color\": \"#E5ECF6\", \"width\": 0.5}}, \"type\": \"barpolar\"}], \"carpet\": [{\"aaxis\": {\"endlinecolor\": \"#2a3f5f\", \"gridcolor\": \"white\", \"linecolor\": \"white\", \"minorgridcolor\": \"white\", \"startlinecolor\": \"#2a3f5f\"}, \"baxis\": {\"endlinecolor\": \"#2a3f5f\", \"gridcolor\": \"white\", \"linecolor\": \"white\", \"minorgridcolor\": \"white\", \"startlinecolor\": \"#2a3f5f\"}, \"type\": \"carpet\"}], \"choropleth\": [{\"colorbar\": {\"outlinewidth\": 0, \"ticks\": \"\"}, \"type\": \"choropleth\"}], \"contour\": [{\"colorbar\": {\"outlinewidth\": 0, \"ticks\": \"\"}, \"colorscale\": [[0.0, \"#0d0887\"], [0.1111111111111111, \"#46039f\"], [0.2222222222222222, \"#7201a8\"], [0.3333333333333333, \"#9c179e\"], [0.4444444444444444, \"#bd3786\"], [0.5555555555555556, \"#d8576b\"], [0.6666666666666666, \"#ed7953\"], [0.7777777777777778, \"#fb9f3a\"], [0.8888888888888888, \"#fdca26\"], [1.0, \"#f0f921\"]], \"type\": \"contour\"}], \"contourcarpet\": [{\"colorbar\": {\"outlinewidth\": 0, \"ticks\": \"\"}, \"type\": \"contourcarpet\"}], \"heatmap\": [{\"colorbar\": {\"outlinewidth\": 0, \"ticks\": \"\"}, \"colorscale\": [[0.0, \"#0d0887\"], [0.1111111111111111, \"#46039f\"], [0.2222222222222222, \"#7201a8\"], [0.3333333333333333, \"#9c179e\"], [0.4444444444444444, \"#bd3786\"], [0.5555555555555556, \"#d8576b\"], [0.6666666666666666, \"#ed7953\"], [0.7777777777777778, \"#fb9f3a\"], [0.8888888888888888, \"#fdca26\"], [1.0, \"#f0f921\"]], \"type\": \"heatmap\"}], \"heatmapgl\": [{\"colorbar\": {\"outlinewidth\": 0, \"ticks\": \"\"}, \"colorscale\": [[0.0, \"#0d0887\"], [0.1111111111111111, \"#46039f\"], [0.2222222222222222, \"#7201a8\"], [0.3333333333333333, \"#9c179e\"], [0.4444444444444444, \"#bd3786\"], [0.5555555555555556, \"#d8576b\"], [0.6666666666666666, \"#ed7953\"], [0.7777777777777778, \"#fb9f3a\"], [0.8888888888888888, \"#fdca26\"], [1.0, \"#f0f921\"]], \"type\": \"heatmapgl\"}], \"histogram\": [{\"marker\": {\"colorbar\": {\"outlinewidth\": 0, \"ticks\": \"\"}}, \"type\": \"histogram\"}], \"histogram2d\": [{\"colorbar\": {\"outlinewidth\": 0, \"ticks\": \"\"}, \"colorscale\": [[0.0, \"#0d0887\"], [0.1111111111111111, \"#46039f\"], [0.2222222222222222, \"#7201a8\"], [0.3333333333333333, \"#9c179e\"], [0.4444444444444444, \"#bd3786\"], [0.5555555555555556, \"#d8576b\"], [0.6666666666666666, \"#ed7953\"], [0.7777777777777778, \"#fb9f3a\"], [0.8888888888888888, \"#fdca26\"], [1.0, \"#f0f921\"]], \"type\": \"histogram2d\"}], \"histogram2dcontour\": [{\"colorbar\": {\"outlinewidth\": 0, \"ticks\": \"\"}, \"colorscale\": [[0.0, \"#0d0887\"], [0.1111111111111111, \"#46039f\"], [0.2222222222222222, \"#7201a8\"], [0.3333333333333333, \"#9c179e\"], [0.4444444444444444, \"#bd3786\"], [0.5555555555555556, \"#d8576b\"], [0.6666666666666666, \"#ed7953\"], [0.7777777777777778, \"#fb9f3a\"], [0.8888888888888888, \"#fdca26\"], [1.0, \"#f0f921\"]], \"type\": \"histogram2dcontour\"}], \"mesh3d\": [{\"colorbar\": {\"outlinewidth\": 0, \"ticks\": \"\"}, \"type\": \"mesh3d\"}], \"parcoords\": [{\"line\": {\"colorbar\": {\"outlinewidth\": 0, \"ticks\": \"\"}}, \"type\": \"parcoords\"}], \"pie\": [{\"automargin\": true, \"type\": \"pie\"}], \"scatter\": [{\"marker\": {\"colorbar\": {\"outlinewidth\": 0, \"ticks\": \"\"}}, \"type\": \"scatter\"}], \"scatter3d\": [{\"line\": {\"colorbar\": {\"outlinewidth\": 0, \"ticks\": \"\"}}, \"marker\": {\"colorbar\": {\"outlinewidth\": 0, \"ticks\": \"\"}}, \"type\": \"scatter3d\"}], \"scattercarpet\": [{\"marker\": {\"colorbar\": {\"outlinewidth\": 0, \"ticks\": \"\"}}, \"type\": \"scattercarpet\"}], \"scattergeo\": [{\"marker\": {\"colorbar\": {\"outlinewidth\": 0, \"ticks\": \"\"}}, \"type\": \"scattergeo\"}], \"scattergl\": [{\"marker\": {\"colorbar\": {\"outlinewidth\": 0, \"ticks\": \"\"}}, \"type\": \"scattergl\"}], \"scattermapbox\": [{\"marker\": {\"colorbar\": {\"outlinewidth\": 0, \"ticks\": \"\"}}, \"type\": \"scattermapbox\"}], \"scatterpolar\": [{\"marker\": {\"colorbar\": {\"outlinewidth\": 0, \"ticks\": \"\"}}, \"type\": \"scatterpolar\"}], \"scatterpolargl\": [{\"marker\": {\"colorbar\": {\"outlinewidth\": 0, \"ticks\": \"\"}}, \"type\": \"scatterpolargl\"}], \"scatterternary\": [{\"marker\": {\"colorbar\": {\"outlinewidth\": 0, \"ticks\": \"\"}}, \"type\": \"scatterternary\"}], \"surface\": [{\"colorbar\": {\"outlinewidth\": 0, \"ticks\": \"\"}, \"colorscale\": [[0.0, \"#0d0887\"], [0.1111111111111111, \"#46039f\"], [0.2222222222222222, \"#7201a8\"], [0.3333333333333333, \"#9c179e\"], [0.4444444444444444, \"#bd3786\"], [0.5555555555555556, \"#d8576b\"], [0.6666666666666666, \"#ed7953\"], [0.7777777777777778, \"#fb9f3a\"], [0.8888888888888888, \"#fdca26\"], [1.0, \"#f0f921\"]], \"type\": \"surface\"}], \"table\": [{\"cells\": {\"fill\": {\"color\": \"#EBF0F8\"}, \"line\": {\"color\": \"white\"}}, \"header\": {\"fill\": {\"color\": \"#C8D4E3\"}, \"line\": {\"color\": \"white\"}}, \"type\": \"table\"}]}, \"layout\": {\"annotationdefaults\": {\"arrowcolor\": \"#2a3f5f\", \"arrowhead\": 0, \"arrowwidth\": 1}, \"autotypenumbers\": \"strict\", \"coloraxis\": {\"colorbar\": {\"outlinewidth\": 0, \"ticks\": \"\"}}, \"colorscale\": {\"diverging\": [[0, \"#8e0152\"], [0.1, \"#c51b7d\"], [0.2, \"#de77ae\"], [0.3, \"#f1b6da\"], [0.4, \"#fde0ef\"], [0.5, \"#f7f7f7\"], [0.6, \"#e6f5d0\"], [0.7, \"#b8e186\"], [0.8, \"#7fbc41\"], [0.9, \"#4d9221\"], [1, \"#276419\"]], \"sequential\": [[0.0, \"#0d0887\"], [0.1111111111111111, \"#46039f\"], [0.2222222222222222, \"#7201a8\"], [0.3333333333333333, \"#9c179e\"], [0.4444444444444444, \"#bd3786\"], [0.5555555555555556, \"#d8576b\"], [0.6666666666666666, \"#ed7953\"], [0.7777777777777778, \"#fb9f3a\"], [0.8888888888888888, \"#fdca26\"], [1.0, \"#f0f921\"]], \"sequentialminus\": [[0.0, \"#0d0887\"], [0.1111111111111111, \"#46039f\"], [0.2222222222222222, \"#7201a8\"], [0.3333333333333333, \"#9c179e\"], [0.4444444444444444, \"#bd3786\"], [0.5555555555555556, \"#d8576b\"], [0.6666666666666666, \"#ed7953\"], [0.7777777777777778, \"#fb9f3a\"], [0.8888888888888888, \"#fdca26\"], [1.0, \"#f0f921\"]]}, \"colorway\": [\"#636efa\", \"#EF553B\", \"#00cc96\", \"#ab63fa\", \"#FFA15A\", \"#19d3f3\", \"#FF6692\", \"#B6E880\", \"#FF97FF\", \"#FECB52\"], \"font\": {\"color\": \"#2a3f5f\"}, \"geo\": {\"bgcolor\": \"white\", \"lakecolor\": \"white\", \"landcolor\": \"#E5ECF6\", \"showlakes\": true, \"showland\": true, \"subunitcolor\": \"white\"}, \"hoverlabel\": {\"align\": \"left\"}, \"hovermode\": \"closest\", \"mapbox\": {\"style\": \"light\"}, \"paper_bgcolor\": \"white\", \"plot_bgcolor\": \"#E5ECF6\", \"polar\": {\"angularaxis\": {\"gridcolor\": \"white\", \"linecolor\": \"white\", \"ticks\": \"\"}, \"bgcolor\": \"#E5ECF6\", \"radialaxis\": {\"gridcolor\": \"white\", \"linecolor\": \"white\", \"ticks\": \"\"}}, \"scene\": {\"xaxis\": {\"backgroundcolor\": \"#E5ECF6\", \"gridcolor\": \"white\", \"gridwidth\": 2, \"linecolor\": \"white\", \"showbackground\": true, \"ticks\": \"\", \"zerolinecolor\": \"white\"}, \"yaxis\": {\"backgroundcolor\": \"#E5ECF6\", \"gridcolor\": \"white\", \"gridwidth\": 2, \"linecolor\": \"white\", \"showbackground\": true, \"ticks\": \"\", \"zerolinecolor\": \"white\"}, \"zaxis\": {\"backgroundcolor\": \"#E5ECF6\", \"gridcolor\": \"white\", \"gridwidth\": 2, \"linecolor\": \"white\", \"showbackground\": true, \"ticks\": \"\", \"zerolinecolor\": \"white\"}}, \"shapedefaults\": {\"line\": {\"color\": \"#2a3f5f\"}}, \"ternary\": {\"aaxis\": {\"gridcolor\": \"white\", \"linecolor\": \"white\", \"ticks\": \"\"}, \"baxis\": {\"gridcolor\": \"white\", \"linecolor\": \"white\", \"ticks\": \"\"}, \"bgcolor\": \"#E5ECF6\", \"caxis\": {\"gridcolor\": \"white\", \"linecolor\": \"white\", \"ticks\": \"\"}}, \"title\": {\"x\": 0.05}, \"xaxis\": {\"automargin\": true, \"gridcolor\": \"white\", \"linecolor\": \"white\", \"ticks\": \"\", \"title\": {\"standoff\": 15}, \"zerolinecolor\": \"white\", \"zerolinewidth\": 2}, \"yaxis\": {\"automargin\": true, \"gridcolor\": \"white\", \"linecolor\": \"white\", \"ticks\": \"\", \"title\": {\"standoff\": 15}, \"zerolinecolor\": \"white\", \"zerolinewidth\": 2}}}, \"xaxis\": {\"anchor\": \"y\", \"domain\": [0.0, 1.0], \"title\": {\"text\": \"learning_rate\"}, \"type\": \"log\"}, \"yaxis\": {\"anchor\": \"x\", \"domain\": [0.0, 1.0], \"title\": {\"text\": \"decay\"}, \"type\": \"log\"}},                        {\"responsive\": true}                    ).then(function(){\n",
       "                            \n",
       "var gd = document.getElementById('c7ed4143-8ec9-4eca-bd6b-7c510941b6b3');\n",
       "var x = new MutationObserver(function (mutations, observer) {{\n",
       "        var display = window.getComputedStyle(gd).display;\n",
       "        if (!display || display === 'none') {{\n",
       "            console.log([gd, 'removed!']);\n",
       "            Plotly.purge(gd);\n",
       "            observer.disconnect();\n",
       "        }}\n",
       "}});\n",
       "\n",
       "// Listen for the removal of the full notebook cells\n",
       "var notebookContainer = gd.closest('#notebook-container');\n",
       "if (notebookContainer) {{\n",
       "    x.observe(notebookContainer, {childList: true});\n",
       "}}\n",
       "\n",
       "// Listen for the clearing of the current output cell\n",
       "var outputEl = gd.closest('.output');\n",
       "if (outputEl) {{\n",
       "    x.observe(outputEl, {childList: true});\n",
       "}}\n",
       "\n",
       "                        })                };                });            </script>        </div>"
      ]
     },
     "metadata": {},
     "output_type": "display_data"
    }
   ],
   "source": [
    "fig = px.scatter(mlparams, x='learning_rate', y='decay',\n",
    "                    log_x=True, log_y=True,\n",
    "                    color='train_accuracy')\n",
    "fig.show()"
   ]
  },
  {
   "cell_type": "code",
   "execution_count": 3,
   "metadata": {},
   "outputs": [],
   "source": [
    "params1 = pd.read_csv('../hyperparameters.csv')\n",
    "params2 = pd.read_csv('../hyperparameters-run-1.csv')\n",
    "\n",
    "params = pd.concat([params1, params2])"
   ]
  },
  {
   "cell_type": "code",
   "execution_count": 4,
   "metadata": {},
   "outputs": [
    {
     "data": {
      "text/plain": [
       "(175, 5)"
      ]
     },
     "execution_count": 4,
     "metadata": {},
     "output_type": "execute_result"
    }
   ],
   "source": [
    "params.shape"
   ]
  },
  {
   "cell_type": "code",
   "execution_count": 8,
   "metadata": {},
   "outputs": [
    {
     "data": {
      "application/vnd.plotly.v1+json": {
       "config": {
        "plotlyServerURL": "https://plot.ly"
       },
       "data": [
        {
         "hovertemplate": "learning_rate=%{x}<br>decay=%{y}<br>gamma=%{z}<br>test_accuracy=%{marker.color}<extra></extra>",
         "legendgroup": "",
         "marker": {
          "color": [
           0.7516666666666666,
           0.706,
           0.7456666666666667,
           0.7423333333333333,
           0.7250000000000001,
           0.7666666666666667,
           0.7333333333333334,
           0.7093333333333334,
           0.7583333333333333,
           0.7220000000000001,
           0.92,
           0.9293333333333336,
           0.9086666666666666,
           0.9083333333333332,
           0.9196666666666669,
           0.9250000000000002,
           0.9123333333333332,
           0.928,
           0.911,
           0.9196666666666669,
           0.8976666666666667,
           0.883,
           0.8986666666666666,
           0.8930000000000001,
           0.9036666666666668,
           0.8846666666666666,
           0.886,
           0.8826666666666667,
           0.8976666666666667,
           0.896,
           0.547,
           0.543,
           0.552,
           0.546,
           0.6376666666666666,
           0.6693333333333333,
           0.539,
           0.527,
           0.6693333333333333,
           0.571,
           0.9193333333333332,
           0.924,
           0.9196666666666666,
           0.939,
           0.9226666666666666,
           0.9293333333333336,
           0.938,
           0.9096666666666668,
           0.9313333333333336,
           0.9133333333333334,
           0.7513333333333333,
           0.71,
           0.7456666666666667,
           0.7436666666666666,
           0.7256666666666667,
           0.7673333333333333,
           0.734,
           0.709,
           0.759,
           0.7256666666666667,
           0.6783333333333333,
           0.7436666666666666,
           0.739,
           0.7176666666666667,
           0.7473333333333333,
           0.7086666666666667,
           0.7343333333333333,
           0.753,
           0.7000000000000001,
           0.6996666666666668,
           0.6873333333333335,
           0.6773333333333333,
           0.7160000000000001,
           0.7000000000000001,
           0.618,
           0.916,
           0.9233333333333332,
           0.9146666666666668,
           0.9296666666666668,
           0.9210000000000002,
           0.9183333333333334,
           0.9216666666666667,
           0.9263333333333332,
           0.9336666666666668,
           0.92,
           0.923,
           0.9143333333333334,
           0.9196666666666666,
           0.9333333333333332,
           0.913,
           0.8973333333333334,
           0.925,
           0.9123333333333332,
           0.926,
           0.914,
           0.835,
           0.8449999999999999,
           0.8033333333333333,
           0.8573333333333334,
           0.846,
           0.899,
           0.899,
           0.906,
           0.8933333333333332,
           0.887,
           0.8969999999999999,
           0.8973333333333334,
           0.8786666666666667,
           0.898,
           0.8816666666666667,
           0.8969999999999999,
           0.9093333333333332,
           0.8886666666666666,
           0.8913333333333333,
           0.8953333333333333,
           0.8940000000000001,
           0.905,
           0.8933333333333332,
           0.8933333333333334,
           0.887,
           0.8386666666666667,
           0.797,
           0.835,
           0.806,
           0.802,
           0.6606666666666667,
           0.6333333333333334,
           0.6376666666666667,
           0.538,
           0.564,
           0.6606666666666666,
           0.552,
           0.606,
           0.566,
           0.6256666666666667,
           0.6589999999999999,
           0.727,
           0.7743333333333333,
           0.589,
           0.6593333333333333,
           0.8683333333333333,
           0.8636666666666667,
           0.8763333333333333,
           0.8706666666666667,
           0.8606666666666666,
           0.7766666666666667,
           0.7786666666666667,
           0.7946666666666667,
           0.7923333333333334,
           0.7966666666666667,
           0.9206666666666666,
           0.9286666666666666,
           0.9206666666666669,
           0.9343333333333332,
           0.9186666666666669,
           0.9376666666666664,
           0.94,
           0.9306666666666666,
           0.9206666666666669,
           0.9236666666666666,
           0.928,
           0.917,
           0.92,
           0.9183333333333332,
           0.9376666666666664,
           0.9263333333333332,
           0.9243333333333332,
           0.913,
           0.917,
           0.925,
           0.7816666666666667,
           0.848,
           0.8433333333333333,
           0.8106666666666666,
           0.8116666666666665
          ],
          "coloraxis": "coloraxis",
          "symbol": "circle"
         },
         "mode": "markers",
         "name": "",
         "scene": "scene",
         "showlegend": false,
         "type": "scatter3d",
         "x": [
          0.0001,
          0.0001,
          0.0001,
          0.0001,
          0.0001,
          0.0001,
          0.0001,
          0.0001,
          0.0001,
          0.0001,
          0.005,
          0.005,
          0.005,
          0.005,
          0.005,
          0.005,
          0.005,
          0.005,
          0.005,
          0.005,
          0.001,
          0.001,
          0.001,
          0.001,
          0.001,
          0.001,
          0.001,
          0.001,
          0.001,
          0.001,
          0.05,
          0.05,
          0.05,
          0.05,
          0.05,
          0.05,
          0.05,
          0.05,
          0.05,
          0.05,
          0.01,
          0.01,
          0.01,
          0.01,
          0.01,
          0.01,
          0.01,
          0.01,
          0.01,
          0.01,
          0.0001,
          0.0001,
          0.0001,
          0.0001,
          0.0001,
          0.0001,
          0.0001,
          0.0001,
          0.0001,
          0.0001,
          0.0001,
          0.0001,
          0.0001,
          0.0001,
          0.0001,
          0.0001,
          0.0001,
          0.0001,
          0.0001,
          0.0001,
          0.0001,
          0.0001,
          0.0001,
          0.0001,
          0.0001,
          0.005,
          0.005,
          0.005,
          0.005,
          0.005,
          0.005,
          0.005,
          0.005,
          0.005,
          0.005,
          0.005,
          0.005,
          0.005,
          0.005,
          0.005,
          0.005,
          0.005,
          0.005,
          0.005,
          0.005,
          0.005,
          0.005,
          0.005,
          0.005,
          0.005,
          0.001,
          0.001,
          0.001,
          0.001,
          0.001,
          0.001,
          0.001,
          0.001,
          0.001,
          0.001,
          0.001,
          0.001,
          0.001,
          0.001,
          0.001,
          0.001,
          0.001,
          0.001,
          0.001,
          0.001,
          0.001,
          0.001,
          0.001,
          0.001,
          0.001,
          0.05,
          0.05,
          0.05,
          0.05,
          0.05,
          0.05,
          0.05,
          0.05,
          0.05,
          0.05,
          0.05,
          0.05,
          0.05,
          0.05,
          0.05,
          0.05,
          0.05,
          0.05,
          0.05,
          0.05,
          0.05,
          0.05,
          0.05,
          0.05,
          0.05,
          0.01,
          0.01,
          0.01,
          0.01,
          0.01,
          0.01,
          0.01,
          0.01,
          0.01,
          0.01,
          0.01,
          0.01,
          0.01,
          0.01,
          0.01,
          0.01,
          0.01,
          0.01,
          0.01,
          0.01,
          0.01,
          0.01,
          0.01,
          0.01,
          0.01
         ],
         "y": [
          0.000001,
          0.000001,
          0.000001,
          0.000001,
          0.000001,
          0.00001,
          0.00001,
          0.00001,
          0.00001,
          0.00001,
          0.000001,
          0.000001,
          0.000001,
          0.000001,
          0.000001,
          0.00001,
          0.00001,
          0.00001,
          0.00001,
          0.00001,
          0.000001,
          0.000001,
          0.000001,
          0.000001,
          0.000001,
          0.00001,
          0.00001,
          0.00001,
          0.00001,
          0.00001,
          0.000001,
          0.000001,
          0.000001,
          0.000001,
          0.000001,
          0.00001,
          0.00001,
          0.00001,
          0.00001,
          0.00001,
          0.000001,
          0.000001,
          0.000001,
          0.000001,
          0.000001,
          0.00001,
          0.00001,
          0.00001,
          0.00001,
          0.00001,
          0.00001,
          0.00001,
          0.00001,
          0.00001,
          0.00001,
          0.0001,
          0.0001,
          0.0001,
          0.0001,
          0.0001,
          0.001,
          0.001,
          0.001,
          0.001,
          0.001,
          0.01,
          0.01,
          0.01,
          0.01,
          0.01,
          0.1,
          0.1,
          0.1,
          0.1,
          0.1,
          0.00001,
          0.00001,
          0.00001,
          0.00001,
          0.00001,
          0.0001,
          0.0001,
          0.0001,
          0.0001,
          0.0001,
          0.001,
          0.001,
          0.001,
          0.001,
          0.001,
          0.01,
          0.01,
          0.01,
          0.01,
          0.01,
          0.1,
          0.1,
          0.1,
          0.1,
          0.1,
          0.00001,
          0.00001,
          0.00001,
          0.00001,
          0.00001,
          0.0001,
          0.0001,
          0.0001,
          0.0001,
          0.0001,
          0.001,
          0.001,
          0.001,
          0.001,
          0.001,
          0.01,
          0.01,
          0.01,
          0.01,
          0.01,
          0.1,
          0.1,
          0.1,
          0.1,
          0.1,
          0.00001,
          0.00001,
          0.00001,
          0.00001,
          0.00001,
          0.0001,
          0.0001,
          0.0001,
          0.0001,
          0.0001,
          0.001,
          0.001,
          0.001,
          0.001,
          0.001,
          0.01,
          0.01,
          0.01,
          0.01,
          0.01,
          0.1,
          0.1,
          0.1,
          0.1,
          0.1,
          0.00001,
          0.00001,
          0.00001,
          0.00001,
          0.00001,
          0.0001,
          0.0001,
          0.0001,
          0.0001,
          0.0001,
          0.001,
          0.001,
          0.001,
          0.001,
          0.001,
          0.01,
          0.01,
          0.01,
          0.01,
          0.01,
          0.1,
          0.1,
          0.1,
          0.1,
          0.1
         ],
         "z": [
          0,
          0.25,
          0.5,
          0.75,
          1,
          0,
          0.25,
          0.5,
          0.75,
          1,
          0,
          0.25,
          0.5,
          0.75,
          1,
          0,
          0.25,
          0.5,
          0.75,
          1,
          0,
          0.25,
          0.5,
          0.75,
          1,
          0,
          0.25,
          0.5,
          0.75,
          1,
          0,
          0.25,
          0.5,
          0.75,
          1,
          0,
          0.25,
          0.5,
          0.75,
          1,
          0,
          0.25,
          0.5,
          0.75,
          1,
          0,
          0.25,
          0.5,
          0.75,
          1,
          0,
          0.25,
          0.5,
          0.75,
          1,
          0,
          0.25,
          0.5,
          0.75,
          1,
          0,
          0.25,
          0.5,
          0.75,
          1,
          0,
          0.25,
          0.5,
          0.75,
          1,
          0,
          0.25,
          0.5,
          0.75,
          1,
          0,
          0.25,
          0.5,
          0.75,
          1,
          0,
          0.25,
          0.5,
          0.75,
          1,
          0,
          0.25,
          0.5,
          0.75,
          1,
          0,
          0.25,
          0.5,
          0.75,
          1,
          0,
          0.25,
          0.5,
          0.75,
          1,
          0,
          0.25,
          0.5,
          0.75,
          1,
          0,
          0.25,
          0.5,
          0.75,
          1,
          0,
          0.25,
          0.5,
          0.75,
          1,
          0,
          0.25,
          0.5,
          0.75,
          1,
          0,
          0.25,
          0.5,
          0.75,
          1,
          0,
          0.25,
          0.5,
          0.75,
          1,
          0,
          0.25,
          0.5,
          0.75,
          1,
          0,
          0.25,
          0.5,
          0.75,
          1,
          0,
          0.25,
          0.5,
          0.75,
          1,
          0,
          0.25,
          0.5,
          0.75,
          1,
          0,
          0.25,
          0.5,
          0.75,
          1,
          0,
          0.25,
          0.5,
          0.75,
          1,
          0,
          0.25,
          0.5,
          0.75,
          1,
          0,
          0.25,
          0.5,
          0.75,
          1,
          0,
          0.25,
          0.5,
          0.75,
          1
         ]
        }
       ],
       "layout": {
        "autosize": true,
        "coloraxis": {
         "colorbar": {
          "title": {
           "text": "test_accuracy"
          }
         },
         "colorscale": [
          [
           0,
           "#0d0887"
          ],
          [
           0.1111111111111111,
           "#46039f"
          ],
          [
           0.2222222222222222,
           "#7201a8"
          ],
          [
           0.3333333333333333,
           "#9c179e"
          ],
          [
           0.4444444444444444,
           "#bd3786"
          ],
          [
           0.5555555555555556,
           "#d8576b"
          ],
          [
           0.6666666666666666,
           "#ed7953"
          ],
          [
           0.7777777777777778,
           "#fb9f3a"
          ],
          [
           0.8888888888888888,
           "#fdca26"
          ],
          [
           1,
           "#f0f921"
          ]
         ]
        },
        "legend": {
         "tracegroupgap": 0
        },
        "margin": {
         "t": 60
        },
        "scene": {
         "aspectmode": "auto",
         "aspectratio": {
          "x": 0.734706744808569,
          "y": 1.3610872733454413,
          "z": 1
         },
         "camera": {
          "center": {
           "x": 0,
           "y": 0,
           "z": 0
          },
          "eye": {
           "x": -0.6409985620334148,
           "y": -0.954973868139203,
           "z": 0.4450445105967748
          },
          "projection": {
           "type": "perspective"
          },
          "up": {
           "x": 0,
           "y": 0,
           "z": 1
          }
         },
         "domain": {
          "x": [
           0,
           1
          ],
          "y": [
           0,
           1
          ]
         },
         "xaxis": {
          "title": {
           "text": "learning_rate"
          },
          "type": "log"
         },
         "yaxis": {
          "title": {
           "text": "decay"
          },
          "type": "log"
         },
         "zaxis": {
          "title": {
           "text": "gamma"
          },
          "type": "linear"
         }
        },
        "template": {
         "data": {
          "bar": [
           {
            "error_x": {
             "color": "#2a3f5f"
            },
            "error_y": {
             "color": "#2a3f5f"
            },
            "marker": {
             "line": {
              "color": "#E5ECF6",
              "width": 0.5
             }
            },
            "type": "bar"
           }
          ],
          "barpolar": [
           {
            "marker": {
             "line": {
              "color": "#E5ECF6",
              "width": 0.5
             }
            },
            "type": "barpolar"
           }
          ],
          "carpet": [
           {
            "aaxis": {
             "endlinecolor": "#2a3f5f",
             "gridcolor": "white",
             "linecolor": "white",
             "minorgridcolor": "white",
             "startlinecolor": "#2a3f5f"
            },
            "baxis": {
             "endlinecolor": "#2a3f5f",
             "gridcolor": "white",
             "linecolor": "white",
             "minorgridcolor": "white",
             "startlinecolor": "#2a3f5f"
            },
            "type": "carpet"
           }
          ],
          "choropleth": [
           {
            "colorbar": {
             "outlinewidth": 0,
             "ticks": ""
            },
            "type": "choropleth"
           }
          ],
          "contour": [
           {
            "colorbar": {
             "outlinewidth": 0,
             "ticks": ""
            },
            "colorscale": [
             [
              0,
              "#0d0887"
             ],
             [
              0.1111111111111111,
              "#46039f"
             ],
             [
              0.2222222222222222,
              "#7201a8"
             ],
             [
              0.3333333333333333,
              "#9c179e"
             ],
             [
              0.4444444444444444,
              "#bd3786"
             ],
             [
              0.5555555555555556,
              "#d8576b"
             ],
             [
              0.6666666666666666,
              "#ed7953"
             ],
             [
              0.7777777777777778,
              "#fb9f3a"
             ],
             [
              0.8888888888888888,
              "#fdca26"
             ],
             [
              1,
              "#f0f921"
             ]
            ],
            "type": "contour"
           }
          ],
          "contourcarpet": [
           {
            "colorbar": {
             "outlinewidth": 0,
             "ticks": ""
            },
            "type": "contourcarpet"
           }
          ],
          "heatmap": [
           {
            "colorbar": {
             "outlinewidth": 0,
             "ticks": ""
            },
            "colorscale": [
             [
              0,
              "#0d0887"
             ],
             [
              0.1111111111111111,
              "#46039f"
             ],
             [
              0.2222222222222222,
              "#7201a8"
             ],
             [
              0.3333333333333333,
              "#9c179e"
             ],
             [
              0.4444444444444444,
              "#bd3786"
             ],
             [
              0.5555555555555556,
              "#d8576b"
             ],
             [
              0.6666666666666666,
              "#ed7953"
             ],
             [
              0.7777777777777778,
              "#fb9f3a"
             ],
             [
              0.8888888888888888,
              "#fdca26"
             ],
             [
              1,
              "#f0f921"
             ]
            ],
            "type": "heatmap"
           }
          ],
          "heatmapgl": [
           {
            "colorbar": {
             "outlinewidth": 0,
             "ticks": ""
            },
            "colorscale": [
             [
              0,
              "#0d0887"
             ],
             [
              0.1111111111111111,
              "#46039f"
             ],
             [
              0.2222222222222222,
              "#7201a8"
             ],
             [
              0.3333333333333333,
              "#9c179e"
             ],
             [
              0.4444444444444444,
              "#bd3786"
             ],
             [
              0.5555555555555556,
              "#d8576b"
             ],
             [
              0.6666666666666666,
              "#ed7953"
             ],
             [
              0.7777777777777778,
              "#fb9f3a"
             ],
             [
              0.8888888888888888,
              "#fdca26"
             ],
             [
              1,
              "#f0f921"
             ]
            ],
            "type": "heatmapgl"
           }
          ],
          "histogram": [
           {
            "marker": {
             "colorbar": {
              "outlinewidth": 0,
              "ticks": ""
             }
            },
            "type": "histogram"
           }
          ],
          "histogram2d": [
           {
            "colorbar": {
             "outlinewidth": 0,
             "ticks": ""
            },
            "colorscale": [
             [
              0,
              "#0d0887"
             ],
             [
              0.1111111111111111,
              "#46039f"
             ],
             [
              0.2222222222222222,
              "#7201a8"
             ],
             [
              0.3333333333333333,
              "#9c179e"
             ],
             [
              0.4444444444444444,
              "#bd3786"
             ],
             [
              0.5555555555555556,
              "#d8576b"
             ],
             [
              0.6666666666666666,
              "#ed7953"
             ],
             [
              0.7777777777777778,
              "#fb9f3a"
             ],
             [
              0.8888888888888888,
              "#fdca26"
             ],
             [
              1,
              "#f0f921"
             ]
            ],
            "type": "histogram2d"
           }
          ],
          "histogram2dcontour": [
           {
            "colorbar": {
             "outlinewidth": 0,
             "ticks": ""
            },
            "colorscale": [
             [
              0,
              "#0d0887"
             ],
             [
              0.1111111111111111,
              "#46039f"
             ],
             [
              0.2222222222222222,
              "#7201a8"
             ],
             [
              0.3333333333333333,
              "#9c179e"
             ],
             [
              0.4444444444444444,
              "#bd3786"
             ],
             [
              0.5555555555555556,
              "#d8576b"
             ],
             [
              0.6666666666666666,
              "#ed7953"
             ],
             [
              0.7777777777777778,
              "#fb9f3a"
             ],
             [
              0.8888888888888888,
              "#fdca26"
             ],
             [
              1,
              "#f0f921"
             ]
            ],
            "type": "histogram2dcontour"
           }
          ],
          "mesh3d": [
           {
            "colorbar": {
             "outlinewidth": 0,
             "ticks": ""
            },
            "type": "mesh3d"
           }
          ],
          "parcoords": [
           {
            "line": {
             "colorbar": {
              "outlinewidth": 0,
              "ticks": ""
             }
            },
            "type": "parcoords"
           }
          ],
          "pie": [
           {
            "automargin": true,
            "type": "pie"
           }
          ],
          "scatter": [
           {
            "marker": {
             "colorbar": {
              "outlinewidth": 0,
              "ticks": ""
             }
            },
            "type": "scatter"
           }
          ],
          "scatter3d": [
           {
            "line": {
             "colorbar": {
              "outlinewidth": 0,
              "ticks": ""
             }
            },
            "marker": {
             "colorbar": {
              "outlinewidth": 0,
              "ticks": ""
             }
            },
            "type": "scatter3d"
           }
          ],
          "scattercarpet": [
           {
            "marker": {
             "colorbar": {
              "outlinewidth": 0,
              "ticks": ""
             }
            },
            "type": "scattercarpet"
           }
          ],
          "scattergeo": [
           {
            "marker": {
             "colorbar": {
              "outlinewidth": 0,
              "ticks": ""
             }
            },
            "type": "scattergeo"
           }
          ],
          "scattergl": [
           {
            "marker": {
             "colorbar": {
              "outlinewidth": 0,
              "ticks": ""
             }
            },
            "type": "scattergl"
           }
          ],
          "scattermapbox": [
           {
            "marker": {
             "colorbar": {
              "outlinewidth": 0,
              "ticks": ""
             }
            },
            "type": "scattermapbox"
           }
          ],
          "scatterpolar": [
           {
            "marker": {
             "colorbar": {
              "outlinewidth": 0,
              "ticks": ""
             }
            },
            "type": "scatterpolar"
           }
          ],
          "scatterpolargl": [
           {
            "marker": {
             "colorbar": {
              "outlinewidth": 0,
              "ticks": ""
             }
            },
            "type": "scatterpolargl"
           }
          ],
          "scatterternary": [
           {
            "marker": {
             "colorbar": {
              "outlinewidth": 0,
              "ticks": ""
             }
            },
            "type": "scatterternary"
           }
          ],
          "surface": [
           {
            "colorbar": {
             "outlinewidth": 0,
             "ticks": ""
            },
            "colorscale": [
             [
              0,
              "#0d0887"
             ],
             [
              0.1111111111111111,
              "#46039f"
             ],
             [
              0.2222222222222222,
              "#7201a8"
             ],
             [
              0.3333333333333333,
              "#9c179e"
             ],
             [
              0.4444444444444444,
              "#bd3786"
             ],
             [
              0.5555555555555556,
              "#d8576b"
             ],
             [
              0.6666666666666666,
              "#ed7953"
             ],
             [
              0.7777777777777778,
              "#fb9f3a"
             ],
             [
              0.8888888888888888,
              "#fdca26"
             ],
             [
              1,
              "#f0f921"
             ]
            ],
            "type": "surface"
           }
          ],
          "table": [
           {
            "cells": {
             "fill": {
              "color": "#EBF0F8"
             },
             "line": {
              "color": "white"
             }
            },
            "header": {
             "fill": {
              "color": "#C8D4E3"
             },
             "line": {
              "color": "white"
             }
            },
            "type": "table"
           }
          ]
         },
         "layout": {
          "annotationdefaults": {
           "arrowcolor": "#2a3f5f",
           "arrowhead": 0,
           "arrowwidth": 1
          },
          "autotypenumbers": "strict",
          "coloraxis": {
           "colorbar": {
            "outlinewidth": 0,
            "ticks": ""
           }
          },
          "colorscale": {
           "diverging": [
            [
             0,
             "#8e0152"
            ],
            [
             0.1,
             "#c51b7d"
            ],
            [
             0.2,
             "#de77ae"
            ],
            [
             0.3,
             "#f1b6da"
            ],
            [
             0.4,
             "#fde0ef"
            ],
            [
             0.5,
             "#f7f7f7"
            ],
            [
             0.6,
             "#e6f5d0"
            ],
            [
             0.7,
             "#b8e186"
            ],
            [
             0.8,
             "#7fbc41"
            ],
            [
             0.9,
             "#4d9221"
            ],
            [
             1,
             "#276419"
            ]
           ],
           "sequential": [
            [
             0,
             "#0d0887"
            ],
            [
             0.1111111111111111,
             "#46039f"
            ],
            [
             0.2222222222222222,
             "#7201a8"
            ],
            [
             0.3333333333333333,
             "#9c179e"
            ],
            [
             0.4444444444444444,
             "#bd3786"
            ],
            [
             0.5555555555555556,
             "#d8576b"
            ],
            [
             0.6666666666666666,
             "#ed7953"
            ],
            [
             0.7777777777777778,
             "#fb9f3a"
            ],
            [
             0.8888888888888888,
             "#fdca26"
            ],
            [
             1,
             "#f0f921"
            ]
           ],
           "sequentialminus": [
            [
             0,
             "#0d0887"
            ],
            [
             0.1111111111111111,
             "#46039f"
            ],
            [
             0.2222222222222222,
             "#7201a8"
            ],
            [
             0.3333333333333333,
             "#9c179e"
            ],
            [
             0.4444444444444444,
             "#bd3786"
            ],
            [
             0.5555555555555556,
             "#d8576b"
            ],
            [
             0.6666666666666666,
             "#ed7953"
            ],
            [
             0.7777777777777778,
             "#fb9f3a"
            ],
            [
             0.8888888888888888,
             "#fdca26"
            ],
            [
             1,
             "#f0f921"
            ]
           ]
          },
          "colorway": [
           "#636efa",
           "#EF553B",
           "#00cc96",
           "#ab63fa",
           "#FFA15A",
           "#19d3f3",
           "#FF6692",
           "#B6E880",
           "#FF97FF",
           "#FECB52"
          ],
          "font": {
           "color": "#2a3f5f"
          },
          "geo": {
           "bgcolor": "white",
           "lakecolor": "white",
           "landcolor": "#E5ECF6",
           "showlakes": true,
           "showland": true,
           "subunitcolor": "white"
          },
          "hoverlabel": {
           "align": "left"
          },
          "hovermode": "closest",
          "mapbox": {
           "style": "light"
          },
          "paper_bgcolor": "white",
          "plot_bgcolor": "#E5ECF6",
          "polar": {
           "angularaxis": {
            "gridcolor": "white",
            "linecolor": "white",
            "ticks": ""
           },
           "bgcolor": "#E5ECF6",
           "radialaxis": {
            "gridcolor": "white",
            "linecolor": "white",
            "ticks": ""
           }
          },
          "scene": {
           "xaxis": {
            "backgroundcolor": "#E5ECF6",
            "gridcolor": "white",
            "gridwidth": 2,
            "linecolor": "white",
            "showbackground": true,
            "ticks": "",
            "zerolinecolor": "white"
           },
           "yaxis": {
            "backgroundcolor": "#E5ECF6",
            "gridcolor": "white",
            "gridwidth": 2,
            "linecolor": "white",
            "showbackground": true,
            "ticks": "",
            "zerolinecolor": "white"
           },
           "zaxis": {
            "backgroundcolor": "#E5ECF6",
            "gridcolor": "white",
            "gridwidth": 2,
            "linecolor": "white",
            "showbackground": true,
            "ticks": "",
            "zerolinecolor": "white"
           }
          },
          "shapedefaults": {
           "line": {
            "color": "#2a3f5f"
           }
          },
          "ternary": {
           "aaxis": {
            "gridcolor": "white",
            "linecolor": "white",
            "ticks": ""
           },
           "baxis": {
            "gridcolor": "white",
            "linecolor": "white",
            "ticks": ""
           },
           "bgcolor": "#E5ECF6",
           "caxis": {
            "gridcolor": "white",
            "linecolor": "white",
            "ticks": ""
           }
          },
          "title": {
           "x": 0.05
          },
          "xaxis": {
           "automargin": true,
           "gridcolor": "white",
           "linecolor": "white",
           "ticks": "",
           "title": {
            "standoff": 15
           },
           "zerolinecolor": "white",
           "zerolinewidth": 2
          },
          "yaxis": {
           "automargin": true,
           "gridcolor": "white",
           "linecolor": "white",
           "ticks": "",
           "title": {
            "standoff": 15
           },
           "zerolinecolor": "white",
           "zerolinewidth": 2
          }
         }
        }
       }
      },
      "text/html": [
       "<div>                            <div id=\"f0ec1516-be1c-43ea-93f8-4499453b9c7d\" class=\"plotly-graph-div\" style=\"height:525px; width:100%;\"></div>            <script type=\"text/javascript\">                require([\"plotly\"], function(Plotly) {                    window.PLOTLYENV=window.PLOTLYENV || {};                                    if (document.getElementById(\"f0ec1516-be1c-43ea-93f8-4499453b9c7d\")) {                    Plotly.newPlot(                        \"f0ec1516-be1c-43ea-93f8-4499453b9c7d\",                        [{\"hovertemplate\": \"learning_rate=%{x}<br>decay=%{y}<br>gamma=%{z}<br>test_accuracy=%{marker.color}<extra></extra>\", \"legendgroup\": \"\", \"marker\": {\"color\": [0.7516666666666666, 0.706, 0.7456666666666667, 0.7423333333333333, 0.7250000000000001, 0.7666666666666667, 0.7333333333333334, 0.7093333333333334, 0.7583333333333333, 0.7220000000000001, 0.92, 0.9293333333333336, 0.9086666666666666, 0.9083333333333332, 0.9196666666666669, 0.9250000000000002, 0.9123333333333332, 0.928, 0.911, 0.9196666666666669, 0.8976666666666667, 0.883, 0.8986666666666666, 0.8930000000000001, 0.9036666666666668, 0.8846666666666666, 0.886, 0.8826666666666667, 0.8976666666666667, 0.896, 0.547, 0.543, 0.552, 0.546, 0.6376666666666666, 0.6693333333333333, 0.539, 0.527, 0.6693333333333333, 0.571, 0.9193333333333332, 0.924, 0.9196666666666666, 0.939, 0.9226666666666666, 0.9293333333333336, 0.938, 0.9096666666666668, 0.9313333333333336, 0.9133333333333334, 0.7513333333333333, 0.71, 0.7456666666666667, 0.7436666666666666, 0.7256666666666667, 0.7673333333333333, 0.734, 0.709, 0.759, 0.7256666666666667, 0.6783333333333333, 0.7436666666666666, 0.739, 0.7176666666666667, 0.7473333333333333, 0.7086666666666667, 0.7343333333333333, 0.753, 0.7000000000000001, 0.6996666666666668, 0.6873333333333335, 0.6773333333333333, 0.7160000000000001, 0.7000000000000001, 0.618, 0.916, 0.9233333333333332, 0.9146666666666668, 0.9296666666666668, 0.9210000000000002, 0.9183333333333334, 0.9216666666666667, 0.9263333333333332, 0.9336666666666668, 0.92, 0.923, 0.9143333333333334, 0.9196666666666666, 0.9333333333333332, 0.913, 0.8973333333333334, 0.925, 0.9123333333333332, 0.926, 0.914, 0.835, 0.8449999999999999, 0.8033333333333333, 0.8573333333333334, 0.846, 0.899, 0.899, 0.906, 0.8933333333333332, 0.887, 0.8969999999999999, 0.8973333333333334, 0.8786666666666667, 0.898, 0.8816666666666667, 0.8969999999999999, 0.9093333333333332, 0.8886666666666666, 0.8913333333333333, 0.8953333333333333, 0.8940000000000001, 0.905, 0.8933333333333332, 0.8933333333333334, 0.887, 0.8386666666666667, 0.797, 0.835, 0.806, 0.802, 0.6606666666666667, 0.6333333333333334, 0.6376666666666667, 0.538, 0.564, 0.6606666666666666, 0.552, 0.606, 0.566, 0.6256666666666667, 0.6589999999999999, 0.727, 0.7743333333333333, 0.589, 0.6593333333333333, 0.8683333333333333, 0.8636666666666667, 0.8763333333333333, 0.8706666666666667, 0.8606666666666666, 0.7766666666666667, 0.7786666666666667, 0.7946666666666667, 0.7923333333333334, 0.7966666666666667, 0.9206666666666666, 0.9286666666666666, 0.9206666666666669, 0.9343333333333332, 0.9186666666666669, 0.9376666666666664, 0.94, 0.9306666666666666, 0.9206666666666669, 0.9236666666666666, 0.928, 0.917, 0.92, 0.9183333333333332, 0.9376666666666664, 0.9263333333333332, 0.9243333333333332, 0.913, 0.917, 0.925, 0.7816666666666667, 0.848, 0.8433333333333333, 0.8106666666666666, 0.8116666666666665], \"coloraxis\": \"coloraxis\", \"symbol\": \"circle\"}, \"mode\": \"markers\", \"name\": \"\", \"scene\": \"scene\", \"showlegend\": false, \"type\": \"scatter3d\", \"x\": [0.0001, 0.0001, 0.0001, 0.0001, 0.0001, 0.0001, 0.0001, 0.0001, 0.0001, 0.0001, 0.005, 0.005, 0.005, 0.005, 0.005, 0.005, 0.005, 0.005, 0.005, 0.005, 0.001, 0.001, 0.001, 0.001, 0.001, 0.001, 0.001, 0.001, 0.001, 0.001, 0.05, 0.05, 0.05, 0.05, 0.05, 0.05, 0.05, 0.05, 0.05, 0.05, 0.01, 0.01, 0.01, 0.01, 0.01, 0.01, 0.01, 0.01, 0.01, 0.01, 0.0001, 0.0001, 0.0001, 0.0001, 0.0001, 0.0001, 0.0001, 0.0001, 0.0001, 0.0001, 0.0001, 0.0001, 0.0001, 0.0001, 0.0001, 0.0001, 0.0001, 0.0001, 0.0001, 0.0001, 0.0001, 0.0001, 0.0001, 0.0001, 0.0001, 0.005, 0.005, 0.005, 0.005, 0.005, 0.005, 0.005, 0.005, 0.005, 0.005, 0.005, 0.005, 0.005, 0.005, 0.005, 0.005, 0.005, 0.005, 0.005, 0.005, 0.005, 0.005, 0.005, 0.005, 0.005, 0.001, 0.001, 0.001, 0.001, 0.001, 0.001, 0.001, 0.001, 0.001, 0.001, 0.001, 0.001, 0.001, 0.001, 0.001, 0.001, 0.001, 0.001, 0.001, 0.001, 0.001, 0.001, 0.001, 0.001, 0.001, 0.05, 0.05, 0.05, 0.05, 0.05, 0.05, 0.05, 0.05, 0.05, 0.05, 0.05, 0.05, 0.05, 0.05, 0.05, 0.05, 0.05, 0.05, 0.05, 0.05, 0.05, 0.05, 0.05, 0.05, 0.05, 0.01, 0.01, 0.01, 0.01, 0.01, 0.01, 0.01, 0.01, 0.01, 0.01, 0.01, 0.01, 0.01, 0.01, 0.01, 0.01, 0.01, 0.01, 0.01, 0.01, 0.01, 0.01, 0.01, 0.01, 0.01], \"y\": [1e-06, 1e-06, 1e-06, 1e-06, 1e-06, 1e-05, 1e-05, 1e-05, 1e-05, 1e-05, 1e-06, 1e-06, 1e-06, 1e-06, 1e-06, 1e-05, 1e-05, 1e-05, 1e-05, 1e-05, 1e-06, 1e-06, 1e-06, 1e-06, 1e-06, 1e-05, 1e-05, 1e-05, 1e-05, 1e-05, 1e-06, 1e-06, 1e-06, 1e-06, 1e-06, 1e-05, 1e-05, 1e-05, 1e-05, 1e-05, 1e-06, 1e-06, 1e-06, 1e-06, 1e-06, 1e-05, 1e-05, 1e-05, 1e-05, 1e-05, 1e-05, 1e-05, 1e-05, 1e-05, 1e-05, 0.0001, 0.0001, 0.0001, 0.0001, 0.0001, 0.001, 0.001, 0.001, 0.001, 0.001, 0.01, 0.01, 0.01, 0.01, 0.01, 0.1, 0.1, 0.1, 0.1, 0.1, 1e-05, 1e-05, 1e-05, 1e-05, 1e-05, 0.0001, 0.0001, 0.0001, 0.0001, 0.0001, 0.001, 0.001, 0.001, 0.001, 0.001, 0.01, 0.01, 0.01, 0.01, 0.01, 0.1, 0.1, 0.1, 0.1, 0.1, 1e-05, 1e-05, 1e-05, 1e-05, 1e-05, 0.0001, 0.0001, 0.0001, 0.0001, 0.0001, 0.001, 0.001, 0.001, 0.001, 0.001, 0.01, 0.01, 0.01, 0.01, 0.01, 0.1, 0.1, 0.1, 0.1, 0.1, 1e-05, 1e-05, 1e-05, 1e-05, 1e-05, 0.0001, 0.0001, 0.0001, 0.0001, 0.0001, 0.001, 0.001, 0.001, 0.001, 0.001, 0.01, 0.01, 0.01, 0.01, 0.01, 0.1, 0.1, 0.1, 0.1, 0.1, 1e-05, 1e-05, 1e-05, 1e-05, 1e-05, 0.0001, 0.0001, 0.0001, 0.0001, 0.0001, 0.001, 0.001, 0.001, 0.001, 0.001, 0.01, 0.01, 0.01, 0.01, 0.01, 0.1, 0.1, 0.1, 0.1, 0.1], \"z\": [0.0, 0.25, 0.5, 0.75, 1.0, 0.0, 0.25, 0.5, 0.75, 1.0, 0.0, 0.25, 0.5, 0.75, 1.0, 0.0, 0.25, 0.5, 0.75, 1.0, 0.0, 0.25, 0.5, 0.75, 1.0, 0.0, 0.25, 0.5, 0.75, 1.0, 0.0, 0.25, 0.5, 0.75, 1.0, 0.0, 0.25, 0.5, 0.75, 1.0, 0.0, 0.25, 0.5, 0.75, 1.0, 0.0, 0.25, 0.5, 0.75, 1.0, 0.0, 0.25, 0.5, 0.75, 1.0, 0.0, 0.25, 0.5, 0.75, 1.0, 0.0, 0.25, 0.5, 0.75, 1.0, 0.0, 0.25, 0.5, 0.75, 1.0, 0.0, 0.25, 0.5, 0.75, 1.0, 0.0, 0.25, 0.5, 0.75, 1.0, 0.0, 0.25, 0.5, 0.75, 1.0, 0.0, 0.25, 0.5, 0.75, 1.0, 0.0, 0.25, 0.5, 0.75, 1.0, 0.0, 0.25, 0.5, 0.75, 1.0, 0.0, 0.25, 0.5, 0.75, 1.0, 0.0, 0.25, 0.5, 0.75, 1.0, 0.0, 0.25, 0.5, 0.75, 1.0, 0.0, 0.25, 0.5, 0.75, 1.0, 0.0, 0.25, 0.5, 0.75, 1.0, 0.0, 0.25, 0.5, 0.75, 1.0, 0.0, 0.25, 0.5, 0.75, 1.0, 0.0, 0.25, 0.5, 0.75, 1.0, 0.0, 0.25, 0.5, 0.75, 1.0, 0.0, 0.25, 0.5, 0.75, 1.0, 0.0, 0.25, 0.5, 0.75, 1.0, 0.0, 0.25, 0.5, 0.75, 1.0, 0.0, 0.25, 0.5, 0.75, 1.0, 0.0, 0.25, 0.5, 0.75, 1.0, 0.0, 0.25, 0.5, 0.75, 1.0]}],                        {\"coloraxis\": {\"colorbar\": {\"title\": {\"text\": \"test_accuracy\"}}, \"colorscale\": [[0.0, \"#0d0887\"], [0.1111111111111111, \"#46039f\"], [0.2222222222222222, \"#7201a8\"], [0.3333333333333333, \"#9c179e\"], [0.4444444444444444, \"#bd3786\"], [0.5555555555555556, \"#d8576b\"], [0.6666666666666666, \"#ed7953\"], [0.7777777777777778, \"#fb9f3a\"], [0.8888888888888888, \"#fdca26\"], [1.0, \"#f0f921\"]]}, \"legend\": {\"tracegroupgap\": 0}, \"margin\": {\"t\": 60}, \"scene\": {\"domain\": {\"x\": [0.0, 1.0], \"y\": [0.0, 1.0]}, \"xaxis\": {\"title\": {\"text\": \"learning_rate\"}, \"type\": \"log\"}, \"yaxis\": {\"title\": {\"text\": \"decay\"}, \"type\": \"log\"}, \"zaxis\": {\"title\": {\"text\": \"gamma\"}}}, \"template\": {\"data\": {\"bar\": [{\"error_x\": {\"color\": \"#2a3f5f\"}, \"error_y\": {\"color\": \"#2a3f5f\"}, \"marker\": {\"line\": {\"color\": \"#E5ECF6\", \"width\": 0.5}}, \"type\": \"bar\"}], \"barpolar\": [{\"marker\": {\"line\": {\"color\": \"#E5ECF6\", \"width\": 0.5}}, \"type\": \"barpolar\"}], \"carpet\": [{\"aaxis\": {\"endlinecolor\": \"#2a3f5f\", \"gridcolor\": \"white\", \"linecolor\": \"white\", \"minorgridcolor\": \"white\", \"startlinecolor\": \"#2a3f5f\"}, \"baxis\": {\"endlinecolor\": \"#2a3f5f\", \"gridcolor\": \"white\", \"linecolor\": \"white\", \"minorgridcolor\": \"white\", \"startlinecolor\": \"#2a3f5f\"}, \"type\": \"carpet\"}], \"choropleth\": [{\"colorbar\": {\"outlinewidth\": 0, \"ticks\": \"\"}, \"type\": \"choropleth\"}], \"contour\": [{\"colorbar\": {\"outlinewidth\": 0, \"ticks\": \"\"}, \"colorscale\": [[0.0, \"#0d0887\"], [0.1111111111111111, \"#46039f\"], [0.2222222222222222, \"#7201a8\"], [0.3333333333333333, \"#9c179e\"], [0.4444444444444444, \"#bd3786\"], [0.5555555555555556, \"#d8576b\"], [0.6666666666666666, \"#ed7953\"], [0.7777777777777778, \"#fb9f3a\"], [0.8888888888888888, \"#fdca26\"], [1.0, \"#f0f921\"]], \"type\": \"contour\"}], \"contourcarpet\": [{\"colorbar\": {\"outlinewidth\": 0, \"ticks\": \"\"}, \"type\": \"contourcarpet\"}], \"heatmap\": [{\"colorbar\": {\"outlinewidth\": 0, \"ticks\": \"\"}, \"colorscale\": [[0.0, \"#0d0887\"], [0.1111111111111111, \"#46039f\"], [0.2222222222222222, \"#7201a8\"], [0.3333333333333333, \"#9c179e\"], [0.4444444444444444, \"#bd3786\"], [0.5555555555555556, \"#d8576b\"], [0.6666666666666666, \"#ed7953\"], [0.7777777777777778, \"#fb9f3a\"], [0.8888888888888888, \"#fdca26\"], [1.0, \"#f0f921\"]], \"type\": \"heatmap\"}], \"heatmapgl\": [{\"colorbar\": {\"outlinewidth\": 0, \"ticks\": \"\"}, \"colorscale\": [[0.0, \"#0d0887\"], [0.1111111111111111, \"#46039f\"], [0.2222222222222222, \"#7201a8\"], [0.3333333333333333, \"#9c179e\"], [0.4444444444444444, \"#bd3786\"], [0.5555555555555556, \"#d8576b\"], [0.6666666666666666, \"#ed7953\"], [0.7777777777777778, \"#fb9f3a\"], [0.8888888888888888, \"#fdca26\"], [1.0, \"#f0f921\"]], \"type\": \"heatmapgl\"}], \"histogram\": [{\"marker\": {\"colorbar\": {\"outlinewidth\": 0, \"ticks\": \"\"}}, \"type\": \"histogram\"}], \"histogram2d\": [{\"colorbar\": {\"outlinewidth\": 0, \"ticks\": \"\"}, \"colorscale\": [[0.0, \"#0d0887\"], [0.1111111111111111, \"#46039f\"], [0.2222222222222222, \"#7201a8\"], [0.3333333333333333, \"#9c179e\"], [0.4444444444444444, \"#bd3786\"], [0.5555555555555556, \"#d8576b\"], [0.6666666666666666, \"#ed7953\"], [0.7777777777777778, \"#fb9f3a\"], [0.8888888888888888, \"#fdca26\"], [1.0, \"#f0f921\"]], \"type\": \"histogram2d\"}], \"histogram2dcontour\": [{\"colorbar\": {\"outlinewidth\": 0, \"ticks\": \"\"}, \"colorscale\": [[0.0, \"#0d0887\"], [0.1111111111111111, \"#46039f\"], [0.2222222222222222, \"#7201a8\"], [0.3333333333333333, \"#9c179e\"], [0.4444444444444444, \"#bd3786\"], [0.5555555555555556, \"#d8576b\"], [0.6666666666666666, \"#ed7953\"], [0.7777777777777778, \"#fb9f3a\"], [0.8888888888888888, \"#fdca26\"], [1.0, \"#f0f921\"]], \"type\": \"histogram2dcontour\"}], \"mesh3d\": [{\"colorbar\": {\"outlinewidth\": 0, \"ticks\": \"\"}, \"type\": \"mesh3d\"}], \"parcoords\": [{\"line\": {\"colorbar\": {\"outlinewidth\": 0, \"ticks\": \"\"}}, \"type\": \"parcoords\"}], \"pie\": [{\"automargin\": true, \"type\": \"pie\"}], \"scatter\": [{\"marker\": {\"colorbar\": {\"outlinewidth\": 0, \"ticks\": \"\"}}, \"type\": \"scatter\"}], \"scatter3d\": [{\"line\": {\"colorbar\": {\"outlinewidth\": 0, \"ticks\": \"\"}}, \"marker\": {\"colorbar\": {\"outlinewidth\": 0, \"ticks\": \"\"}}, \"type\": \"scatter3d\"}], \"scattercarpet\": [{\"marker\": {\"colorbar\": {\"outlinewidth\": 0, \"ticks\": \"\"}}, \"type\": \"scattercarpet\"}], \"scattergeo\": [{\"marker\": {\"colorbar\": {\"outlinewidth\": 0, \"ticks\": \"\"}}, \"type\": \"scattergeo\"}], \"scattergl\": [{\"marker\": {\"colorbar\": {\"outlinewidth\": 0, \"ticks\": \"\"}}, \"type\": \"scattergl\"}], \"scattermapbox\": [{\"marker\": {\"colorbar\": {\"outlinewidth\": 0, \"ticks\": \"\"}}, \"type\": \"scattermapbox\"}], \"scatterpolar\": [{\"marker\": {\"colorbar\": {\"outlinewidth\": 0, \"ticks\": \"\"}}, \"type\": \"scatterpolar\"}], \"scatterpolargl\": [{\"marker\": {\"colorbar\": {\"outlinewidth\": 0, \"ticks\": \"\"}}, \"type\": \"scatterpolargl\"}], \"scatterternary\": [{\"marker\": {\"colorbar\": {\"outlinewidth\": 0, \"ticks\": \"\"}}, \"type\": \"scatterternary\"}], \"surface\": [{\"colorbar\": {\"outlinewidth\": 0, \"ticks\": \"\"}, \"colorscale\": [[0.0, \"#0d0887\"], [0.1111111111111111, \"#46039f\"], [0.2222222222222222, \"#7201a8\"], [0.3333333333333333, \"#9c179e\"], [0.4444444444444444, \"#bd3786\"], [0.5555555555555556, \"#d8576b\"], [0.6666666666666666, \"#ed7953\"], [0.7777777777777778, \"#fb9f3a\"], [0.8888888888888888, \"#fdca26\"], [1.0, \"#f0f921\"]], \"type\": \"surface\"}], \"table\": [{\"cells\": {\"fill\": {\"color\": \"#EBF0F8\"}, \"line\": {\"color\": \"white\"}}, \"header\": {\"fill\": {\"color\": \"#C8D4E3\"}, \"line\": {\"color\": \"white\"}}, \"type\": \"table\"}]}, \"layout\": {\"annotationdefaults\": {\"arrowcolor\": \"#2a3f5f\", \"arrowhead\": 0, \"arrowwidth\": 1}, \"autotypenumbers\": \"strict\", \"coloraxis\": {\"colorbar\": {\"outlinewidth\": 0, \"ticks\": \"\"}}, \"colorscale\": {\"diverging\": [[0, \"#8e0152\"], [0.1, \"#c51b7d\"], [0.2, \"#de77ae\"], [0.3, \"#f1b6da\"], [0.4, \"#fde0ef\"], [0.5, \"#f7f7f7\"], [0.6, \"#e6f5d0\"], [0.7, \"#b8e186\"], [0.8, \"#7fbc41\"], [0.9, \"#4d9221\"], [1, \"#276419\"]], \"sequential\": [[0.0, \"#0d0887\"], [0.1111111111111111, \"#46039f\"], [0.2222222222222222, \"#7201a8\"], [0.3333333333333333, \"#9c179e\"], [0.4444444444444444, \"#bd3786\"], [0.5555555555555556, \"#d8576b\"], [0.6666666666666666, \"#ed7953\"], [0.7777777777777778, \"#fb9f3a\"], [0.8888888888888888, \"#fdca26\"], [1.0, \"#f0f921\"]], \"sequentialminus\": [[0.0, \"#0d0887\"], [0.1111111111111111, \"#46039f\"], [0.2222222222222222, \"#7201a8\"], [0.3333333333333333, \"#9c179e\"], [0.4444444444444444, \"#bd3786\"], [0.5555555555555556, \"#d8576b\"], [0.6666666666666666, \"#ed7953\"], [0.7777777777777778, \"#fb9f3a\"], [0.8888888888888888, \"#fdca26\"], [1.0, \"#f0f921\"]]}, \"colorway\": [\"#636efa\", \"#EF553B\", \"#00cc96\", \"#ab63fa\", \"#FFA15A\", \"#19d3f3\", \"#FF6692\", \"#B6E880\", \"#FF97FF\", \"#FECB52\"], \"font\": {\"color\": \"#2a3f5f\"}, \"geo\": {\"bgcolor\": \"white\", \"lakecolor\": \"white\", \"landcolor\": \"#E5ECF6\", \"showlakes\": true, \"showland\": true, \"subunitcolor\": \"white\"}, \"hoverlabel\": {\"align\": \"left\"}, \"hovermode\": \"closest\", \"mapbox\": {\"style\": \"light\"}, \"paper_bgcolor\": \"white\", \"plot_bgcolor\": \"#E5ECF6\", \"polar\": {\"angularaxis\": {\"gridcolor\": \"white\", \"linecolor\": \"white\", \"ticks\": \"\"}, \"bgcolor\": \"#E5ECF6\", \"radialaxis\": {\"gridcolor\": \"white\", \"linecolor\": \"white\", \"ticks\": \"\"}}, \"scene\": {\"xaxis\": {\"backgroundcolor\": \"#E5ECF6\", \"gridcolor\": \"white\", \"gridwidth\": 2, \"linecolor\": \"white\", \"showbackground\": true, \"ticks\": \"\", \"zerolinecolor\": \"white\"}, \"yaxis\": {\"backgroundcolor\": \"#E5ECF6\", \"gridcolor\": \"white\", \"gridwidth\": 2, \"linecolor\": \"white\", \"showbackground\": true, \"ticks\": \"\", \"zerolinecolor\": \"white\"}, \"zaxis\": {\"backgroundcolor\": \"#E5ECF6\", \"gridcolor\": \"white\", \"gridwidth\": 2, \"linecolor\": \"white\", \"showbackground\": true, \"ticks\": \"\", \"zerolinecolor\": \"white\"}}, \"shapedefaults\": {\"line\": {\"color\": \"#2a3f5f\"}}, \"ternary\": {\"aaxis\": {\"gridcolor\": \"white\", \"linecolor\": \"white\", \"ticks\": \"\"}, \"baxis\": {\"gridcolor\": \"white\", \"linecolor\": \"white\", \"ticks\": \"\"}, \"bgcolor\": \"#E5ECF6\", \"caxis\": {\"gridcolor\": \"white\", \"linecolor\": \"white\", \"ticks\": \"\"}}, \"title\": {\"x\": 0.05}, \"xaxis\": {\"automargin\": true, \"gridcolor\": \"white\", \"linecolor\": \"white\", \"ticks\": \"\", \"title\": {\"standoff\": 15}, \"zerolinecolor\": \"white\", \"zerolinewidth\": 2}, \"yaxis\": {\"automargin\": true, \"gridcolor\": \"white\", \"linecolor\": \"white\", \"ticks\": \"\", \"title\": {\"standoff\": 15}, \"zerolinecolor\": \"white\", \"zerolinewidth\": 2}}}},                        {\"responsive\": true}                    ).then(function(){\n",
       "                            \n",
       "var gd = document.getElementById('f0ec1516-be1c-43ea-93f8-4499453b9c7d');\n",
       "var x = new MutationObserver(function (mutations, observer) {{\n",
       "        var display = window.getComputedStyle(gd).display;\n",
       "        if (!display || display === 'none') {{\n",
       "            console.log([gd, 'removed!']);\n",
       "            Plotly.purge(gd);\n",
       "            observer.disconnect();\n",
       "        }}\n",
       "}});\n",
       "\n",
       "// Listen for the removal of the full notebook cells\n",
       "var notebookContainer = gd.closest('#notebook-container');\n",
       "if (notebookContainer) {{\n",
       "    x.observe(notebookContainer, {childList: true});\n",
       "}}\n",
       "\n",
       "// Listen for the clearing of the current output cell\n",
       "var outputEl = gd.closest('.output');\n",
       "if (outputEl) {{\n",
       "    x.observe(outputEl, {childList: true});\n",
       "}}\n",
       "\n",
       "                        })                };                });            </script>        </div>"
      ]
     },
     "metadata": {},
     "output_type": "display_data"
    }
   ],
   "source": [
    "fig = px.scatter_3d(params, x='learning_rate', y='decay', z='gamma',\n",
    "                    log_x=True, log_y=True,\n",
    "                    color='test_accuracy')\n",
    "fig.show()"
   ]
  },
  {
   "cell_type": "code",
   "execution_count": 9,
   "metadata": {},
   "outputs": [],
   "source": [
    "import seaborn as sns\n",
    "import matplotlib.pyplot as plt"
   ]
  },
  {
   "cell_type": "code",
   "execution_count": 15,
   "metadata": {},
   "outputs": [
    {
     "data": {
      "text/plain": [
       "learning_rate     0.01000\n",
       "decay             0.00010\n",
       "gamma             0.25000\n",
       "train_accuracy    0.96036\n",
       "test_accuracy     0.94000\n",
       "Name: 106, dtype: float64"
      ]
     },
     "execution_count": 15,
     "metadata": {},
     "output_type": "execute_result"
    }
   ],
   "source": [
    "params.iloc[156]"
   ]
  },
  {
   "cell_type": "code",
   "execution_count": 19,
   "metadata": {},
   "outputs": [
    {
     "data": {
      "text/plain": [
       "<AxesSubplot:xlabel='decay', ylabel='test_accuracy'>"
      ]
     },
     "execution_count": 19,
     "metadata": {},
     "output_type": "execute_result"
    },
    {
     "data": {
      "image/png": "[encoded data removed]",
      "text/plain": [
       "<Figure size 432x288 with 1 Axes>"
      ]
     },
     "metadata": {
      "needs_background": "light"
     },
     "output_type": "display_data"
    }
   ],
   "source": [
    "fig, ax = plt.subplots()\n",
    "ax.set(xscale=\"log\")\n",
    "\n",
    "sns.scatterplot(data=params[params['learning_rate'] == .01], x='decay', y='test_accuracy', label='test')\n",
    "sns.scatterplot(data=params[params['learning_rate'] == .01], x='decay', y='train_accuracy', label='train')"
   ]
  },
  {
   "cell_type": "code",
   "execution_count": 20,
   "metadata": {},
   "outputs": [
    {
     "data": {
      "text/plain": [
       "<AxesSubplot:xlabel='learning_rate', ylabel='test_accuracy'>"
      ]
     },
     "execution_count": 20,
     "metadata": {},
     "output_type": "execute_result"
    },
    {
     "data": {
      "image/png": "[encoded data removed]",
      "text/plain": [
       "<Figure size 432x288 with 1 Axes>"
      ]
     },
     "metadata": {
      "needs_background": "light"
     },
     "output_type": "display_data"
    }
   ],
   "source": [
    "fig, ax = plt.subplots()\n",
    "ax.set(xscale=\"log\")\n",
    "\n",
    "sns.scatterplot(data=params[params['decay'] == 1e-4], x='learning_rate', y='test_accuracy', label='test')\n",
    "sns.scatterplot(data=params[params['decay'] == 1e-4], x='learning_rate', y='train_accuracy', label='train')"
   ]
  },
  {
   "cell_type": "code",
   "execution_count": 22,
   "metadata": {},
   "outputs": [
    {
     "data": {
      "text/plain": [
       "<AxesSubplot:xlabel='gamma', ylabel='test_accuracy'>"
      ]
     },
     "execution_count": 22,
     "metadata": {},
     "output_type": "execute_result"
    },
    {
     "data": {
      "image/png": "[encoded data removed]",
      "text/plain": [
       "<Figure size 432x288 with 1 Axes>"
      ]
     },
     "metadata": {
      "needs_background": "light"
     },
     "output_type": "display_data"
    }
   ],
   "source": [
    "sns.scatterplot(data=params[(params['decay'] == 1e-4) & (params['learning_rate'] == .01)], x='gamma', y='test_accuracy', label='test')\n",
    "sns.scatterplot(data=params[(params['decay'] == 1e-4) & (params['learning_rate'] == .01)], x='gamma', y='train_accuracy', label='train')"
   ]
  },
  {
   "cell_type": "code",
   "execution_count": 29,
   "metadata": {},
   "outputs": [
    {
     "data": {
      "text/plain": [
       "<AxesSubplot:xlabel='gamma', ylabel='test_accuracy'>"
      ]
     },
     "execution_count": 29,
     "metadata": {},
     "output_type": "execute_result"
    },
    {
     "data": {
      "image/png": "[encoded data removed]",
      "text/plain": [
       "<Figure size 432x288 with 1 Axes>"
      ]
     },
     "metadata": {
      "needs_background": "light"
     },
     "output_type": "display_data"
    }
   ],
   "source": [
    "sns.scatterplot(data=params[(params['decay'].isin([1e-4, 1e-3])) & (params['learning_rate'].isin([1e-2, 5e-3]))], x='gamma', y='test_accuracy', label='test')\n",
    "sns.scatterplot(data=params[(params['decay'].isin([1e-4, 1e-3])) & (params['learning_rate'].isin([1e-2, 5e-3]))], x='gamma', y='train_accuracy', label='train')"
   ]
  },
  {
   "cell_type": "code",
   "execution_count": null,
   "metadata": {},
   "outputs": [],
   "source": [
    "fig, ax = plt.subplots()\n",
    "ax.set(xscale=\"log\", yscale=\"log\")\n",
    "\n",
    "sns.scatterplot(data=params, x='learning_rate', y='train_accuracy', ax=ax)"
   ]
  },
  {
   "cell_type": "code",
   "execution_count": null,
   "metadata": {},
   "outputs": [],
   "source": []
  },
  {
   "cell_type": "code",
   "execution_count": null,
   "metadata": {},
   "outputs": [],
   "source": [
    "import sys, os\n",
    "\n",
    "sys.path.append(os.path.abspath('..'))"
   ]
  },
  {
   "cell_type": "code",
   "execution_count": null,
   "metadata": {},
   "outputs": [],
   "source": [
    "import matplotlib as mpl\n",
    "import matplotlib.pyplot as plt\n",
    "\n",
    "mpl.rcParams['figure.figsize'] = [8.3, 5.1]"
   ]
  },
  {
   "cell_type": "code",
   "execution_count": null,
   "metadata": {},
   "outputs": [],
   "source": [
    "from utils import load_dataset\n",
    "from metrics import TrainingMetrics"
   ]
  },
  {
   "cell_type": "code",
   "execution_count": null,
   "metadata": {},
   "outputs": [],
   "source": [
    "import torch\n",
    "from torch import nn\n",
    "from torch.nn import functional as F\n",
    "from torch.utils.data import TensorDataset, DataLoader"
   ]
  },
  {
   "cell_type": "code",
   "execution_count": null,
   "metadata": {},
   "outputs": [],
   "source": [
    "class Net(nn.Module):\n",
    "    def __init__(self, nb_hidden):\n",
    "        super().__init__()\n",
    "        # Convolutional layers\n",
    "        self.conv1 = nn.Conv2d(2, 24, kernel_size=3)\n",
    "        self.conv2 = nn.Conv2d(24, 49, kernel_size=3)\n",
    "        \n",
    "        # fully connected layers\n",
    "        self.fc1 = nn.Linear(196, 128)\n",
    "        self.fc2 = nn.Linear(128, 20)\n",
    "        self.fc3 = nn.Linear(20, 10)\n",
    "        self.classifier = nn.Linear(10, 1)\n",
    "        \n",
    "        # Regularizers\n",
    "        self.drop = nn.Dropout(0.2)\n",
    "        self.pool = nn.MaxPool2d(2,2)\n",
    "        \n",
    "        # Activation functions\n",
    "        self.relu = nn.ReLU()\n",
    "        self.sigmoid = nn.Sigmoid()\n",
    "\n",
    "    def forward(self, x):\n",
    "        x = self.pool(self.relu(self.conv1(x)))\n",
    "        x = self.pool(self.relu(self.conv2(x)))\n",
    "        \n",
    "        x = self.relu(self.fc1(x.flatten(start_dim=1)))\n",
    "        x = self.drop(x)\n",
    "        \n",
    "        x = self.relu(self.fc2(x))\n",
    "        x = self.drop(x)\n",
    "        \n",
    "        x = self.relu(self.fc3(x.flatten(start_dim=1)))\n",
    "        \n",
    "        x = self.sigmoid(self.classifier(x))\n",
    "        \n",
    "        return x.squeeze(), None"
   ]
  },
  {
   "cell_type": "code",
   "execution_count": null,
   "metadata": {},
   "outputs": [],
   "source": [
    "train_loader, test_loader = load_dataset()"
   ]
  },
  {
   "cell_type": "code",
   "execution_count": null,
   "metadata": {},
   "outputs": [],
   "source": [
    "model = Net(200)"
   ]
  },
  {
   "cell_type": "code",
   "execution_count": null,
   "metadata": {},
   "outputs": [],
   "source": [
    "def accuracy(model, load):\n",
    "    \n",
    "    accuracy = 0.\n",
    "    counter = 0\n",
    "    \n",
    "    model.eval()\n",
    "    \n",
    "    with torch.no_grad():\n",
    "            for (input, target, _) in load:\n",
    "                output, _ = model(input)\n",
    "                \n",
    "                accuracy += (output >= 0.5) == target\n",
    "                counter += target.size(0)\n",
    "                \n",
    "    return (accuracy.sum() / counter).float().item()"
   ]
  },
  {
   "cell_type": "code",
   "execution_count": null,
   "metadata": {},
   "outputs": [],
   "source": [
    "criterion = nn.BCELoss()\n",
    "eta = 1e-2\n",
    "epochs = 25\n",
    "decay = 1e-3\n",
    "\n",
    "optimizer = torch.optim.Adam(model.parameters(), lr=eta, weight_decay=decay)\n",
    "\n",
    "metrics = TrainingMetrics()\n",
    "\n",
    "for epoch in range(epochs):\n",
    "    \n",
    "    acc_loss = 0.\n",
    "    \n",
    "    model.train()\n",
    "    \n",
    "    for input, target, classes in train_loader:\n",
    "        \n",
    "        output, aux = model(input)\n",
    "        loss = criterion(output, target.float())\n",
    "        \n",
    "        acc_loss += loss.item()\n",
    "        \n",
    "        optimizer.zero_grad()\n",
    "        loss.backward()\n",
    "        optimizer.step()\n",
    "        \n",
    "    metrics.add_entry(epoch, acc_loss, accuracy(model, train_loader))\n",
    "    print(metrics)"
   ]
  },
  {
   "cell_type": "code",
   "execution_count": null,
   "metadata": {},
   "outputs": [],
   "source": [
    "print(f\"{4.555:06.3f}\")"
   ]
  },
  {
   "cell_type": "code",
   "execution_count": null,
   "metadata": {},
   "outputs": [],
   "source": [
    "import pandas as pd\n",
    "import seaborn as sns\n",
    "\n",
    "training_stats = pd.DataFrame.from_dict(stats, orient='index')\n",
    "training_stats['epoch'] = training_stats.index"
   ]
  },
  {
   "cell_type": "code",
   "execution_count": null,
   "metadata": {},
   "outputs": [],
   "source": [
    "ax_loss = sns.lineplot(data=training_stats, x=\"epoch\", y=\"loss\", label='loss')\n",
    "\n",
    "ax_acc = ax_loss.twinx()\n",
    "\n",
    "sns.lineplot(data=training_stats, x=\"epoch\", y=\"accuracy\", label='accuracy', ax=ax_acc, color='r')\n",
    "\n",
    "plt.show()"
   ]
  },
  {
   "cell_type": "code",
   "execution_count": null,
   "metadata": {},
   "outputs": [],
   "source": []
  },
  {
   "cell_type": "code",
   "execution_count": null,
   "metadata": {},
   "outputs": [],
   "source": []
  },
  {
   "cell_type": "code",
   "execution_count": 10,
   "metadata": {},
   "outputs": [],
   "source": [
    "import pandas as pd"
   ]
  },
  {
   "cell_type": "code",
   "execution_count": 11,
   "metadata": {},
   "outputs": [],
   "source": [
    "tm = pd.read_csv('../testing_metrics.csv')"
   ]
  },
  {
   "cell_type": "code",
   "execution_count": 12,
   "metadata": {},
   "outputs": [
    {
     "output_type": "execute_result",
     "data": {
      "text/plain": [
       "0.9062000000000001"
      ]
     },
     "metadata": {},
     "execution_count": 12
    }
   ],
   "source": [
    "tm.accuracy.mean()"
   ]
  },
  {
   "cell_type": "code",
   "execution_count": 20,
   "metadata": {},
   "outputs": [],
   "source": [
    "import sys, os\n",
    "\n",
    "sys.path.append(os.path.abspath('../src'))\n",
    "\n",
    "import torch\n",
    "from models.siamese_convnet import SiameseConvNet"
   ]
  },
  {
   "cell_type": "code",
   "execution_count": 24,
   "metadata": {},
   "outputs": [],
   "source": [
    "model = SiameseConvNet()\n",
    "\n",
    "x = torch.randn(1, 2, 14, 14)\n",
    "\n",
    "y = model(x)"
   ]
  },
  {
   "cell_type": "code",
   "execution_count": 36,
   "metadata": {},
   "outputs": [
    {
     "output_type": "execute_result",
     "data": {
      "text/plain": [
       "<graphviz.dot.Digraph at 0x7fb48e7dbc40>"
      ],
      "image/svg+xml": "<?xml version=\"1.0\" encoding=\"UTF-8\" standalone=\"no\"?>\n<!DOCTYPE svg PUBLIC \"-//W3C//DTD SVG 1.1//EN\"\n \"http://www.w3.org/Graphics/SVG/1.1/DTD/svg11.dtd\">\n<!-- Generated by graphviz version 2.47.1 (20210417.1919)\n -->\n<!-- Pages: 1 -->\n<svg width=\"579pt\" height=\"1317pt\"\n viewBox=\"0.00 0.00 579.00 1317.00\" xmlns=\"http://www.w3.org/2000/svg\" xmlns:xlink=\"http://www.w3.org/1999/xlink\">\n<g id=\"graph0\" class=\"graph\" transform=\"scale(1 1) rotate(0) translate(4 1313)\">\n<polygon fill=\"white\" stroke=\"transparent\" points=\"-4,4 -4,-1313 575,-1313 575,4 -4,4\"/>\n<!-- 140413379864320 -->\n<g id=\"node1\" class=\"node\">\n<title>140413379864320</title>\n<polygon fill=\"#caff70\" stroke=\"black\" points=\"238.5,-31 184.5,-31 184.5,0 238.5,0 238.5,-31\"/>\n<text text-anchor=\"middle\" x=\"211.5\" y=\"-7\" font-family=\"monospace\" font-size=\"10.00\"> ()</text>\n</g>\n<!-- 140413461443104 -->\n<g id=\"node2\" class=\"node\">\n<title>140413461443104</title>\n<polygon fill=\"lightgrey\" stroke=\"black\" points=\"216,-92 103,-92 103,-73 216,-73 216,-92\"/>\n<text text-anchor=\"middle\" x=\"159.5\" y=\"-80\" font-family=\"monospace\" font-size=\"10.00\">SqueezeBackward0</text>\n</g>\n<!-- 140413461443104&#45;&gt;140413379864320 -->\n<g id=\"edge70\" class=\"edge\">\n<title>140413461443104&#45;&gt;140413379864320</title>\n<path fill=\"none\" stroke=\"black\" d=\"M166.51,-72.73C173.38,-64.15 184.14,-50.69 193.42,-39.1\"/>\n<polygon fill=\"black\" stroke=\"black\" points=\"196.32,-41.08 199.83,-31.08 190.85,-36.71 196.32,-41.08\"/>\n</g>\n<!-- 140413461444976 -->\n<g id=\"node3\" class=\"node\">\n<title>140413461444976</title>\n<polygon fill=\"lightgrey\" stroke=\"black\" points=\"265,-153 158,-153 158,-134 265,-134 265,-153\"/>\n<text text-anchor=\"middle\" x=\"211.5\" y=\"-141\" font-family=\"monospace\" font-size=\"10.00\">SigmoidBackward</text>\n</g>\n<!-- 140413461444976&#45;&gt;140413461443104 -->\n<g id=\"edge1\" class=\"edge\">\n<title>140413461444976&#45;&gt;140413461443104</title>\n<path fill=\"none\" stroke=\"black\" d=\"M203.83,-133.79C195.99,-124.91 183.64,-110.89 173.96,-99.91\"/>\n<polygon fill=\"black\" stroke=\"black\" points=\"176.44,-97.43 167.2,-92.24 171.19,-102.06 176.44,-97.43\"/>\n</g>\n<!-- 140413462127232 -->\n<g id=\"node64\" class=\"node\">\n<title>140413462127232</title>\n<polygon fill=\"#a2cd5a\" stroke=\"black\" points=\"293,-98 234,-98 234,-67 293,-67 293,-98\"/>\n<text text-anchor=\"middle\" x=\"263.5\" y=\"-74\" font-family=\"monospace\" font-size=\"10.00\"> (1, 1)</text>\n</g>\n<!-- 140413461444976&#45;&gt;140413462127232 -->\n<g id=\"edge71\" class=\"edge\">\n<title>140413461444976&#45;&gt;140413462127232</title>\n<path fill=\"none\" stroke=\"black\" d=\"M219.17,-133.79C225.68,-126.41 235.31,-115.49 243.93,-105.7\"/>\n<polygon fill=\"black\" stroke=\"black\" points=\"246.56,-108.01 250.55,-98.19 241.31,-103.38 246.56,-108.01\"/>\n</g>\n<!-- 140413461445600 -->\n<g id=\"node4\" class=\"node\">\n<title>140413461445600</title>\n<polygon fill=\"lightgrey\" stroke=\"black\" points=\"259,-208 164,-208 164,-189 259,-189 259,-208\"/>\n<text text-anchor=\"middle\" x=\"211.5\" y=\"-196\" font-family=\"monospace\" font-size=\"10.00\">AddmmBackward</text>\n</g>\n<!-- 140413461445600&#45;&gt;140413461444976 -->\n<g id=\"edge2\" class=\"edge\">\n<title>140413461445600&#45;&gt;140413461444976</title>\n<path fill=\"none\" stroke=\"black\" d=\"M211.5,-188.75C211.5,-181.8 211.5,-171.85 211.5,-163.13\"/>\n<polygon fill=\"black\" stroke=\"black\" points=\"215,-163.09 211.5,-153.09 208,-163.09 215,-163.09\"/>\n</g>\n<!-- 140413461445168 -->\n<g id=\"node5\" class=\"node\">\n<title>140413461445168</title>\n<polygon fill=\"lightgrey\" stroke=\"black\" points=\"146,-263 45,-263 45,-244 146,-244 146,-263\"/>\n<text text-anchor=\"middle\" x=\"95.5\" y=\"-251\" font-family=\"monospace\" font-size=\"10.00\">AccumulateGrad</text>\n</g>\n<!-- 140413461445168&#45;&gt;140413461445600 -->\n<g id=\"edge3\" class=\"edge\">\n<title>140413461445168&#45;&gt;140413461445600</title>\n<path fill=\"none\" stroke=\"black\" d=\"M114.14,-243.98C132.8,-235.46 161.75,-222.23 183.24,-212.41\"/>\n<polygon fill=\"black\" stroke=\"black\" points=\"184.88,-215.51 192.52,-208.17 181.97,-209.14 184.88,-215.51\"/>\n</g>\n<!-- 140413432726976 -->\n<g id=\"node6\" class=\"node\">\n<title>140413432726976</title>\n<polygon fill=\"lightblue\" stroke=\"black\" points=\"128,-329.5 63,-329.5 63,-299.5 128,-299.5 128,-329.5\"/>\n<text text-anchor=\"middle\" x=\"95.5\" y=\"-317.5\" font-family=\"monospace\" font-size=\"10.00\">fc4.bias</text>\n<text text-anchor=\"middle\" x=\"95.5\" y=\"-306.5\" font-family=\"monospace\" font-size=\"10.00\"> (1)</text>\n</g>\n<!-- 140413432726976&#45;&gt;140413461445168 -->\n<g id=\"edge4\" class=\"edge\">\n<title>140413432726976&#45;&gt;140413461445168</title>\n<path fill=\"none\" stroke=\"black\" d=\"M95.5,-299.22C95.5,-291.53 95.5,-281.94 95.5,-273.61\"/>\n<polygon fill=\"black\" stroke=\"black\" points=\"99,-273.34 95.5,-263.34 92,-273.34 99,-273.34\"/>\n</g>\n<!-- 140413461445840 -->\n<g id=\"node7\" class=\"node\">\n<title>140413461445840</title>\n<polygon fill=\"lightgrey\" stroke=\"black\" points=\"259,-263 164,-263 164,-244 259,-244 259,-263\"/>\n<text text-anchor=\"middle\" x=\"211.5\" y=\"-251\" font-family=\"monospace\" font-size=\"10.00\">ReluBackward0</text>\n</g>\n<!-- 140413461445840&#45;&gt;140413461445600 -->\n<g id=\"edge5\" class=\"edge\">\n<title>140413461445840&#45;&gt;140413461445600</title>\n<path fill=\"none\" stroke=\"black\" d=\"M211.5,-243.75C211.5,-236.8 211.5,-226.85 211.5,-218.13\"/>\n<polygon fill=\"black\" stroke=\"black\" points=\"215,-218.09 211.5,-208.09 208,-218.09 215,-218.09\"/>\n</g>\n<!-- 140413461445888 -->\n<g id=\"node8\" class=\"node\">\n<title>140413461445888</title>\n<polygon fill=\"lightgrey\" stroke=\"black\" points=\"250,-324 155,-324 155,-305 250,-305 250,-324\"/>\n<text text-anchor=\"middle\" x=\"202.5\" y=\"-312\" font-family=\"monospace\" font-size=\"10.00\">AddmmBackward</text>\n</g>\n<!-- 140413461445888&#45;&gt;140413461445840 -->\n<g id=\"edge6\" class=\"edge\">\n<title>140413461445888&#45;&gt;140413461445840</title>\n<path fill=\"none\" stroke=\"black\" d=\"M203.83,-304.79C205.09,-296.52 207.03,-283.79 208.65,-273.21\"/>\n<polygon fill=\"black\" stroke=\"black\" points=\"212.12,-273.65 210.17,-263.24 205.2,-272.6 212.12,-273.65\"/>\n</g>\n<!-- 140413461446032 -->\n<g id=\"node9\" class=\"node\">\n<title>140413461446032</title>\n<polygon fill=\"lightgrey\" stroke=\"black\" points=\"101,-390.5 0,-390.5 0,-371.5 101,-371.5 101,-390.5\"/>\n<text text-anchor=\"middle\" x=\"50.5\" y=\"-378.5\" font-family=\"monospace\" font-size=\"10.00\">AccumulateGrad</text>\n</g>\n<!-- 140413461446032&#45;&gt;140413461445888 -->\n<g id=\"edge7\" class=\"edge\">\n<title>140413461446032&#45;&gt;140413461445888</title>\n<path fill=\"none\" stroke=\"black\" d=\"M70.68,-371.43C96.8,-360.35 142.53,-340.95 172.66,-328.16\"/>\n<polygon fill=\"black\" stroke=\"black\" points=\"174.39,-331.23 182.23,-324.1 171.66,-324.78 174.39,-331.23\"/>\n</g>\n<!-- 140413432726656 -->\n<g id=\"node10\" class=\"node\">\n<title>140413432726656</title>\n<polygon fill=\"lightblue\" stroke=\"black\" points=\"76,-462 11,-462 11,-432 76,-432 76,-462\"/>\n<text text-anchor=\"middle\" x=\"43.5\" y=\"-450\" font-family=\"monospace\" font-size=\"10.00\">fc3.bias</text>\n<text text-anchor=\"middle\" x=\"43.5\" y=\"-439\" font-family=\"monospace\" font-size=\"10.00\"> (10)</text>\n</g>\n<!-- 140413432726656&#45;&gt;140413461446032 -->\n<g id=\"edge8\" class=\"edge\">\n<title>140413432726656&#45;&gt;140413461446032</title>\n<path fill=\"none\" stroke=\"black\" d=\"M45.05,-431.8C46.05,-422.7 47.35,-410.79 48.43,-400.9\"/>\n<polygon fill=\"black\" stroke=\"black\" points=\"51.92,-401.17 49.53,-390.84 44.97,-400.4 51.92,-401.17\"/>\n</g>\n<!-- 140413461445792 -->\n<g id=\"node11\" class=\"node\">\n<title>140413461445792</title>\n<polygon fill=\"lightgrey\" stroke=\"black\" points=\"297,-390.5 214,-390.5 214,-371.5 297,-371.5 297,-390.5\"/>\n<text text-anchor=\"middle\" x=\"255.5\" y=\"-378.5\" font-family=\"monospace\" font-size=\"10.00\">CatBackward</text>\n</g>\n<!-- 140413461445792&#45;&gt;140413461445888 -->\n<g id=\"edge9\" class=\"edge\">\n<title>140413461445792&#45;&gt;140413461445888</title>\n<path fill=\"none\" stroke=\"black\" d=\"M248.35,-371.3C240.09,-361.24 226.3,-344.47 216,-331.93\"/>\n<polygon fill=\"black\" stroke=\"black\" points=\"218.59,-329.57 209.53,-324.06 213.18,-334.01 218.59,-329.57\"/>\n</g>\n<!-- 140413461445936 -->\n<g id=\"node12\" class=\"node\">\n<title>140413461445936</title>\n<polygon fill=\"lightgrey\" stroke=\"black\" points=\"302,-456.5 213,-456.5 213,-437.5 302,-437.5 302,-456.5\"/>\n<text text-anchor=\"middle\" x=\"257.5\" y=\"-444.5\" font-family=\"monospace\" font-size=\"10.00\">MulBackward0</text>\n</g>\n<!-- 140413461445936&#45;&gt;140413461445792 -->\n<g id=\"edge10\" class=\"edge\">\n<title>140413461445936&#45;&gt;140413461445792</title>\n<path fill=\"none\" stroke=\"black\" d=\"M257.23,-437.37C256.94,-428.16 256.48,-413.29 256.1,-401.27\"/>\n<polygon fill=\"black\" stroke=\"black\" points=\"259.59,-400.79 255.78,-390.91 252.59,-401.01 259.59,-400.79\"/>\n</g>\n<!-- 140413461443296 -->\n<g id=\"node66\" class=\"node\">\n<title>140413461443296</title>\n<polygon fill=\"lightgrey\" stroke=\"black\" points=\"410,-390.5 315,-390.5 315,-371.5 410,-371.5 410,-390.5\"/>\n<text text-anchor=\"middle\" x=\"362.5\" y=\"-378.5\" font-family=\"monospace\" font-size=\"10.00\">StackBackward</text>\n</g>\n<!-- 140413461445936&#45;&gt;140413461443296 -->\n<g id=\"edge73\" class=\"edge\">\n<title>140413461445936&#45;&gt;140413461443296</title>\n<path fill=\"none\" stroke=\"black\" d=\"M271.66,-437.37C289.04,-426.78 318.74,-408.67 339.43,-396.06\"/>\n<polygon fill=\"black\" stroke=\"black\" points=\"341.51,-398.89 348.23,-390.7 337.87,-392.92 341.51,-398.89\"/>\n</g>\n<!-- 140413461446176 -->\n<g id=\"node13\" class=\"node\">\n<title>140413461446176</title>\n<polygon fill=\"lightgrey\" stroke=\"black\" points=\"301,-522.5 206,-522.5 206,-503.5 301,-503.5 301,-522.5\"/>\n<text text-anchor=\"middle\" x=\"253.5\" y=\"-510.5\" font-family=\"monospace\" font-size=\"10.00\">AddmmBackward</text>\n</g>\n<!-- 140413461446176&#45;&gt;140413461445936 -->\n<g id=\"edge11\" class=\"edge\">\n<title>140413461446176&#45;&gt;140413461445936</title>\n<path fill=\"none\" stroke=\"black\" d=\"M254.04,-503.37C254.62,-494.07 255.56,-478.98 256.32,-466.9\"/>\n<polygon fill=\"black\" stroke=\"black\" points=\"259.81,-467.1 256.94,-456.91 252.83,-466.67 259.81,-467.1\"/>\n</g>\n<!-- 140413461446128 -->\n<g id=\"node14\" class=\"node\">\n<title>140413461446128</title>\n<polygon fill=\"lightgrey\" stroke=\"black\" points=\"458,-583 357,-583 357,-564 458,-564 458,-583\"/>\n<text text-anchor=\"middle\" x=\"407.5\" y=\"-571\" font-family=\"monospace\" font-size=\"10.00\">AccumulateGrad</text>\n</g>\n<!-- 140413461446128&#45;&gt;140413461446176 -->\n<g id=\"edge12\" class=\"edge\">\n<title>140413461446128&#45;&gt;140413461446176</title>\n<path fill=\"none\" stroke=\"black\" d=\"M385.11,-563.99C358.88,-554.03 315.22,-537.45 285.44,-526.13\"/>\n<polygon fill=\"black\" stroke=\"black\" points=\"286.51,-522.8 275.92,-522.52 284.03,-529.34 286.51,-522.8\"/>\n</g>\n<!-- 140413458179840 -->\n<g id=\"node44\" class=\"node\">\n<title>140413458179840</title>\n<polygon fill=\"lightgrey\" stroke=\"black\" points=\"415,-522.5 320,-522.5 320,-503.5 415,-503.5 415,-522.5\"/>\n<text text-anchor=\"middle\" x=\"367.5\" y=\"-510.5\" font-family=\"monospace\" font-size=\"10.00\">AddmmBackward</text>\n</g>\n<!-- 140413461446128&#45;&gt;140413458179840 -->\n<g id=\"edge43\" class=\"edge\">\n<title>140413461446128&#45;&gt;140413458179840</title>\n<path fill=\"none\" stroke=\"black\" d=\"M401.6,-563.87C395.75,-555.31 386.63,-541.97 379.29,-531.24\"/>\n<polygon fill=\"black\" stroke=\"black\" points=\"381.96,-528.95 373.43,-522.67 376.18,-532.9 381.96,-528.95\"/>\n</g>\n<!-- 140413432729536 -->\n<g id=\"node15\" class=\"node\">\n<title>140413432729536</title>\n<polygon fill=\"lightblue\" stroke=\"black\" points=\"440,-649 375,-649 375,-619 440,-619 440,-649\"/>\n<text text-anchor=\"middle\" x=\"407.5\" y=\"-637\" font-family=\"monospace\" font-size=\"10.00\">fc2.bias</text>\n<text text-anchor=\"middle\" x=\"407.5\" y=\"-626\" font-family=\"monospace\" font-size=\"10.00\"> (10)</text>\n</g>\n<!-- 140413432729536&#45;&gt;140413461446128 -->\n<g id=\"edge13\" class=\"edge\">\n<title>140413432729536&#45;&gt;140413461446128</title>\n<path fill=\"none\" stroke=\"black\" d=\"M407.5,-618.84C407.5,-611.21 407.5,-601.7 407.5,-593.45\"/>\n<polygon fill=\"black\" stroke=\"black\" points=\"411,-593.27 407.5,-583.27 404,-593.27 411,-593.27\"/>\n</g>\n<!-- 140413461444784 -->\n<g id=\"node16\" class=\"node\">\n<title>140413461444784</title>\n<polygon fill=\"lightgrey\" stroke=\"black\" points=\"161,-583 66,-583 66,-564 161,-564 161,-583\"/>\n<text text-anchor=\"middle\" x=\"113.5\" y=\"-571\" font-family=\"monospace\" font-size=\"10.00\">ReluBackward0</text>\n</g>\n<!-- 140413461444784&#45;&gt;140413461446176 -->\n<g id=\"edge14\" class=\"edge\">\n<title>140413461444784&#45;&gt;140413461446176</title>\n<path fill=\"none\" stroke=\"black\" d=\"M133.86,-563.99C157.5,-554.12 196.7,-537.73 223.75,-526.43\"/>\n<polygon fill=\"black\" stroke=\"black\" points=\"225.24,-529.6 233.12,-522.52 222.54,-523.14 225.24,-529.6\"/>\n</g>\n<!-- 140413461446320 -->\n<g id=\"node17\" class=\"node\">\n<title>140413461446320</title>\n<polygon fill=\"lightgrey\" stroke=\"black\" points=\"159,-643.5 70,-643.5 70,-624.5 159,-624.5 159,-643.5\"/>\n<text text-anchor=\"middle\" x=\"114.5\" y=\"-631.5\" font-family=\"monospace\" font-size=\"10.00\">MulBackward0</text>\n</g>\n<!-- 140413461446320&#45;&gt;140413461444784 -->\n<g id=\"edge15\" class=\"edge\">\n<title>140413461446320&#45;&gt;140413461444784</title>\n<path fill=\"none\" stroke=\"black\" d=\"M114.35,-624.37C114.21,-616.25 114,-603.81 113.82,-593.39\"/>\n<polygon fill=\"black\" stroke=\"black\" points=\"117.32,-593.11 113.65,-583.17 110.32,-593.23 117.32,-593.11\"/>\n</g>\n<!-- 140413461446608 -->\n<g id=\"node18\" class=\"node\">\n<title>140413461446608</title>\n<polygon fill=\"lightgrey\" stroke=\"black\" points=\"163,-709.5 68,-709.5 68,-690.5 163,-690.5 163,-709.5\"/>\n<text text-anchor=\"middle\" x=\"115.5\" y=\"-697.5\" font-family=\"monospace\" font-size=\"10.00\">AddmmBackward</text>\n</g>\n<!-- 140413461446608&#45;&gt;140413461446320 -->\n<g id=\"edge16\" class=\"edge\">\n<title>140413461446608&#45;&gt;140413461446320</title>\n<path fill=\"none\" stroke=\"black\" d=\"M115.37,-690.37C115.22,-681.16 114.99,-666.29 114.8,-654.27\"/>\n<polygon fill=\"black\" stroke=\"black\" points=\"118.3,-653.85 114.64,-643.91 111.3,-653.96 118.3,-653.85\"/>\n</g>\n<!-- 140413461446560 -->\n<g id=\"node19\" class=\"node\">\n<title>140413461446560</title>\n<polygon fill=\"lightgrey\" stroke=\"black\" points=\"420,-770 319,-770 319,-751 420,-751 420,-770\"/>\n<text text-anchor=\"middle\" x=\"369.5\" y=\"-758\" font-family=\"monospace\" font-size=\"10.00\">AccumulateGrad</text>\n</g>\n<!-- 140413461446560&#45;&gt;140413461446608 -->\n<g id=\"edge17\" class=\"edge\">\n<title>140413461446560&#45;&gt;140413461446608</title>\n<path fill=\"none\" stroke=\"black\" d=\"M332.57,-750.99C287.61,-740.64 211.62,-723.14 162.53,-711.83\"/>\n<polygon fill=\"black\" stroke=\"black\" points=\"163.01,-708.35 152.48,-709.52 161.44,-715.17 163.01,-708.35\"/>\n</g>\n<!-- 140413461445072 -->\n<g id=\"node47\" class=\"node\">\n<title>140413461445072</title>\n<polygon fill=\"lightgrey\" stroke=\"black\" points=\"445,-709.5 350,-709.5 350,-690.5 445,-690.5 445,-709.5\"/>\n<text text-anchor=\"middle\" x=\"397.5\" y=\"-697.5\" font-family=\"monospace\" font-size=\"10.00\">AddmmBackward</text>\n</g>\n<!-- 140413461446560&#45;&gt;140413461445072 -->\n<g id=\"edge47\" class=\"edge\">\n<title>140413461446560&#45;&gt;140413461445072</title>\n<path fill=\"none\" stroke=\"black\" d=\"M373.63,-750.87C377.64,-742.49 383.85,-729.51 388.94,-718.89\"/>\n<polygon fill=\"black\" stroke=\"black\" points=\"392.19,-720.2 393.35,-709.67 385.88,-717.18 392.19,-720.2\"/>\n</g>\n<!-- 140413432729344 -->\n<g id=\"node20\" class=\"node\">\n<title>140413432729344</title>\n<polygon fill=\"lightblue\" stroke=\"black\" points=\"402,-836 337,-836 337,-806 402,-806 402,-836\"/>\n<text text-anchor=\"middle\" x=\"369.5\" y=\"-824\" font-family=\"monospace\" font-size=\"10.00\">fc1.bias</text>\n<text text-anchor=\"middle\" x=\"369.5\" y=\"-813\" font-family=\"monospace\" font-size=\"10.00\"> (64)</text>\n</g>\n<!-- 140413432729344&#45;&gt;140413461446560 -->\n<g id=\"edge18\" class=\"edge\">\n<title>140413432729344&#45;&gt;140413461446560</title>\n<path fill=\"none\" stroke=\"black\" d=\"M369.5,-805.84C369.5,-798.21 369.5,-788.7 369.5,-780.45\"/>\n<polygon fill=\"black\" stroke=\"black\" points=\"373,-780.27 369.5,-770.27 366,-780.27 373,-780.27\"/>\n</g>\n<!-- 140413461446512 -->\n<g id=\"node21\" class=\"node\">\n<title>140413461446512</title>\n<polygon fill=\"lightgrey\" stroke=\"black\" points=\"123,-770 34,-770 34,-751 123,-751 123,-770\"/>\n<text text-anchor=\"middle\" x=\"78.5\" y=\"-758\" font-family=\"monospace\" font-size=\"10.00\">ViewBackward</text>\n</g>\n<!-- 140413461446512&#45;&gt;140413461446608 -->\n<g id=\"edge19\" class=\"edge\">\n<title>140413461446512&#45;&gt;140413461446608</title>\n<path fill=\"none\" stroke=\"black\" d=\"M83.96,-750.87C89.37,-742.31 97.81,-728.97 104.6,-718.24\"/>\n<polygon fill=\"black\" stroke=\"black\" points=\"107.63,-719.99 110.02,-709.67 101.71,-716.25 107.63,-719.99\"/>\n</g>\n<!-- 140413461444496 -->\n<g id=\"node22\" class=\"node\">\n<title>140413461444496</title>\n<polygon fill=\"lightgrey\" stroke=\"black\" points=\"131,-830.5 36,-830.5 36,-811.5 131,-811.5 131,-830.5\"/>\n<text text-anchor=\"middle\" x=\"83.5\" y=\"-818.5\" font-family=\"monospace\" font-size=\"10.00\">ReluBackward0</text>\n</g>\n<!-- 140413461444496&#45;&gt;140413461446512 -->\n<g id=\"edge20\" class=\"edge\">\n<title>140413461444496&#45;&gt;140413461446512</title>\n<path fill=\"none\" stroke=\"black\" d=\"M82.76,-811.37C82.07,-803.25 81,-790.81 80.11,-780.39\"/>\n<polygon fill=\"black\" stroke=\"black\" points=\"83.58,-779.83 79.24,-770.17 76.61,-780.43 83.58,-779.83\"/>\n</g>\n<!-- 140413461443872 -->\n<g id=\"node23\" class=\"node\">\n<title>140413461443872</title>\n<polygon fill=\"lightgrey\" stroke=\"black\" points=\"185,-896.5 0,-896.5 0,-877.5 185,-877.5 185,-896.5\"/>\n<text text-anchor=\"middle\" x=\"92.5\" y=\"-884.5\" font-family=\"monospace\" font-size=\"10.00\">MaxPool2DWithIndicesBackward</text>\n</g>\n<!-- 140413461443872&#45;&gt;140413461444496 -->\n<g id=\"edge21\" class=\"edge\">\n<title>140413461443872&#45;&gt;140413461444496</title>\n<path fill=\"none\" stroke=\"black\" d=\"M91.29,-877.37C89.98,-868.07 87.86,-852.98 86.16,-840.9\"/>\n<polygon fill=\"black\" stroke=\"black\" points=\"89.61,-840.32 84.75,-830.91 82.68,-841.3 89.61,-840.32\"/>\n</g>\n<!-- 140413461444016 -->\n<g id=\"node24\" class=\"node\">\n<title>140413461444016</title>\n<polygon fill=\"lightgrey\" stroke=\"black\" points=\"214,-957 125,-957 125,-938 214,-938 214,-957\"/>\n<text text-anchor=\"middle\" x=\"169.5\" y=\"-945\" font-family=\"monospace\" font-size=\"10.00\">MulBackward0</text>\n</g>\n<!-- 140413461444016&#45;&gt;140413461443872 -->\n<g id=\"edge22\" class=\"edge\">\n<title>140413461444016&#45;&gt;140413461443872</title>\n<path fill=\"none\" stroke=\"black\" d=\"M158.14,-937.87C146.08,-928.71 126.8,-914.06 112.25,-903.01\"/>\n<polygon fill=\"black\" stroke=\"black\" points=\"113.99,-899.93 103.91,-896.67 109.75,-905.5 113.99,-899.93\"/>\n</g>\n<!-- 140413462562464 -->\n<g id=\"node25\" class=\"node\">\n<title>140413462562464</title>\n<polygon fill=\"lightgrey\" stroke=\"black\" points=\"271,-1012 146,-1012 146,-993 271,-993 271,-1012\"/>\n<text text-anchor=\"middle\" x=\"208.5\" y=\"-1000\" font-family=\"monospace\" font-size=\"10.00\">ThnnConv2DBackward</text>\n</g>\n<!-- 140413462562464&#45;&gt;140413461444016 -->\n<g id=\"edge23\" class=\"edge\">\n<title>140413462562464&#45;&gt;140413461444016</title>\n<path fill=\"none\" stroke=\"black\" d=\"M202.06,-992.75C196.61,-985.34 188.64,-974.5 181.94,-965.41\"/>\n<polygon fill=\"black\" stroke=\"black\" points=\"184.57,-963.07 175.82,-957.09 178.93,-967.22 184.57,-963.07\"/>\n</g>\n<!-- 140413462512688 -->\n<g id=\"node26\" class=\"node\">\n<title>140413462512688</title>\n<polygon fill=\"lightgrey\" stroke=\"black\" points=\"162,-1067 67,-1067 67,-1048 162,-1048 162,-1067\"/>\n<text text-anchor=\"middle\" x=\"114.5\" y=\"-1055\" font-family=\"monospace\" font-size=\"10.00\">ReluBackward0</text>\n</g>\n<!-- 140413462512688&#45;&gt;140413462562464 -->\n<g id=\"edge24\" class=\"edge\">\n<title>140413462512688&#45;&gt;140413462562464</title>\n<path fill=\"none\" stroke=\"black\" d=\"M129.6,-1047.98C144.32,-1039.69 166.92,-1026.94 184.17,-1017.22\"/>\n<polygon fill=\"black\" stroke=\"black\" points=\"186.13,-1020.13 193.12,-1012.17 182.69,-1014.03 186.13,-1020.13\"/>\n</g>\n<!-- 140413461882288 -->\n<g id=\"node27\" class=\"node\">\n<title>140413461882288</title>\n<polygon fill=\"lightgrey\" stroke=\"black\" points=\"159,-1127.5 70,-1127.5 70,-1108.5 159,-1108.5 159,-1127.5\"/>\n<text text-anchor=\"middle\" x=\"114.5\" y=\"-1115.5\" font-family=\"monospace\" font-size=\"10.00\">MulBackward0</text>\n</g>\n<!-- 140413461882288&#45;&gt;140413462512688 -->\n<g id=\"edge25\" class=\"edge\">\n<title>140413461882288&#45;&gt;140413462512688</title>\n<path fill=\"none\" stroke=\"black\" d=\"M114.5,-1108.37C114.5,-1100.25 114.5,-1087.81 114.5,-1077.39\"/>\n<polygon fill=\"black\" stroke=\"black\" points=\"118,-1077.17 114.5,-1067.17 111,-1077.17 118,-1077.17\"/>\n</g>\n<!-- 140413461882048 -->\n<g id=\"node28\" class=\"node\">\n<title>140413461882048</title>\n<polygon fill=\"lightgrey\" stroke=\"black\" points=\"273,-1188 148,-1188 148,-1169 273,-1169 273,-1188\"/>\n<text text-anchor=\"middle\" x=\"210.5\" y=\"-1176\" font-family=\"monospace\" font-size=\"10.00\">ThnnConv2DBackward</text>\n</g>\n<!-- 140413461882048&#45;&gt;140413461882288 -->\n<g id=\"edge26\" class=\"edge\">\n<title>140413461882048&#45;&gt;140413461882288</title>\n<path fill=\"none\" stroke=\"black\" d=\"M196.33,-1168.87C180.81,-1159.41 155.67,-1144.09 137.35,-1132.92\"/>\n<polygon fill=\"black\" stroke=\"black\" points=\"139.08,-1129.88 128.72,-1127.67 135.44,-1135.86 139.08,-1129.88\"/>\n</g>\n<!-- 140413461882144 -->\n<g id=\"node29\" class=\"node\">\n<title>140413461882144</title>\n<polygon fill=\"lightgrey\" stroke=\"black\" points=\"273,-1243 172,-1243 172,-1224 273,-1224 273,-1243\"/>\n<text text-anchor=\"middle\" x=\"222.5\" y=\"-1231\" font-family=\"monospace\" font-size=\"10.00\">AccumulateGrad</text>\n</g>\n<!-- 140413461882144&#45;&gt;140413461882048 -->\n<g id=\"edge27\" class=\"edge\">\n<title>140413461882144&#45;&gt;140413461882048</title>\n<path fill=\"none\" stroke=\"black\" d=\"M220.52,-1223.75C218.93,-1216.72 216.64,-1206.62 214.65,-1197.84\"/>\n<polygon fill=\"black\" stroke=\"black\" points=\"218.07,-1197.07 212.44,-1188.09 211.24,-1198.62 218.07,-1197.07\"/>\n</g>\n<!-- 140413461849136 -->\n<g id=\"node55\" class=\"node\">\n<title>140413461849136</title>\n<polygon fill=\"lightgrey\" stroke=\"black\" points=\"416,-1188 291,-1188 291,-1169 416,-1169 416,-1188\"/>\n<text text-anchor=\"middle\" x=\"353.5\" y=\"-1176\" font-family=\"monospace\" font-size=\"10.00\">ThnnConv2DBackward</text>\n</g>\n<!-- 140413461882144&#45;&gt;140413461849136 -->\n<g id=\"edge56\" class=\"edge\">\n<title>140413461882144&#45;&gt;140413461849136</title>\n<path fill=\"none\" stroke=\"black\" d=\"M243.55,-1223.98C264.91,-1215.34 298.2,-1201.87 322.56,-1192.02\"/>\n<polygon fill=\"black\" stroke=\"black\" points=\"324.11,-1195.17 332.07,-1188.17 321.49,-1188.68 324.11,-1195.17\"/>\n</g>\n<!-- 140413432728704 -->\n<g id=\"node30\" class=\"node\">\n<title>140413432728704</title>\n<polygon fill=\"lightblue\" stroke=\"black\" points=\"273,-1309 172,-1309 172,-1279 273,-1279 273,-1309\"/>\n<text text-anchor=\"middle\" x=\"222.5\" y=\"-1297\" font-family=\"monospace\" font-size=\"10.00\">conv1.weight</text>\n<text text-anchor=\"middle\" x=\"222.5\" y=\"-1286\" font-family=\"monospace\" font-size=\"10.00\"> (16, 1, 3, 3)</text>\n</g>\n<!-- 140413432728704&#45;&gt;140413461882144 -->\n<g id=\"edge28\" class=\"edge\">\n<title>140413432728704&#45;&gt;140413461882144</title>\n<path fill=\"none\" stroke=\"black\" d=\"M222.5,-1278.84C222.5,-1271.21 222.5,-1261.7 222.5,-1253.45\"/>\n<polygon fill=\"black\" stroke=\"black\" points=\"226,-1253.27 222.5,-1243.27 219,-1253.27 226,-1253.27\"/>\n</g>\n<!-- 140413461882384 -->\n<g id=\"node31\" class=\"node\">\n<title>140413461882384</title>\n<polygon fill=\"lightgrey\" stroke=\"black\" points=\"398,-1243 297,-1243 297,-1224 398,-1224 398,-1243\"/>\n<text text-anchor=\"middle\" x=\"347.5\" y=\"-1231\" font-family=\"monospace\" font-size=\"10.00\">AccumulateGrad</text>\n</g>\n<!-- 140413461882384&#45;&gt;140413461882048 -->\n<g id=\"edge29\" class=\"edge\">\n<title>140413461882384&#45;&gt;140413461882048</title>\n<path fill=\"none\" stroke=\"black\" d=\"M325.49,-1223.98C303.05,-1215.3 268.02,-1201.75 242.51,-1191.88\"/>\n<polygon fill=\"black\" stroke=\"black\" points=\"243.5,-1188.51 232.91,-1188.17 240.98,-1195.04 243.5,-1188.51\"/>\n</g>\n<!-- 140413461882384&#45;&gt;140413461849136 -->\n<g id=\"edge57\" class=\"edge\">\n<title>140413461882384&#45;&gt;140413461849136</title>\n<path fill=\"none\" stroke=\"black\" d=\"M348.49,-1223.75C349.28,-1216.8 350.4,-1206.85 351.39,-1198.13\"/>\n<polygon fill=\"black\" stroke=\"black\" points=\"354.88,-1198.42 352.53,-1188.09 347.92,-1197.63 354.88,-1198.42\"/>\n</g>\n<!-- 140413432728832 -->\n<g id=\"node32\" class=\"node\">\n<title>140413432728832</title>\n<polygon fill=\"lightblue\" stroke=\"black\" points=\"386,-1309 309,-1309 309,-1279 386,-1279 386,-1309\"/>\n<text text-anchor=\"middle\" x=\"347.5\" y=\"-1297\" font-family=\"monospace\" font-size=\"10.00\">conv1.bias</text>\n<text text-anchor=\"middle\" x=\"347.5\" y=\"-1286\" font-family=\"monospace\" font-size=\"10.00\"> (16)</text>\n</g>\n<!-- 140413432728832&#45;&gt;140413461882384 -->\n<g id=\"edge30\" class=\"edge\">\n<title>140413432728832&#45;&gt;140413461882384</title>\n<path fill=\"none\" stroke=\"black\" d=\"M347.5,-1278.84C347.5,-1271.21 347.5,-1261.7 347.5,-1253.45\"/>\n<polygon fill=\"black\" stroke=\"black\" points=\"351,-1253.27 347.5,-1243.27 344,-1253.27 351,-1253.27\"/>\n</g>\n<!-- 140413461444208 -->\n<g id=\"node33\" class=\"node\">\n<title>140413461444208</title>\n<polygon fill=\"lightgrey\" stroke=\"black\" points=\"281,-1067 180,-1067 180,-1048 281,-1048 281,-1067\"/>\n<text text-anchor=\"middle\" x=\"230.5\" y=\"-1055\" font-family=\"monospace\" font-size=\"10.00\">AccumulateGrad</text>\n</g>\n<!-- 140413461444208&#45;&gt;140413462562464 -->\n<g id=\"edge31\" class=\"edge\">\n<title>140413461444208&#45;&gt;140413462562464</title>\n<path fill=\"none\" stroke=\"black\" d=\"M226.87,-1047.75C223.92,-1040.65 219.67,-1030.4 215.99,-1021.56\"/>\n<polygon fill=\"black\" stroke=\"black\" points=\"219.13,-1019.98 212.07,-1012.09 212.67,-1022.67 219.13,-1019.98\"/>\n</g>\n<!-- 140413461884256 -->\n<g id=\"node52\" class=\"node\">\n<title>140413461884256</title>\n<polygon fill=\"lightgrey\" stroke=\"black\" points=\"433,-1012 308,-1012 308,-993 433,-993 433,-1012\"/>\n<text text-anchor=\"middle\" x=\"370.5\" y=\"-1000\" font-family=\"monospace\" font-size=\"10.00\">ThnnConv2DBackward</text>\n</g>\n<!-- 140413461444208&#45;&gt;140413461884256 -->\n<g id=\"edge58\" class=\"edge\">\n<title>140413461444208&#45;&gt;140413461884256</title>\n<path fill=\"none\" stroke=\"black\" d=\"M252.99,-1047.98C276.02,-1039.27 312.04,-1025.63 338.13,-1015.75\"/>\n<polygon fill=\"black\" stroke=\"black\" points=\"339.48,-1018.98 347.6,-1012.17 337.01,-1012.44 339.48,-1018.98\"/>\n</g>\n<!-- 140413432728896 -->\n<g id=\"node34\" class=\"node\">\n<title>140413432728896</title>\n<polygon fill=\"lightblue\" stroke=\"black\" points=\"284,-1133 177,-1133 177,-1103 284,-1103 284,-1133\"/>\n<text text-anchor=\"middle\" x=\"230.5\" y=\"-1121\" font-family=\"monospace\" font-size=\"10.00\">conv2.weight</text>\n<text text-anchor=\"middle\" x=\"230.5\" y=\"-1110\" font-family=\"monospace\" font-size=\"10.00\"> (32, 16, 3, 3)</text>\n</g>\n<!-- 140413432728896&#45;&gt;140413461444208 -->\n<g id=\"edge32\" class=\"edge\">\n<title>140413432728896&#45;&gt;140413461444208</title>\n<path fill=\"none\" stroke=\"black\" d=\"M230.5,-1102.84C230.5,-1095.21 230.5,-1085.7 230.5,-1077.45\"/>\n<polygon fill=\"black\" stroke=\"black\" points=\"234,-1077.27 230.5,-1067.27 227,-1077.27 234,-1077.27\"/>\n</g>\n<!-- 140413458179888 -->\n<g id=\"node35\" class=\"node\">\n<title>140413458179888</title>\n<polygon fill=\"lightgrey\" stroke=\"black\" points=\"400,-1067 299,-1067 299,-1048 400,-1048 400,-1067\"/>\n<text text-anchor=\"middle\" x=\"349.5\" y=\"-1055\" font-family=\"monospace\" font-size=\"10.00\">AccumulateGrad</text>\n</g>\n<!-- 140413458179888&#45;&gt;140413462562464 -->\n<g id=\"edge33\" class=\"edge\">\n<title>140413458179888&#45;&gt;140413462562464</title>\n<path fill=\"none\" stroke=\"black\" d=\"M326.85,-1047.98C303.65,-1039.27 267.38,-1025.63 241.1,-1015.75\"/>\n<polygon fill=\"black\" stroke=\"black\" points=\"242.16,-1012.41 231.57,-1012.17 239.7,-1018.97 242.16,-1012.41\"/>\n</g>\n<!-- 140413458179888&#45;&gt;140413461884256 -->\n<g id=\"edge59\" class=\"edge\">\n<title>140413458179888&#45;&gt;140413461884256</title>\n<path fill=\"none\" stroke=\"black\" d=\"M352.97,-1047.75C355.78,-1040.65 359.84,-1030.4 363.35,-1021.56\"/>\n<polygon fill=\"black\" stroke=\"black\" points=\"366.67,-1022.68 367.1,-1012.09 360.16,-1020.1 366.67,-1022.68\"/>\n</g>\n<!-- 140413432729088 -->\n<g id=\"node36\" class=\"node\">\n<title>140413432729088</title>\n<polygon fill=\"lightblue\" stroke=\"black\" points=\"388,-1133 311,-1133 311,-1103 388,-1103 388,-1133\"/>\n<text text-anchor=\"middle\" x=\"349.5\" y=\"-1121\" font-family=\"monospace\" font-size=\"10.00\">conv2.bias</text>\n<text text-anchor=\"middle\" x=\"349.5\" y=\"-1110\" font-family=\"monospace\" font-size=\"10.00\"> (32)</text>\n</g>\n<!-- 140413432729088&#45;&gt;140413458179888 -->\n<g id=\"edge34\" class=\"edge\">\n<title>140413432729088&#45;&gt;140413458179888</title>\n<path fill=\"none\" stroke=\"black\" d=\"M349.5,-1102.84C349.5,-1095.21 349.5,-1085.7 349.5,-1077.45\"/>\n<polygon fill=\"black\" stroke=\"black\" points=\"353,-1077.27 349.5,-1067.27 346,-1077.27 353,-1077.27\"/>\n</g>\n<!-- 140413461446464 -->\n<g id=\"node37\" class=\"node\">\n<title>140413461446464</title>\n<polygon fill=\"lightgrey\" stroke=\"black\" points=\"212,-770 141,-770 141,-751 212,-751 212,-770\"/>\n<text text-anchor=\"middle\" x=\"176.5\" y=\"-758\" font-family=\"monospace\" font-size=\"10.00\">TBackward</text>\n</g>\n<!-- 140413461446464&#45;&gt;140413461446608 -->\n<g id=\"edge35\" class=\"edge\">\n<title>140413461446464&#45;&gt;140413461446608</title>\n<path fill=\"none\" stroke=\"black\" d=\"M167.5,-750.87C158.13,-741.88 143.25,-727.61 131.8,-716.64\"/>\n<polygon fill=\"black\" stroke=\"black\" points=\"134.18,-714.06 124.54,-709.67 129.33,-719.12 134.18,-714.06\"/>\n</g>\n<!-- 140413461443968 -->\n<g id=\"node38\" class=\"node\">\n<title>140413461443968</title>\n<polygon fill=\"lightgrey\" stroke=\"black\" points=\"297,-830.5 196,-830.5 196,-811.5 297,-811.5 297,-830.5\"/>\n<text text-anchor=\"middle\" x=\"246.5\" y=\"-818.5\" font-family=\"monospace\" font-size=\"10.00\">AccumulateGrad</text>\n</g>\n<!-- 140413461443968&#45;&gt;140413461446464 -->\n<g id=\"edge36\" class=\"edge\">\n<title>140413461443968&#45;&gt;140413461446464</title>\n<path fill=\"none\" stroke=\"black\" d=\"M236.17,-811.37C225.31,-802.3 208.01,-787.84 194.83,-776.82\"/>\n<polygon fill=\"black\" stroke=\"black\" points=\"196.79,-773.89 186.87,-770.17 192.3,-779.27 196.79,-773.89\"/>\n</g>\n<!-- 140413461882240 -->\n<g id=\"node56\" class=\"node\">\n<title>140413461882240</title>\n<polygon fill=\"lightgrey\" stroke=\"black\" points=\"301,-770 230,-770 230,-751 301,-751 301,-770\"/>\n<text text-anchor=\"middle\" x=\"265.5\" y=\"-758\" font-family=\"monospace\" font-size=\"10.00\">TBackward</text>\n</g>\n<!-- 140413461443968&#45;&gt;140413461882240 -->\n<g id=\"edge61\" class=\"edge\">\n<title>140413461443968&#45;&gt;140413461882240</title>\n<path fill=\"none\" stroke=\"black\" d=\"M249.3,-811.37C252,-803.07 256.15,-790.28 259.58,-779.72\"/>\n<polygon fill=\"black\" stroke=\"black\" points=\"262.92,-780.76 262.68,-770.17 256.27,-778.6 262.92,-780.76\"/>\n</g>\n<!-- 140413432729024 -->\n<g id=\"node39\" class=\"node\">\n<title>140413432729024</title>\n<polygon fill=\"lightblue\" stroke=\"black\" points=\"285,-902 208,-902 208,-872 285,-872 285,-902\"/>\n<text text-anchor=\"middle\" x=\"246.5\" y=\"-890\" font-family=\"monospace\" font-size=\"10.00\">fc1.weight</text>\n<text text-anchor=\"middle\" x=\"246.5\" y=\"-879\" font-family=\"monospace\" font-size=\"10.00\"> (64, 800)</text>\n</g>\n<!-- 140413432729024&#45;&gt;140413461443968 -->\n<g id=\"edge37\" class=\"edge\">\n<title>140413432729024&#45;&gt;140413461443968</title>\n<path fill=\"none\" stroke=\"black\" d=\"M246.5,-871.8C246.5,-862.7 246.5,-850.79 246.5,-840.9\"/>\n<polygon fill=\"black\" stroke=\"black\" points=\"250,-840.84 246.5,-830.84 243,-840.84 250,-840.84\"/>\n</g>\n<!-- 140413461445984 -->\n<g id=\"node40\" class=\"node\">\n<title>140413461445984</title>\n<polygon fill=\"lightgrey\" stroke=\"black\" points=\"250,-583 179,-583 179,-564 250,-564 250,-583\"/>\n<text text-anchor=\"middle\" x=\"214.5\" y=\"-571\" font-family=\"monospace\" font-size=\"10.00\">TBackward</text>\n</g>\n<!-- 140413461445984&#45;&gt;140413461446176 -->\n<g id=\"edge38\" class=\"edge\">\n<title>140413461445984&#45;&gt;140413461446176</title>\n<path fill=\"none\" stroke=\"black\" d=\"M220.25,-563.87C225.96,-555.31 234.85,-541.97 242.01,-531.24\"/>\n<polygon fill=\"black\" stroke=\"black\" points=\"245.09,-532.93 247.72,-522.67 239.26,-529.05 245.09,-532.93\"/>\n</g>\n<!-- 140413462563616 -->\n<g id=\"node41\" class=\"node\">\n<title>140413462563616</title>\n<polygon fill=\"lightgrey\" stroke=\"black\" points=\"325,-643.5 224,-643.5 224,-624.5 325,-624.5 325,-643.5\"/>\n<text text-anchor=\"middle\" x=\"274.5\" y=\"-631.5\" font-family=\"monospace\" font-size=\"10.00\">AccumulateGrad</text>\n</g>\n<!-- 140413462563616&#45;&gt;140413461445984 -->\n<g id=\"edge39\" class=\"edge\">\n<title>140413462563616&#45;&gt;140413461445984</title>\n<path fill=\"none\" stroke=\"black\" d=\"M265.65,-624.37C256.52,-615.47 242.08,-601.39 230.86,-590.45\"/>\n<polygon fill=\"black\" stroke=\"black\" points=\"232.99,-587.64 223.39,-583.17 228.11,-592.65 232.99,-587.64\"/>\n</g>\n<!-- 140413461444160 -->\n<g id=\"node57\" class=\"node\">\n<title>140413461444160</title>\n<polygon fill=\"lightgrey\" stroke=\"black\" points=\"339,-583 268,-583 268,-564 339,-564 339,-583\"/>\n<text text-anchor=\"middle\" x=\"303.5\" y=\"-571\" font-family=\"monospace\" font-size=\"10.00\">TBackward</text>\n</g>\n<!-- 140413462563616&#45;&gt;140413461444160 -->\n<g id=\"edge63\" class=\"edge\">\n<title>140413462563616&#45;&gt;140413461444160</title>\n<path fill=\"none\" stroke=\"black\" d=\"M278.78,-624.37C282.93,-615.99 289.37,-603.01 294.63,-592.39\"/>\n<polygon fill=\"black\" stroke=\"black\" points=\"297.9,-593.68 299.2,-583.17 291.63,-590.57 297.9,-593.68\"/>\n</g>\n<!-- 140413432729408 -->\n<g id=\"node42\" class=\"node\">\n<title>140413432729408</title>\n<polygon fill=\"lightblue\" stroke=\"black\" points=\"313,-715 236,-715 236,-685 313,-685 313,-715\"/>\n<text text-anchor=\"middle\" x=\"274.5\" y=\"-703\" font-family=\"monospace\" font-size=\"10.00\">fc2.weight</text>\n<text text-anchor=\"middle\" x=\"274.5\" y=\"-692\" font-family=\"monospace\" font-size=\"10.00\"> (10, 64)</text>\n</g>\n<!-- 140413432729408&#45;&gt;140413462563616 -->\n<g id=\"edge40\" class=\"edge\">\n<title>140413432729408&#45;&gt;140413462563616</title>\n<path fill=\"none\" stroke=\"black\" d=\"M274.5,-684.8C274.5,-675.7 274.5,-663.79 274.5,-653.9\"/>\n<polygon fill=\"black\" stroke=\"black\" points=\"278,-653.84 274.5,-643.84 271,-653.84 278,-653.84\"/>\n</g>\n<!-- 140413461446224 -->\n<g id=\"node43\" class=\"node\">\n<title>140413461446224</title>\n<polygon fill=\"lightgrey\" stroke=\"black\" points=\"409,-456.5 320,-456.5 320,-437.5 409,-437.5 409,-456.5\"/>\n<text text-anchor=\"middle\" x=\"364.5\" y=\"-444.5\" font-family=\"monospace\" font-size=\"10.00\">MulBackward0</text>\n</g>\n<!-- 140413461446224&#45;&gt;140413461445792 -->\n<g id=\"edge41\" class=\"edge\">\n<title>140413461446224&#45;&gt;140413461445792</title>\n<path fill=\"none\" stroke=\"black\" d=\"M349.8,-437.37C331.68,-426.73 300.65,-408.51 279.16,-395.89\"/>\n<polygon fill=\"black\" stroke=\"black\" points=\"280.71,-392.74 270.32,-390.7 277.17,-398.78 280.71,-392.74\"/>\n</g>\n<!-- 140413461446224&#45;&gt;140413461443296 -->\n<g id=\"edge74\" class=\"edge\">\n<title>140413461446224&#45;&gt;140413461443296</title>\n<path fill=\"none\" stroke=\"black\" d=\"M364.23,-437.37C363.94,-428.16 363.48,-413.29 363.1,-401.27\"/>\n<polygon fill=\"black\" stroke=\"black\" points=\"366.59,-400.79 362.78,-390.91 359.59,-401.01 366.59,-400.79\"/>\n</g>\n<!-- 140413458179840&#45;&gt;140413461446224 -->\n<g id=\"edge42\" class=\"edge\">\n<title>140413458179840&#45;&gt;140413461446224</title>\n<path fill=\"none\" stroke=\"black\" d=\"M367.1,-503.37C366.66,-494.07 365.95,-478.98 365.39,-466.9\"/>\n<polygon fill=\"black\" stroke=\"black\" points=\"368.88,-466.73 364.92,-456.91 361.89,-467.06 368.88,-466.73\"/>\n</g>\n<!-- 140413461446368 -->\n<g id=\"node45\" class=\"node\">\n<title>140413461446368</title>\n<polygon fill=\"lightgrey\" stroke=\"black\" points=\"571,-583 476,-583 476,-564 571,-564 571,-583\"/>\n<text text-anchor=\"middle\" x=\"523.5\" y=\"-571\" font-family=\"monospace\" font-size=\"10.00\">ReluBackward0</text>\n</g>\n<!-- 140413461446368&#45;&gt;140413458179840 -->\n<g id=\"edge44\" class=\"edge\">\n<title>140413461446368&#45;&gt;140413458179840</title>\n<path fill=\"none\" stroke=\"black\" d=\"M500.82,-563.99C474.24,-554.03 430.02,-537.45 399.86,-526.13\"/>\n<polygon fill=\"black\" stroke=\"black\" points=\"400.8,-522.75 390.21,-522.52 398.35,-529.31 400.8,-522.75\"/>\n</g>\n<!-- 140413461443920 -->\n<g id=\"node46\" class=\"node\">\n<title>140413461443920</title>\n<polygon fill=\"lightgrey\" stroke=\"black\" points=\"557,-643.5 468,-643.5 468,-624.5 557,-624.5 557,-643.5\"/>\n<text text-anchor=\"middle\" x=\"512.5\" y=\"-631.5\" font-family=\"monospace\" font-size=\"10.00\">MulBackward0</text>\n</g>\n<!-- 140413461443920&#45;&gt;140413461446368 -->\n<g id=\"edge45\" class=\"edge\">\n<title>140413461443920&#45;&gt;140413461446368</title>\n<path fill=\"none\" stroke=\"black\" d=\"M514.12,-624.37C515.67,-616.16 518.04,-603.54 520.01,-593.05\"/>\n<polygon fill=\"black\" stroke=\"black\" points=\"523.46,-593.64 521.87,-583.17 516.58,-592.35 523.46,-593.64\"/>\n</g>\n<!-- 140413461445072&#45;&gt;140413461443920 -->\n<g id=\"edge46\" class=\"edge\">\n<title>140413461445072&#45;&gt;140413461443920</title>\n<path fill=\"none\" stroke=\"black\" d=\"M413.01,-690.37C432.21,-679.68 465.16,-661.35 487.85,-648.72\"/>\n<polygon fill=\"black\" stroke=\"black\" points=\"489.83,-651.62 496.87,-643.7 486.43,-645.5 489.83,-651.62\"/>\n</g>\n<!-- 140413461882096 -->\n<g id=\"node48\" class=\"node\">\n<title>140413461882096</title>\n<polygon fill=\"lightgrey\" stroke=\"black\" points=\"527,-770 438,-770 438,-751 527,-751 527,-770\"/>\n<text text-anchor=\"middle\" x=\"482.5\" y=\"-758\" font-family=\"monospace\" font-size=\"10.00\">ViewBackward</text>\n</g>\n<!-- 140413461882096&#45;&gt;140413461445072 -->\n<g id=\"edge48\" class=\"edge\">\n<title>140413461882096&#45;&gt;140413461445072</title>\n<path fill=\"none\" stroke=\"black\" d=\"M469.96,-750.87C456.4,-741.54 434.56,-726.51 418.4,-715.38\"/>\n<polygon fill=\"black\" stroke=\"black\" points=\"420.32,-712.45 410.09,-709.67 416.35,-718.22 420.32,-712.45\"/>\n</g>\n<!-- 140413461883296 -->\n<g id=\"node49\" class=\"node\">\n<title>140413461883296</title>\n<polygon fill=\"lightgrey\" stroke=\"black\" points=\"522,-830.5 427,-830.5 427,-811.5 522,-811.5 522,-830.5\"/>\n<text text-anchor=\"middle\" x=\"474.5\" y=\"-818.5\" font-family=\"monospace\" font-size=\"10.00\">ReluBackward0</text>\n</g>\n<!-- 140413461883296&#45;&gt;140413461882096 -->\n<g id=\"edge49\" class=\"edge\">\n<title>140413461883296&#45;&gt;140413461882096</title>\n<path fill=\"none\" stroke=\"black\" d=\"M475.68,-811.37C476.79,-803.25 478.49,-790.81 479.92,-780.39\"/>\n<polygon fill=\"black\" stroke=\"black\" points=\"483.43,-780.55 481.31,-770.17 476.49,-779.6 483.43,-780.55\"/>\n</g>\n<!-- 140413461882528 -->\n<g id=\"node50\" class=\"node\">\n<title>140413461882528</title>\n<polygon fill=\"lightgrey\" stroke=\"black\" points=\"524,-896.5 339,-896.5 339,-877.5 524,-877.5 524,-896.5\"/>\n<text text-anchor=\"middle\" x=\"431.5\" y=\"-884.5\" font-family=\"monospace\" font-size=\"10.00\">MaxPool2DWithIndicesBackward</text>\n</g>\n<!-- 140413461882528&#45;&gt;140413461883296 -->\n<g id=\"edge50\" class=\"edge\">\n<title>140413461882528&#45;&gt;140413461883296</title>\n<path fill=\"none\" stroke=\"black\" d=\"M437.3,-877.37C443.8,-867.69 454.52,-851.74 462.78,-839.44\"/>\n<polygon fill=\"black\" stroke=\"black\" points=\"465.85,-841.16 468.52,-830.91 460.03,-837.25 465.85,-841.16\"/>\n</g>\n<!-- 140413461883488 -->\n<g id=\"node51\" class=\"node\">\n<title>140413461883488</title>\n<polygon fill=\"lightgrey\" stroke=\"black\" points=\"425,-957 336,-957 336,-938 425,-938 425,-957\"/>\n<text text-anchor=\"middle\" x=\"380.5\" y=\"-945\" font-family=\"monospace\" font-size=\"10.00\">MulBackward0</text>\n</g>\n<!-- 140413461883488&#45;&gt;140413461882528 -->\n<g id=\"edge51\" class=\"edge\">\n<title>140413461883488&#45;&gt;140413461882528</title>\n<path fill=\"none\" stroke=\"black\" d=\"M388.03,-937.87C395.71,-929.05 407.82,-915.16 417.31,-904.27\"/>\n<polygon fill=\"black\" stroke=\"black\" points=\"420.01,-906.51 423.94,-896.67 414.73,-901.91 420.01,-906.51\"/>\n</g>\n<!-- 140413461884256&#45;&gt;140413461883488 -->\n<g id=\"edge52\" class=\"edge\">\n<title>140413461884256&#45;&gt;140413461883488</title>\n<path fill=\"none\" stroke=\"black\" d=\"M372.15,-992.75C373.46,-985.8 375.34,-975.85 376.98,-967.13\"/>\n<polygon fill=\"black\" stroke=\"black\" points=\"380.46,-967.56 378.88,-957.09 373.59,-966.27 380.46,-967.56\"/>\n</g>\n<!-- 140413461884640 -->\n<g id=\"node53\" class=\"node\">\n<title>140413461884640</title>\n<polygon fill=\"lightgrey\" stroke=\"black\" points=\"513,-1067 418,-1067 418,-1048 513,-1048 513,-1067\"/>\n<text text-anchor=\"middle\" x=\"465.5\" y=\"-1055\" font-family=\"monospace\" font-size=\"10.00\">ReluBackward0</text>\n</g>\n<!-- 140413461884640&#45;&gt;140413461884256 -->\n<g id=\"edge53\" class=\"edge\">\n<title>140413461884640&#45;&gt;140413461884256</title>\n<path fill=\"none\" stroke=\"black\" d=\"M450.24,-1047.98C435.37,-1039.69 412.52,-1026.94 395.08,-1017.22\"/>\n<polygon fill=\"black\" stroke=\"black\" points=\"396.48,-1013.99 386.04,-1012.17 393.07,-1020.1 396.48,-1013.99\"/>\n</g>\n<!-- 140413461884688 -->\n<g id=\"node54\" class=\"node\">\n<title>140413461884688</title>\n<polygon fill=\"lightgrey\" stroke=\"black\" points=\"502,-1127.5 413,-1127.5 413,-1108.5 502,-1108.5 502,-1127.5\"/>\n<text text-anchor=\"middle\" x=\"457.5\" y=\"-1115.5\" font-family=\"monospace\" font-size=\"10.00\">MulBackward0</text>\n</g>\n<!-- 140413461884688&#45;&gt;140413461884640 -->\n<g id=\"edge54\" class=\"edge\">\n<title>140413461884688&#45;&gt;140413461884640</title>\n<path fill=\"none\" stroke=\"black\" d=\"M458.68,-1108.37C459.79,-1100.25 461.49,-1087.81 462.92,-1077.39\"/>\n<polygon fill=\"black\" stroke=\"black\" points=\"466.43,-1077.55 464.31,-1067.17 459.49,-1076.6 466.43,-1077.55\"/>\n</g>\n<!-- 140413461849136&#45;&gt;140413461884688 -->\n<g id=\"edge55\" class=\"edge\">\n<title>140413461849136&#45;&gt;140413461884688</title>\n<path fill=\"none\" stroke=\"black\" d=\"M368.85,-1168.87C385.82,-1159.32 413.4,-1143.81 433.29,-1132.62\"/>\n<polygon fill=\"black\" stroke=\"black\" points=\"435.09,-1135.62 442.09,-1127.67 431.66,-1129.52 435.09,-1135.62\"/>\n</g>\n<!-- 140413461882240&#45;&gt;140413461445072 -->\n<g id=\"edge60\" class=\"edge\">\n<title>140413461882240&#45;&gt;140413461445072</title>\n<path fill=\"none\" stroke=\"black\" d=\"M284.69,-750.99C306.89,-741.16 343.62,-724.88 369.12,-713.58\"/>\n<polygon fill=\"black\" stroke=\"black\" points=\"370.56,-716.77 378.28,-709.52 367.72,-710.37 370.56,-716.77\"/>\n</g>\n<!-- 140413461444160&#45;&gt;140413458179840 -->\n<g id=\"edge62\" class=\"edge\">\n<title>140413461444160&#45;&gt;140413458179840</title>\n<path fill=\"none\" stroke=\"black\" d=\"M312.94,-563.87C322.77,-554.88 338.39,-540.61 350.39,-529.64\"/>\n<polygon fill=\"black\" stroke=\"black\" points=\"353,-532 358.02,-522.67 348.28,-526.83 353,-532\"/>\n</g>\n<!-- 140413461445504 -->\n<g id=\"node58\" class=\"node\">\n<title>140413461445504</title>\n<polygon fill=\"lightgrey\" stroke=\"black\" points=\"194,-390.5 123,-390.5 123,-371.5 194,-371.5 194,-390.5\"/>\n<text text-anchor=\"middle\" x=\"158.5\" y=\"-378.5\" font-family=\"monospace\" font-size=\"10.00\">TBackward</text>\n</g>\n<!-- 140413461445504&#45;&gt;140413461445888 -->\n<g id=\"edge64\" class=\"edge\">\n<title>140413461445504&#45;&gt;140413461445888</title>\n<path fill=\"none\" stroke=\"black\" d=\"M164.43,-371.3C171.16,-361.44 182.3,-345.11 190.8,-332.66\"/>\n<polygon fill=\"black\" stroke=\"black\" points=\"193.92,-334.29 196.66,-324.06 188.13,-330.35 193.92,-334.29\"/>\n</g>\n<!-- 140413461446272 -->\n<g id=\"node59\" class=\"node\">\n<title>140413461446272</title>\n<polygon fill=\"lightgrey\" stroke=\"black\" points=\"195,-456.5 94,-456.5 94,-437.5 195,-437.5 195,-456.5\"/>\n<text text-anchor=\"middle\" x=\"144.5\" y=\"-444.5\" font-family=\"monospace\" font-size=\"10.00\">AccumulateGrad</text>\n</g>\n<!-- 140413461446272&#45;&gt;140413461445504 -->\n<g id=\"edge65\" class=\"edge\">\n<title>140413461446272&#45;&gt;140413461445504</title>\n<path fill=\"none\" stroke=\"black\" d=\"M146.39,-437.37C148.42,-428.07 151.72,-412.98 154.37,-400.9\"/>\n<polygon fill=\"black\" stroke=\"black\" points=\"157.83,-401.42 156.55,-390.91 151,-399.93 157.83,-401.42\"/>\n</g>\n<!-- 140413432726272 -->\n<g id=\"node60\" class=\"node\">\n<title>140413432726272</title>\n<polygon fill=\"lightblue\" stroke=\"black\" points=\"183,-528 106,-528 106,-498 183,-498 183,-528\"/>\n<text text-anchor=\"middle\" x=\"144.5\" y=\"-516\" font-family=\"monospace\" font-size=\"10.00\">fc3.weight</text>\n<text text-anchor=\"middle\" x=\"144.5\" y=\"-505\" font-family=\"monospace\" font-size=\"10.00\"> (10, 20)</text>\n</g>\n<!-- 140413432726272&#45;&gt;140413461446272 -->\n<g id=\"edge66\" class=\"edge\">\n<title>140413432726272&#45;&gt;140413461446272</title>\n<path fill=\"none\" stroke=\"black\" d=\"M144.5,-497.8C144.5,-488.7 144.5,-476.79 144.5,-466.9\"/>\n<polygon fill=\"black\" stroke=\"black\" points=\"148,-466.84 144.5,-456.84 141,-466.84 148,-466.84\"/>\n</g>\n<!-- 140413461445648 -->\n<g id=\"node61\" class=\"node\">\n<title>140413461445648</title>\n<polygon fill=\"lightgrey\" stroke=\"black\" points=\"446,-263 375,-263 375,-244 446,-244 446,-263\"/>\n<text text-anchor=\"middle\" x=\"410.5\" y=\"-251\" font-family=\"monospace\" font-size=\"10.00\">TBackward</text>\n</g>\n<!-- 140413461445648&#45;&gt;140413461445600 -->\n<g id=\"edge67\" class=\"edge\">\n<title>140413461445648&#45;&gt;140413461445600</title>\n<path fill=\"none\" stroke=\"black\" d=\"M378.53,-243.98C344.68,-234.97 291.1,-220.7 253.79,-210.76\"/>\n<polygon fill=\"black\" stroke=\"black\" points=\"254.29,-207.27 243.72,-208.08 252.49,-214.04 254.29,-207.27\"/>\n</g>\n<!-- 140413461446416 -->\n<g id=\"node62\" class=\"node\">\n<title>140413461446416</title>\n<polygon fill=\"lightgrey\" stroke=\"black\" points=\"520,-324 419,-324 419,-305 520,-305 520,-324\"/>\n<text text-anchor=\"middle\" x=\"469.5\" y=\"-312\" font-family=\"monospace\" font-size=\"10.00\">AccumulateGrad</text>\n</g>\n<!-- 140413461446416&#45;&gt;140413461445648 -->\n<g id=\"edge68\" class=\"edge\">\n<title>140413461446416&#45;&gt;140413461445648</title>\n<path fill=\"none\" stroke=\"black\" d=\"M460.79,-304.79C451.82,-295.82 437.62,-281.62 426.59,-270.59\"/>\n<polygon fill=\"black\" stroke=\"black\" points=\"428.79,-267.84 419.24,-263.24 423.84,-272.79 428.79,-267.84\"/>\n</g>\n<!-- 140413432726720 -->\n<g id=\"node63\" class=\"node\">\n<title>140413432726720</title>\n<polygon fill=\"lightblue\" stroke=\"black\" points=\"508,-396 431,-396 431,-366 508,-366 508,-396\"/>\n<text text-anchor=\"middle\" x=\"469.5\" y=\"-384\" font-family=\"monospace\" font-size=\"10.00\">fc4.weight</text>\n<text text-anchor=\"middle\" x=\"469.5\" y=\"-373\" font-family=\"monospace\" font-size=\"10.00\"> (1, 10)</text>\n</g>\n<!-- 140413432726720&#45;&gt;140413461446416 -->\n<g id=\"edge69\" class=\"edge\">\n<title>140413432726720&#45;&gt;140413461446416</title>\n<path fill=\"none\" stroke=\"black\" d=\"M469.5,-365.69C469.5,-356.41 469.5,-344.23 469.5,-334.19\"/>\n<polygon fill=\"black\" stroke=\"black\" points=\"473,-334.04 469.5,-324.04 466,-334.04 473,-334.04\"/>\n</g>\n<!-- 140413462127232&#45;&gt;140413379864320 -->\n<g id=\"edge72\" class=\"edge\">\n<title>140413462127232&#45;&gt;140413379864320</title>\n<path fill=\"none\" stroke=\"black\" stroke-dasharray=\"1,5\" d=\"M251.7,-66.75C245.18,-58.61 236.95,-48.32 229.64,-39.17\"/>\n<polygon fill=\"black\" stroke=\"black\" points=\"232.23,-36.81 223.25,-31.19 226.77,-41.19 232.23,-36.81\"/>\n</g>\n<!-- 140413434037120 -->\n<g id=\"node65\" class=\"node\">\n<title>140413434037120</title>\n<polygon fill=\"#caff70\" stroke=\"black\" points=\"401,-330 318,-330 318,-299 401,-299 401,-330\"/>\n<text text-anchor=\"middle\" x=\"359.5\" y=\"-306\" font-family=\"monospace\" font-size=\"10.00\"> (1, 2, 10)</text>\n</g>\n<!-- 140413461443296&#45;&gt;140413434037120 -->\n<g id=\"edge75\" class=\"edge\">\n<title>140413461443296&#45;&gt;140413434037120</title>\n<path fill=\"none\" stroke=\"black\" d=\"M362.1,-371.3C361.73,-363.46 361.18,-351.54 360.67,-340.72\"/>\n<polygon fill=\"black\" stroke=\"black\" points=\"364.16,-340.3 360.2,-330.47 357.16,-340.62 364.16,-340.3\"/>\n</g>\n</g>\n</svg>\n"
     },
     "metadata": {},
     "execution_count": 36
    }
   ],
   "source": [
    "from torchviz import make_dot\n",
    "\n",
    "make_dot(y, params=dict(model.named_parameters()))"
   ]
  },
  {
   "cell_type": "code",
   "execution_count": 30,
   "metadata": {},
   "outputs": [
    {
     "output_type": "execute_result",
     "data": {
      "text/plain": [
       "(<AxesSubplot:>, <matplotlib.image.AxesImage at 0x7fb48e892790>)"
      ]
     },
     "metadata": {},
     "execution_count": 30
    },
    {
     "output_type": "display_data",
     "data": {
      "text/plain": "<Figure size 432x288 with 2 Axes>",
      "image/svg+xml": "<?xml version=\"1.0\" encoding=\"utf-8\" standalone=\"no\"?>\n<!DOCTYPE svg PUBLIC \"-//W3C//DTD SVG 1.1//EN\"\n  \"http://www.w3.org/Graphics/SVG/1.1/DTD/svg11.dtd\">\n<!-- Created with matplotlib (https://matplotlib.org/) -->\n<svg height=\"183.259943pt\" version=\"1.1\" viewBox=\"0 0 368.925 183.259943\" width=\"368.925pt\" xmlns=\"http://www.w3.org/2000/svg\" xmlns:xlink=\"http://www.w3.org/1999/xlink\">\n <metadata>\n  <rdf:RDF xmlns:cc=\"http://creativecommons.org/ns#\" xmlns:dc=\"http://purl.org/dc/elements/1.1/\" xmlns:rdf=\"http://www.w3.org/1999/02/22-rdf-syntax-ns#\">\n   <cc:Work>\n    <dc:type rdf:resource=\"http://purl.org/dc/dcmitype/StillImage\"/>\n    <dc:date>2021-05-08T13:08:55.595348</dc:date>\n    <dc:format>image/svg+xml</dc:format>\n    <dc:creator>\n     <cc:Agent>\n      <dc:title>Matplotlib v3.3.4, https://matplotlib.org/</dc:title>\n     </cc:Agent>\n    </dc:creator>\n   </cc:Work>\n  </rdf:RDF>\n </metadata>\n <defs>\n  <style type=\"text/css\">*{stroke-linecap:butt;stroke-linejoin:round;}</style>\n </defs>\n <g id=\"figure_1\">\n  <g id=\"patch_1\">\n   <path d=\"M -0 183.259943 \nL 368.925 183.259943 \nL 368.925 0 \nL -0 0 \nz\n\" style=\"fill:none;\"/>\n  </g>\n  <g id=\"axes_1\">\n   <g id=\"patch_2\">\n    <path d=\"M 26.925 159.381818 \nL 179.106818 159.381818 \nL 179.106818 7.2 \nL 26.925 7.2 \nz\n\" style=\"fill:#ffffff;\"/>\n   </g>\n   <g clip-path=\"url(#paf353325ee)\">\n    <image height=\"153\" id=\"imagee2c17fb11d\" transform=\"scale(1 -1)translate(0 -153)\" width=\"153\" x=\"26.925\" xlink:href=\"data:image/png;base64,\niVBORw0KGgoAAAANSUhEUgAAAJkAAACZCAYAAAA8XJi6AAAF0UlEQVR4nO3d3WvVdQDH8d/ZztnZ2YN6Nk8OXZttbdoqp4yaz2y7GIVGXvSgJEIPUAhKhQhWZF7JqOjJugiCCqGiQjEyIy1rxnazLkoxs3LOrdNazrNzPNvZc//CZ8HHq/fr+sNvx/H2d7Evv98JVb3bMRuoCmbk6bz4qLy9nimUt4kTUXk7uE7/vKV/hKXdWJP+7wr6Y/pW/6hBaGlW3lYfypO3V/eOydv8I2XyVv8EwP9EZLAjMtgRGeyIDHZEBjsigx2RwY7IYEdksAsv7NaOU4IgCNK1+oXTU3q/TcsvydufmvUPUZjQj0miVePSrjkxIF+zp6RS//mRKXk7b3+RvL24XT+GKz+qH4MNt+XkLXcy2BEZ7IgMdkQGOyKDHZHBjshgR2SwIzLYERnswqnb9HFIP/kIHm/ulLfvn10tb6PD+fI2NFQqb8tbh6Xd+Iz+8++q6JO3y4oG5e3b29rl7Uvtn8nbjuRD8raoRDuGCwLuZLgBiAx2RAY7IoMdkcGOyGBHZLAjMtgRGeyIDHbhWH1KX/8Ql6eXRhfK2+lR/YmpBQP6O/uu3q2fg822aU8h/bxrrXzNkTsm5W3XhVXyNj6i/w52PPyvvD2U1K9bvl9/ax93MtgRGeyIDHZEBjsigx2RwY7IYEdksCMy2BEZ7EKNO1+VzxJSzRPyhQv6CuRtJBOSt3n6Rwim9HfFBdGU9msoGtKPUwbunZa3oaz+FNSCpSl5O/KnfhQYGdHvOeM36Ud23MlgR2SwIzLYERnsiAx2RAY7IoMdkcGOyGBHZLAL5+kP1ARlZ/Sjotad3fL2zGCNvD1Qd0zePtm5Q97O/q59B1F2sf7/Mp5Iydv0cJm8LXlvvrz9/M1X5G3byafl7aYVv8hb7mSwIzLYERnsiAx2RAY7IoMdkcGOyGBHZLAjMtiFqj84KD+t9M76w/KFn3/5MXm78lH9iGJ8Rn9hXs/AzfI2l9aOlW6v1V6WFwRBcOGvRfJ2Kq0f2cX69d/BrP4QVDB+i/59SfVv5OQtdzLYERnsiAx2RAY7IoMdkcGOyGBHZLAjMtgRGezCobD+UrdT6QZ5m2kZlbeVsWvy9ru/6+Vtbigmb/e0fCXt3vr0PvmaU3N4Udyt9Ul5mz29RN6ObUvJ2+hJ/Ymp3i3aMVwQcCfDDUBksCMy2BEZ7IgMdkQGOyKDHZHBjshgF6rt0L/2JlKXli88fW6evI016n/x31rTI2+/2bVB3l5bpv0Fe6RO/nUF83/Tv84nsmVI3g726n+ZD6L6ic5rGz+Wtwde19/9xp0MdkQGOyKDHZHBjshgR2SwIzLYERnsiAx2RAa70PDAEvmcpH3fs/KFM/dn5G0uq7+bK9KnP8AwXTsmb/PzteOX4tPF8jVTa/T3fS05GpG3/Zun5W3Di/oDKuf3Vsrb2Zh+XMWdDHZEBjsigx2RwY7IYEdksCMy2BEZ7IgMdkQGu/DK47vl8ZqnfpW3Xedr5e2+dcfl7cGxzfJ28RH9CKphz1lp113cKF8zyMzhqGiTflQU5PR7Q+MXV+TtxRNV8vaBDV3yljsZ7IgMdkQGOyKDHZHBjshgR2SwIzLYERnsiAx2oVVP6C/Bu3an/gK4kkt6v2UXJuXt5a36UzIFl/VjpclS7bozRfrPz8/ky9uipP7CvInV+pNgiz7Uv/onuV7/vLE5fF7uZLAjMtgRGeyIDHZEBjsigx2RwY7IYEdksCMy2IWvV+vjSFo/ShhbnZW3uXuuy9vW+KC8/XZmubwt7NVexDeR0F9sF69Mydvmlsvy9tSXTfL2yoM5eRtO6sdK2Ur9iJE7GeyIDHZEBjsigx2RwY7IYEdksCMy2BEZ7IgMduHYP/pR0Qu7D8vb5z55RN4mNupHRT9+vULe1nyvHwEl12q7vIFC+ZrFH4Xl7blnKuRtrmJK3iYW6k82zXTqT3dVbO+Vt9zJYEdksCMy2BEZ7IgMdkQGOyKDHZHBjshgR2Sw+w+JySL/k7IT4gAAAABJRU5ErkJggg==\" y=\"-6.381818\"/>\n   </g>\n   <g id=\"matplotlib.axis_1\">\n    <g id=\"xtick_1\">\n     <g id=\"line2d_1\">\n      <defs>\n       <path d=\"M 0 0 \nL 0 3.5 \n\" id=\"m21db342b76\" style=\"stroke:#000000;stroke-width:0.8;\"/>\n      </defs>\n      <g>\n       <use style=\"stroke:#000000;stroke-width:0.8;\" x=\"32.360065\" xlink:href=\"#m21db342b76\" y=\"159.381818\"/>\n      </g>\n     </g>\n     <g id=\"text_1\">\n      <!-- 0 -->\n      <g transform=\"translate(29.178815 173.980256)scale(0.1 -0.1)\">\n       <defs>\n        <path d=\"M 31.78125 66.40625 \nQ 24.171875 66.40625 20.328125 58.90625 \nQ 16.5 51.421875 16.5 36.375 \nQ 16.5 21.390625 20.328125 13.890625 \nQ 24.171875 6.390625 31.78125 6.390625 \nQ 39.453125 6.390625 43.28125 13.890625 \nQ 47.125 21.390625 47.125 36.375 \nQ 47.125 51.421875 43.28125 58.90625 \nQ 39.453125 66.40625 31.78125 66.40625 \nz\nM 31.78125 74.21875 \nQ 44.046875 74.21875 50.515625 64.515625 \nQ 56.984375 54.828125 56.984375 36.375 \nQ 56.984375 17.96875 50.515625 8.265625 \nQ 44.046875 -1.421875 31.78125 -1.421875 \nQ 19.53125 -1.421875 13.0625 8.265625 \nQ 6.59375 17.96875 6.59375 36.375 \nQ 6.59375 54.828125 13.0625 64.515625 \nQ 19.53125 74.21875 31.78125 74.21875 \nz\n\" id=\"DejaVuSans-48\"/>\n       </defs>\n       <use xlink:href=\"#DejaVuSans-48\"/>\n      </g>\n     </g>\n    </g>\n    <g id=\"xtick_2\">\n     <g id=\"line2d_2\">\n      <g>\n       <use style=\"stroke:#000000;stroke-width:0.8;\" x=\"86.710714\" xlink:href=\"#m21db342b76\" y=\"159.381818\"/>\n      </g>\n     </g>\n     <g id=\"text_2\">\n      <!-- 5 -->\n      <g transform=\"translate(83.529464 173.980256)scale(0.1 -0.1)\">\n       <defs>\n        <path d=\"M 10.796875 72.90625 \nL 49.515625 72.90625 \nL 49.515625 64.59375 \nL 19.828125 64.59375 \nL 19.828125 46.734375 \nQ 21.96875 47.46875 24.109375 47.828125 \nQ 26.265625 48.1875 28.421875 48.1875 \nQ 40.625 48.1875 47.75 41.5 \nQ 54.890625 34.8125 54.890625 23.390625 \nQ 54.890625 11.625 47.5625 5.09375 \nQ 40.234375 -1.421875 26.90625 -1.421875 \nQ 22.3125 -1.421875 17.546875 -0.640625 \nQ 12.796875 0.140625 7.71875 1.703125 \nL 7.71875 11.625 \nQ 12.109375 9.234375 16.796875 8.0625 \nQ 21.484375 6.890625 26.703125 6.890625 \nQ 35.15625 6.890625 40.078125 11.328125 \nQ 45.015625 15.765625 45.015625 23.390625 \nQ 45.015625 31 40.078125 35.4375 \nQ 35.15625 39.890625 26.703125 39.890625 \nQ 22.75 39.890625 18.8125 39.015625 \nQ 14.890625 38.140625 10.796875 36.28125 \nz\n\" id=\"DejaVuSans-53\"/>\n       </defs>\n       <use xlink:href=\"#DejaVuSans-53\"/>\n      </g>\n     </g>\n    </g>\n    <g id=\"xtick_3\">\n     <g id=\"line2d_3\">\n      <g>\n       <use style=\"stroke:#000000;stroke-width:0.8;\" x=\"141.061364\" xlink:href=\"#m21db342b76\" y=\"159.381818\"/>\n      </g>\n     </g>\n     <g id=\"text_3\">\n      <!-- 10 -->\n      <g transform=\"translate(134.698864 173.980256)scale(0.1 -0.1)\">\n       <defs>\n        <path d=\"M 12.40625 8.296875 \nL 28.515625 8.296875 \nL 28.515625 63.921875 \nL 10.984375 60.40625 \nL 10.984375 69.390625 \nL 28.421875 72.90625 \nL 38.28125 72.90625 \nL 38.28125 8.296875 \nL 54.390625 8.296875 \nL 54.390625 0 \nL 12.40625 0 \nz\n\" id=\"DejaVuSans-49\"/>\n       </defs>\n       <use xlink:href=\"#DejaVuSans-49\"/>\n       <use x=\"63.623047\" xlink:href=\"#DejaVuSans-48\"/>\n      </g>\n     </g>\n    </g>\n   </g>\n   <g id=\"matplotlib.axis_2\">\n    <g id=\"ytick_1\">\n     <g id=\"line2d_4\">\n      <defs>\n       <path d=\"M 0 0 \nL -3.5 0 \n\" id=\"m1c84345f72\" style=\"stroke:#000000;stroke-width:0.8;\"/>\n      </defs>\n      <g>\n       <use style=\"stroke:#000000;stroke-width:0.8;\" x=\"26.925\" xlink:href=\"#m1c84345f72\" y=\"12.635065\"/>\n      </g>\n     </g>\n     <g id=\"text_4\">\n      <!-- 0 -->\n      <g transform=\"translate(13.5625 16.434284)scale(0.1 -0.1)\">\n       <use xlink:href=\"#DejaVuSans-48\"/>\n      </g>\n     </g>\n    </g>\n    <g id=\"ytick_2\">\n     <g id=\"line2d_5\">\n      <g>\n       <use style=\"stroke:#000000;stroke-width:0.8;\" x=\"26.925\" xlink:href=\"#m1c84345f72\" y=\"34.375325\"/>\n      </g>\n     </g>\n     <g id=\"text_5\">\n      <!-- 2 -->\n      <g transform=\"translate(13.5625 38.174543)scale(0.1 -0.1)\">\n       <defs>\n        <path d=\"M 19.1875 8.296875 \nL 53.609375 8.296875 \nL 53.609375 0 \nL 7.328125 0 \nL 7.328125 8.296875 \nQ 12.9375 14.109375 22.625 23.890625 \nQ 32.328125 33.6875 34.8125 36.53125 \nQ 39.546875 41.84375 41.421875 45.53125 \nQ 43.3125 49.21875 43.3125 52.78125 \nQ 43.3125 58.59375 39.234375 62.25 \nQ 35.15625 65.921875 28.609375 65.921875 \nQ 23.96875 65.921875 18.8125 64.3125 \nQ 13.671875 62.703125 7.8125 59.421875 \nL 7.8125 69.390625 \nQ 13.765625 71.78125 18.9375 73 \nQ 24.125 74.21875 28.421875 74.21875 \nQ 39.75 74.21875 46.484375 68.546875 \nQ 53.21875 62.890625 53.21875 53.421875 \nQ 53.21875 48.921875 51.53125 44.890625 \nQ 49.859375 40.875 45.40625 35.40625 \nQ 44.1875 33.984375 37.640625 27.21875 \nQ 31.109375 20.453125 19.1875 8.296875 \nz\n\" id=\"DejaVuSans-50\"/>\n       </defs>\n       <use xlink:href=\"#DejaVuSans-50\"/>\n      </g>\n     </g>\n    </g>\n    <g id=\"ytick_3\">\n     <g id=\"line2d_6\">\n      <g>\n       <use style=\"stroke:#000000;stroke-width:0.8;\" x=\"26.925\" xlink:href=\"#m1c84345f72\" y=\"56.115584\"/>\n      </g>\n     </g>\n     <g id=\"text_6\">\n      <!-- 4 -->\n      <g transform=\"translate(13.5625 59.914803)scale(0.1 -0.1)\">\n       <defs>\n        <path d=\"M 37.796875 64.3125 \nL 12.890625 25.390625 \nL 37.796875 25.390625 \nz\nM 35.203125 72.90625 \nL 47.609375 72.90625 \nL 47.609375 25.390625 \nL 58.015625 25.390625 \nL 58.015625 17.1875 \nL 47.609375 17.1875 \nL 47.609375 0 \nL 37.796875 0 \nL 37.796875 17.1875 \nL 4.890625 17.1875 \nL 4.890625 26.703125 \nz\n\" id=\"DejaVuSans-52\"/>\n       </defs>\n       <use xlink:href=\"#DejaVuSans-52\"/>\n      </g>\n     </g>\n    </g>\n    <g id=\"ytick_4\">\n     <g id=\"line2d_7\">\n      <g>\n       <use style=\"stroke:#000000;stroke-width:0.8;\" x=\"26.925\" xlink:href=\"#m1c84345f72\" y=\"77.855844\"/>\n      </g>\n     </g>\n     <g id=\"text_7\">\n      <!-- 6 -->\n      <g transform=\"translate(13.5625 81.655063)scale(0.1 -0.1)\">\n       <defs>\n        <path d=\"M 33.015625 40.375 \nQ 26.375 40.375 22.484375 35.828125 \nQ 18.609375 31.296875 18.609375 23.390625 \nQ 18.609375 15.53125 22.484375 10.953125 \nQ 26.375 6.390625 33.015625 6.390625 \nQ 39.65625 6.390625 43.53125 10.953125 \nQ 47.40625 15.53125 47.40625 23.390625 \nQ 47.40625 31.296875 43.53125 35.828125 \nQ 39.65625 40.375 33.015625 40.375 \nz\nM 52.59375 71.296875 \nL 52.59375 62.3125 \nQ 48.875 64.0625 45.09375 64.984375 \nQ 41.3125 65.921875 37.59375 65.921875 \nQ 27.828125 65.921875 22.671875 59.328125 \nQ 17.53125 52.734375 16.796875 39.40625 \nQ 19.671875 43.65625 24.015625 45.921875 \nQ 28.375 48.1875 33.59375 48.1875 \nQ 44.578125 48.1875 50.953125 41.515625 \nQ 57.328125 34.859375 57.328125 23.390625 \nQ 57.328125 12.15625 50.6875 5.359375 \nQ 44.046875 -1.421875 33.015625 -1.421875 \nQ 20.359375 -1.421875 13.671875 8.265625 \nQ 6.984375 17.96875 6.984375 36.375 \nQ 6.984375 53.65625 15.1875 63.9375 \nQ 23.390625 74.21875 37.203125 74.21875 \nQ 40.921875 74.21875 44.703125 73.484375 \nQ 48.484375 72.75 52.59375 71.296875 \nz\n\" id=\"DejaVuSans-54\"/>\n       </defs>\n       <use xlink:href=\"#DejaVuSans-54\"/>\n      </g>\n     </g>\n    </g>\n    <g id=\"ytick_5\">\n     <g id=\"line2d_8\">\n      <g>\n       <use style=\"stroke:#000000;stroke-width:0.8;\" x=\"26.925\" xlink:href=\"#m1c84345f72\" y=\"99.596104\"/>\n      </g>\n     </g>\n     <g id=\"text_8\">\n      <!-- 8 -->\n      <g transform=\"translate(13.5625 103.395323)scale(0.1 -0.1)\">\n       <defs>\n        <path d=\"M 31.78125 34.625 \nQ 24.75 34.625 20.71875 30.859375 \nQ 16.703125 27.09375 16.703125 20.515625 \nQ 16.703125 13.921875 20.71875 10.15625 \nQ 24.75 6.390625 31.78125 6.390625 \nQ 38.8125 6.390625 42.859375 10.171875 \nQ 46.921875 13.96875 46.921875 20.515625 \nQ 46.921875 27.09375 42.890625 30.859375 \nQ 38.875 34.625 31.78125 34.625 \nz\nM 21.921875 38.8125 \nQ 15.578125 40.375 12.03125 44.71875 \nQ 8.5 49.078125 8.5 55.328125 \nQ 8.5 64.0625 14.71875 69.140625 \nQ 20.953125 74.21875 31.78125 74.21875 \nQ 42.671875 74.21875 48.875 69.140625 \nQ 55.078125 64.0625 55.078125 55.328125 \nQ 55.078125 49.078125 51.53125 44.71875 \nQ 48 40.375 41.703125 38.8125 \nQ 48.828125 37.15625 52.796875 32.3125 \nQ 56.78125 27.484375 56.78125 20.515625 \nQ 56.78125 9.90625 50.3125 4.234375 \nQ 43.84375 -1.421875 31.78125 -1.421875 \nQ 19.734375 -1.421875 13.25 4.234375 \nQ 6.78125 9.90625 6.78125 20.515625 \nQ 6.78125 27.484375 10.78125 32.3125 \nQ 14.796875 37.15625 21.921875 38.8125 \nz\nM 18.3125 54.390625 \nQ 18.3125 48.734375 21.84375 45.5625 \nQ 25.390625 42.390625 31.78125 42.390625 \nQ 38.140625 42.390625 41.71875 45.5625 \nQ 45.3125 48.734375 45.3125 54.390625 \nQ 45.3125 60.0625 41.71875 63.234375 \nQ 38.140625 66.40625 31.78125 66.40625 \nQ 25.390625 66.40625 21.84375 63.234375 \nQ 18.3125 60.0625 18.3125 54.390625 \nz\n\" id=\"DejaVuSans-56\"/>\n       </defs>\n       <use xlink:href=\"#DejaVuSans-56\"/>\n      </g>\n     </g>\n    </g>\n    <g id=\"ytick_6\">\n     <g id=\"line2d_9\">\n      <g>\n       <use style=\"stroke:#000000;stroke-width:0.8;\" x=\"26.925\" xlink:href=\"#m1c84345f72\" y=\"121.336364\"/>\n      </g>\n     </g>\n     <g id=\"text_9\">\n      <!-- 10 -->\n      <g transform=\"translate(7.2 125.135582)scale(0.1 -0.1)\">\n       <use xlink:href=\"#DejaVuSans-49\"/>\n       <use x=\"63.623047\" xlink:href=\"#DejaVuSans-48\"/>\n      </g>\n     </g>\n    </g>\n    <g id=\"ytick_7\">\n     <g id=\"line2d_10\">\n      <g>\n       <use style=\"stroke:#000000;stroke-width:0.8;\" x=\"26.925\" xlink:href=\"#m1c84345f72\" y=\"143.076623\"/>\n      </g>\n     </g>\n     <g id=\"text_10\">\n      <!-- 12 -->\n      <g transform=\"translate(7.2 146.875842)scale(0.1 -0.1)\">\n       <use xlink:href=\"#DejaVuSans-49\"/>\n       <use x=\"63.623047\" xlink:href=\"#DejaVuSans-50\"/>\n      </g>\n     </g>\n    </g>\n   </g>\n   <g id=\"patch_3\">\n    <path d=\"M 26.925 159.381818 \nL 26.925 7.2 \n\" style=\"fill:none;stroke:#000000;stroke-linecap:square;stroke-linejoin:miter;stroke-width:0.8;\"/>\n   </g>\n   <g id=\"patch_4\">\n    <path d=\"M 179.106818 159.381818 \nL 179.106818 7.2 \n\" style=\"fill:none;stroke:#000000;stroke-linecap:square;stroke-linejoin:miter;stroke-width:0.8;\"/>\n   </g>\n   <g id=\"patch_5\">\n    <path d=\"M 26.925 159.381818 \nL 179.106818 159.381818 \n\" style=\"fill:none;stroke:#000000;stroke-linecap:square;stroke-linejoin:miter;stroke-width:0.8;\"/>\n   </g>\n   <g id=\"patch_6\">\n    <path d=\"M 26.925 7.2 \nL 179.106818 7.2 \n\" style=\"fill:none;stroke:#000000;stroke-linecap:square;stroke-linejoin:miter;stroke-width:0.8;\"/>\n   </g>\n  </g>\n  <g id=\"axes_2\">\n   <g id=\"patch_7\">\n    <path d=\"M 209.543182 159.381818 \nL 361.725 159.381818 \nL 361.725 7.2 \nL 209.543182 7.2 \nz\n\" style=\"fill:#ffffff;\"/>\n   </g>\n   <g clip-path=\"url(#pf2f6f47b97)\">\n    <image height=\"153\" id=\"image272bfd7ae6\" transform=\"scale(1 -1)translate(0 -153)\" width=\"153\" x=\"209.543182\" xlink:href=\"data:image/png;base64,\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\" y=\"-6.381818\"/>\n   </g>\n   <g id=\"matplotlib.axis_3\">\n    <g id=\"xtick_4\">\n     <g id=\"line2d_11\">\n      <g>\n       <use style=\"stroke:#000000;stroke-width:0.8;\" x=\"214.978247\" xlink:href=\"#m21db342b76\" y=\"159.381818\"/>\n      </g>\n     </g>\n     <g id=\"text_11\">\n      <!-- 0 -->\n      <g transform=\"translate(211.796997 173.980256)scale(0.1 -0.1)\">\n       <use xlink:href=\"#DejaVuSans-48\"/>\n      </g>\n     </g>\n    </g>\n    <g id=\"xtick_5\">\n     <g id=\"line2d_12\">\n      <g>\n       <use style=\"stroke:#000000;stroke-width:0.8;\" x=\"269.328896\" xlink:href=\"#m21db342b76\" y=\"159.381818\"/>\n      </g>\n     </g>\n     <g id=\"text_12\">\n      <!-- 5 -->\n      <g transform=\"translate(266.147646 173.980256)scale(0.1 -0.1)\">\n       <use xlink:href=\"#DejaVuSans-53\"/>\n      </g>\n     </g>\n    </g>\n    <g id=\"xtick_6\">\n     <g id=\"line2d_13\">\n      <g>\n       <use style=\"stroke:#000000;stroke-width:0.8;\" x=\"323.679545\" xlink:href=\"#m21db342b76\" y=\"159.381818\"/>\n      </g>\n     </g>\n     <g id=\"text_13\">\n      <!-- 10 -->\n      <g transform=\"translate(317.317045 173.980256)scale(0.1 -0.1)\">\n       <use xlink:href=\"#DejaVuSans-49\"/>\n       <use x=\"63.623047\" xlink:href=\"#DejaVuSans-48\"/>\n      </g>\n     </g>\n    </g>\n   </g>\n   <g id=\"matplotlib.axis_4\">\n    <g id=\"ytick_8\">\n     <g id=\"line2d_14\">\n      <g>\n       <use style=\"stroke:#000000;stroke-width:0.8;\" x=\"209.543182\" xlink:href=\"#m1c84345f72\" y=\"12.635065\"/>\n      </g>\n     </g>\n     <g id=\"text_14\">\n      <!-- 0 -->\n      <g transform=\"translate(196.180682 16.434284)scale(0.1 -0.1)\">\n       <use xlink:href=\"#DejaVuSans-48\"/>\n      </g>\n     </g>\n    </g>\n    <g id=\"ytick_9\">\n     <g id=\"line2d_15\">\n      <g>\n       <use style=\"stroke:#000000;stroke-width:0.8;\" x=\"209.543182\" xlink:href=\"#m1c84345f72\" y=\"34.375325\"/>\n      </g>\n     </g>\n     <g id=\"text_15\">\n      <!-- 2 -->\n      <g transform=\"translate(196.180682 38.174543)scale(0.1 -0.1)\">\n       <use xlink:href=\"#DejaVuSans-50\"/>\n      </g>\n     </g>\n    </g>\n    <g id=\"ytick_10\">\n     <g id=\"line2d_16\">\n      <g>\n       <use style=\"stroke:#000000;stroke-width:0.8;\" x=\"209.543182\" xlink:href=\"#m1c84345f72\" y=\"56.115584\"/>\n      </g>\n     </g>\n     <g id=\"text_16\">\n      <!-- 4 -->\n      <g transform=\"translate(196.180682 59.914803)scale(0.1 -0.1)\">\n       <use xlink:href=\"#DejaVuSans-52\"/>\n      </g>\n     </g>\n    </g>\n    <g id=\"ytick_11\">\n     <g id=\"line2d_17\">\n      <g>\n       <use style=\"stroke:#000000;stroke-width:0.8;\" x=\"209.543182\" xlink:href=\"#m1c84345f72\" y=\"77.855844\"/>\n      </g>\n     </g>\n     <g id=\"text_17\">\n      <!-- 6 -->\n      <g transform=\"translate(196.180682 81.655063)scale(0.1 -0.1)\">\n       <use xlink:href=\"#DejaVuSans-54\"/>\n      </g>\n     </g>\n    </g>\n    <g id=\"ytick_12\">\n     <g id=\"line2d_18\">\n      <g>\n       <use style=\"stroke:#000000;stroke-width:0.8;\" x=\"209.543182\" xlink:href=\"#m1c84345f72\" y=\"99.596104\"/>\n      </g>\n     </g>\n     <g id=\"text_18\">\n      <!-- 8 -->\n      <g transform=\"translate(196.180682 103.395323)scale(0.1 -0.1)\">\n       <use xlink:href=\"#DejaVuSans-56\"/>\n      </g>\n     </g>\n    </g>\n    <g id=\"ytick_13\">\n     <g id=\"line2d_19\">\n      <g>\n       <use style=\"stroke:#000000;stroke-width:0.8;\" x=\"209.543182\" xlink:href=\"#m1c84345f72\" y=\"121.336364\"/>\n      </g>\n     </g>\n     <g id=\"text_19\">\n      <!-- 10 -->\n      <g transform=\"translate(189.818182 125.135582)scale(0.1 -0.1)\">\n       <use xlink:href=\"#DejaVuSans-49\"/>\n       <use x=\"63.623047\" xlink:href=\"#DejaVuSans-48\"/>\n      </g>\n     </g>\n    </g>\n    <g id=\"ytick_14\">\n     <g id=\"line2d_20\">\n      <g>\n       <use style=\"stroke:#000000;stroke-width:0.8;\" x=\"209.543182\" xlink:href=\"#m1c84345f72\" y=\"143.076623\"/>\n      </g>\n     </g>\n     <g id=\"text_20\">\n      <!-- 12 -->\n      <g transform=\"translate(189.818182 146.875842)scale(0.1 -0.1)\">\n       <use xlink:href=\"#DejaVuSans-49\"/>\n       <use x=\"63.623047\" xlink:href=\"#DejaVuSans-50\"/>\n      </g>\n     </g>\n    </g>\n   </g>\n   <g id=\"patch_8\">\n    <path d=\"M 209.543182 159.381818 \nL 209.543182 7.2 \n\" style=\"fill:none;stroke:#000000;stroke-linecap:square;stroke-linejoin:miter;stroke-width:0.8;\"/>\n   </g>\n   <g id=\"patch_9\">\n    <path d=\"M 361.725 159.381818 \nL 361.725 7.2 \n\" style=\"fill:none;stroke:#000000;stroke-linecap:square;stroke-linejoin:miter;stroke-width:0.8;\"/>\n   </g>\n   <g id=\"patch_10\">\n    <path d=\"M 209.543182 159.381818 \nL 361.725 159.381818 \n\" style=\"fill:none;stroke:#000000;stroke-linecap:square;stroke-linejoin:miter;stroke-width:0.8;\"/>\n   </g>\n   <g id=\"patch_11\">\n    <path d=\"M 209.543182 7.2 \nL 361.725 7.2 \n\" style=\"fill:none;stroke:#000000;stroke-linecap:square;stroke-linejoin:miter;stroke-width:0.8;\"/>\n   </g>\n  </g>\n </g>\n <defs>\n  <clipPath id=\"paf353325ee\">\n   <rect height=\"152.181818\" width=\"152.181818\" x=\"26.925\" y=\"7.2\"/>\n  </clipPath>\n  <clipPath id=\"pf2f6f47b97\">\n   <rect height=\"152.181818\" width=\"152.181818\" x=\"209.543182\" y=\"7.2\"/>\n  </clipPath>\n </defs>\n</svg>\n",
      "image/png": "[encoded data removed]"
     },
     "metadata": {
      "needs_background": "light"
     }
    }
   ],
   "source": [
    "import matplotlib.pyplot as plt\n",
    "\n",
    "plt.subplot(121), plt.imshow(x[0, 0, :, :])\n",
    "plt.subplot(122), plt.imshow(x[0, 1, :, :])"
   ]
  },
  {
   "cell_type": "code",
   "execution_count": null,
   "metadata": {},
   "outputs": [],
   "source": []
  }
 ],
 "metadata": {
  "kernelspec": {
   "name": "datascience",
   "display_name": "Python 3.8.5 64-bit ('ds': conda)"
  },
  "language_info": {
   "codemirror_mode": {
    "name": "ipython",
    "version": 3
   },
   "file_extension": ".py",
   "mimetype": "text/x-python",
   "name": "python",
   "nbconvert_exporter": "python",
   "pygments_lexer": "ipython3",
   "version": "3.8.5"
  }
 },
 "nbformat": 4,
 "nbformat_minor": 4
}