{
 "cells": [
  {
   "cell_type": "code",
   "execution_count": 142,
   "metadata": {},
   "outputs": [],
   "source": [
    "import json\n",
    "import math\n",
    "import pandas as pd\n",
    "import numpy as np\n",
    "\n",
    "import seaborn as sns\n",
    "\n",
    "import matplotlib as mpl\n",
    "import matplotlib.pyplot as plt\n",
    "\n",
    "import plotly.express as px\n",
    "import plotly.graph_objects as go"
   ]
  },
  {
   "cell_type": "code",
   "execution_count": 143,
   "metadata": {},
   "outputs": [],
   "source": [
    "SMALL_SIZE = 10\n",
    "MEDIUM_SIZE = 12\n",
    "LARGE_SIZE = 16\n",
    "\n",
    "mpl.rcParams['font.family'] = 'serif'\n",
    "mpl.rcParams['font.size'] = SMALL_SIZE\n",
    "mpl.rcParams['axes.titlesize'] = SMALL_SIZE\n",
    "mpl.rcParams['axes.labelsize'] = MEDIUM_SIZE\n",
    "mpl.rcParams['xtick.labelsize'] = SMALL_SIZE\n",
    "mpl.rcParams['ytick.labelsize'] = SMALL_SIZE\n",
    "mpl.rcParams['legend.fontsize'] = SMALL_SIZE\n",
    "mpl.rcParams['figure.titlesize'] = LARGE_SIZE\n",
    "\n",
    "mpl.rcParams['axes.grid'] = True\n",
    "mpl.rcParams['axes.facecolor'] = '#F5F5F5'\n",
    "mpl.rcParams['axes.axisbelow'] = True\n",
    "mpl.rcParams['grid.linestyle'] = ':'"
   ]
  },
  {
   "cell_type": "code",
   "execution_count": null,
   "metadata": {},
   "outputs": [],
   "source": [
    "z_data = np.empty((5, 5))\n",
    "\n",
    "for datapoint in tuning:\n",
    "    \n",
    "    print(f\"{math.log10(float(datapoint['learning_rate']))} {math.log10(float(datapoint['decay']))}\")\n",
    "    \n",
    "    z_data[int(-1 * math.log10(float(datapoint['learning_rate']))) - 1, int(-1 * math.log10(float(datapoint['decay']))) - 1] = float(datapoint['train_accuracy'])\n",
    "    \n",
    "    \n",
    "z_data = pd.DataFrame(z_data)"
   ]
  },
  {
   "cell_type": "code",
   "execution_count": 135,
   "metadata": {},
   "outputs": [],
   "source": [
    "mlp = pd.read_csv('../MLPhyperparameters.csv')\n",
    "mlp['model'] = 'MLP'\n",
    "\n",
    "smlp = pd.read_csv('../SiameseMLPhyperparameters.csv')\n",
    "smlp['model'] = 'SiameseMLP'\n",
    "\n",
    "cnn = pd.read_csv('../ConvNethyperparameters.csv')\n",
    "cnn['model'] = 'ConvNet'\n",
    "\n",
    "scnn = pd.read_csv('../SiameseConvNethyperparameters.csv')\n",
    "scnn['model'] = 'SiameseConvNet'"
   ]
  },
  {
   "cell_type": "code",
   "execution_count": 136,
   "metadata": {},
   "outputs": [],
   "source": [
    "hypers = pd.concat([mlp, smlp, cnn, scnn])"
   ]
  },
  {
   "cell_type": "code",
   "execution_count": 137,
   "metadata": {},
   "outputs": [
    {
     "output_type": "execute_result",
     "data": {
      "text/plain": [
       "5"
      ]
     },
     "metadata": {},
     "execution_count": 137
    }
   ],
   "source": [
    "hypers[hypers.model == 'ConvNet'].test_accuracy.argmax()"
   ]
  },
  {
   "cell_type": "code",
   "execution_count": 138,
   "metadata": {},
   "outputs": [
    {
     "output_type": "execute_result",
     "data": {
      "text/plain": [
       "learning_rate        0.001\n",
       "decay                0.001\n",
       "gamma                  0.0\n",
       "train_accuracy    0.942973\n",
       "test_accuracy        0.816\n",
       "model              ConvNet\n",
       "Name: 5, dtype: object"
      ]
     },
     "metadata": {},
     "execution_count": 138
    }
   ],
   "source": [
    "hypers[hypers.model == 'ConvNet'].iloc[5]"
   ]
  },
  {
   "cell_type": "code",
   "execution_count": 139,
   "metadata": {},
   "outputs": [],
   "source": [
    "best = hypers[(hypers.model.isin(['SiameseConvNet', 'SiameseMLP'])) & (hypers.learning_rate == 0.005) & (hypers.decay == 0.001)]\n",
    "\n",
    "\n",
    "\n",
    "best = pd.melt(best.copy(), id_vars=[\"learning_rate\", \"decay\", \"gamma\", \"model\"], var_name=\"dataset\", value_name=\"accuracy\")"
   ]
  },
  {
   "cell_type": "code",
   "execution_count": 183,
   "metadata": {},
   "outputs": [
    {
     "output_type": "display_data",
     "data": {
      "text/plain": "<Figure size 600x325 with 1 Axes>",
      "image/svg+xml": "<?xml version=\"1.0\" encoding=\"utf-8\" standalone=\"no\"?>\n<!DOCTYPE svg PUBLIC \"-//W3C//DTD SVG 1.1//EN\"\n  \"http://www.w3.org/Graphics/SVG/1.1/DTD/svg11.dtd\">\n<!-- Created with matplotlib (https://matplotlib.org/) -->\n<svg height=\"225.612805pt\" version=\"1.1\" viewBox=\"0 0 424.209375 225.612805\" width=\"424.209375pt\" xmlns=\"http://www.w3.org/2000/svg\" xmlns:xlink=\"http://www.w3.org/1999/xlink\">\n <metadata>\n  <rdf:RDF xmlns:cc=\"http://creativecommons.org/ns#\" xmlns:dc=\"http://purl.org/dc/elements/1.1/\" xmlns:rdf=\"http://www.w3.org/1999/02/22-rdf-syntax-ns#\">\n   <cc:Work>\n    <dc:type rdf:resource=\"http://purl.org/dc/dcmitype/StillImage\"/>\n    <dc:date>2021-05-10T15:28:48.019709</dc:date>\n    <dc:format>image/svg+xml</dc:format>\n    <dc:creator>\n     <cc:Agent>\n      <dc:title>Matplotlib v3.3.4, https://matplotlib.org/</dc:title>\n     </cc:Agent>\n    </dc:creator>\n   </cc:Work>\n  </rdf:RDF>\n </metadata>\n <defs>\n  <style type=\"text/css\">*{stroke-linecap:butt;stroke-linejoin:round;}</style>\n </defs>\n <g id=\"figure_1\">\n  <g id=\"patch_1\">\n   <path d=\"M 0 225.612805 \nL 424.209375 225.612805 \nL 424.209375 0 \nL 0 0 \nz\n\" style=\"fill:none;\"/>\n  </g>\n  <g id=\"axes_1\">\n   <g id=\"patch_2\">\n    <path d=\"M 52.079375 186.12093 \nL 417.009375 186.12093 \nL 417.009375 9.679819 \nL 52.079375 9.679819 \nz\n\" style=\"fill:#f5f5f5;\"/>\n   </g>\n   <g id=\"matplotlib.axis_1\">\n    <g id=\"xtick_1\">\n     <g id=\"line2d_1\">\n      <path clip-path=\"url(#p645c9981bc)\" d=\"M 68.667102 186.12093 \nL 68.667102 9.679819 \n\" style=\"fill:none;stroke:#b0b0b0;stroke-dasharray:0.8,1.32;stroke-dashoffset:0;stroke-width:0.8;\"/>\n     </g>\n     <g id=\"line2d_2\">\n      <defs>\n       <path d=\"M 0 0 \nL 0 3.5 \n\" id=\"mea9b072094\" style=\"stroke:#000000;stroke-width:0.8;\"/>\n      </defs>\n      <g>\n       <use style=\"stroke:#000000;stroke-width:0.8;\" x=\"68.667102\" xlink:href=\"#mea9b072094\" y=\"186.12093\"/>\n      </g>\n     </g>\n     <g id=\"text_1\">\n      <!-- 0.0 -->\n      <g transform=\"translate(60.71554 200.719368)scale(0.1 -0.1)\">\n       <defs>\n        <path d=\"M 31.78125 3.421875 \nQ 39.265625 3.421875 42.96875 11.625 \nQ 46.6875 19.828125 46.6875 36.375 \nQ 46.6875 52.984375 42.96875 61.1875 \nQ 39.265625 69.390625 31.78125 69.390625 \nQ 24.3125 69.390625 20.59375 61.1875 \nQ 16.890625 52.984375 16.890625 36.375 \nQ 16.890625 19.828125 20.59375 11.625 \nQ 24.3125 3.421875 31.78125 3.421875 \nz\nM 31.78125 -1.421875 \nQ 19.921875 -1.421875 13.25 8.53125 \nQ 6.59375 18.5 6.59375 36.375 \nQ 6.59375 54.296875 13.25 64.25 \nQ 19.921875 74.21875 31.78125 74.21875 \nQ 43.703125 74.21875 50.34375 64.25 \nQ 56.984375 54.296875 56.984375 36.375 \nQ 56.984375 18.5 50.34375 8.53125 \nQ 43.703125 -1.421875 31.78125 -1.421875 \nz\n\" id=\"DejaVuSerif-48\"/>\n        <path d=\"M 9.421875 5.078125 \nQ 9.421875 7.8125 11.28125 9.71875 \nQ 13.140625 11.625 15.921875 11.625 \nQ 18.609375 11.625 20.5 9.71875 \nQ 22.40625 7.8125 22.40625 5.078125 \nQ 22.40625 2.390625 20.5 0.484375 \nQ 18.609375 -1.421875 15.921875 -1.421875 \nQ 13.140625 -1.421875 11.28125 0.453125 \nQ 9.421875 2.34375 9.421875 5.078125 \nz\n\" id=\"DejaVuSerif-46\"/>\n       </defs>\n       <use xlink:href=\"#DejaVuSerif-48\"/>\n       <use x=\"63.623047\" xlink:href=\"#DejaVuSerif-46\"/>\n       <use x=\"95.410156\" xlink:href=\"#DejaVuSerif-48\"/>\n      </g>\n     </g>\n    </g>\n    <g id=\"xtick_2\">\n     <g id=\"line2d_3\">\n      <path clip-path=\"url(#p645c9981bc)\" d=\"M 135.018011 186.12093 \nL 135.018011 9.679819 \n\" style=\"fill:none;stroke:#b0b0b0;stroke-dasharray:0.8,1.32;stroke-dashoffset:0;stroke-width:0.8;\"/>\n     </g>\n     <g id=\"line2d_4\">\n      <g>\n       <use style=\"stroke:#000000;stroke-width:0.8;\" x=\"135.018011\" xlink:href=\"#mea9b072094\" y=\"186.12093\"/>\n      </g>\n     </g>\n     <g id=\"text_2\">\n      <!-- 0.2 -->\n      <g transform=\"translate(127.066449 200.719368)scale(0.1 -0.1)\">\n       <defs>\n        <path d=\"M 12.796875 55.515625 \nL 7.328125 55.515625 \nL 7.328125 68.5 \nQ 12.546875 71.296875 17.84375 72.75 \nQ 23.140625 74.21875 28.21875 74.21875 \nQ 39.59375 74.21875 46.1875 68.703125 \nQ 52.78125 63.1875 52.78125 53.71875 \nQ 52.78125 43.015625 37.84375 28.125 \nQ 36.671875 27 36.078125 26.421875 \nL 17.671875 8.015625 \nL 48.09375 8.015625 \nL 48.09375 17 \nL 53.8125 17 \nL 53.8125 0 \nL 6.78125 0 \nL 6.78125 5.328125 \nL 28.90625 27.390625 \nQ 36.234375 34.71875 39.359375 40.84375 \nQ 42.484375 46.96875 42.484375 53.71875 \nQ 42.484375 61.078125 38.640625 65.234375 \nQ 34.8125 69.390625 28.078125 69.390625 \nQ 21.09375 69.390625 17.28125 65.921875 \nQ 13.484375 62.453125 12.796875 55.515625 \nz\n\" id=\"DejaVuSerif-50\"/>\n       </defs>\n       <use xlink:href=\"#DejaVuSerif-48\"/>\n       <use x=\"63.623047\" xlink:href=\"#DejaVuSerif-46\"/>\n       <use x=\"95.410156\" xlink:href=\"#DejaVuSerif-50\"/>\n      </g>\n     </g>\n    </g>\n    <g id=\"xtick_3\">\n     <g id=\"line2d_5\">\n      <path clip-path=\"url(#p645c9981bc)\" d=\"M 201.36892 186.12093 \nL 201.36892 9.679819 \n\" style=\"fill:none;stroke:#b0b0b0;stroke-dasharray:0.8,1.32;stroke-dashoffset:0;stroke-width:0.8;\"/>\n     </g>\n     <g id=\"line2d_6\">\n      <g>\n       <use style=\"stroke:#000000;stroke-width:0.8;\" x=\"201.36892\" xlink:href=\"#mea9b072094\" y=\"186.12093\"/>\n      </g>\n     </g>\n     <g id=\"text_3\">\n      <!-- 0.4 -->\n      <g transform=\"translate(193.417358 200.719368)scale(0.1 -0.1)\">\n       <defs>\n        <path d=\"M 34.90625 24.703125 \nL 34.90625 63.484375 \nL 10.015625 24.703125 \nz\nM 56.390625 0 \nL 23.1875 0 \nL 23.1875 5.171875 \nL 34.90625 5.171875 \nL 34.90625 19.484375 \nL 3.078125 19.484375 \nL 3.078125 24.8125 \nL 35.015625 74.21875 \nL 44.671875 74.21875 \nL 44.671875 24.703125 \nL 58.59375 24.703125 \nL 58.59375 19.484375 \nL 44.671875 19.484375 \nL 44.671875 5.171875 \nL 56.390625 5.171875 \nz\n\" id=\"DejaVuSerif-52\"/>\n       </defs>\n       <use xlink:href=\"#DejaVuSerif-48\"/>\n       <use x=\"63.623047\" xlink:href=\"#DejaVuSerif-46\"/>\n       <use x=\"95.410156\" xlink:href=\"#DejaVuSerif-52\"/>\n      </g>\n     </g>\n    </g>\n    <g id=\"xtick_4\">\n     <g id=\"line2d_7\">\n      <path clip-path=\"url(#p645c9981bc)\" d=\"M 267.71983 186.12093 \nL 267.71983 9.679819 \n\" style=\"fill:none;stroke:#b0b0b0;stroke-dasharray:0.8,1.32;stroke-dashoffset:0;stroke-width:0.8;\"/>\n     </g>\n     <g id=\"line2d_8\">\n      <g>\n       <use style=\"stroke:#000000;stroke-width:0.8;\" x=\"267.71983\" xlink:href=\"#mea9b072094\" y=\"186.12093\"/>\n      </g>\n     </g>\n     <g id=\"text_4\">\n      <!-- 0.6 -->\n      <g transform=\"translate(259.768267 200.719368)scale(0.1 -0.1)\">\n       <defs>\n        <path d=\"M 32.71875 3.421875 \nQ 39.59375 3.421875 43.296875 8.46875 \nQ 47.015625 13.53125 47.015625 23 \nQ 47.015625 32.46875 43.296875 37.515625 \nQ 39.59375 42.578125 32.71875 42.578125 \nQ 25.734375 42.578125 22.0625 37.6875 \nQ 18.40625 32.8125 18.40625 23.578125 \nQ 18.40625 13.875 22.109375 8.640625 \nQ 25.828125 3.421875 32.71875 3.421875 \nz\nM 16.796875 40.140625 \nQ 20.125 43.796875 24.3125 45.59375 \nQ 28.515625 47.40625 33.796875 47.40625 \nQ 44.671875 47.40625 51 40.859375 \nQ 57.328125 34.328125 57.328125 23 \nQ 57.328125 11.921875 50.515625 5.25 \nQ 43.703125 -1.421875 32.328125 -1.421875 \nQ 19.96875 -1.421875 13.328125 7.78125 \nQ 6.6875 17 6.6875 34.078125 \nQ 6.6875 53.21875 14.546875 63.71875 \nQ 22.40625 74.21875 36.71875 74.21875 \nQ 40.578125 74.21875 44.828125 73.484375 \nQ 49.078125 72.75 53.515625 71.296875 \nL 53.515625 59.28125 \nL 48 59.28125 \nQ 47.40625 64.203125 44.234375 66.796875 \nQ 41.0625 69.390625 35.6875 69.390625 \nQ 26.21875 69.390625 21.578125 62.203125 \nQ 16.9375 55.03125 16.796875 40.140625 \nz\n\" id=\"DejaVuSerif-54\"/>\n       </defs>\n       <use xlink:href=\"#DejaVuSerif-48\"/>\n       <use x=\"63.623047\" xlink:href=\"#DejaVuSerif-46\"/>\n       <use x=\"95.410156\" xlink:href=\"#DejaVuSerif-54\"/>\n      </g>\n     </g>\n    </g>\n    <g id=\"xtick_5\">\n     <g id=\"line2d_9\">\n      <path clip-path=\"url(#p645c9981bc)\" d=\"M 334.070739 186.12093 \nL 334.070739 9.679819 \n\" style=\"fill:none;stroke:#b0b0b0;stroke-dasharray:0.8,1.32;stroke-dashoffset:0;stroke-width:0.8;\"/>\n     </g>\n     <g id=\"line2d_10\">\n      <g>\n       <use style=\"stroke:#000000;stroke-width:0.8;\" x=\"334.070739\" xlink:href=\"#mea9b072094\" y=\"186.12093\"/>\n      </g>\n     </g>\n     <g id=\"text_5\">\n      <!-- 0.8 -->\n      <g transform=\"translate(326.119176 200.719368)scale(0.1 -0.1)\">\n       <defs>\n        <path d=\"M 46.578125 19.921875 \nQ 46.578125 27.734375 42.6875 32.046875 \nQ 38.8125 36.375 31.78125 36.375 \nQ 24.75 36.375 20.875 32.046875 \nQ 17 27.734375 17 19.921875 \nQ 17 12.0625 20.875 7.734375 \nQ 24.75 3.421875 31.78125 3.421875 \nQ 38.8125 3.421875 42.6875 7.734375 \nQ 46.578125 12.0625 46.578125 19.921875 \nz\nM 44.578125 55.328125 \nQ 44.578125 61.96875 41.203125 65.671875 \nQ 37.84375 69.390625 31.78125 69.390625 \nQ 25.78125 69.390625 22.390625 65.671875 \nQ 19 61.96875 19 55.328125 \nQ 19 48.640625 22.390625 44.921875 \nQ 25.78125 41.21875 31.78125 41.21875 \nQ 37.84375 41.21875 41.203125 44.921875 \nQ 44.578125 48.640625 44.578125 55.328125 \nz\nM 39.3125 38.8125 \nQ 47.609375 37.703125 52.25 32.6875 \nQ 56.890625 27.6875 56.890625 19.921875 \nQ 56.890625 9.671875 50.390625 4.125 \nQ 43.890625 -1.421875 31.78125 -1.421875 \nQ 19.734375 -1.421875 13.203125 4.125 \nQ 6.6875 9.671875 6.6875 19.921875 \nQ 6.6875 27.6875 11.328125 32.6875 \nQ 15.96875 37.703125 24.3125 38.8125 \nQ 16.9375 40.140625 13 44.40625 \nQ 9.078125 48.6875 9.078125 55.328125 \nQ 9.078125 64.109375 15.125 69.15625 \nQ 21.1875 74.21875 31.78125 74.21875 \nQ 42.390625 74.21875 48.4375 69.15625 \nQ 54.5 64.109375 54.5 55.328125 \nQ 54.5 48.6875 50.5625 44.40625 \nQ 46.625 40.140625 39.3125 38.8125 \nz\n\" id=\"DejaVuSerif-56\"/>\n       </defs>\n       <use xlink:href=\"#DejaVuSerif-48\"/>\n       <use x=\"63.623047\" xlink:href=\"#DejaVuSerif-46\"/>\n       <use x=\"95.410156\" xlink:href=\"#DejaVuSerif-56\"/>\n      </g>\n     </g>\n    </g>\n    <g id=\"xtick_6\">\n     <g id=\"line2d_11\">\n      <path clip-path=\"url(#p645c9981bc)\" d=\"M 400.421648 186.12093 \nL 400.421648 9.679819 \n\" style=\"fill:none;stroke:#b0b0b0;stroke-dasharray:0.8,1.32;stroke-dashoffset:0;stroke-width:0.8;\"/>\n     </g>\n     <g id=\"line2d_12\">\n      <g>\n       <use style=\"stroke:#000000;stroke-width:0.8;\" x=\"400.421648\" xlink:href=\"#mea9b072094\" y=\"186.12093\"/>\n      </g>\n     </g>\n     <g id=\"text_6\">\n      <!-- 1.0 -->\n      <g transform=\"translate(392.470085 200.719368)scale(0.1 -0.1)\">\n       <defs>\n        <path d=\"M 14.203125 0 \nL 14.203125 5.171875 \nL 26.90625 5.171875 \nL 26.90625 65.828125 \nL 12.203125 56.296875 \nL 12.203125 62.703125 \nL 29.984375 74.21875 \nL 36.71875 74.21875 \nL 36.71875 5.171875 \nL 49.421875 5.171875 \nL 49.421875 0 \nz\n\" id=\"DejaVuSerif-49\"/>\n       </defs>\n       <use xlink:href=\"#DejaVuSerif-49\"/>\n       <use x=\"63.623047\" xlink:href=\"#DejaVuSerif-46\"/>\n       <use x=\"95.410156\" xlink:href=\"#DejaVuSerif-48\"/>\n      </g>\n     </g>\n    </g>\n    <g id=\"text_7\">\n     <!-- gamma -->\n     <g transform=\"translate(212.169062 215.746555)scale(0.12 -0.12)\">\n      <defs>\n       <path d=\"M 52.484375 46.6875 \nL 52.484375 1.125 \nQ 52.484375 -10.0625 46.328125 -16.140625 \nQ 40.1875 -22.21875 28.8125 -22.21875 \nQ 23.6875 -22.21875 19 -21.28125 \nQ 14.3125 -20.359375 10.015625 -18.5 \nL 10.015625 -7.625 \nL 14.703125 -7.625 \nQ 15.578125 -12.703125 18.84375 -15.046875 \nQ 22.125 -17.390625 28.21875 -17.390625 \nQ 36.140625 -17.390625 39.8125 -12.921875 \nQ 43.5 -8.453125 43.5 1.125 \nL 43.5 8.109375 \nQ 40.875 3.21875 36.796875 0.890625 \nQ 32.71875 -1.421875 26.703125 -1.421875 \nQ 17.140625 -1.421875 11.0625 6.171875 \nQ 4.984375 13.765625 4.984375 25.984375 \nQ 4.984375 38.1875 11.03125 45.75 \nQ 17.09375 53.328125 26.703125 53.328125 \nQ 32.71875 53.328125 36.796875 51 \nQ 40.875 48.6875 43.5 43.796875 \nL 43.5 51.90625 \nL 61.078125 51.90625 \nL 61.078125 46.6875 \nz\nM 43.5 28.515625 \nQ 43.5 37.84375 39.90625 42.765625 \nQ 36.328125 47.703125 29.5 47.703125 \nQ 22.5625 47.703125 19.015625 42.234375 \nQ 15.484375 36.765625 15.484375 25.984375 \nQ 15.484375 15.234375 19.015625 9.71875 \nQ 22.5625 4.203125 29.5 4.203125 \nQ 36.328125 4.203125 39.90625 9.109375 \nQ 43.5 14.015625 43.5 23.390625 \nz\n\" id=\"DejaVuSerif-103\"/>\n       <path d=\"M 39.796875 16.3125 \nL 39.796875 27.296875 \nL 28.21875 27.296875 \nQ 21.53125 27.296875 18.25 24.40625 \nQ 14.984375 21.53125 14.984375 15.578125 \nQ 14.984375 10.15625 18.296875 6.984375 \nQ 21.625 3.8125 27.296875 3.8125 \nQ 32.90625 3.8125 36.34375 7.28125 \nQ 39.796875 10.75 39.796875 16.3125 \nz\nM 48.78125 32.421875 \nL 48.78125 5.171875 \nL 56.78125 5.171875 \nL 56.78125 0 \nL 39.796875 0 \nL 39.796875 5.609375 \nQ 36.8125 2 32.90625 0.28125 \nQ 29 -1.421875 23.78125 -1.421875 \nQ 15.140625 -1.421875 10.0625 3.171875 \nQ 4.984375 7.765625 4.984375 15.578125 \nQ 4.984375 23.640625 10.796875 28.078125 \nQ 16.609375 32.515625 27.203125 32.515625 \nL 39.796875 32.515625 \nL 39.796875 36.078125 \nQ 39.796875 42 36.203125 45.234375 \nQ 32.625 48.484375 26.125 48.484375 \nQ 20.75 48.484375 17.578125 46.046875 \nQ 14.40625 43.609375 13.625 38.8125 \nL 8.984375 38.8125 \nL 8.984375 49.3125 \nQ 13.671875 51.3125 18.09375 52.3125 \nQ 22.515625 53.328125 26.703125 53.328125 \nQ 37.5 53.328125 43.140625 47.96875 \nQ 48.78125 42.625 48.78125 32.421875 \nz\n\" id=\"DejaVuSerif-97\"/>\n       <path d=\"M 51.8125 41.796875 \nQ 54.390625 47.515625 58.421875 50.421875 \nQ 62.453125 53.328125 67.828125 53.328125 \nQ 75.984375 53.328125 79.984375 48.265625 \nQ 83.984375 43.21875 83.984375 33.015625 \nL 83.984375 5.171875 \nL 92.09375 5.171875 \nL 92.09375 0 \nL 67.1875 0 \nL 67.1875 5.171875 \nL 75 5.171875 \nL 75 31.984375 \nQ 75 39.9375 72.65625 43.3125 \nQ 70.3125 46.6875 64.890625 46.6875 \nQ 58.890625 46.6875 55.734375 42.140625 \nQ 52.59375 37.59375 52.59375 28.90625 \nL 52.59375 5.171875 \nL 60.40625 5.171875 \nL 60.40625 0 \nL 35.796875 0 \nL 35.796875 5.171875 \nL 43.609375 5.171875 \nL 43.609375 32.328125 \nQ 43.609375 40.09375 41.265625 43.390625 \nQ 38.921875 46.6875 33.5 46.6875 \nQ 27.484375 46.6875 24.328125 42.140625 \nQ 21.1875 37.59375 21.1875 28.90625 \nL 21.1875 5.171875 \nL 29 5.171875 \nL 29 0 \nL 4.109375 0 \nL 4.109375 5.171875 \nL 12.203125 5.171875 \nL 12.203125 46.78125 \nL 3.609375 46.78125 \nL 3.609375 51.90625 \nL 21.1875 51.90625 \nL 21.1875 42.671875 \nQ 23.6875 47.859375 27.53125 50.59375 \nQ 31.390625 53.328125 36.28125 53.328125 \nQ 42.328125 53.328125 46.375 50.3125 \nQ 50.4375 47.3125 51.8125 41.796875 \nz\n\" id=\"DejaVuSerif-109\"/>\n      </defs>\n      <use xlink:href=\"#DejaVuSerif-103\"/>\n      <use x=\"64.013672\" xlink:href=\"#DejaVuSerif-97\"/>\n      <use x=\"123.632812\" xlink:href=\"#DejaVuSerif-109\"/>\n      <use x=\"218.457031\" xlink:href=\"#DejaVuSerif-109\"/>\n      <use x=\"313.28125\" xlink:href=\"#DejaVuSerif-97\"/>\n     </g>\n    </g>\n   </g>\n   <g id=\"matplotlib.axis_2\">\n    <g id=\"ytick_1\">\n     <g id=\"line2d_13\">\n      <path clip-path=\"url(#p645c9981bc)\" d=\"M 52.079375 185.149833 \nL 417.009375 185.149833 \n\" style=\"fill:none;stroke:#b0b0b0;stroke-dasharray:0.8,1.32;stroke-dashoffset:0;stroke-width:0.8;\"/>\n     </g>\n     <g id=\"line2d_14\">\n      <defs>\n       <path d=\"M 0 0 \nL -3.5 0 \n\" id=\"mc2f1dc42d9\" style=\"stroke:#000000;stroke-width:0.8;\"/>\n      </defs>\n      <g>\n       <use style=\"stroke:#000000;stroke-width:0.8;\" x=\"52.079375\" xlink:href=\"#mc2f1dc42d9\" y=\"185.149833\"/>\n      </g>\n     </g>\n     <g id=\"text_8\">\n      <!-- 0.82 -->\n      <g transform=\"translate(22.81375 188.949052)scale(0.1 -0.1)\">\n       <use xlink:href=\"#DejaVuSerif-48\"/>\n       <use x=\"63.623047\" xlink:href=\"#DejaVuSerif-46\"/>\n       <use x=\"95.410156\" xlink:href=\"#DejaVuSerif-56\"/>\n       <use x=\"159.033203\" xlink:href=\"#DejaVuSerif-50\"/>\n      </g>\n     </g>\n    </g>\n    <g id=\"ytick_2\">\n     <g id=\"line2d_15\">\n      <path clip-path=\"url(#p645c9981bc)\" d=\"M 52.079375 160.271174 \nL 417.009375 160.271174 \n\" style=\"fill:none;stroke:#b0b0b0;stroke-dasharray:0.8,1.32;stroke-dashoffset:0;stroke-width:0.8;\"/>\n     </g>\n     <g id=\"line2d_16\">\n      <g>\n       <use style=\"stroke:#000000;stroke-width:0.8;\" x=\"52.079375\" xlink:href=\"#mc2f1dc42d9\" y=\"160.271174\"/>\n      </g>\n     </g>\n     <g id=\"text_9\">\n      <!-- 0.84 -->\n      <g transform=\"translate(22.81375 164.070393)scale(0.1 -0.1)\">\n       <use xlink:href=\"#DejaVuSerif-48\"/>\n       <use x=\"63.623047\" xlink:href=\"#DejaVuSerif-46\"/>\n       <use x=\"95.410156\" xlink:href=\"#DejaVuSerif-56\"/>\n       <use x=\"159.033203\" xlink:href=\"#DejaVuSerif-52\"/>\n      </g>\n     </g>\n    </g>\n    <g id=\"ytick_3\">\n     <g id=\"line2d_17\">\n      <path clip-path=\"url(#p645c9981bc)\" d=\"M 52.079375 135.392515 \nL 417.009375 135.392515 \n\" style=\"fill:none;stroke:#b0b0b0;stroke-dasharray:0.8,1.32;stroke-dashoffset:0;stroke-width:0.8;\"/>\n     </g>\n     <g id=\"line2d_18\">\n      <g>\n       <use style=\"stroke:#000000;stroke-width:0.8;\" x=\"52.079375\" xlink:href=\"#mc2f1dc42d9\" y=\"135.392515\"/>\n      </g>\n     </g>\n     <g id=\"text_10\">\n      <!-- 0.86 -->\n      <g transform=\"translate(22.81375 139.191734)scale(0.1 -0.1)\">\n       <use xlink:href=\"#DejaVuSerif-48\"/>\n       <use x=\"63.623047\" xlink:href=\"#DejaVuSerif-46\"/>\n       <use x=\"95.410156\" xlink:href=\"#DejaVuSerif-56\"/>\n       <use x=\"159.033203\" xlink:href=\"#DejaVuSerif-54\"/>\n      </g>\n     </g>\n    </g>\n    <g id=\"ytick_4\">\n     <g id=\"line2d_19\">\n      <path clip-path=\"url(#p645c9981bc)\" d=\"M 52.079375 110.513856 \nL 417.009375 110.513856 \n\" style=\"fill:none;stroke:#b0b0b0;stroke-dasharray:0.8,1.32;stroke-dashoffset:0;stroke-width:0.8;\"/>\n     </g>\n     <g id=\"line2d_20\">\n      <g>\n       <use style=\"stroke:#000000;stroke-width:0.8;\" x=\"52.079375\" xlink:href=\"#mc2f1dc42d9\" y=\"110.513856\"/>\n      </g>\n     </g>\n     <g id=\"text_11\">\n      <!-- 0.88 -->\n      <g transform=\"translate(22.81375 114.313074)scale(0.1 -0.1)\">\n       <use xlink:href=\"#DejaVuSerif-48\"/>\n       <use x=\"63.623047\" xlink:href=\"#DejaVuSerif-46\"/>\n       <use x=\"95.410156\" xlink:href=\"#DejaVuSerif-56\"/>\n       <use x=\"159.033203\" xlink:href=\"#DejaVuSerif-56\"/>\n      </g>\n     </g>\n    </g>\n    <g id=\"ytick_5\">\n     <g id=\"line2d_21\">\n      <path clip-path=\"url(#p645c9981bc)\" d=\"M 52.079375 85.635196 \nL 417.009375 85.635196 \n\" style=\"fill:none;stroke:#b0b0b0;stroke-dasharray:0.8,1.32;stroke-dashoffset:0;stroke-width:0.8;\"/>\n     </g>\n     <g id=\"line2d_22\">\n      <g>\n       <use style=\"stroke:#000000;stroke-width:0.8;\" x=\"52.079375\" xlink:href=\"#mc2f1dc42d9\" y=\"85.635196\"/>\n      </g>\n     </g>\n     <g id=\"text_12\">\n      <!-- 0.90 -->\n      <g transform=\"translate(22.81375 89.434415)scale(0.1 -0.1)\">\n       <defs>\n        <path d=\"M 46.78125 32.671875 \nQ 43.5 29 39.25 27.1875 \nQ 35.015625 25.390625 29.6875 25.390625 \nQ 18.84375 25.390625 12.5625 31.9375 \nQ 6.296875 38.484375 6.296875 49.8125 \nQ 6.296875 60.890625 13.109375 67.546875 \nQ 19.921875 74.21875 31.296875 74.21875 \nQ 43.65625 74.21875 50.265625 65.015625 \nQ 56.890625 55.8125 56.890625 38.71875 \nQ 56.890625 19.578125 49.015625 9.078125 \nQ 41.15625 -1.421875 26.90625 -1.421875 \nQ 23.046875 -1.421875 18.796875 -0.6875 \nQ 14.546875 0.046875 10.109375 1.515625 \nL 10.109375 13.625 \nL 15.578125 13.625 \nQ 16.21875 8.6875 19.390625 6.046875 \nQ 22.5625 3.421875 27.875 3.421875 \nQ 37.359375 3.421875 41.984375 10.5625 \nQ 46.625 17.71875 46.78125 32.671875 \nz\nM 30.90625 69.390625 \nQ 23.96875 69.390625 20.28125 64.328125 \nQ 16.609375 59.28125 16.609375 49.8125 \nQ 16.609375 40.328125 20.28125 35.25 \nQ 23.96875 30.171875 30.90625 30.171875 \nQ 37.84375 30.171875 41.53125 35.078125 \nQ 45.21875 39.984375 45.21875 49.21875 \nQ 45.21875 58.9375 41.5 64.15625 \nQ 37.796875 69.390625 30.90625 69.390625 \nz\n\" id=\"DejaVuSerif-57\"/>\n       </defs>\n       <use xlink:href=\"#DejaVuSerif-48\"/>\n       <use x=\"63.623047\" xlink:href=\"#DejaVuSerif-46\"/>\n       <use x=\"95.410156\" xlink:href=\"#DejaVuSerif-57\"/>\n       <use x=\"159.033203\" xlink:href=\"#DejaVuSerif-48\"/>\n      </g>\n     </g>\n    </g>\n    <g id=\"ytick_6\">\n     <g id=\"line2d_23\">\n      <path clip-path=\"url(#p645c9981bc)\" d=\"M 52.079375 60.756537 \nL 417.009375 60.756537 \n\" style=\"fill:none;stroke:#b0b0b0;stroke-dasharray:0.8,1.32;stroke-dashoffset:0;stroke-width:0.8;\"/>\n     </g>\n     <g id=\"line2d_24\">\n      <g>\n       <use style=\"stroke:#000000;stroke-width:0.8;\" x=\"52.079375\" xlink:href=\"#mc2f1dc42d9\" y=\"60.756537\"/>\n      </g>\n     </g>\n     <g id=\"text_13\">\n      <!-- 0.92 -->\n      <g transform=\"translate(22.81375 64.555756)scale(0.1 -0.1)\">\n       <use xlink:href=\"#DejaVuSerif-48\"/>\n       <use x=\"63.623047\" xlink:href=\"#DejaVuSerif-46\"/>\n       <use x=\"95.410156\" xlink:href=\"#DejaVuSerif-57\"/>\n       <use x=\"159.033203\" xlink:href=\"#DejaVuSerif-50\"/>\n      </g>\n     </g>\n    </g>\n    <g id=\"ytick_7\">\n     <g id=\"line2d_25\">\n      <path clip-path=\"url(#p645c9981bc)\" d=\"M 52.079375 35.877878 \nL 417.009375 35.877878 \n\" style=\"fill:none;stroke:#b0b0b0;stroke-dasharray:0.8,1.32;stroke-dashoffset:0;stroke-width:0.8;\"/>\n     </g>\n     <g id=\"line2d_26\">\n      <g>\n       <use style=\"stroke:#000000;stroke-width:0.8;\" x=\"52.079375\" xlink:href=\"#mc2f1dc42d9\" y=\"35.877878\"/>\n      </g>\n     </g>\n     <g id=\"text_14\">\n      <!-- 0.94 -->\n      <g transform=\"translate(22.81375 39.677097)scale(0.1 -0.1)\">\n       <use xlink:href=\"#DejaVuSerif-48\"/>\n       <use x=\"63.623047\" xlink:href=\"#DejaVuSerif-46\"/>\n       <use x=\"95.410156\" xlink:href=\"#DejaVuSerif-57\"/>\n       <use x=\"159.033203\" xlink:href=\"#DejaVuSerif-52\"/>\n      </g>\n     </g>\n    </g>\n    <g id=\"ytick_8\">\n     <g id=\"line2d_27\">\n      <path clip-path=\"url(#p645c9981bc)\" d=\"M 52.079375 10.999219 \nL 417.009375 10.999219 \n\" style=\"fill:none;stroke:#b0b0b0;stroke-dasharray:0.8,1.32;stroke-dashoffset:0;stroke-width:0.8;\"/>\n     </g>\n     <g id=\"line2d_28\">\n      <g>\n       <use style=\"stroke:#000000;stroke-width:0.8;\" x=\"52.079375\" xlink:href=\"#mc2f1dc42d9\" y=\"10.999219\"/>\n      </g>\n     </g>\n     <g id=\"text_15\">\n      <!-- 0.96 -->\n      <g transform=\"translate(22.81375 14.798437)scale(0.1 -0.1)\">\n       <use xlink:href=\"#DejaVuSerif-48\"/>\n       <use x=\"63.623047\" xlink:href=\"#DejaVuSerif-46\"/>\n       <use x=\"95.410156\" xlink:href=\"#DejaVuSerif-57\"/>\n       <use x=\"159.033203\" xlink:href=\"#DejaVuSerif-54\"/>\n      </g>\n     </g>\n    </g>\n    <g id=\"text_16\">\n     <!-- accuracy -->\n     <g transform=\"translate(16.1475 125.257562)rotate(-90)scale(0.12 -0.12)\">\n      <defs>\n       <path d=\"M 51.421875 15.578125 \nQ 49.515625 7.28125 44.09375 2.921875 \nQ 38.671875 -1.421875 30.078125 -1.421875 \nQ 18.75 -1.421875 11.859375 6.078125 \nQ 4.984375 13.578125 4.984375 25.984375 \nQ 4.984375 38.421875 11.859375 45.875 \nQ 18.75 53.328125 30.078125 53.328125 \nQ 35.015625 53.328125 39.890625 52.171875 \nQ 44.78125 51.03125 49.703125 48.6875 \nL 49.703125 35.40625 \nL 44.484375 35.40625 \nQ 43.453125 42.234375 40.015625 45.359375 \nQ 36.578125 48.484375 30.171875 48.484375 \nQ 22.90625 48.484375 19.1875 42.84375 \nQ 15.484375 37.203125 15.484375 25.984375 \nQ 15.484375 14.75 19.171875 9.078125 \nQ 22.859375 3.421875 30.171875 3.421875 \nQ 35.984375 3.421875 39.453125 6.4375 \nQ 42.921875 9.46875 44.1875 15.578125 \nz\n\" id=\"DejaVuSerif-99\"/>\n       <path d=\"M 35.40625 51.90625 \nL 52.203125 51.90625 \nL 52.203125 5.171875 \nL 60.6875 5.171875 \nL 60.6875 0 \nL 43.21875 0 \nL 43.21875 9.1875 \nQ 40.71875 4 36.765625 1.28125 \nQ 32.8125 -1.421875 27.59375 -1.421875 \nQ 18.953125 -1.421875 14.875 3.484375 \nQ 10.796875 8.40625 10.796875 18.890625 \nL 10.796875 46.6875 \nL 2.6875 46.6875 \nL 2.6875 51.90625 \nL 19.828125 51.90625 \nL 19.828125 21.6875 \nQ 19.828125 12.203125 22.140625 8.6875 \nQ 24.46875 5.171875 30.421875 5.171875 \nQ 36.671875 5.171875 39.9375 9.765625 \nQ 43.21875 14.359375 43.21875 23.09375 \nL 43.21875 46.6875 \nL 35.40625 46.6875 \nz\n\" id=\"DejaVuSerif-117\"/>\n       <path d=\"M 47.796875 52 \nL 47.796875 39.015625 \nL 42.625 39.015625 \nQ 42.390625 42.875 40.484375 44.78125 \nQ 38.578125 46.6875 34.90625 46.6875 \nQ 28.265625 46.6875 24.71875 42.09375 \nQ 21.1875 37.5 21.1875 28.90625 \nL 21.1875 5.171875 \nL 31.59375 5.171875 \nL 31.59375 0 \nL 4.109375 0 \nL 4.109375 5.171875 \nL 12.203125 5.171875 \nL 12.203125 46.78125 \nL 3.609375 46.78125 \nL 3.609375 51.90625 \nL 21.1875 51.90625 \nL 21.1875 42.671875 \nQ 23.828125 48.09375 27.96875 50.703125 \nQ 32.125 53.328125 38.09375 53.328125 \nQ 40.28125 53.328125 42.703125 52.984375 \nQ 45.125 52.640625 47.796875 52 \nz\n\" id=\"DejaVuSerif-114\"/>\n       <path d=\"M 21.578125 -9.515625 \nL 25 -0.875 \nL 5.609375 46.6875 \nL -0.296875 46.6875 \nL -0.296875 51.90625 \nL 23.578125 51.90625 \nL 23.578125 46.6875 \nL 15.28125 46.6875 \nL 29.890625 10.984375 \nL 44.484375 46.6875 \nL 36.71875 46.6875 \nL 36.71875 51.90625 \nL 56.203125 51.90625 \nL 56.203125 46.6875 \nL 50.390625 46.6875 \nL 26.609375 -11.71875 \nQ 24.171875 -17.78125 21.1875 -20 \nQ 18.21875 -22.21875 12.796875 -22.21875 \nQ 10.5 -22.21875 8.078125 -21.828125 \nQ 5.671875 -21.4375 3.21875 -20.703125 \nL 3.21875 -10.796875 \nL 7.8125 -10.796875 \nQ 8.109375 -14.109375 9.5 -15.546875 \nQ 10.890625 -17 13.8125 -17 \nQ 16.5 -17 18.140625 -15.5 \nQ 19.78125 -14.015625 21.578125 -9.515625 \nz\n\" id=\"DejaVuSerif-121\"/>\n      </defs>\n      <use xlink:href=\"#DejaVuSerif-97\"/>\n      <use x=\"59.619141\" xlink:href=\"#DejaVuSerif-99\"/>\n      <use x=\"115.625\" xlink:href=\"#DejaVuSerif-99\"/>\n      <use x=\"171.630859\" xlink:href=\"#DejaVuSerif-117\"/>\n      <use x=\"236.035156\" xlink:href=\"#DejaVuSerif-114\"/>\n      <use x=\"283.837891\" xlink:href=\"#DejaVuSerif-97\"/>\n      <use x=\"343.457031\" xlink:href=\"#DejaVuSerif-99\"/>\n      <use x=\"399.462891\" xlink:href=\"#DejaVuSerif-121\"/>\n     </g>\n    </g>\n   </g>\n   <g id=\"line2d_29\">\n    <path clip-path=\"url(#p645c9981bc)\" d=\"M 68.667102 17.69987 \nL 151.605739 18.446232 \nL 234.544375 24.50004 \nL 317.483011 34.617353 \nL 400.421648 42.147299 \n\" style=\"fill:none;stroke:#c53212;stroke-linecap:square;stroke-width:1.5;\"/>\n   </g>\n   <g id=\"line2d_30\">\n    <path clip-path=\"url(#p645c9981bc)\" d=\"M 68.667102 162.75904 \nL 151.605739 83.14733 \nL 234.544375 81.903398 \nL 317.483011 67.390846 \nL 400.421648 69.464068 \n\" style=\"fill:none;stroke:#55aa99;stroke-linecap:square;stroke-width:1.5;\"/>\n   </g>\n   <g id=\"line2d_31\"/>\n   <g id=\"line2d_32\"/>\n   <g id=\"line2d_33\">\n    <path clip-path=\"url(#p645c9981bc)\" d=\"M 68.667102 24.616137 \nL 151.605739 21.647284 \nL 234.544375 28.994782 \nL 317.483011 41.931679 \nL 400.421648 50.622627 \n\" style=\"fill:none;stroke:#ff5733;stroke-dasharray:5.55,2.4;stroke-dashoffset:0;stroke-width:1.5;\"/>\n   </g>\n   <g id=\"line2d_34\">\n    <path clip-path=\"url(#p645c9981bc)\" d=\"M 68.667102 178.10088 \nL 151.605739 90.196284 \nL 234.544375 89.78164 \nL 317.483011 70.708001 \nL 400.421648 86.049841 \n\" style=\"fill:none;stroke:#55aa66;stroke-dasharray:5.55,2.4;stroke-dashoffset:0;stroke-width:1.5;\"/>\n   </g>\n   <g id=\"patch_3\">\n    <path d=\"M 52.079375 186.12093 \nL 52.079375 9.679819 \n\" style=\"fill:none;stroke:#000000;stroke-linecap:square;stroke-linejoin:miter;stroke-width:0.8;\"/>\n   </g>\n   <g id=\"patch_4\">\n    <path d=\"M 417.009375 186.12093 \nL 417.009375 9.679819 \n\" style=\"fill:none;stroke:#000000;stroke-linecap:square;stroke-linejoin:miter;stroke-width:0.8;\"/>\n   </g>\n   <g id=\"patch_5\">\n    <path d=\"M 52.079375 186.12093 \nL 417.009375 186.12093 \n\" style=\"fill:none;stroke:#000000;stroke-linecap:square;stroke-linejoin:miter;stroke-width:0.8;\"/>\n   </g>\n   <g id=\"patch_6\">\n    <path d=\"M 52.079375 9.679819 \nL 417.009375 9.679819 \n\" style=\"fill:none;stroke:#000000;stroke-linecap:square;stroke-linejoin:miter;stroke-width:0.8;\"/>\n   </g>\n   <g id=\"legend_1\">\n    <g id=\"patch_7\">\n     <path d=\"M 303.014062 181.12093 \nL 410.009375 181.12093 \nQ 412.009375 181.12093 412.009375 179.12093 \nL 412.009375 150.20843 \nQ 412.009375 148.20843 410.009375 148.20843 \nL 303.014062 148.20843 \nQ 301.014062 148.20843 301.014062 150.20843 \nL 301.014062 179.12093 \nQ 301.014062 181.12093 303.014062 181.12093 \nz\n\" style=\"fill:#f5f5f5;opacity:0.8;stroke:#cccccc;stroke-linejoin:miter;\"/>\n    </g>\n    <g id=\"line2d_35\">\n     <path d=\"M 305.014062 156.306868 \nL 325.014062 156.306868 \n\" style=\"fill:none;stroke:#c53212;stroke-linecap:square;stroke-width:1.5;\"/>\n    </g>\n    <g id=\"line2d_36\"/>\n    <g id=\"text_17\">\n     <!-- train_accuracy -->\n     <g transform=\"translate(333.014062 159.806868)scale(0.1 -0.1)\">\n      <defs>\n       <path d=\"M 10.796875 46.6875 \nL 2.875 46.6875 \nL 2.875 51.90625 \nL 10.796875 51.90625 \nL 10.796875 68.015625 \nL 19.828125 68.015625 \nL 19.828125 51.90625 \nL 36.71875 51.90625 \nL 36.71875 46.6875 \nL 19.828125 46.6875 \nL 19.828125 13.71875 \nQ 19.828125 7.125 21.09375 5.265625 \nQ 22.359375 3.421875 25.78125 3.421875 \nQ 29.296875 3.421875 30.90625 5.484375 \nQ 32.515625 7.5625 32.625 12.203125 \nL 39.40625 12.203125 \nQ 39.015625 5.125 35.546875 1.84375 \nQ 32.078125 -1.421875 25 -1.421875 \nQ 17.234375 -1.421875 14.015625 2.015625 \nQ 10.796875 5.46875 10.796875 13.71875 \nz\n\" id=\"DejaVuSerif-116\"/>\n       <path d=\"M 9.71875 68.015625 \nQ 9.71875 70.265625 11.34375 71.921875 \nQ 12.984375 73.578125 15.28125 73.578125 \nQ 17.53125 73.578125 19.15625 71.921875 \nQ 20.796875 70.265625 20.796875 68.015625 \nQ 20.796875 65.71875 19.1875 64.109375 \nQ 17.578125 62.5 15.28125 62.5 \nQ 12.984375 62.5 11.34375 64.109375 \nQ 9.71875 65.71875 9.71875 68.015625 \nz\nM 21.1875 5.171875 \nL 29.6875 5.171875 \nL 29.6875 0 \nL 3.609375 0 \nL 3.609375 5.171875 \nL 12.203125 5.171875 \nL 12.203125 46.6875 \nL 3.609375 46.6875 \nL 3.609375 51.90625 \nL 21.1875 51.90625 \nz\n\" id=\"DejaVuSerif-105\"/>\n       <path d=\"M 4.109375 0 \nL 4.109375 5.171875 \nL 12.203125 5.171875 \nL 12.203125 46.6875 \nL 3.609375 46.6875 \nL 3.609375 51.90625 \nL 21.1875 51.90625 \nL 21.1875 42.671875 \nQ 23.6875 47.953125 27.65625 50.640625 \nQ 31.640625 53.328125 36.921875 53.328125 \nQ 45.515625 53.328125 49.5625 48.390625 \nQ 53.609375 43.453125 53.609375 33.015625 \nL 53.609375 5.171875 \nL 61.625 5.171875 \nL 61.625 0 \nL 36.8125 0 \nL 36.8125 5.171875 \nL 44.578125 5.171875 \nL 44.578125 30.171875 \nQ 44.578125 39.703125 42.234375 43.234375 \nQ 39.890625 46.78125 33.984375 46.78125 \nQ 27.734375 46.78125 24.453125 42.203125 \nQ 21.1875 37.640625 21.1875 28.90625 \nL 21.1875 5.171875 \nL 29 5.171875 \nL 29 0 \nz\n\" id=\"DejaVuSerif-110\"/>\n       <path d=\"M 50 -19.671875 \nL 50 -23.578125 \nL 0 -23.578125 \nL 0 -19.671875 \nz\n\" id=\"DejaVuSerif-95\"/>\n      </defs>\n      <use xlink:href=\"#DejaVuSerif-116\"/>\n      <use x=\"40.185547\" xlink:href=\"#DejaVuSerif-114\"/>\n      <use x=\"87.988281\" xlink:href=\"#DejaVuSerif-97\"/>\n      <use x=\"147.607422\" xlink:href=\"#DejaVuSerif-105\"/>\n      <use x=\"179.589844\" xlink:href=\"#DejaVuSerif-110\"/>\n      <use x=\"243.994141\" xlink:href=\"#DejaVuSerif-95\"/>\n      <use x=\"293.994141\" xlink:href=\"#DejaVuSerif-97\"/>\n      <use x=\"353.613281\" xlink:href=\"#DejaVuSerif-99\"/>\n      <use x=\"409.619141\" xlink:href=\"#DejaVuSerif-99\"/>\n      <use x=\"465.625\" xlink:href=\"#DejaVuSerif-117\"/>\n      <use x=\"530.029297\" xlink:href=\"#DejaVuSerif-114\"/>\n      <use x=\"577.832031\" xlink:href=\"#DejaVuSerif-97\"/>\n      <use x=\"637.451172\" xlink:href=\"#DejaVuSerif-99\"/>\n      <use x=\"693.457031\" xlink:href=\"#DejaVuSerif-121\"/>\n     </g>\n    </g>\n    <g id=\"line2d_37\">\n     <path d=\"M 305.014062 171.263118 \nL 325.014062 171.263118 \n\" style=\"fill:none;stroke:#55aa99;stroke-linecap:square;stroke-width:1.5;\"/>\n    </g>\n    <g id=\"line2d_38\"/>\n    <g id=\"text_18\">\n     <!-- test_accuracy -->\n     <g transform=\"translate(333.014062 174.763118)scale(0.1 -0.1)\">\n      <defs>\n       <path d=\"M 54.203125 25 \nL 15.484375 25 \nL 15.484375 24.609375 \nQ 15.484375 14.109375 19.4375 8.765625 \nQ 23.390625 3.421875 31.109375 3.421875 \nQ 37.015625 3.421875 40.796875 6.515625 \nQ 44.578125 9.625 46.09375 15.71875 \nL 53.328125 15.71875 \nQ 51.171875 7.171875 45.375 2.875 \nQ 39.59375 -1.421875 30.171875 -1.421875 \nQ 18.796875 -1.421875 11.890625 6.078125 \nQ 4.984375 13.578125 4.984375 25.984375 \nQ 4.984375 38.28125 11.765625 45.796875 \nQ 18.5625 53.328125 29.59375 53.328125 \nQ 41.359375 53.328125 47.65625 46.0625 \nQ 53.953125 38.8125 54.203125 25 \nz\nM 43.609375 30.171875 \nQ 43.3125 39.265625 39.765625 43.875 \nQ 36.234375 48.484375 29.59375 48.484375 \nQ 23.390625 48.484375 19.828125 43.84375 \nQ 16.265625 39.203125 15.484375 30.171875 \nz\n\" id=\"DejaVuSerif-101\"/>\n       <path d=\"M 5.609375 2.875 \nL 5.609375 14.984375 \nL 10.796875 14.984375 \nQ 10.984375 9.1875 14.421875 6.296875 \nQ 17.875 3.421875 24.609375 3.421875 \nQ 30.671875 3.421875 33.84375 5.6875 \nQ 37.015625 7.953125 37.015625 12.3125 \nQ 37.015625 15.71875 34.6875 17.8125 \nQ 32.375 19.921875 24.90625 22.3125 \nL 18.40625 24.515625 \nQ 11.71875 26.65625 8.71875 29.875 \nQ 5.71875 33.109375 5.71875 38.09375 \nQ 5.71875 45.21875 10.9375 49.265625 \nQ 16.15625 53.328125 25.390625 53.328125 \nQ 29.5 53.328125 34.03125 52.25 \nQ 38.578125 51.171875 43.40625 49.125 \nL 43.40625 37.796875 \nL 38.234375 37.796875 \nQ 38.03125 42.828125 34.703125 45.65625 \nQ 31.390625 48.484375 25.6875 48.484375 \nQ 20.015625 48.484375 17.109375 46.484375 \nQ 14.203125 44.484375 14.203125 40.484375 \nQ 14.203125 37.203125 16.40625 35.21875 \nQ 18.609375 33.25 25.203125 31.203125 \nL 32.328125 29 \nQ 39.703125 26.703125 42.9375 23.265625 \nQ 46.1875 19.828125 46.1875 14.40625 \nQ 46.1875 7.03125 40.546875 2.796875 \nQ 34.90625 -1.421875 25 -1.421875 \nQ 19.96875 -1.421875 15.1875 -0.34375 \nQ 10.40625 0.734375 5.609375 2.875 \nz\n\" id=\"DejaVuSerif-115\"/>\n      </defs>\n      <use xlink:href=\"#DejaVuSerif-116\"/>\n      <use x=\"40.185547\" xlink:href=\"#DejaVuSerif-101\"/>\n      <use x=\"99.365234\" xlink:href=\"#DejaVuSerif-115\"/>\n      <use x=\"150.683594\" xlink:href=\"#DejaVuSerif-116\"/>\n      <use x=\"190.869141\" xlink:href=\"#DejaVuSerif-95\"/>\n      <use x=\"240.869141\" xlink:href=\"#DejaVuSerif-97\"/>\n      <use x=\"300.488281\" xlink:href=\"#DejaVuSerif-99\"/>\n      <use x=\"356.494141\" xlink:href=\"#DejaVuSerif-99\"/>\n      <use x=\"412.5\" xlink:href=\"#DejaVuSerif-117\"/>\n      <use x=\"476.904297\" xlink:href=\"#DejaVuSerif-114\"/>\n      <use x=\"524.707031\" xlink:href=\"#DejaVuSerif-97\"/>\n      <use x=\"584.326172\" xlink:href=\"#DejaVuSerif-99\"/>\n      <use x=\"640.332031\" xlink:href=\"#DejaVuSerif-121\"/>\n     </g>\n    </g>\n   </g>\n  </g>\n </g>\n <defs>\n  <clipPath id=\"p645c9981bc\">\n   <rect height=\"176.441111\" width=\"364.93\" x=\"52.079375\" y=\"9.679819\"/>\n  </clipPath>\n </defs>\n</svg>\n",
      "image/png": "[encoded data removed]"
     },
     "metadata": {
      "needs_background": "light"
     }
    }
   ],
   "source": [
    "fig, ax = plt.subplots(figsize=(6, 3.25), dpi=100)\n",
    "\n",
    "palette = sns.color_palette(\"blend:#C53212,#5A9\", n_colors=2)\n",
    "palette1 = sns.color_palette(\"blend:#FF5733,#5A6\", n_colors=2)\n",
    "\n",
    "sConv = best[best.model == 'SiameseConvNet'].copy()\n",
    "sConv.rename(columns={'dataset': 'SiameseConvNet'}, inplace=True)\n",
    "sns.lineplot(data=sConv, x=\"gamma\", y=\"accuracy\", hue=\"SiameseConvNet\", palette=palette, ax=ax)\n",
    "\n",
    "sMLP = best[best.model == 'SiameseMLP'].copy()\n",
    "sMLP.rename(columns={'dataset': 'SiameseMLP'}, inplace=True)\n",
    "sns.lineplot(data=sMLP, x=\"gamma\", y=\"accuracy\", hue=\"SiameseMLP\", palette=palette1, ax=ax, linestyle='--', legend=False)\n",
    "\n",
    "lgd = ax.legend().set_title('')\n",
    "\n",
    "plt.tight_layout()\n",
    "\n",
    "plt.savefig('../figures/gamma.png', dpi=fig.dpi)"
   ]
  },
  {
   "cell_type": "code",
   "execution_count": 82,
   "metadata": {},
   "outputs": [],
   "source": [
    "surface = np.zeros((5, 4))\n",
    "\n",
    "learning_rates = [5e-4, 1e-3, 5e-3, 1e-2, 5e-2]\n",
    "learning_rates = dict(zip(learning_rates, range(len(learning_rates))))\n",
    "weight_decays = [1e-4, 1e-3, 1e-2, 1e-1]\n",
    "weight_decays = dict(zip(weight_decays, range(len(weight_decays))))\n",
    "\n",
    "\n",
    "for index, row in mlparams.iterrows():\n",
    "    if row.gamma == .5:\n",
    "        surface[learning_rates[row.learning_rate], weight_decays[row.decay]] = row.test_accuracy"
   ]
  },
  {
   "cell_type": "code",
   "execution_count": 83,
   "metadata": {},
   "outputs": [
    {
     "output_type": "display_data",
     "data": {
      "application/vnd.plotly.v1+json": {
       "config": {
        "plotlyServerURL": "https://plot.ly"
       },
       "data": [
        {
         "type": "surface",
         "x": [
          0.0005,
          0.001,
          0.005,
          0.01,
          0.05
         ],
         "y": [
          0.0001,
          0.001,
          0.01,
          0.1
         ],
         "z": [
          [
           0.8533333333333334,
           0.8553333333333333,
           0.8483333333333333,
           0.7793333333333333
          ],
          [
           0.886,
           0.8866666666666667,
           0.8783333333333333,
           0.801
          ],
          [
           0.9003333333333333,
           0.8966666666666666,
           0.8930000000000001,
           0.7956666666666666
          ],
          [
           0.89,
           0.8856666666666667,
           0.8826666666666666,
           0.7723333333333334
          ],
          [
           0.7516666666666666,
           0.7056666666666667,
           0.7943333333333333,
           0.6506666666666666
          ]
         ]
        }
       ],
       "layout": {
        "scene": {
         "xaxis": {
          "type": "log"
         },
         "yaxis": {
          "type": "log"
         }
        },
        "template": {
         "data": {
          "bar": [
           {
            "error_x": {
             "color": "#2a3f5f"
            },
            "error_y": {
             "color": "#2a3f5f"
            },
            "marker": {
             "line": {
              "color": "#E5ECF6",
              "width": 0.5
             }
            },
            "type": "bar"
           }
          ],
          "barpolar": [
           {
            "marker": {
             "line": {
              "color": "#E5ECF6",
              "width": 0.5
             }
            },
            "type": "barpolar"
           }
          ],
          "carpet": [
           {
            "aaxis": {
             "endlinecolor": "#2a3f5f",
             "gridcolor": "white",
             "linecolor": "white",
             "minorgridcolor": "white",
             "startlinecolor": "#2a3f5f"
            },
            "baxis": {
             "endlinecolor": "#2a3f5f",
             "gridcolor": "white",
             "linecolor": "white",
             "minorgridcolor": "white",
             "startlinecolor": "#2a3f5f"
            },
            "type": "carpet"
           }
          ],
          "choropleth": [
           {
            "colorbar": {
             "outlinewidth": 0,
             "ticks": ""
            },
            "type": "choropleth"
           }
          ],
          "contour": [
           {
            "colorbar": {
             "outlinewidth": 0,
             "ticks": ""
            },
            "colorscale": [
             [
              0,
              "#0d0887"
             ],
             [
              0.1111111111111111,
              "#46039f"
             ],
             [
              0.2222222222222222,
              "#7201a8"
             ],
             [
              0.3333333333333333,
              "#9c179e"
             ],
             [
              0.4444444444444444,
              "#bd3786"
             ],
             [
              0.5555555555555556,
              "#d8576b"
             ],
             [
              0.6666666666666666,
              "#ed7953"
             ],
             [
              0.7777777777777778,
              "#fb9f3a"
             ],
             [
              0.8888888888888888,
              "#fdca26"
             ],
             [
              1,
              "#f0f921"
             ]
            ],
            "type": "contour"
           }
          ],
          "contourcarpet": [
           {
            "colorbar": {
             "outlinewidth": 0,
             "ticks": ""
            },
            "type": "contourcarpet"
           }
          ],
          "heatmap": [
           {
            "colorbar": {
             "outlinewidth": 0,
             "ticks": ""
            },
            "colorscale": [
             [
              0,
              "#0d0887"
             ],
             [
              0.1111111111111111,
              "#46039f"
             ],
             [
              0.2222222222222222,
              "#7201a8"
             ],
             [
              0.3333333333333333,
              "#9c179e"
             ],
             [
              0.4444444444444444,
              "#bd3786"
             ],
             [
              0.5555555555555556,
              "#d8576b"
             ],
             [
              0.6666666666666666,
              "#ed7953"
             ],
             [
              0.7777777777777778,
              "#fb9f3a"
             ],
             [
              0.8888888888888888,
              "#fdca26"
             ],
             [
              1,
              "#f0f921"
             ]
            ],
            "type": "heatmap"
           }
          ],
          "heatmapgl": [
           {
            "colorbar": {
             "outlinewidth": 0,
             "ticks": ""
            },
            "colorscale": [
             [
              0,
              "#0d0887"
             ],
             [
              0.1111111111111111,
              "#46039f"
             ],
             [
              0.2222222222222222,
              "#7201a8"
             ],
             [
              0.3333333333333333,
              "#9c179e"
             ],
             [
              0.4444444444444444,
              "#bd3786"
             ],
             [
              0.5555555555555556,
              "#d8576b"
             ],
             [
              0.6666666666666666,
              "#ed7953"
             ],
             [
              0.7777777777777778,
              "#fb9f3a"
             ],
             [
              0.8888888888888888,
              "#fdca26"
             ],
             [
              1,
              "#f0f921"
             ]
            ],
            "type": "heatmapgl"
           }
          ],
          "histogram": [
           {
            "marker": {
             "colorbar": {
              "outlinewidth": 0,
              "ticks": ""
             }
            },
            "type": "histogram"
           }
          ],
          "histogram2d": [
           {
            "colorbar": {
             "outlinewidth": 0,
             "ticks": ""
            },
            "colorscale": [
             [
              0,
              "#0d0887"
             ],
             [
              0.1111111111111111,
              "#46039f"
             ],
             [
              0.2222222222222222,
              "#7201a8"
             ],
             [
              0.3333333333333333,
              "#9c179e"
             ],
             [
              0.4444444444444444,
              "#bd3786"
             ],
             [
              0.5555555555555556,
              "#d8576b"
             ],
             [
              0.6666666666666666,
              "#ed7953"
             ],
             [
              0.7777777777777778,
              "#fb9f3a"
             ],
             [
              0.8888888888888888,
              "#fdca26"
             ],
             [
              1,
              "#f0f921"
             ]
            ],
            "type": "histogram2d"
           }
          ],
          "histogram2dcontour": [
           {
            "colorbar": {
             "outlinewidth": 0,
             "ticks": ""
            },
            "colorscale": [
             [
              0,
              "#0d0887"
             ],
             [
              0.1111111111111111,
              "#46039f"
             ],
             [
              0.2222222222222222,
              "#7201a8"
             ],
             [
              0.3333333333333333,
              "#9c179e"
             ],
             [
              0.4444444444444444,
              "#bd3786"
             ],
             [
              0.5555555555555556,
              "#d8576b"
             ],
             [
              0.6666666666666666,
              "#ed7953"
             ],
             [
              0.7777777777777778,
              "#fb9f3a"
             ],
             [
              0.8888888888888888,
              "#fdca26"
             ],
             [
              1,
              "#f0f921"
             ]
            ],
            "type": "histogram2dcontour"
           }
          ],
          "mesh3d": [
           {
            "colorbar": {
             "outlinewidth": 0,
             "ticks": ""
            },
            "type": "mesh3d"
           }
          ],
          "parcoords": [
           {
            "line": {
             "colorbar": {
              "outlinewidth": 0,
              "ticks": ""
             }
            },
            "type": "parcoords"
           }
          ],
          "pie": [
           {
            "automargin": true,
            "type": "pie"
           }
          ],
          "scatter": [
           {
            "marker": {
             "colorbar": {
              "outlinewidth": 0,
              "ticks": ""
             }
            },
            "type": "scatter"
           }
          ],
          "scatter3d": [
           {
            "line": {
             "colorbar": {
              "outlinewidth": 0,
              "ticks": ""
             }
            },
            "marker": {
             "colorbar": {
              "outlinewidth": 0,
              "ticks": ""
             }
            },
            "type": "scatter3d"
           }
          ],
          "scattercarpet": [
           {
            "marker": {
             "colorbar": {
              "outlinewidth": 0,
              "ticks": ""
             }
            },
            "type": "scattercarpet"
           }
          ],
          "scattergeo": [
           {
            "marker": {
             "colorbar": {
              "outlinewidth": 0,
              "ticks": ""
             }
            },
            "type": "scattergeo"
           }
          ],
          "scattergl": [
           {
            "marker": {
             "colorbar": {
              "outlinewidth": 0,
              "ticks": ""
             }
            },
            "type": "scattergl"
           }
          ],
          "scattermapbox": [
           {
            "marker": {
             "colorbar": {
              "outlinewidth": 0,
              "ticks": ""
             }
            },
            "type": "scattermapbox"
           }
          ],
          "scatterpolar": [
           {
            "marker": {
             "colorbar": {
              "outlinewidth": 0,
              "ticks": ""
             }
            },
            "type": "scatterpolar"
           }
          ],
          "scatterpolargl": [
           {
            "marker": {
             "colorbar": {
              "outlinewidth": 0,
              "ticks": ""
             }
            },
            "type": "scatterpolargl"
           }
          ],
          "scatterternary": [
           {
            "marker": {
             "colorbar": {
              "outlinewidth": 0,
              "ticks": ""
             }
            },
            "type": "scatterternary"
           }
          ],
          "surface": [
           {
            "colorbar": {
             "outlinewidth": 0,
             "ticks": ""
            },
            "colorscale": [
             [
              0,
              "#0d0887"
             ],
             [
              0.1111111111111111,
              "#46039f"
             ],
             [
              0.2222222222222222,
              "#7201a8"
             ],
             [
              0.3333333333333333,
              "#9c179e"
             ],
             [
              0.4444444444444444,
              "#bd3786"
             ],
             [
              0.5555555555555556,
              "#d8576b"
             ],
             [
              0.6666666666666666,
              "#ed7953"
             ],
             [
              0.7777777777777778,
              "#fb9f3a"
             ],
             [
              0.8888888888888888,
              "#fdca26"
             ],
             [
              1,
              "#f0f921"
             ]
            ],
            "type": "surface"
           }
          ],
          "table": [
           {
            "cells": {
             "fill": {
              "color": "#EBF0F8"
             },
             "line": {
              "color": "white"
             }
            },
            "header": {
             "fill": {
              "color": "#C8D4E3"
             },
             "line": {
              "color": "white"
             }
            },
            "type": "table"
           }
          ]
         },
         "layout": {
          "annotationdefaults": {
           "arrowcolor": "#2a3f5f",
           "arrowhead": 0,
           "arrowwidth": 1
          },
          "autotypenumbers": "strict",
          "coloraxis": {
           "colorbar": {
            "outlinewidth": 0,
            "ticks": ""
           }
          },
          "colorscale": {
           "diverging": [
            [
             0,
             "#8e0152"
            ],
            [
             0.1,
             "#c51b7d"
            ],
            [
             0.2,
             "#de77ae"
            ],
            [
             0.3,
             "#f1b6da"
            ],
            [
             0.4,
             "#fde0ef"
            ],
            [
             0.5,
             "#f7f7f7"
            ],
            [
             0.6,
             "#e6f5d0"
            ],
            [
             0.7,
             "#b8e186"
            ],
            [
             0.8,
             "#7fbc41"
            ],
            [
             0.9,
             "#4d9221"
            ],
            [
             1,
             "#276419"
            ]
           ],
           "sequential": [
            [
             0,
             "#0d0887"
            ],
            [
             0.1111111111111111,
             "#46039f"
            ],
            [
             0.2222222222222222,
             "#7201a8"
            ],
            [
             0.3333333333333333,
             "#9c179e"
            ],
            [
             0.4444444444444444,
             "#bd3786"
            ],
            [
             0.5555555555555556,
             "#d8576b"
            ],
            [
             0.6666666666666666,
             "#ed7953"
            ],
            [
             0.7777777777777778,
             "#fb9f3a"
            ],
            [
             0.8888888888888888,
             "#fdca26"
            ],
            [
             1,
             "#f0f921"
            ]
           ],
           "sequentialminus": [
            [
             0,
             "#0d0887"
            ],
            [
             0.1111111111111111,
             "#46039f"
            ],
            [
             0.2222222222222222,
             "#7201a8"
            ],
            [
             0.3333333333333333,
             "#9c179e"
            ],
            [
             0.4444444444444444,
             "#bd3786"
            ],
            [
             0.5555555555555556,
             "#d8576b"
            ],
            [
             0.6666666666666666,
             "#ed7953"
            ],
            [
             0.7777777777777778,
             "#fb9f3a"
            ],
            [
             0.8888888888888888,
             "#fdca26"
            ],
            [
             1,
             "#f0f921"
            ]
           ]
          },
          "colorway": [
           "#636efa",
           "#EF553B",
           "#00cc96",
           "#ab63fa",
           "#FFA15A",
           "#19d3f3",
           "#FF6692",
           "#B6E880",
           "#FF97FF",
           "#FECB52"
          ],
          "font": {
           "color": "#2a3f5f"
          },
          "geo": {
           "bgcolor": "white",
           "lakecolor": "white",
           "landcolor": "#E5ECF6",
           "showlakes": true,
           "showland": true,
           "subunitcolor": "white"
          },
          "hoverlabel": {
           "align": "left"
          },
          "hovermode": "closest",
          "mapbox": {
           "style": "light"
          },
          "paper_bgcolor": "white",
          "plot_bgcolor": "#E5ECF6",
          "polar": {
           "angularaxis": {
            "gridcolor": "white",
            "linecolor": "white",
            "ticks": ""
           },
           "bgcolor": "#E5ECF6",
           "radialaxis": {
            "gridcolor": "white",
            "linecolor": "white",
            "ticks": ""
           }
          },
          "scene": {
           "xaxis": {
            "backgroundcolor": "#E5ECF6",
            "gridcolor": "white",
            "gridwidth": 2,
            "linecolor": "white",
            "showbackground": true,
            "ticks": "",
            "zerolinecolor": "white"
           },
           "yaxis": {
            "backgroundcolor": "#E5ECF6",
            "gridcolor": "white",
            "gridwidth": 2,
            "linecolor": "white",
            "showbackground": true,
            "ticks": "",
            "zerolinecolor": "white"
           },
           "zaxis": {
            "backgroundcolor": "#E5ECF6",
            "gridcolor": "white",
            "gridwidth": 2,
            "linecolor": "white",
            "showbackground": true,
            "ticks": "",
            "zerolinecolor": "white"
           }
          },
          "shapedefaults": {
           "line": {
            "color": "#2a3f5f"
           }
          },
          "ternary": {
           "aaxis": {
            "gridcolor": "white",
            "linecolor": "white",
            "ticks": ""
           },
           "baxis": {
            "gridcolor": "white",
            "linecolor": "white",
            "ticks": ""
           },
           "bgcolor": "#E5ECF6",
           "caxis": {
            "gridcolor": "white",
            "linecolor": "white",
            "ticks": ""
           }
          },
          "title": {
           "x": 0.05
          },
          "xaxis": {
           "automargin": true,
           "gridcolor": "white",
           "linecolor": "white",
           "ticks": "",
           "title": {
            "standoff": 15
           },
           "zerolinecolor": "white",
           "zerolinewidth": 2
          },
          "yaxis": {
           "automargin": true,
           "gridcolor": "white",
           "linecolor": "white",
           "ticks": "",
           "title": {
            "standoff": 15
           },
           "zerolinecolor": "white",
           "zerolinewidth": 2
          }
         }
        }
       }
      }
     },
     "metadata": {}
    }
   ],
   "source": [
    "fig = go.Figure(data=go.Surface(x=list(learning_rates.keys()), y=list(weight_decays.keys()),z=surface))\n",
    "\n",
    "fig.layout.scene.yaxis.type = 'log'\n",
    "fig.layout.scene.xaxis.type = 'log'\n",
    "\n",
    "\n",
    "fig.show()"
   ]
  },
  {
   "cell_type": "code",
   "execution_count": 85,
   "metadata": {},
   "outputs": [
    {
     "output_type": "display_data",
     "data": {
      "application/vnd.plotly.v1+json": {
       "config": {
        "plotlyServerURL": "https://plot.ly"
       },
       "data": [
        {
         "hovertemplate": "decay=0.0001<br>learning_rate=%{x}<br>test_accuracy=%{y}<extra></extra>",
         "legendgroup": "0.0001",
         "line": {
          "color": "#636efa",
          "dash": "solid"
         },
         "mode": "lines",
         "name": "0.0001",
         "orientation": "v",
         "showlegend": true,
         "type": "scatter",
         "x": [
          0.0005,
          0.001,
          0.005,
          0.01,
          0.05
         ],
         "xaxis": "x",
         "y": [
          0.8533333333333334,
          0.886,
          0.9003333333333333,
          0.89,
          0.7516666666666666
         ],
         "yaxis": "y"
        },
        {
         "hovertemplate": "decay=0.001<br>learning_rate=%{x}<br>test_accuracy=%{y}<extra></extra>",
         "legendgroup": "0.001",
         "line": {
          "color": "#EF553B",
          "dash": "solid"
         },
         "mode": "lines",
         "name": "0.001",
         "orientation": "v",
         "showlegend": true,
         "type": "scatter",
         "x": [
          0.0005,
          0.001,
          0.005,
          0.01,
          0.05
         ],
         "xaxis": "x",
         "y": [
          0.8553333333333333,
          0.8866666666666667,
          0.8966666666666666,
          0.8856666666666667,
          0.7056666666666667
         ],
         "yaxis": "y"
        },
        {
         "hovertemplate": "decay=0.01<br>learning_rate=%{x}<br>test_accuracy=%{y}<extra></extra>",
         "legendgroup": "0.01",
         "line": {
          "color": "#00cc96",
          "dash": "solid"
         },
         "mode": "lines",
         "name": "0.01",
         "orientation": "v",
         "showlegend": true,
         "type": "scatter",
         "x": [
          0.0005,
          0.001,
          0.005,
          0.01,
          0.05
         ],
         "xaxis": "x",
         "y": [
          0.8483333333333333,
          0.8783333333333333,
          0.8930000000000001,
          0.8826666666666666,
          0.7943333333333333
         ],
         "yaxis": "y"
        },
        {
         "hovertemplate": "decay=0.1<br>learning_rate=%{x}<br>test_accuracy=%{y}<extra></extra>",
         "legendgroup": "0.1",
         "line": {
          "color": "#ab63fa",
          "dash": "solid"
         },
         "mode": "lines",
         "name": "0.1",
         "orientation": "v",
         "showlegend": true,
         "type": "scatter",
         "x": [
          0.0005,
          0.001,
          0.005,
          0.01,
          0.05
         ],
         "xaxis": "x",
         "y": [
          0.7793333333333333,
          0.801,
          0.7956666666666666,
          0.7723333333333334,
          0.6506666666666666
         ],
         "yaxis": "y"
        }
       ],
       "layout": {
        "legend": {
         "title": {
          "text": "decay"
         },
         "tracegroupgap": 0
        },
        "margin": {
         "t": 60
        },
        "template": {
         "data": {
          "bar": [
           {
            "error_x": {
             "color": "#2a3f5f"
            },
            "error_y": {
             "color": "#2a3f5f"
            },
            "marker": {
             "line": {
              "color": "#E5ECF6",
              "width": 0.5
             }
            },
            "type": "bar"
           }
          ],
          "barpolar": [
           {
            "marker": {
             "line": {
              "color": "#E5ECF6",
              "width": 0.5
             }
            },
            "type": "barpolar"
           }
          ],
          "carpet": [
           {
            "aaxis": {
             "endlinecolor": "#2a3f5f",
             "gridcolor": "white",
             "linecolor": "white",
             "minorgridcolor": "white",
             "startlinecolor": "#2a3f5f"
            },
            "baxis": {
             "endlinecolor": "#2a3f5f",
             "gridcolor": "white",
             "linecolor": "white",
             "minorgridcolor": "white",
             "startlinecolor": "#2a3f5f"
            },
            "type": "carpet"
           }
          ],
          "choropleth": [
           {
            "colorbar": {
             "outlinewidth": 0,
             "ticks": ""
            },
            "type": "choropleth"
           }
          ],
          "contour": [
           {
            "colorbar": {
             "outlinewidth": 0,
             "ticks": ""
            },
            "colorscale": [
             [
              0,
              "#0d0887"
             ],
             [
              0.1111111111111111,
              "#46039f"
             ],
             [
              0.2222222222222222,
              "#7201a8"
             ],
             [
              0.3333333333333333,
              "#9c179e"
             ],
             [
              0.4444444444444444,
              "#bd3786"
             ],
             [
              0.5555555555555556,
              "#d8576b"
             ],
             [
              0.6666666666666666,
              "#ed7953"
             ],
             [
              0.7777777777777778,
              "#fb9f3a"
             ],
             [
              0.8888888888888888,
              "#fdca26"
             ],
             [
              1,
              "#f0f921"
             ]
            ],
            "type": "contour"
           }
          ],
          "contourcarpet": [
           {
            "colorbar": {
             "outlinewidth": 0,
             "ticks": ""
            },
            "type": "contourcarpet"
           }
          ],
          "heatmap": [
           {
            "colorbar": {
             "outlinewidth": 0,
             "ticks": ""
            },
            "colorscale": [
             [
              0,
              "#0d0887"
             ],
             [
              0.1111111111111111,
              "#46039f"
             ],
             [
              0.2222222222222222,
              "#7201a8"
             ],
             [
              0.3333333333333333,
              "#9c179e"
             ],
             [
              0.4444444444444444,
              "#bd3786"
             ],
             [
              0.5555555555555556,
              "#d8576b"
             ],
             [
              0.6666666666666666,
              "#ed7953"
             ],
             [
              0.7777777777777778,
              "#fb9f3a"
             ],
             [
              0.8888888888888888,
              "#fdca26"
             ],
             [
              1,
              "#f0f921"
             ]
            ],
            "type": "heatmap"
           }
          ],
          "heatmapgl": [
           {
            "colorbar": {
             "outlinewidth": 0,
             "ticks": ""
            },
            "colorscale": [
             [
              0,
              "#0d0887"
             ],
             [
              0.1111111111111111,
              "#46039f"
             ],
             [
              0.2222222222222222,
              "#7201a8"
             ],
             [
              0.3333333333333333,
              "#9c179e"
             ],
             [
              0.4444444444444444,
              "#bd3786"
             ],
             [
              0.5555555555555556,
              "#d8576b"
             ],
             [
              0.6666666666666666,
              "#ed7953"
             ],
             [
              0.7777777777777778,
              "#fb9f3a"
             ],
             [
              0.8888888888888888,
              "#fdca26"
             ],
             [
              1,
              "#f0f921"
             ]
            ],
            "type": "heatmapgl"
           }
          ],
          "histogram": [
           {
            "marker": {
             "colorbar": {
              "outlinewidth": 0,
              "ticks": ""
             }
            },
            "type": "histogram"
           }
          ],
          "histogram2d": [
           {
            "colorbar": {
             "outlinewidth": 0,
             "ticks": ""
            },
            "colorscale": [
             [
              0,
              "#0d0887"
             ],
             [
              0.1111111111111111,
              "#46039f"
             ],
             [
              0.2222222222222222,
              "#7201a8"
             ],
             [
              0.3333333333333333,
              "#9c179e"
             ],
             [
              0.4444444444444444,
              "#bd3786"
             ],
             [
              0.5555555555555556,
              "#d8576b"
             ],
             [
              0.6666666666666666,
              "#ed7953"
             ],
             [
              0.7777777777777778,
              "#fb9f3a"
             ],
             [
              0.8888888888888888,
              "#fdca26"
             ],
             [
              1,
              "#f0f921"
             ]
            ],
            "type": "histogram2d"
           }
          ],
          "histogram2dcontour": [
           {
            "colorbar": {
             "outlinewidth": 0,
             "ticks": ""
            },
            "colorscale": [
             [
              0,
              "#0d0887"
             ],
             [
              0.1111111111111111,
              "#46039f"
             ],
             [
              0.2222222222222222,
              "#7201a8"
             ],
             [
              0.3333333333333333,
              "#9c179e"
             ],
             [
              0.4444444444444444,
              "#bd3786"
             ],
             [
              0.5555555555555556,
              "#d8576b"
             ],
             [
              0.6666666666666666,
              "#ed7953"
             ],
             [
              0.7777777777777778,
              "#fb9f3a"
             ],
             [
              0.8888888888888888,
              "#fdca26"
             ],
             [
              1,
              "#f0f921"
             ]
            ],
            "type": "histogram2dcontour"
           }
          ],
          "mesh3d": [
           {
            "colorbar": {
             "outlinewidth": 0,
             "ticks": ""
            },
            "type": "mesh3d"
           }
          ],
          "parcoords": [
           {
            "line": {
             "colorbar": {
              "outlinewidth": 0,
              "ticks": ""
             }
            },
            "type": "parcoords"
           }
          ],
          "pie": [
           {
            "automargin": true,
            "type": "pie"
           }
          ],
          "scatter": [
           {
            "marker": {
             "colorbar": {
              "outlinewidth": 0,
              "ticks": ""
             }
            },
            "type": "scatter"
           }
          ],
          "scatter3d": [
           {
            "line": {
             "colorbar": {
              "outlinewidth": 0,
              "ticks": ""
             }
            },
            "marker": {
             "colorbar": {
              "outlinewidth": 0,
              "ticks": ""
             }
            },
            "type": "scatter3d"
           }
          ],
          "scattercarpet": [
           {
            "marker": {
             "colorbar": {
              "outlinewidth": 0,
              "ticks": ""
             }
            },
            "type": "scattercarpet"
           }
          ],
          "scattergeo": [
           {
            "marker": {
             "colorbar": {
              "outlinewidth": 0,
              "ticks": ""
             }
            },
            "type": "scattergeo"
           }
          ],
          "scattergl": [
           {
            "marker": {
             "colorbar": {
              "outlinewidth": 0,
              "ticks": ""
             }
            },
            "type": "scattergl"
           }
          ],
          "scattermapbox": [
           {
            "marker": {
             "colorbar": {
              "outlinewidth": 0,
              "ticks": ""
             }
            },
            "type": "scattermapbox"
           }
          ],
          "scatterpolar": [
           {
            "marker": {
             "colorbar": {
              "outlinewidth": 0,
              "ticks": ""
             }
            },
            "type": "scatterpolar"
           }
          ],
          "scatterpolargl": [
           {
            "marker": {
             "colorbar": {
              "outlinewidth": 0,
              "ticks": ""
             }
            },
            "type": "scatterpolargl"
           }
          ],
          "scatterternary": [
           {
            "marker": {
             "colorbar": {
              "outlinewidth": 0,
              "ticks": ""
             }
            },
            "type": "scatterternary"
           }
          ],
          "surface": [
           {
            "colorbar": {
             "outlinewidth": 0,
             "ticks": ""
            },
            "colorscale": [
             [
              0,
              "#0d0887"
             ],
             [
              0.1111111111111111,
              "#46039f"
             ],
             [
              0.2222222222222222,
              "#7201a8"
             ],
             [
              0.3333333333333333,
              "#9c179e"
             ],
             [
              0.4444444444444444,
              "#bd3786"
             ],
             [
              0.5555555555555556,
              "#d8576b"
             ],
             [
              0.6666666666666666,
              "#ed7953"
             ],
             [
              0.7777777777777778,
              "#fb9f3a"
             ],
             [
              0.8888888888888888,
              "#fdca26"
             ],
             [
              1,
              "#f0f921"
             ]
            ],
            "type": "surface"
           }
          ],
          "table": [
           {
            "cells": {
             "fill": {
              "color": "#EBF0F8"
             },
             "line": {
              "color": "white"
             }
            },
            "header": {
             "fill": {
              "color": "#C8D4E3"
             },
             "line": {
              "color": "white"
             }
            },
            "type": "table"
           }
          ]
         },
         "layout": {
          "annotationdefaults": {
           "arrowcolor": "#2a3f5f",
           "arrowhead": 0,
           "arrowwidth": 1
          },
          "autotypenumbers": "strict",
          "coloraxis": {
           "colorbar": {
            "outlinewidth": 0,
            "ticks": ""
           }
          },
          "colorscale": {
           "diverging": [
            [
             0,
             "#8e0152"
            ],
            [
             0.1,
             "#c51b7d"
            ],
            [
             0.2,
             "#de77ae"
            ],
            [
             0.3,
             "#f1b6da"
            ],
            [
             0.4,
             "#fde0ef"
            ],
            [
             0.5,
             "#f7f7f7"
            ],
            [
             0.6,
             "#e6f5d0"
            ],
            [
             0.7,
             "#b8e186"
            ],
            [
             0.8,
             "#7fbc41"
            ],
            [
             0.9,
             "#4d9221"
            ],
            [
             1,
             "#276419"
            ]
           ],
           "sequential": [
            [
             0,
             "#0d0887"
            ],
            [
             0.1111111111111111,
             "#46039f"
            ],
            [
             0.2222222222222222,
             "#7201a8"
            ],
            [
             0.3333333333333333,
             "#9c179e"
            ],
            [
             0.4444444444444444,
             "#bd3786"
            ],
            [
             0.5555555555555556,
             "#d8576b"
            ],
            [
             0.6666666666666666,
             "#ed7953"
            ],
            [
             0.7777777777777778,
             "#fb9f3a"
            ],
            [
             0.8888888888888888,
             "#fdca26"
            ],
            [
             1,
             "#f0f921"
            ]
           ],
           "sequentialminus": [
            [
             0,
             "#0d0887"
            ],
            [
             0.1111111111111111,
             "#46039f"
            ],
            [
             0.2222222222222222,
             "#7201a8"
            ],
            [
             0.3333333333333333,
             "#9c179e"
            ],
            [
             0.4444444444444444,
             "#bd3786"
            ],
            [
             0.5555555555555556,
             "#d8576b"
            ],
            [
             0.6666666666666666,
             "#ed7953"
            ],
            [
             0.7777777777777778,
             "#fb9f3a"
            ],
            [
             0.8888888888888888,
             "#fdca26"
            ],
            [
             1,
             "#f0f921"
            ]
           ]
          },
          "colorway": [
           "#636efa",
           "#EF553B",
           "#00cc96",
           "#ab63fa",
           "#FFA15A",
           "#19d3f3",
           "#FF6692",
           "#B6E880",
           "#FF97FF",
           "#FECB52"
          ],
          "font": {
           "color": "#2a3f5f"
          },
          "geo": {
           "bgcolor": "white",
           "lakecolor": "white",
           "landcolor": "#E5ECF6",
           "showlakes": true,
           "showland": true,
           "subunitcolor": "white"
          },
          "hoverlabel": {
           "align": "left"
          },
          "hovermode": "closest",
          "mapbox": {
           "style": "light"
          },
          "paper_bgcolor": "white",
          "plot_bgcolor": "#E5ECF6",
          "polar": {
           "angularaxis": {
            "gridcolor": "white",
            "linecolor": "white",
            "ticks": ""
           },
           "bgcolor": "#E5ECF6",
           "radialaxis": {
            "gridcolor": "white",
            "linecolor": "white",
            "ticks": ""
           }
          },
          "scene": {
           "xaxis": {
            "backgroundcolor": "#E5ECF6",
            "gridcolor": "white",
            "gridwidth": 2,
            "linecolor": "white",
            "showbackground": true,
            "ticks": "",
            "zerolinecolor": "white"
           },
           "yaxis": {
            "backgroundcolor": "#E5ECF6",
            "gridcolor": "white",
            "gridwidth": 2,
            "linecolor": "white",
            "showbackground": true,
            "ticks": "",
            "zerolinecolor": "white"
           },
           "zaxis": {
            "backgroundcolor": "#E5ECF6",
            "gridcolor": "white",
            "gridwidth": 2,
            "linecolor": "white",
            "showbackground": true,
            "ticks": "",
            "zerolinecolor": "white"
           }
          },
          "shapedefaults": {
           "line": {
            "color": "#2a3f5f"
           }
          },
          "ternary": {
           "aaxis": {
            "gridcolor": "white",
            "linecolor": "white",
            "ticks": ""
           },
           "baxis": {
            "gridcolor": "white",
            "linecolor": "white",
            "ticks": ""
           },
           "bgcolor": "#E5ECF6",
           "caxis": {
            "gridcolor": "white",
            "linecolor": "white",
            "ticks": ""
           }
          },
          "title": {
           "x": 0.05
          },
          "xaxis": {
           "automargin": true,
           "gridcolor": "white",
           "linecolor": "white",
           "ticks": "",
           "title": {
            "standoff": 15
           },
           "zerolinecolor": "white",
           "zerolinewidth": 2
          },
          "yaxis": {
           "automargin": true,
           "gridcolor": "white",
           "linecolor": "white",
           "ticks": "",
           "title": {
            "standoff": 15
           },
           "zerolinecolor": "white",
           "zerolinewidth": 2
          }
         }
        },
        "xaxis": {
         "anchor": "y",
         "domain": [
          0,
          1
         ],
         "title": {
          "text": "learning_rate"
         },
         "type": "log"
        },
        "yaxis": {
         "anchor": "x",
         "domain": [
          0,
          1
         ],
         "title": {
          "text": "test_accuracy"
         }
        }
       }
      }
     },
     "metadata": {}
    }
   ],
   "source": [
    "px.line(mlparams[mlparams.gamma == .5], x='learning_rate', y='test_accuracy', color='decay', log_x=True)"
   ]
  },
  {
   "cell_type": "code",
   "execution_count": 86,
   "metadata": {},
   "outputs": [
    {
     "output_type": "execute_result",
     "data": {
      "text/plain": [
       "<AxesSubplot:xlabel='gamma', ylabel='test_accuracy'>"
      ]
     },
     "metadata": {},
     "execution_count": 86
    },
    {
     "output_type": "display_data",
     "data": {
      "text/plain": "<Figure size 432x288 with 1 Axes>",
      "image/svg+xml": "<?xml version=\"1.0\" encoding=\"utf-8\" standalone=\"no\"?>\n<!DOCTYPE svg PUBLIC \"-//W3C//DTD SVG 1.1//EN\"\n  \"http://www.w3.org/Graphics/SVG/1.1/DTD/svg11.dtd\">\n<!-- Created with matplotlib (https://matplotlib.org/) -->\n<svg height=\"262.19625pt\" version=\"1.1\" viewBox=\"0 0 392.14375 262.19625\" width=\"392.14375pt\" xmlns=\"http://www.w3.org/2000/svg\" xmlns:xlink=\"http://www.w3.org/1999/xlink\">\n <metadata>\n  <rdf:RDF xmlns:cc=\"http://creativecommons.org/ns#\" xmlns:dc=\"http://purl.org/dc/elements/1.1/\" xmlns:rdf=\"http://www.w3.org/1999/02/22-rdf-syntax-ns#\">\n   <cc:Work>\n    <dc:type rdf:resource=\"http://purl.org/dc/dcmitype/StillImage\"/>\n    <dc:date>2021-05-10T12:20:11.432252</dc:date>\n    <dc:format>image/svg+xml</dc:format>\n    <dc:creator>\n     <cc:Agent>\n      <dc:title>Matplotlib v3.3.4, https://matplotlib.org/</dc:title>\n     </cc:Agent>\n    </dc:creator>\n   </cc:Work>\n  </rdf:RDF>\n </metadata>\n <defs>\n  <style type=\"text/css\">*{stroke-linecap:butt;stroke-linejoin:round;}</style>\n </defs>\n <g id=\"figure_1\">\n  <g id=\"patch_1\">\n   <path d=\"M 0 262.19625 \nL 392.14375 262.19625 \nL 392.14375 0 \nL 0 0 \nz\n\" style=\"fill:none;\"/>\n  </g>\n  <g id=\"axes_1\">\n   <g id=\"patch_2\">\n    <path d=\"M 50.14375 224.64 \nL 384.94375 224.64 \nL 384.94375 7.2 \nL 50.14375 7.2 \nz\n\" style=\"fill:#ffffff;\"/>\n   </g>\n   <g id=\"PolyCollection_1\">\n    <defs>\n     <path d=\"M 65.361932 -151.34293 \nL 65.361932 -47.439886 \nL 141.452841 -115.981589 \nL 217.54375 -138.550084 \nL 293.634659 -149.321387 \nL 369.725568 -150.807444 \nL 369.725568 -217.784471 \nL 369.725568 -217.784471 \nL 293.634659 -220.94461 \nL 217.54375 -215.664517 \nL 141.452841 -203.657857 \nL 65.361932 -151.34293 \nz\n\" id=\"m1efcb89f3c\" style=\"stroke:#1f77b4;stroke-opacity:0.2;\"/>\n    </defs>\n    <g clip-path=\"url(#p9f395b9ee5)\">\n     <use style=\"fill:#1f77b4;fill-opacity:0.2;stroke:#1f77b4;stroke-opacity:0.2;\" x=\"0\" xlink:href=\"#m1efcb89f3c\" y=\"262.19625\"/>\n    </g>\n   </g>\n   <g id=\"PolyCollection_2\">\n    <defs>\n     <path d=\"M 65.361932 -242.739235 \nL 65.361932 -105.491924 \nL 141.452841 -138.680709 \nL 217.54375 -138.318671 \nL 293.634659 -137.313431 \nL 369.725568 -131.644114 \nL 369.725568 -216.487781 \nL 369.725568 -216.487781 \nL 293.634659 -219.994414 \nL 217.54375 -232.285024 \nL 141.452841 -245.112614 \nL 65.361932 -242.739235 \nz\n\" id=\"m4848e91b18\" style=\"stroke:#ff7f0e;stroke-opacity:0.2;\"/>\n    </defs>\n    <g clip-path=\"url(#p9f395b9ee5)\">\n     <use style=\"fill:#ff7f0e;fill-opacity:0.2;stroke:#ff7f0e;stroke-opacity:0.2;\" x=\"0\" xlink:href=\"#m4848e91b18\" y=\"262.19625\"/>\n    </g>\n   </g>\n   <g id=\"matplotlib.axis_1\">\n    <g id=\"xtick_1\">\n     <g id=\"line2d_1\">\n      <defs>\n       <path d=\"M 0 0 \nL 0 3.5 \n\" id=\"m714c436390\" style=\"stroke:#000000;stroke-width:0.8;\"/>\n      </defs>\n      <g>\n       <use style=\"stroke:#000000;stroke-width:0.8;\" x=\"65.361932\" xlink:href=\"#m714c436390\" y=\"224.64\"/>\n      </g>\n     </g>\n     <g id=\"text_1\">\n      <!-- 0.0 -->\n      <g transform=\"translate(57.410369 239.238438)scale(0.1 -0.1)\">\n       <defs>\n        <path d=\"M 31.78125 66.40625 \nQ 24.171875 66.40625 20.328125 58.90625 \nQ 16.5 51.421875 16.5 36.375 \nQ 16.5 21.390625 20.328125 13.890625 \nQ 24.171875 6.390625 31.78125 6.390625 \nQ 39.453125 6.390625 43.28125 13.890625 \nQ 47.125 21.390625 47.125 36.375 \nQ 47.125 51.421875 43.28125 58.90625 \nQ 39.453125 66.40625 31.78125 66.40625 \nz\nM 31.78125 74.21875 \nQ 44.046875 74.21875 50.515625 64.515625 \nQ 56.984375 54.828125 56.984375 36.375 \nQ 56.984375 17.96875 50.515625 8.265625 \nQ 44.046875 -1.421875 31.78125 -1.421875 \nQ 19.53125 -1.421875 13.0625 8.265625 \nQ 6.59375 17.96875 6.59375 36.375 \nQ 6.59375 54.828125 13.0625 64.515625 \nQ 19.53125 74.21875 31.78125 74.21875 \nz\n\" id=\"DejaVuSans-48\"/>\n        <path d=\"M 10.6875 12.40625 \nL 21 12.40625 \nL 21 0 \nL 10.6875 0 \nz\n\" id=\"DejaVuSans-46\"/>\n       </defs>\n       <use xlink:href=\"#DejaVuSans-48\"/>\n       <use x=\"63.623047\" xlink:href=\"#DejaVuSans-46\"/>\n       <use x=\"95.410156\" xlink:href=\"#DejaVuSans-48\"/>\n      </g>\n     </g>\n    </g>\n    <g id=\"xtick_2\">\n     <g id=\"line2d_2\">\n      <g>\n       <use style=\"stroke:#000000;stroke-width:0.8;\" x=\"126.234659\" xlink:href=\"#m714c436390\" y=\"224.64\"/>\n      </g>\n     </g>\n     <g id=\"text_2\">\n      <!-- 0.2 -->\n      <g transform=\"translate(118.283097 239.238438)scale(0.1 -0.1)\">\n       <defs>\n        <path d=\"M 19.1875 8.296875 \nL 53.609375 8.296875 \nL 53.609375 0 \nL 7.328125 0 \nL 7.328125 8.296875 \nQ 12.9375 14.109375 22.625 23.890625 \nQ 32.328125 33.6875 34.8125 36.53125 \nQ 39.546875 41.84375 41.421875 45.53125 \nQ 43.3125 49.21875 43.3125 52.78125 \nQ 43.3125 58.59375 39.234375 62.25 \nQ 35.15625 65.921875 28.609375 65.921875 \nQ 23.96875 65.921875 18.8125 64.3125 \nQ 13.671875 62.703125 7.8125 59.421875 \nL 7.8125 69.390625 \nQ 13.765625 71.78125 18.9375 73 \nQ 24.125 74.21875 28.421875 74.21875 \nQ 39.75 74.21875 46.484375 68.546875 \nQ 53.21875 62.890625 53.21875 53.421875 \nQ 53.21875 48.921875 51.53125 44.890625 \nQ 49.859375 40.875 45.40625 35.40625 \nQ 44.1875 33.984375 37.640625 27.21875 \nQ 31.109375 20.453125 19.1875 8.296875 \nz\n\" id=\"DejaVuSans-50\"/>\n       </defs>\n       <use xlink:href=\"#DejaVuSans-48\"/>\n       <use x=\"63.623047\" xlink:href=\"#DejaVuSans-46\"/>\n       <use x=\"95.410156\" xlink:href=\"#DejaVuSans-50\"/>\n      </g>\n     </g>\n    </g>\n    <g id=\"xtick_3\">\n     <g id=\"line2d_3\">\n      <g>\n       <use style=\"stroke:#000000;stroke-width:0.8;\" x=\"187.107386\" xlink:href=\"#m714c436390\" y=\"224.64\"/>\n      </g>\n     </g>\n     <g id=\"text_3\">\n      <!-- 0.4 -->\n      <g transform=\"translate(179.155824 239.238438)scale(0.1 -0.1)\">\n       <defs>\n        <path d=\"M 37.796875 64.3125 \nL 12.890625 25.390625 \nL 37.796875 25.390625 \nz\nM 35.203125 72.90625 \nL 47.609375 72.90625 \nL 47.609375 25.390625 \nL 58.015625 25.390625 \nL 58.015625 17.1875 \nL 47.609375 17.1875 \nL 47.609375 0 \nL 37.796875 0 \nL 37.796875 17.1875 \nL 4.890625 17.1875 \nL 4.890625 26.703125 \nz\n\" id=\"DejaVuSans-52\"/>\n       </defs>\n       <use xlink:href=\"#DejaVuSans-48\"/>\n       <use x=\"63.623047\" xlink:href=\"#DejaVuSans-46\"/>\n       <use x=\"95.410156\" xlink:href=\"#DejaVuSans-52\"/>\n      </g>\n     </g>\n    </g>\n    <g id=\"xtick_4\">\n     <g id=\"line2d_4\">\n      <g>\n       <use style=\"stroke:#000000;stroke-width:0.8;\" x=\"247.980114\" xlink:href=\"#m714c436390\" y=\"224.64\"/>\n      </g>\n     </g>\n     <g id=\"text_4\">\n      <!-- 0.6 -->\n      <g transform=\"translate(240.028551 239.238438)scale(0.1 -0.1)\">\n       <defs>\n        <path d=\"M 33.015625 40.375 \nQ 26.375 40.375 22.484375 35.828125 \nQ 18.609375 31.296875 18.609375 23.390625 \nQ 18.609375 15.53125 22.484375 10.953125 \nQ 26.375 6.390625 33.015625 6.390625 \nQ 39.65625 6.390625 43.53125 10.953125 \nQ 47.40625 15.53125 47.40625 23.390625 \nQ 47.40625 31.296875 43.53125 35.828125 \nQ 39.65625 40.375 33.015625 40.375 \nz\nM 52.59375 71.296875 \nL 52.59375 62.3125 \nQ 48.875 64.0625 45.09375 64.984375 \nQ 41.3125 65.921875 37.59375 65.921875 \nQ 27.828125 65.921875 22.671875 59.328125 \nQ 17.53125 52.734375 16.796875 39.40625 \nQ 19.671875 43.65625 24.015625 45.921875 \nQ 28.375 48.1875 33.59375 48.1875 \nQ 44.578125 48.1875 50.953125 41.515625 \nQ 57.328125 34.859375 57.328125 23.390625 \nQ 57.328125 12.15625 50.6875 5.359375 \nQ 44.046875 -1.421875 33.015625 -1.421875 \nQ 20.359375 -1.421875 13.671875 8.265625 \nQ 6.984375 17.96875 6.984375 36.375 \nQ 6.984375 53.65625 15.1875 63.9375 \nQ 23.390625 74.21875 37.203125 74.21875 \nQ 40.921875 74.21875 44.703125 73.484375 \nQ 48.484375 72.75 52.59375 71.296875 \nz\n\" id=\"DejaVuSans-54\"/>\n       </defs>\n       <use xlink:href=\"#DejaVuSans-48\"/>\n       <use x=\"63.623047\" xlink:href=\"#DejaVuSans-46\"/>\n       <use x=\"95.410156\" xlink:href=\"#DejaVuSans-54\"/>\n      </g>\n     </g>\n    </g>\n    <g id=\"xtick_5\">\n     <g id=\"line2d_5\">\n      <g>\n       <use style=\"stroke:#000000;stroke-width:0.8;\" x=\"308.852841\" xlink:href=\"#m714c436390\" y=\"224.64\"/>\n      </g>\n     </g>\n     <g id=\"text_5\">\n      <!-- 0.8 -->\n      <g transform=\"translate(300.901278 239.238438)scale(0.1 -0.1)\">\n       <defs>\n        <path d=\"M 31.78125 34.625 \nQ 24.75 34.625 20.71875 30.859375 \nQ 16.703125 27.09375 16.703125 20.515625 \nQ 16.703125 13.921875 20.71875 10.15625 \nQ 24.75 6.390625 31.78125 6.390625 \nQ 38.8125 6.390625 42.859375 10.171875 \nQ 46.921875 13.96875 46.921875 20.515625 \nQ 46.921875 27.09375 42.890625 30.859375 \nQ 38.875 34.625 31.78125 34.625 \nz\nM 21.921875 38.8125 \nQ 15.578125 40.375 12.03125 44.71875 \nQ 8.5 49.078125 8.5 55.328125 \nQ 8.5 64.0625 14.71875 69.140625 \nQ 20.953125 74.21875 31.78125 74.21875 \nQ 42.671875 74.21875 48.875 69.140625 \nQ 55.078125 64.0625 55.078125 55.328125 \nQ 55.078125 49.078125 51.53125 44.71875 \nQ 48 40.375 41.703125 38.8125 \nQ 48.828125 37.15625 52.796875 32.3125 \nQ 56.78125 27.484375 56.78125 20.515625 \nQ 56.78125 9.90625 50.3125 4.234375 \nQ 43.84375 -1.421875 31.78125 -1.421875 \nQ 19.734375 -1.421875 13.25 4.234375 \nQ 6.78125 9.90625 6.78125 20.515625 \nQ 6.78125 27.484375 10.78125 32.3125 \nQ 14.796875 37.15625 21.921875 38.8125 \nz\nM 18.3125 54.390625 \nQ 18.3125 48.734375 21.84375 45.5625 \nQ 25.390625 42.390625 31.78125 42.390625 \nQ 38.140625 42.390625 41.71875 45.5625 \nQ 45.3125 48.734375 45.3125 54.390625 \nQ 45.3125 60.0625 41.71875 63.234375 \nQ 38.140625 66.40625 31.78125 66.40625 \nQ 25.390625 66.40625 21.84375 63.234375 \nQ 18.3125 60.0625 18.3125 54.390625 \nz\n\" id=\"DejaVuSans-56\"/>\n       </defs>\n       <use xlink:href=\"#DejaVuSans-48\"/>\n       <use x=\"63.623047\" xlink:href=\"#DejaVuSans-46\"/>\n       <use x=\"95.410156\" xlink:href=\"#DejaVuSans-56\"/>\n      </g>\n     </g>\n    </g>\n    <g id=\"xtick_6\">\n     <g id=\"line2d_6\">\n      <g>\n       <use style=\"stroke:#000000;stroke-width:0.8;\" x=\"369.725568\" xlink:href=\"#m714c436390\" y=\"224.64\"/>\n      </g>\n     </g>\n     <g id=\"text_6\">\n      <!-- 1.0 -->\n      <g transform=\"translate(361.774006 239.238438)scale(0.1 -0.1)\">\n       <defs>\n        <path d=\"M 12.40625 8.296875 \nL 28.515625 8.296875 \nL 28.515625 63.921875 \nL 10.984375 60.40625 \nL 10.984375 69.390625 \nL 28.421875 72.90625 \nL 38.28125 72.90625 \nL 38.28125 8.296875 \nL 54.390625 8.296875 \nL 54.390625 0 \nL 12.40625 0 \nz\n\" id=\"DejaVuSans-49\"/>\n       </defs>\n       <use xlink:href=\"#DejaVuSans-49\"/>\n       <use x=\"63.623047\" xlink:href=\"#DejaVuSans-46\"/>\n       <use x=\"95.410156\" xlink:href=\"#DejaVuSans-48\"/>\n      </g>\n     </g>\n    </g>\n    <g id=\"text_7\">\n     <!-- gamma -->\n     <g transform=\"translate(198.500781 252.916563)scale(0.1 -0.1)\">\n      <defs>\n       <path d=\"M 45.40625 27.984375 \nQ 45.40625 37.75 41.375 43.109375 \nQ 37.359375 48.484375 30.078125 48.484375 \nQ 22.859375 48.484375 18.828125 43.109375 \nQ 14.796875 37.75 14.796875 27.984375 \nQ 14.796875 18.265625 18.828125 12.890625 \nQ 22.859375 7.515625 30.078125 7.515625 \nQ 37.359375 7.515625 41.375 12.890625 \nQ 45.40625 18.265625 45.40625 27.984375 \nz\nM 54.390625 6.78125 \nQ 54.390625 -7.171875 48.1875 -13.984375 \nQ 42 -20.796875 29.203125 -20.796875 \nQ 24.46875 -20.796875 20.265625 -20.09375 \nQ 16.0625 -19.390625 12.109375 -17.921875 \nL 12.109375 -9.1875 \nQ 16.0625 -11.328125 19.921875 -12.34375 \nQ 23.78125 -13.375 27.78125 -13.375 \nQ 36.625 -13.375 41.015625 -8.765625 \nQ 45.40625 -4.15625 45.40625 5.171875 \nL 45.40625 9.625 \nQ 42.625 4.78125 38.28125 2.390625 \nQ 33.9375 0 27.875 0 \nQ 17.828125 0 11.671875 7.65625 \nQ 5.515625 15.328125 5.515625 27.984375 \nQ 5.515625 40.671875 11.671875 48.328125 \nQ 17.828125 56 27.875 56 \nQ 33.9375 56 38.28125 53.609375 \nQ 42.625 51.21875 45.40625 46.390625 \nL 45.40625 54.6875 \nL 54.390625 54.6875 \nz\n\" id=\"DejaVuSans-103\"/>\n       <path d=\"M 34.28125 27.484375 \nQ 23.390625 27.484375 19.1875 25 \nQ 14.984375 22.515625 14.984375 16.5 \nQ 14.984375 11.71875 18.140625 8.90625 \nQ 21.296875 6.109375 26.703125 6.109375 \nQ 34.1875 6.109375 38.703125 11.40625 \nQ 43.21875 16.703125 43.21875 25.484375 \nL 43.21875 27.484375 \nz\nM 52.203125 31.203125 \nL 52.203125 0 \nL 43.21875 0 \nL 43.21875 8.296875 \nQ 40.140625 3.328125 35.546875 0.953125 \nQ 30.953125 -1.421875 24.3125 -1.421875 \nQ 15.921875 -1.421875 10.953125 3.296875 \nQ 6 8.015625 6 15.921875 \nQ 6 25.140625 12.171875 29.828125 \nQ 18.359375 34.515625 30.609375 34.515625 \nL 43.21875 34.515625 \nL 43.21875 35.40625 \nQ 43.21875 41.609375 39.140625 45 \nQ 35.0625 48.390625 27.6875 48.390625 \nQ 23 48.390625 18.546875 47.265625 \nQ 14.109375 46.140625 10.015625 43.890625 \nL 10.015625 52.203125 \nQ 14.9375 54.109375 19.578125 55.046875 \nQ 24.21875 56 28.609375 56 \nQ 40.484375 56 46.34375 49.84375 \nQ 52.203125 43.703125 52.203125 31.203125 \nz\n\" id=\"DejaVuSans-97\"/>\n       <path d=\"M 52 44.1875 \nQ 55.375 50.25 60.0625 53.125 \nQ 64.75 56 71.09375 56 \nQ 79.640625 56 84.28125 50.015625 \nQ 88.921875 44.046875 88.921875 33.015625 \nL 88.921875 0 \nL 79.890625 0 \nL 79.890625 32.71875 \nQ 79.890625 40.578125 77.09375 44.375 \nQ 74.3125 48.1875 68.609375 48.1875 \nQ 61.625 48.1875 57.5625 43.546875 \nQ 53.515625 38.921875 53.515625 30.90625 \nL 53.515625 0 \nL 44.484375 0 \nL 44.484375 32.71875 \nQ 44.484375 40.625 41.703125 44.40625 \nQ 38.921875 48.1875 33.109375 48.1875 \nQ 26.21875 48.1875 22.15625 43.53125 \nQ 18.109375 38.875 18.109375 30.90625 \nL 18.109375 0 \nL 9.078125 0 \nL 9.078125 54.6875 \nL 18.109375 54.6875 \nL 18.109375 46.1875 \nQ 21.1875 51.21875 25.484375 53.609375 \nQ 29.78125 56 35.6875 56 \nQ 41.65625 56 45.828125 52.96875 \nQ 50 49.953125 52 44.1875 \nz\n\" id=\"DejaVuSans-109\"/>\n      </defs>\n      <use xlink:href=\"#DejaVuSans-103\"/>\n      <use x=\"63.476562\" xlink:href=\"#DejaVuSans-97\"/>\n      <use x=\"124.755859\" xlink:href=\"#DejaVuSans-109\"/>\n      <use x=\"222.167969\" xlink:href=\"#DejaVuSans-109\"/>\n      <use x=\"319.580078\" xlink:href=\"#DejaVuSans-97\"/>\n     </g>\n    </g>\n   </g>\n   <g id=\"matplotlib.axis_2\">\n    <g id=\"ytick_1\">\n     <g id=\"line2d_7\">\n      <defs>\n       <path d=\"M 0 0 \nL -3.5 0 \n\" id=\"mcb5c47b806\" style=\"stroke:#000000;stroke-width:0.8;\"/>\n      </defs>\n      <g>\n       <use style=\"stroke:#000000;stroke-width:0.8;\" x=\"50.14375\" xlink:href=\"#mcb5c47b806\" y=\"202.889898\"/>\n      </g>\n     </g>\n     <g id=\"text_8\">\n      <!-- 0.74 -->\n      <g transform=\"translate(20.878125 206.689117)scale(0.1 -0.1)\">\n       <defs>\n        <path d=\"M 8.203125 72.90625 \nL 55.078125 72.90625 \nL 55.078125 68.703125 \nL 28.609375 0 \nL 18.3125 0 \nL 43.21875 64.59375 \nL 8.203125 64.59375 \nz\n\" id=\"DejaVuSans-55\"/>\n       </defs>\n       <use xlink:href=\"#DejaVuSans-48\"/>\n       <use x=\"63.623047\" xlink:href=\"#DejaVuSans-46\"/>\n       <use x=\"95.410156\" xlink:href=\"#DejaVuSans-55\"/>\n       <use x=\"159.033203\" xlink:href=\"#DejaVuSans-52\"/>\n      </g>\n     </g>\n    </g>\n    <g id=\"ytick_2\">\n     <g id=\"line2d_8\">\n      <g>\n       <use style=\"stroke:#000000;stroke-width:0.8;\" x=\"50.14375\" xlink:href=\"#mcb5c47b806\" y=\"176.500427\"/>\n      </g>\n     </g>\n     <g id=\"text_9\">\n      <!-- 0.76 -->\n      <g transform=\"translate(20.878125 180.299646)scale(0.1 -0.1)\">\n       <use xlink:href=\"#DejaVuSans-48\"/>\n       <use x=\"63.623047\" xlink:href=\"#DejaVuSans-46\"/>\n       <use x=\"95.410156\" xlink:href=\"#DejaVuSans-55\"/>\n       <use x=\"159.033203\" xlink:href=\"#DejaVuSans-54\"/>\n      </g>\n     </g>\n    </g>\n    <g id=\"ytick_3\">\n     <g id=\"line2d_9\">\n      <g>\n       <use style=\"stroke:#000000;stroke-width:0.8;\" x=\"50.14375\" xlink:href=\"#mcb5c47b806\" y=\"150.110956\"/>\n      </g>\n     </g>\n     <g id=\"text_10\">\n      <!-- 0.78 -->\n      <g transform=\"translate(20.878125 153.910175)scale(0.1 -0.1)\">\n       <use xlink:href=\"#DejaVuSans-48\"/>\n       <use x=\"63.623047\" xlink:href=\"#DejaVuSans-46\"/>\n       <use x=\"95.410156\" xlink:href=\"#DejaVuSans-55\"/>\n       <use x=\"159.033203\" xlink:href=\"#DejaVuSans-56\"/>\n      </g>\n     </g>\n    </g>\n    <g id=\"ytick_4\">\n     <g id=\"line2d_10\">\n      <g>\n       <use style=\"stroke:#000000;stroke-width:0.8;\" x=\"50.14375\" xlink:href=\"#mcb5c47b806\" y=\"123.721486\"/>\n      </g>\n     </g>\n     <g id=\"text_11\">\n      <!-- 0.80 -->\n      <g transform=\"translate(20.878125 127.520704)scale(0.1 -0.1)\">\n       <use xlink:href=\"#DejaVuSans-48\"/>\n       <use x=\"63.623047\" xlink:href=\"#DejaVuSans-46\"/>\n       <use x=\"95.410156\" xlink:href=\"#DejaVuSans-56\"/>\n       <use x=\"159.033203\" xlink:href=\"#DejaVuSans-48\"/>\n      </g>\n     </g>\n    </g>\n    <g id=\"ytick_5\">\n     <g id=\"line2d_11\">\n      <g>\n       <use style=\"stroke:#000000;stroke-width:0.8;\" x=\"50.14375\" xlink:href=\"#mcb5c47b806\" y=\"97.332015\"/>\n      </g>\n     </g>\n     <g id=\"text_12\">\n      <!-- 0.82 -->\n      <g transform=\"translate(20.878125 101.131233)scale(0.1 -0.1)\">\n       <use xlink:href=\"#DejaVuSans-48\"/>\n       <use x=\"63.623047\" xlink:href=\"#DejaVuSans-46\"/>\n       <use x=\"95.410156\" xlink:href=\"#DejaVuSans-56\"/>\n       <use x=\"159.033203\" xlink:href=\"#DejaVuSans-50\"/>\n      </g>\n     </g>\n    </g>\n    <g id=\"ytick_6\">\n     <g id=\"line2d_12\">\n      <g>\n       <use style=\"stroke:#000000;stroke-width:0.8;\" x=\"50.14375\" xlink:href=\"#mcb5c47b806\" y=\"70.942544\"/>\n      </g>\n     </g>\n     <g id=\"text_13\">\n      <!-- 0.84 -->\n      <g transform=\"translate(20.878125 74.741763)scale(0.1 -0.1)\">\n       <use xlink:href=\"#DejaVuSans-48\"/>\n       <use x=\"63.623047\" xlink:href=\"#DejaVuSans-46\"/>\n       <use x=\"95.410156\" xlink:href=\"#DejaVuSans-56\"/>\n       <use x=\"159.033203\" xlink:href=\"#DejaVuSans-52\"/>\n      </g>\n     </g>\n    </g>\n    <g id=\"ytick_7\">\n     <g id=\"line2d_13\">\n      <g>\n       <use style=\"stroke:#000000;stroke-width:0.8;\" x=\"50.14375\" xlink:href=\"#mcb5c47b806\" y=\"44.553073\"/>\n      </g>\n     </g>\n     <g id=\"text_14\">\n      <!-- 0.86 -->\n      <g transform=\"translate(20.878125 48.352292)scale(0.1 -0.1)\">\n       <use xlink:href=\"#DejaVuSans-48\"/>\n       <use x=\"63.623047\" xlink:href=\"#DejaVuSans-46\"/>\n       <use x=\"95.410156\" xlink:href=\"#DejaVuSans-56\"/>\n       <use x=\"159.033203\" xlink:href=\"#DejaVuSans-54\"/>\n      </g>\n     </g>\n    </g>\n    <g id=\"ytick_8\">\n     <g id=\"line2d_14\">\n      <g>\n       <use style=\"stroke:#000000;stroke-width:0.8;\" x=\"50.14375\" xlink:href=\"#mcb5c47b806\" y=\"18.163602\"/>\n      </g>\n     </g>\n     <g id=\"text_15\">\n      <!-- 0.88 -->\n      <g transform=\"translate(20.878125 21.962821)scale(0.1 -0.1)\">\n       <use xlink:href=\"#DejaVuSans-48\"/>\n       <use x=\"63.623047\" xlink:href=\"#DejaVuSans-46\"/>\n       <use x=\"95.410156\" xlink:href=\"#DejaVuSans-56\"/>\n       <use x=\"159.033203\" xlink:href=\"#DejaVuSans-56\"/>\n      </g>\n     </g>\n    </g>\n    <g id=\"text_16\">\n     <!-- test_accuracy -->\n     <g transform=\"translate(14.520313 150.580938)rotate(-90)scale(0.1 -0.1)\">\n      <defs>\n       <path d=\"M 18.3125 70.21875 \nL 18.3125 54.6875 \nL 36.8125 54.6875 \nL 36.8125 47.703125 \nL 18.3125 47.703125 \nL 18.3125 18.015625 \nQ 18.3125 11.328125 20.140625 9.421875 \nQ 21.96875 7.515625 27.59375 7.515625 \nL 36.8125 7.515625 \nL 36.8125 0 \nL 27.59375 0 \nQ 17.1875 0 13.234375 3.875 \nQ 9.28125 7.765625 9.28125 18.015625 \nL 9.28125 47.703125 \nL 2.6875 47.703125 \nL 2.6875 54.6875 \nL 9.28125 54.6875 \nL 9.28125 70.21875 \nz\n\" id=\"DejaVuSans-116\"/>\n       <path d=\"M 56.203125 29.59375 \nL 56.203125 25.203125 \nL 14.890625 25.203125 \nQ 15.484375 15.921875 20.484375 11.0625 \nQ 25.484375 6.203125 34.421875 6.203125 \nQ 39.59375 6.203125 44.453125 7.46875 \nQ 49.3125 8.734375 54.109375 11.28125 \nL 54.109375 2.78125 \nQ 49.265625 0.734375 44.1875 -0.34375 \nQ 39.109375 -1.421875 33.890625 -1.421875 \nQ 20.796875 -1.421875 13.15625 6.1875 \nQ 5.515625 13.8125 5.515625 26.8125 \nQ 5.515625 40.234375 12.765625 48.109375 \nQ 20.015625 56 32.328125 56 \nQ 43.359375 56 49.78125 48.890625 \nQ 56.203125 41.796875 56.203125 29.59375 \nz\nM 47.21875 32.234375 \nQ 47.125 39.59375 43.09375 43.984375 \nQ 39.0625 48.390625 32.421875 48.390625 \nQ 24.90625 48.390625 20.390625 44.140625 \nQ 15.875 39.890625 15.1875 32.171875 \nz\n\" id=\"DejaVuSans-101\"/>\n       <path d=\"M 44.28125 53.078125 \nL 44.28125 44.578125 \nQ 40.484375 46.53125 36.375 47.5 \nQ 32.28125 48.484375 27.875 48.484375 \nQ 21.1875 48.484375 17.84375 46.4375 \nQ 14.5 44.390625 14.5 40.28125 \nQ 14.5 37.15625 16.890625 35.375 \nQ 19.28125 33.59375 26.515625 31.984375 \nL 29.59375 31.296875 \nQ 39.15625 29.25 43.1875 25.515625 \nQ 47.21875 21.78125 47.21875 15.09375 \nQ 47.21875 7.46875 41.1875 3.015625 \nQ 35.15625 -1.421875 24.609375 -1.421875 \nQ 20.21875 -1.421875 15.453125 -0.5625 \nQ 10.6875 0.296875 5.421875 2 \nL 5.421875 11.28125 \nQ 10.40625 8.6875 15.234375 7.390625 \nQ 20.0625 6.109375 24.8125 6.109375 \nQ 31.15625 6.109375 34.5625 8.28125 \nQ 37.984375 10.453125 37.984375 14.40625 \nQ 37.984375 18.0625 35.515625 20.015625 \nQ 33.0625 21.96875 24.703125 23.78125 \nL 21.578125 24.515625 \nQ 13.234375 26.265625 9.515625 29.90625 \nQ 5.8125 33.546875 5.8125 39.890625 \nQ 5.8125 47.609375 11.28125 51.796875 \nQ 16.75 56 26.8125 56 \nQ 31.78125 56 36.171875 55.265625 \nQ 40.578125 54.546875 44.28125 53.078125 \nz\n\" id=\"DejaVuSans-115\"/>\n       <path d=\"M 50.984375 -16.609375 \nL 50.984375 -23.578125 \nL -0.984375 -23.578125 \nL -0.984375 -16.609375 \nz\n\" id=\"DejaVuSans-95\"/>\n       <path d=\"M 48.78125 52.59375 \nL 48.78125 44.1875 \nQ 44.96875 46.296875 41.140625 47.34375 \nQ 37.3125 48.390625 33.40625 48.390625 \nQ 24.65625 48.390625 19.8125 42.84375 \nQ 14.984375 37.3125 14.984375 27.296875 \nQ 14.984375 17.28125 19.8125 11.734375 \nQ 24.65625 6.203125 33.40625 6.203125 \nQ 37.3125 6.203125 41.140625 7.25 \nQ 44.96875 8.296875 48.78125 10.40625 \nL 48.78125 2.09375 \nQ 45.015625 0.34375 40.984375 -0.53125 \nQ 36.96875 -1.421875 32.421875 -1.421875 \nQ 20.0625 -1.421875 12.78125 6.34375 \nQ 5.515625 14.109375 5.515625 27.296875 \nQ 5.515625 40.671875 12.859375 48.328125 \nQ 20.21875 56 33.015625 56 \nQ 37.15625 56 41.109375 55.140625 \nQ 45.0625 54.296875 48.78125 52.59375 \nz\n\" id=\"DejaVuSans-99\"/>\n       <path d=\"M 8.5 21.578125 \nL 8.5 54.6875 \nL 17.484375 54.6875 \nL 17.484375 21.921875 \nQ 17.484375 14.15625 20.5 10.265625 \nQ 23.53125 6.390625 29.59375 6.390625 \nQ 36.859375 6.390625 41.078125 11.03125 \nQ 45.3125 15.671875 45.3125 23.6875 \nL 45.3125 54.6875 \nL 54.296875 54.6875 \nL 54.296875 0 \nL 45.3125 0 \nL 45.3125 8.40625 \nQ 42.046875 3.421875 37.71875 1 \nQ 33.40625 -1.421875 27.6875 -1.421875 \nQ 18.265625 -1.421875 13.375 4.4375 \nQ 8.5 10.296875 8.5 21.578125 \nz\nM 31.109375 56 \nz\n\" id=\"DejaVuSans-117\"/>\n       <path d=\"M 41.109375 46.296875 \nQ 39.59375 47.171875 37.8125 47.578125 \nQ 36.03125 48 33.890625 48 \nQ 26.265625 48 22.1875 43.046875 \nQ 18.109375 38.09375 18.109375 28.8125 \nL 18.109375 0 \nL 9.078125 0 \nL 9.078125 54.6875 \nL 18.109375 54.6875 \nL 18.109375 46.1875 \nQ 20.953125 51.171875 25.484375 53.578125 \nQ 30.03125 56 36.53125 56 \nQ 37.453125 56 38.578125 55.875 \nQ 39.703125 55.765625 41.0625 55.515625 \nz\n\" id=\"DejaVuSans-114\"/>\n       <path d=\"M 32.171875 -5.078125 \nQ 28.375 -14.84375 24.75 -17.8125 \nQ 21.140625 -20.796875 15.09375 -20.796875 \nL 7.90625 -20.796875 \nL 7.90625 -13.28125 \nL 13.1875 -13.28125 \nQ 16.890625 -13.28125 18.9375 -11.515625 \nQ 21 -9.765625 23.484375 -3.21875 \nL 25.09375 0.875 \nL 2.984375 54.6875 \nL 12.5 54.6875 \nL 29.59375 11.921875 \nL 46.6875 54.6875 \nL 56.203125 54.6875 \nz\n\" id=\"DejaVuSans-121\"/>\n      </defs>\n      <use xlink:href=\"#DejaVuSans-116\"/>\n      <use x=\"39.208984\" xlink:href=\"#DejaVuSans-101\"/>\n      <use x=\"100.732422\" xlink:href=\"#DejaVuSans-115\"/>\n      <use x=\"152.832031\" xlink:href=\"#DejaVuSans-116\"/>\n      <use x=\"192.041016\" xlink:href=\"#DejaVuSans-95\"/>\n      <use x=\"242.041016\" xlink:href=\"#DejaVuSans-97\"/>\n      <use x=\"303.320312\" xlink:href=\"#DejaVuSans-99\"/>\n      <use x=\"358.300781\" xlink:href=\"#DejaVuSans-99\"/>\n      <use x=\"413.28125\" xlink:href=\"#DejaVuSans-117\"/>\n      <use x=\"476.660156\" xlink:href=\"#DejaVuSans-114\"/>\n      <use x=\"517.773438\" xlink:href=\"#DejaVuSans-97\"/>\n      <use x=\"579.052734\" xlink:href=\"#DejaVuSans-99\"/>\n      <use x=\"634.033203\" xlink:href=\"#DejaVuSans-121\"/>\n     </g>\n    </g>\n   </g>\n   <g id=\"line2d_15\">\n    <path clip-path=\"url(#p9f395b9ee5)\" d=\"M 65.361932 156.554386 \nL 141.452841 98.431576 \nL 217.54375 83.675463 \nL 293.634659 75.868578 \nL 369.725568 76.814201 \n\" style=\"fill:none;stroke:#1f77b4;stroke-linecap:square;stroke-width:1.5;\"/>\n   </g>\n   <g id=\"line2d_16\">\n    <path clip-path=\"url(#p9f395b9ee5)\" d=\"M 65.361932 79.00101 \nL 141.452841 67.17237 \nL 217.54375 78.659704 \nL 293.634659 81.94959 \nL 369.725568 90.359037 \n\" style=\"fill:none;stroke:#ff7f0e;stroke-linecap:square;stroke-width:1.5;\"/>\n   </g>\n   <g id=\"patch_3\">\n    <path d=\"M 50.14375 224.64 \nL 50.14375 7.2 \n\" style=\"fill:none;stroke:#000000;stroke-linecap:square;stroke-linejoin:miter;stroke-width:0.8;\"/>\n   </g>\n   <g id=\"patch_4\">\n    <path d=\"M 384.94375 224.64 \nL 384.94375 7.2 \n\" style=\"fill:none;stroke:#000000;stroke-linecap:square;stroke-linejoin:miter;stroke-width:0.8;\"/>\n   </g>\n   <g id=\"patch_5\">\n    <path d=\"M 50.14375 224.64 \nL 384.94375 224.64 \n\" style=\"fill:none;stroke:#000000;stroke-linecap:square;stroke-linejoin:miter;stroke-width:0.8;\"/>\n   </g>\n   <g id=\"patch_6\">\n    <path d=\"M 50.14375 7.2 \nL 384.94375 7.2 \n\" style=\"fill:none;stroke:#000000;stroke-linecap:square;stroke-linejoin:miter;stroke-width:0.8;\"/>\n   </g>\n  </g>\n </g>\n <defs>\n  <clipPath id=\"p9f395b9ee5\">\n   <rect height=\"217.44\" width=\"334.8\" x=\"50.14375\" y=\"7.2\"/>\n  </clipPath>\n </defs>\n</svg>\n",
      "image/png": "[encoded data removed]"
     },
     "metadata": {
      "needs_background": "light"
     }
    }
   ],
   "source": [
    "sns.lineplot(data=mlparams, x=\"gamma\", y=\"test_accuracy\")\n",
    "sns.lineplot(data=mlparams, x=\"gamma\", y=\"train_accuracy\")"
   ]
  },
  {
   "cell_type": "code",
   "execution_count": 3,
   "metadata": {},
   "outputs": [],
   "source": [
    "params1 = pd.read_csv('../hyperparameters.csv')\n",
    "params2 = pd.read_csv('../hyperparameters-run-1.csv')\n",
    "\n",
    "params = pd.concat([params1, params2])"
   ]
  },
  {
   "cell_type": "code",
   "execution_count": 4,
   "metadata": {},
   "outputs": [
    {
     "data": {
      "text/plain": [
       "(175, 5)"
      ]
     },
     "execution_count": 4,
     "metadata": {},
     "output_type": "execute_result"
    }
   ],
   "source": [
    "params.shape"
   ]
  },
  {
   "cell_type": "code",
   "execution_count": 8,
   "metadata": {},
   "outputs": [
    {
     "data": {
      "application/vnd.plotly.v1+json": {
       "config": {
        "plotlyServerURL": "https://plot.ly"
       },
       "data": [
        {
         "hovertemplate": "learning_rate=%{x}<br>decay=%{y}<br>gamma=%{z}<br>test_accuracy=%{marker.color}<extra></extra>",
         "legendgroup": "",
         "marker": {
          "color": [
           0.7516666666666666,
           0.706,
           0.7456666666666667,
           0.7423333333333333,
           0.7250000000000001,
           0.7666666666666667,
           0.7333333333333334,
           0.7093333333333334,
           0.7583333333333333,
           0.7220000000000001,
           0.92,
           0.9293333333333336,
           0.9086666666666666,
           0.9083333333333332,
           0.9196666666666669,
           0.9250000000000002,
           0.9123333333333332,
           0.928,
           0.911,
           0.9196666666666669,
           0.8976666666666667,
           0.883,
           0.8986666666666666,
           0.8930000000000001,
           0.9036666666666668,
           0.8846666666666666,
           0.886,
           0.8826666666666667,
           0.8976666666666667,
           0.896,
           0.547,
           0.543,
           0.552,
           0.546,
           0.6376666666666666,
           0.6693333333333333,
           0.539,
           0.527,
           0.6693333333333333,
           0.571,
           0.9193333333333332,
           0.924,
           0.9196666666666666,
           0.939,
           0.9226666666666666,
           0.9293333333333336,
           0.938,
           0.9096666666666668,
           0.9313333333333336,
           0.9133333333333334,
           0.7513333333333333,
           0.71,
           0.7456666666666667,
           0.7436666666666666,
           0.7256666666666667,
           0.7673333333333333,
           0.734,
           0.709,
           0.759,
           0.7256666666666667,
           0.6783333333333333,
           0.7436666666666666,
           0.739,
           0.7176666666666667,
           0.7473333333333333,
           0.7086666666666667,
           0.7343333333333333,
           0.753,
           0.7000000000000001,
           0.6996666666666668,
           0.6873333333333335,
           0.6773333333333333,
           0.7160000000000001,
           0.7000000000000001,
           0.618,
           0.916,
           0.9233333333333332,
           0.9146666666666668,
           0.9296666666666668,
           0.9210000000000002,
           0.9183333333333334,
           0.9216666666666667,
           0.9263333333333332,
           0.9336666666666668,
           0.92,
           0.923,
           0.9143333333333334,
           0.9196666666666666,
           0.9333333333333332,
           0.913,
           0.8973333333333334,
           0.925,
           0.9123333333333332,
           0.926,
           0.914,
           0.835,
           0.8449999999999999,
           0.8033333333333333,
           0.8573333333333334,
           0.846,
           0.899,
           0.899,
           0.906,
           0.8933333333333332,
           0.887,
           0.8969999999999999,
           0.8973333333333334,
           0.8786666666666667,
           0.898,
           0.8816666666666667,
           0.8969999999999999,
           0.9093333333333332,
           0.8886666666666666,
           0.8913333333333333,
           0.8953333333333333,
           0.8940000000000001,
           0.905,
           0.8933333333333332,
           0.8933333333333334,
           0.887,
           0.8386666666666667,
           0.797,
           0.835,
           0.806,
           0.802,
           0.6606666666666667,
           0.6333333333333334,
           0.6376666666666667,
           0.538,
           0.564,
           0.6606666666666666,
           0.552,
           0.606,
           0.566,
           0.6256666666666667,
           0.6589999999999999,
           0.727,
           0.7743333333333333,
           0.589,
           0.6593333333333333,
           0.8683333333333333,
           0.8636666666666667,
           0.8763333333333333,
           0.8706666666666667,
           0.8606666666666666,
           0.7766666666666667,
           0.7786666666666667,
           0.7946666666666667,
           0.7923333333333334,
           0.7966666666666667,
           0.9206666666666666,
           0.9286666666666666,
           0.9206666666666669,
           0.9343333333333332,
           0.9186666666666669,
           0.9376666666666664,
           0.94,
           0.9306666666666666,
           0.9206666666666669,
           0.9236666666666666,
           0.928,
           0.917,
           0.92,
           0.9183333333333332,
           0.9376666666666664,
           0.9263333333333332,
           0.9243333333333332,
           0.913,
           0.917,
           0.925,
           0.7816666666666667,
           0.848,
           0.8433333333333333,
           0.8106666666666666,
           0.8116666666666665
          ],
          "coloraxis": "coloraxis",
          "symbol": "circle"
         },
         "mode": "markers",
         "name": "",
         "scene": "scene",
         "showlegend": false,
         "type": "scatter3d",
         "x": [
          0.0001,
          0.0001,
          0.0001,
          0.0001,
          0.0001,
          0.0001,
          0.0001,
          0.0001,
          0.0001,
          0.0001,
          0.005,
          0.005,
          0.005,
          0.005,
          0.005,
          0.005,
          0.005,
          0.005,
          0.005,
          0.005,
          0.001,
          0.001,
          0.001,
          0.001,
          0.001,
          0.001,
          0.001,
          0.001,
          0.001,
          0.001,
          0.05,
          0.05,
          0.05,
          0.05,
          0.05,
          0.05,
          0.05,
          0.05,
          0.05,
          0.05,
          0.01,
          0.01,
          0.01,
          0.01,
          0.01,
          0.01,
          0.01,
          0.01,
          0.01,
          0.01,
          0.0001,
          0.0001,
          0.0001,
          0.0001,
          0.0001,
          0.0001,
          0.0001,
          0.0001,
          0.0001,
          0.0001,
          0.0001,
          0.0001,
          0.0001,
          0.0001,
          0.0001,
          0.0001,
          0.0001,
          0.0001,
          0.0001,
          0.0001,
          0.0001,
          0.0001,
          0.0001,
          0.0001,
          0.0001,
          0.005,
          0.005,
          0.005,
          0.005,
          0.005,
          0.005,
          0.005,
          0.005,
          0.005,
          0.005,
          0.005,
          0.005,
          0.005,
          0.005,
          0.005,
          0.005,
          0.005,
          0.005,
          0.005,
          0.005,
          0.005,
          0.005,
          0.005,
          0.005,
          0.005,
          0.001,
          0.001,
          0.001,
          0.001,
          0.001,
          0.001,
          0.001,
          0.001,
          0.001,
          0.001,
          0.001,
          0.001,
          0.001,
          0.001,
          0.001,
          0.001,
          0.001,
          0.001,
          0.001,
          0.001,
          0.001,
          0.001,
          0.001,
          0.001,
          0.001,
          0.05,
          0.05,
          0.05,
          0.05,
          0.05,
          0.05,
          0.05,
          0.05,
          0.05,
          0.05,
          0.05,
          0.05,
          0.05,
          0.05,
          0.05,
          0.05,
          0.05,
          0.05,
          0.05,
          0.05,
          0.05,
          0.05,
          0.05,
          0.05,
          0.05,
          0.01,
          0.01,
          0.01,
          0.01,
          0.01,
          0.01,
          0.01,
          0.01,
          0.01,
          0.01,
          0.01,
          0.01,
          0.01,
          0.01,
          0.01,
          0.01,
          0.01,
          0.01,
          0.01,
          0.01,
          0.01,
          0.01,
          0.01,
          0.01,
          0.01
         ],
         "y": [
          0.000001,
          0.000001,
          0.000001,
          0.000001,
          0.000001,
          0.00001,
          0.00001,
          0.00001,
          0.00001,
          0.00001,
          0.000001,
          0.000001,
          0.000001,
          0.000001,
          0.000001,
          0.00001,
          0.00001,
          0.00001,
          0.00001,
          0.00001,
          0.000001,
          0.000001,
          0.000001,
          0.000001,
          0.000001,
          0.00001,
          0.00001,
          0.00001,
          0.00001,
          0.00001,
          0.000001,
          0.000001,
          0.000001,
          0.000001,
          0.000001,
          0.00001,
          0.00001,
          0.00001,
          0.00001,
          0.00001,
          0.000001,
          0.000001,
          0.000001,
          0.000001,
          0.000001,
          0.00001,
          0.00001,
          0.00001,
          0.00001,
          0.00001,
          0.00001,
          0.00001,
          0.00001,
          0.00001,
          0.00001,
          0.0001,
          0.0001,
          0.0001,
          0.0001,
          0.0001,
          0.001,
          0.001,
          0.001,
          0.001,
          0.001,
          0.01,
          0.01,
          0.01,
          0.01,
          0.01,
          0.1,
          0.1,
          0.1,
          0.1,
          0.1,
          0.00001,
          0.00001,
          0.00001,
          0.00001,
          0.00001,
          0.0001,
          0.0001,
          0.0001,
          0.0001,
          0.0001,
          0.001,
          0.001,
          0.001,
          0.001,
          0.001,
          0.01,
          0.01,
          0.01,
          0.01,
          0.01,
          0.1,
          0.1,
          0.1,
          0.1,
          0.1,
          0.00001,
          0.00001,
          0.00001,
          0.00001,
          0.00001,
          0.0001,
          0.0001,
          0.0001,
          0.0001,
          0.0001,
          0.001,
          0.001,
          0.001,
          0.001,
          0.001,
          0.01,
          0.01,
          0.01,
          0.01,
          0.01,
          0.1,
          0.1,
          0.1,
          0.1,
          0.1,
          0.00001,
          0.00001,
          0.00001,
          0.00001,
          0.00001,
          0.0001,
          0.0001,
          0.0001,
          0.0001,
          0.0001,
          0.001,
          0.001,
          0.001,
          0.001,
          0.001,
          0.01,
          0.01,
          0.01,
          0.01,
          0.01,
          0.1,
          0.1,
          0.1,
          0.1,
          0.1,
          0.00001,
          0.00001,
          0.00001,
          0.00001,
          0.00001,
          0.0001,
          0.0001,
          0.0001,
          0.0001,
          0.0001,
          0.001,
          0.001,
          0.001,
          0.001,
          0.001,
          0.01,
          0.01,
          0.01,
          0.01,
          0.01,
          0.1,
          0.1,
          0.1,
          0.1,
          0.1
         ],
         "z": [
          0,
          0.25,
          0.5,
          0.75,
          1,
          0,
          0.25,
          0.5,
          0.75,
          1,
          0,
          0.25,
          0.5,
          0.75,
          1,
          0,
          0.25,
          0.5,
          0.75,
          1,
          0,
          0.25,
          0.5,
          0.75,
          1,
          0,
          0.25,
          0.5,
          0.75,
          1,
          0,
          0.25,
          0.5,
          0.75,
          1,
          0,
          0.25,
          0.5,
          0.75,
          1,
          0,
          0.25,
          0.5,
          0.75,
          1,
          0,
          0.25,
          0.5,
          0.75,
          1,
          0,
          0.25,
          0.5,
          0.75,
          1,
          0,
          0.25,
          0.5,
          0.75,
          1,
          0,
          0.25,
          0.5,
          0.75,
          1,
          0,
          0.25,
          0.5,
          0.75,
          1,
          0,
          0.25,
          0.5,
          0.75,
          1,
          0,
          0.25,
          0.5,
          0.75,
          1,
          0,
          0.25,
          0.5,
          0.75,
          1,
          0,
          0.25,
          0.5,
          0.75,
          1,
          0,
          0.25,
          0.5,
          0.75,
          1,
          0,
          0.25,
          0.5,
          0.75,
          1,
          0,
          0.25,
          0.5,
          0.75,
          1,
          0,
          0.25,
          0.5,
          0.75,
          1,
          0,
          0.25,
          0.5,
          0.75,
          1,
          0,
          0.25,
          0.5,
          0.75,
          1,
          0,
          0.25,
          0.5,
          0.75,
          1,
          0,
          0.25,
          0.5,
          0.75,
          1,
          0,
          0.25,
          0.5,
          0.75,
          1,
          0,
          0.25,
          0.5,
          0.75,
          1,
          0,
          0.25,
          0.5,
          0.75,
          1,
          0,
          0.25,
          0.5,
          0.75,
          1,
          0,
          0.25,
          0.5,
          0.75,
          1,
          0,
          0.25,
          0.5,
          0.75,
          1,
          0,
          0.25,
          0.5,
          0.75,
          1,
          0,
          0.25,
          0.5,
          0.75,
          1,
          0,
          0.25,
          0.5,
          0.75,
          1
         ]
        }
       ],
       "layout": {
        "autosize": true,
        "coloraxis": {
         "colorbar": {
          "title": {
           "text": "test_accuracy"
          }
         },
         "colorscale": [
          [
           0,
           "#0d0887"
          ],
          [
           0.1111111111111111,
           "#46039f"
          ],
          [
           0.2222222222222222,
           "#7201a8"
          ],
          [
           0.3333333333333333,
           "#9c179e"
          ],
          [
           0.4444444444444444,
           "#bd3786"
          ],
          [
           0.5555555555555556,
           "#d8576b"
          ],
          [
           0.6666666666666666,
           "#ed7953"
          ],
          [
           0.7777777777777778,
           "#fb9f3a"
          ],
          [
           0.8888888888888888,
           "#fdca26"
          ],
          [
           1,
           "#f0f921"
          ]
         ]
        },
        "legend": {
         "tracegroupgap": 0
        },
        "margin": {
         "t": 60
        },
        "scene": {
         "aspectmode": "auto",
         "aspectratio": {
          "x": 0.734706744808569,
          "y": 1.3610872733454413,
          "z": 1
         },
         "camera": {
          "center": {
           "x": 0,
           "y": 0,
           "z": 0
          },
          "eye": {
           "x": -0.6409985620334148,
           "y": -0.954973868139203,
           "z": 0.4450445105967748
          },
          "projection": {
           "type": "perspective"
          },
          "up": {
           "x": 0,
           "y": 0,
           "z": 1
          }
         },
         "domain": {
          "x": [
           0,
           1
          ],
          "y": [
           0,
           1
          ]
         },
         "xaxis": {
          "title": {
           "text": "learning_rate"
          },
          "type": "log"
         },
         "yaxis": {
          "title": {
           "text": "decay"
          },
          "type": "log"
         },
         "zaxis": {
          "title": {
           "text": "gamma"
          },
          "type": "linear"
         }
        },
        "template": {
         "data": {
          "bar": [
           {
            "error_x": {
             "color": "#2a3f5f"
            },
            "error_y": {
             "color": "#2a3f5f"
            },
            "marker": {
             "line": {
              "color": "#E5ECF6",
              "width": 0.5
             }
            },
            "type": "bar"
           }
          ],
          "barpolar": [
           {
            "marker": {
             "line": {
              "color": "#E5ECF6",
              "width": 0.5
             }
            },
            "type": "barpolar"
           }
          ],
          "carpet": [
           {
            "aaxis": {
             "endlinecolor": "#2a3f5f",
             "gridcolor": "white",
             "linecolor": "white",
             "minorgridcolor": "white",
             "startlinecolor": "#2a3f5f"
            },
            "baxis": {
             "endlinecolor": "#2a3f5f",
             "gridcolor": "white",
             "linecolor": "white",
             "minorgridcolor": "white",
             "startlinecolor": "#2a3f5f"
            },
            "type": "carpet"
           }
          ],
          "choropleth": [
           {
            "colorbar": {
             "outlinewidth": 0,
             "ticks": ""
            },
            "type": "choropleth"
           }
          ],
          "contour": [
           {
            "colorbar": {
             "outlinewidth": 0,
             "ticks": ""
            },
            "colorscale": [
             [
              0,
              "#0d0887"
             ],
             [
              0.1111111111111111,
              "#46039f"
             ],
             [
              0.2222222222222222,
              "#7201a8"
             ],
             [
              0.3333333333333333,
              "#9c179e"
             ],
             [
              0.4444444444444444,
              "#bd3786"
             ],
             [
              0.5555555555555556,
              "#d8576b"
             ],
             [
              0.6666666666666666,
              "#ed7953"
             ],
             [
              0.7777777777777778,
              "#fb9f3a"
             ],
             [
              0.8888888888888888,
              "#fdca26"
             ],
             [
              1,
              "#f0f921"
             ]
            ],
            "type": "contour"
           }
          ],
          "contourcarpet": [
           {
            "colorbar": {
             "outlinewidth": 0,
             "ticks": ""
            },
            "type": "contourcarpet"
           }
          ],
          "heatmap": [
           {
            "colorbar": {
             "outlinewidth": 0,
             "ticks": ""
            },
            "colorscale": [
             [
              0,
              "#0d0887"
             ],
             [
              0.1111111111111111,
              "#46039f"
             ],
             [
              0.2222222222222222,
              "#7201a8"
             ],
             [
              0.3333333333333333,
              "#9c179e"
             ],
             [
              0.4444444444444444,
              "#bd3786"
             ],
             [
              0.5555555555555556,
              "#d8576b"
             ],
             [
              0.6666666666666666,
              "#ed7953"
             ],
             [
              0.7777777777777778,
              "#fb9f3a"
             ],
             [
              0.8888888888888888,
              "#fdca26"
             ],
             [
              1,
              "#f0f921"
             ]
            ],
            "type": "heatmap"
           }
          ],
          "heatmapgl": [
           {
            "colorbar": {
             "outlinewidth": 0,
             "ticks": ""
            },
            "colorscale": [
             [
              0,
              "#0d0887"
             ],
             [
              0.1111111111111111,
              "#46039f"
             ],
             [
              0.2222222222222222,
              "#7201a8"
             ],
             [
              0.3333333333333333,
              "#9c179e"
             ],
             [
              0.4444444444444444,
              "#bd3786"
             ],
             [
              0.5555555555555556,
              "#d8576b"
             ],
             [
              0.6666666666666666,
              "#ed7953"
             ],
             [
              0.7777777777777778,
              "#fb9f3a"
             ],
             [
              0.8888888888888888,
              "#fdca26"
             ],
             [
              1,
              "#f0f921"
             ]
            ],
            "type": "heatmapgl"
           }
          ],
          "histogram": [
           {
            "marker": {
             "colorbar": {
              "outlinewidth": 0,
              "ticks": ""
             }
            },
            "type": "histogram"
           }
          ],
          "histogram2d": [
           {
            "colorbar": {
             "outlinewidth": 0,
             "ticks": ""
            },
            "colorscale": [
             [
              0,
              "#0d0887"
             ],
             [
              0.1111111111111111,
              "#46039f"
             ],
             [
              0.2222222222222222,
              "#7201a8"
             ],
             [
              0.3333333333333333,
              "#9c179e"
             ],
             [
              0.4444444444444444,
              "#bd3786"
             ],
             [
              0.5555555555555556,
              "#d8576b"
             ],
             [
              0.6666666666666666,
              "#ed7953"
             ],
             [
              0.7777777777777778,
              "#fb9f3a"
             ],
             [
              0.8888888888888888,
              "#fdca26"
             ],
             [
              1,
              "#f0f921"
             ]
            ],
            "type": "histogram2d"
           }
          ],
          "histogram2dcontour": [
           {
            "colorbar": {
             "outlinewidth": 0,
             "ticks": ""
            },
            "colorscale": [
             [
              0,
              "#0d0887"
             ],
             [
              0.1111111111111111,
              "#46039f"
             ],
             [
              0.2222222222222222,
              "#7201a8"
             ],
             [
              0.3333333333333333,
              "#9c179e"
             ],
             [
              0.4444444444444444,
              "#bd3786"
             ],
             [
              0.5555555555555556,
              "#d8576b"
             ],
             [
              0.6666666666666666,
              "#ed7953"
             ],
             [
              0.7777777777777778,
              "#fb9f3a"
             ],
             [
              0.8888888888888888,
              "#fdca26"
             ],
             [
              1,
              "#f0f921"
             ]
            ],
            "type": "histogram2dcontour"
           }
          ],
          "mesh3d": [
           {
            "colorbar": {
             "outlinewidth": 0,
             "ticks": ""
            },
            "type": "mesh3d"
           }
          ],
          "parcoords": [
           {
            "line": {
             "colorbar": {
              "outlinewidth": 0,
              "ticks": ""
             }
            },
            "type": "parcoords"
           }
          ],
          "pie": [
           {
            "automargin": true,
            "type": "pie"
           }
          ],
          "scatter": [
           {
            "marker": {
             "colorbar": {
              "outlinewidth": 0,
              "ticks": ""
             }
            },
            "type": "scatter"
           }
          ],
          "scatter3d": [
           {
            "line": {
             "colorbar": {
              "outlinewidth": 0,
              "ticks": ""
             }
            },
            "marker": {
             "colorbar": {
              "outlinewidth": 0,
              "ticks": ""
             }
            },
            "type": "scatter3d"
           }
          ],
          "scattercarpet": [
           {
            "marker": {
             "colorbar": {
              "outlinewidth": 0,
              "ticks": ""
             }
            },
            "type": "scattercarpet"
           }
          ],
          "scattergeo": [
           {
            "marker": {
             "colorbar": {
              "outlinewidth": 0,
              "ticks": ""
             }
            },
            "type": "scattergeo"
           }
          ],
          "scattergl": [
           {
            "marker": {
             "colorbar": {
              "outlinewidth": 0,
              "ticks": ""
             }
            },
            "type": "scattergl"
           }
          ],
          "scattermapbox": [
           {
            "marker": {
             "colorbar": {
              "outlinewidth": 0,
              "ticks": ""
             }
            },
            "type": "scattermapbox"
           }
          ],
          "scatterpolar": [
           {
            "marker": {
             "colorbar": {
              "outlinewidth": 0,
              "ticks": ""
             }
            },
            "type": "scatterpolar"
           }
          ],
          "scatterpolargl": [
           {
            "marker": {
             "colorbar": {
              "outlinewidth": 0,
              "ticks": ""
             }
            },
            "type": "scatterpolargl"
           }
          ],
          "scatterternary": [
           {
            "marker": {
             "colorbar": {
              "outlinewidth": 0,
              "ticks": ""
             }
            },
            "type": "scatterternary"
           }
          ],
          "surface": [
           {
            "colorbar": {
             "outlinewidth": 0,
             "ticks": ""
            },
            "colorscale": [
             [
              0,
              "#0d0887"
             ],
             [
              0.1111111111111111,
              "#46039f"
             ],
             [
              0.2222222222222222,
              "#7201a8"
             ],
             [
              0.3333333333333333,
              "#9c179e"
             ],
             [
              0.4444444444444444,
              "#bd3786"
             ],
             [
              0.5555555555555556,
              "#d8576b"
             ],
             [
              0.6666666666666666,
              "#ed7953"
             ],
             [
              0.7777777777777778,
              "#fb9f3a"
             ],
             [
              0.8888888888888888,
              "#fdca26"
             ],
             [
              1,
              "#f0f921"
             ]
            ],
            "type": "surface"
           }
          ],
          "table": [
           {
            "cells": {
             "fill": {
              "color": "#EBF0F8"
             },
             "line": {
              "color": "white"
             }
            },
            "header": {
             "fill": {
              "color": "#C8D4E3"
             },
             "line": {
              "color": "white"
             }
            },
            "type": "table"
           }
          ]
         },
         "layout": {
          "annotationdefaults": {
           "arrowcolor": "#2a3f5f",
           "arrowhead": 0,
           "arrowwidth": 1
          },
          "autotypenumbers": "strict",
          "coloraxis": {
           "colorbar": {
            "outlinewidth": 0,
            "ticks": ""
           }
          },
          "colorscale": {
           "diverging": [
            [
             0,
             "#8e0152"
            ],
            [
             0.1,
             "#c51b7d"
            ],
            [
             0.2,
             "#de77ae"
            ],
            [
             0.3,
             "#f1b6da"
            ],
            [
             0.4,
             "#fde0ef"
            ],
            [
             0.5,
             "#f7f7f7"
            ],
            [
             0.6,
             "#e6f5d0"
            ],
            [
             0.7,
             "#b8e186"
            ],
            [
             0.8,
             "#7fbc41"
            ],
            [
             0.9,
             "#4d9221"
            ],
            [
             1,
             "#276419"
            ]
           ],
           "sequential": [
            [
             0,
             "#0d0887"
            ],
            [
             0.1111111111111111,
             "#46039f"
            ],
            [
             0.2222222222222222,
             "#7201a8"
            ],
            [
             0.3333333333333333,
             "#9c179e"
            ],
            [
             0.4444444444444444,
             "#bd3786"
            ],
            [
             0.5555555555555556,
             "#d8576b"
            ],
            [
             0.6666666666666666,
             "#ed7953"
            ],
            [
             0.7777777777777778,
             "#fb9f3a"
            ],
            [
             0.8888888888888888,
             "#fdca26"
            ],
            [
             1,
             "#f0f921"
            ]
           ],
           "sequentialminus": [
            [
             0,
             "#0d0887"
            ],
            [
             0.1111111111111111,
             "#46039f"
            ],
            [
             0.2222222222222222,
             "#7201a8"
            ],
            [
             0.3333333333333333,
             "#9c179e"
            ],
            [
             0.4444444444444444,
             "#bd3786"
            ],
            [
             0.5555555555555556,
             "#d8576b"
            ],
            [
             0.6666666666666666,
             "#ed7953"
            ],
            [
             0.7777777777777778,
             "#fb9f3a"
            ],
            [
             0.8888888888888888,
             "#fdca26"
            ],
            [
             1,
             "#f0f921"
            ]
           ]
          },
          "colorway": [
           "#636efa",
           "#EF553B",
           "#00cc96",
           "#ab63fa",
           "#FFA15A",
           "#19d3f3",
           "#FF6692",
           "#B6E880",
           "#FF97FF",
           "#FECB52"
          ],
          "font": {
           "color": "#2a3f5f"
          },
          "geo": {
           "bgcolor": "white",
           "lakecolor": "white",
           "landcolor": "#E5ECF6",
           "showlakes": true,
           "showland": true,
           "subunitcolor": "white"
          },
          "hoverlabel": {
           "align": "left"
          },
          "hovermode": "closest",
          "mapbox": {
           "style": "light"
          },
          "paper_bgcolor": "white",
          "plot_bgcolor": "#E5ECF6",
          "polar": {
           "angularaxis": {
            "gridcolor": "white",
            "linecolor": "white",
            "ticks": ""
           },
           "bgcolor": "#E5ECF6",
           "radialaxis": {
            "gridcolor": "white",
            "linecolor": "white",
            "ticks": ""
           }
          },
          "scene": {
           "xaxis": {
            "backgroundcolor": "#E5ECF6",
            "gridcolor": "white",
            "gridwidth": 2,
            "linecolor": "white",
            "showbackground": true,
            "ticks": "",
            "zerolinecolor": "white"
           },
           "yaxis": {
            "backgroundcolor": "#E5ECF6",
            "gridcolor": "white",
            "gridwidth": 2,
            "linecolor": "white",
            "showbackground": true,
            "ticks": "",
            "zerolinecolor": "white"
           },
           "zaxis": {
            "backgroundcolor": "#E5ECF6",
            "gridcolor": "white",
            "gridwidth": 2,
            "linecolor": "white",
            "showbackground": true,
            "ticks": "",
            "zerolinecolor": "white"
           }
          },
          "shapedefaults": {
           "line": {
            "color": "#2a3f5f"
           }
          },
          "ternary": {
           "aaxis": {
            "gridcolor": "white",
            "linecolor": "white",
            "ticks": ""
           },
           "baxis": {
            "gridcolor": "white",
            "linecolor": "white",
            "ticks": ""
           },
           "bgcolor": "#E5ECF6",
           "caxis": {
            "gridcolor": "white",
            "linecolor": "white",
            "ticks": ""
           }
          },
          "title": {
           "x": 0.05
          },
          "xaxis": {
           "automargin": true,
           "gridcolor": "white",
           "linecolor": "white",
           "ticks": "",
           "title": {
            "standoff": 15
           },
           "zerolinecolor": "white",
           "zerolinewidth": 2
          },
          "yaxis": {
           "automargin": true,
           "gridcolor": "white",
           "linecolor": "white",
           "ticks": "",
           "title": {
            "standoff": 15
           },
           "zerolinecolor": "white",
           "zerolinewidth": 2
          }
         }
        }
       }
      },
      "text/html": [
       "<div>                            <div id=\"f0ec1516-be1c-43ea-93f8-4499453b9c7d\" class=\"plotly-graph-div\" style=\"height:525px; width:100%;\"></div>            <script type=\"text/javascript\">                require([\"plotly\"], function(Plotly) {                    window.PLOTLYENV=window.PLOTLYENV || {};                                    if (document.getElementById(\"f0ec1516-be1c-43ea-93f8-4499453b9c7d\")) {                    Plotly.newPlot(                        \"f0ec1516-be1c-43ea-93f8-4499453b9c7d\",                        [{\"hovertemplate\": \"learning_rate=%{x}<br>decay=%{y}<br>gamma=%{z}<br>test_accuracy=%{marker.color}<extra></extra>\", \"legendgroup\": \"\", \"marker\": {\"color\": [0.7516666666666666, 0.706, 0.7456666666666667, 0.7423333333333333, 0.7250000000000001, 0.7666666666666667, 0.7333333333333334, 0.7093333333333334, 0.7583333333333333, 0.7220000000000001, 0.92, 0.9293333333333336, 0.9086666666666666, 0.9083333333333332, 0.9196666666666669, 0.9250000000000002, 0.9123333333333332, 0.928, 0.911, 0.9196666666666669, 0.8976666666666667, 0.883, 0.8986666666666666, 0.8930000000000001, 0.9036666666666668, 0.8846666666666666, 0.886, 0.8826666666666667, 0.8976666666666667, 0.896, 0.547, 0.543, 0.552, 0.546, 0.6376666666666666, 0.6693333333333333, 0.539, 0.527, 0.6693333333333333, 0.571, 0.9193333333333332, 0.924, 0.9196666666666666, 0.939, 0.9226666666666666, 0.9293333333333336, 0.938, 0.9096666666666668, 0.9313333333333336, 0.9133333333333334, 0.7513333333333333, 0.71, 0.7456666666666667, 0.7436666666666666, 0.7256666666666667, 0.7673333333333333, 0.734, 0.709, 0.759, 0.7256666666666667, 0.6783333333333333, 0.7436666666666666, 0.739, 0.7176666666666667, 0.7473333333333333, 0.7086666666666667, 0.7343333333333333, 0.753, 0.7000000000000001, 0.6996666666666668, 0.6873333333333335, 0.6773333333333333, 0.7160000000000001, 0.7000000000000001, 0.618, 0.916, 0.9233333333333332, 0.9146666666666668, 0.9296666666666668, 0.9210000000000002, 0.9183333333333334, 0.9216666666666667, 0.9263333333333332, 0.9336666666666668, 0.92, 0.923, 0.9143333333333334, 0.9196666666666666, 0.9333333333333332, 0.913, 0.8973333333333334, 0.925, 0.9123333333333332, 0.926, 0.914, 0.835, 0.8449999999999999, 0.8033333333333333, 0.8573333333333334, 0.846, 0.899, 0.899, 0.906, 0.8933333333333332, 0.887, 0.8969999999999999, 0.8973333333333334, 0.8786666666666667, 0.898, 0.8816666666666667, 0.8969999999999999, 0.9093333333333332, 0.8886666666666666, 0.8913333333333333, 0.8953333333333333, 0.8940000000000001, 0.905, 0.8933333333333332, 0.8933333333333334, 0.887, 0.8386666666666667, 0.797, 0.835, 0.806, 0.802, 0.6606666666666667, 0.6333333333333334, 0.6376666666666667, 0.538, 0.564, 0.6606666666666666, 0.552, 0.606, 0.566, 0.6256666666666667, 0.6589999999999999, 0.727, 0.7743333333333333, 0.589, 0.6593333333333333, 0.8683333333333333, 0.8636666666666667, 0.8763333333333333, 0.8706666666666667, 0.8606666666666666, 0.7766666666666667, 0.7786666666666667, 0.7946666666666667, 0.7923333333333334, 0.7966666666666667, 0.9206666666666666, 0.9286666666666666, 0.9206666666666669, 0.9343333333333332, 0.9186666666666669, 0.9376666666666664, 0.94, 0.9306666666666666, 0.9206666666666669, 0.9236666666666666, 0.928, 0.917, 0.92, 0.9183333333333332, 0.9376666666666664, 0.9263333333333332, 0.9243333333333332, 0.913, 0.917, 0.925, 0.7816666666666667, 0.848, 0.8433333333333333, 0.8106666666666666, 0.8116666666666665], \"coloraxis\": \"coloraxis\", \"symbol\": \"circle\"}, \"mode\": \"markers\", \"name\": \"\", \"scene\": \"scene\", \"showlegend\": false, \"type\": \"scatter3d\", \"x\": [0.0001, 0.0001, 0.0001, 0.0001, 0.0001, 0.0001, 0.0001, 0.0001, 0.0001, 0.0001, 0.005, 0.005, 0.005, 0.005, 0.005, 0.005, 0.005, 0.005, 0.005, 0.005, 0.001, 0.001, 0.001, 0.001, 0.001, 0.001, 0.001, 0.001, 0.001, 0.001, 0.05, 0.05, 0.05, 0.05, 0.05, 0.05, 0.05, 0.05, 0.05, 0.05, 0.01, 0.01, 0.01, 0.01, 0.01, 0.01, 0.01, 0.01, 0.01, 0.01, 0.0001, 0.0001, 0.0001, 0.0001, 0.0001, 0.0001, 0.0001, 0.0001, 0.0001, 0.0001, 0.0001, 0.0001, 0.0001, 0.0001, 0.0001, 0.0001, 0.0001, 0.0001, 0.0001, 0.0001, 0.0001, 0.0001, 0.0001, 0.0001, 0.0001, 0.005, 0.005, 0.005, 0.005, 0.005, 0.005, 0.005, 0.005, 0.005, 0.005, 0.005, 0.005, 0.005, 0.005, 0.005, 0.005, 0.005, 0.005, 0.005, 0.005, 0.005, 0.005, 0.005, 0.005, 0.005, 0.001, 0.001, 0.001, 0.001, 0.001, 0.001, 0.001, 0.001, 0.001, 0.001, 0.001, 0.001, 0.001, 0.001, 0.001, 0.001, 0.001, 0.001, 0.001, 0.001, 0.001, 0.001, 0.001, 0.001, 0.001, 0.05, 0.05, 0.05, 0.05, 0.05, 0.05, 0.05, 0.05, 0.05, 0.05, 0.05, 0.05, 0.05, 0.05, 0.05, 0.05, 0.05, 0.05, 0.05, 0.05, 0.05, 0.05, 0.05, 0.05, 0.05, 0.01, 0.01, 0.01, 0.01, 0.01, 0.01, 0.01, 0.01, 0.01, 0.01, 0.01, 0.01, 0.01, 0.01, 0.01, 0.01, 0.01, 0.01, 0.01, 0.01, 0.01, 0.01, 0.01, 0.01, 0.01], \"y\": [1e-06, 1e-06, 1e-06, 1e-06, 1e-06, 1e-05, 1e-05, 1e-05, 1e-05, 1e-05, 1e-06, 1e-06, 1e-06, 1e-06, 1e-06, 1e-05, 1e-05, 1e-05, 1e-05, 1e-05, 1e-06, 1e-06, 1e-06, 1e-06, 1e-06, 1e-05, 1e-05, 1e-05, 1e-05, 1e-05, 1e-06, 1e-06, 1e-06, 1e-06, 1e-06, 1e-05, 1e-05, 1e-05, 1e-05, 1e-05, 1e-06, 1e-06, 1e-06, 1e-06, 1e-06, 1e-05, 1e-05, 1e-05, 1e-05, 1e-05, 1e-05, 1e-05, 1e-05, 1e-05, 1e-05, 0.0001, 0.0001, 0.0001, 0.0001, 0.0001, 0.001, 0.001, 0.001, 0.001, 0.001, 0.01, 0.01, 0.01, 0.01, 0.01, 0.1, 0.1, 0.1, 0.1, 0.1, 1e-05, 1e-05, 1e-05, 1e-05, 1e-05, 0.0001, 0.0001, 0.0001, 0.0001, 0.0001, 0.001, 0.001, 0.001, 0.001, 0.001, 0.01, 0.01, 0.01, 0.01, 0.01, 0.1, 0.1, 0.1, 0.1, 0.1, 1e-05, 1e-05, 1e-05, 1e-05, 1e-05, 0.0001, 0.0001, 0.0001, 0.0001, 0.0001, 0.001, 0.001, 0.001, 0.001, 0.001, 0.01, 0.01, 0.01, 0.01, 0.01, 0.1, 0.1, 0.1, 0.1, 0.1, 1e-05, 1e-05, 1e-05, 1e-05, 1e-05, 0.0001, 0.0001, 0.0001, 0.0001, 0.0001, 0.001, 0.001, 0.001, 0.001, 0.001, 0.01, 0.01, 0.01, 0.01, 0.01, 0.1, 0.1, 0.1, 0.1, 0.1, 1e-05, 1e-05, 1e-05, 1e-05, 1e-05, 0.0001, 0.0001, 0.0001, 0.0001, 0.0001, 0.001, 0.001, 0.001, 0.001, 0.001, 0.01, 0.01, 0.01, 0.01, 0.01, 0.1, 0.1, 0.1, 0.1, 0.1], \"z\": [0.0, 0.25, 0.5, 0.75, 1.0, 0.0, 0.25, 0.5, 0.75, 1.0, 0.0, 0.25, 0.5, 0.75, 1.0, 0.0, 0.25, 0.5, 0.75, 1.0, 0.0, 0.25, 0.5, 0.75, 1.0, 0.0, 0.25, 0.5, 0.75, 1.0, 0.0, 0.25, 0.5, 0.75, 1.0, 0.0, 0.25, 0.5, 0.75, 1.0, 0.0, 0.25, 0.5, 0.75, 1.0, 0.0, 0.25, 0.5, 0.75, 1.0, 0.0, 0.25, 0.5, 0.75, 1.0, 0.0, 0.25, 0.5, 0.75, 1.0, 0.0, 0.25, 0.5, 0.75, 1.0, 0.0, 0.25, 0.5, 0.75, 1.0, 0.0, 0.25, 0.5, 0.75, 1.0, 0.0, 0.25, 0.5, 0.75, 1.0, 0.0, 0.25, 0.5, 0.75, 1.0, 0.0, 0.25, 0.5, 0.75, 1.0, 0.0, 0.25, 0.5, 0.75, 1.0, 0.0, 0.25, 0.5, 0.75, 1.0, 0.0, 0.25, 0.5, 0.75, 1.0, 0.0, 0.25, 0.5, 0.75, 1.0, 0.0, 0.25, 0.5, 0.75, 1.0, 0.0, 0.25, 0.5, 0.75, 1.0, 0.0, 0.25, 0.5, 0.75, 1.0, 0.0, 0.25, 0.5, 0.75, 1.0, 0.0, 0.25, 0.5, 0.75, 1.0, 0.0, 0.25, 0.5, 0.75, 1.0, 0.0, 0.25, 0.5, 0.75, 1.0, 0.0, 0.25, 0.5, 0.75, 1.0, 0.0, 0.25, 0.5, 0.75, 1.0, 0.0, 0.25, 0.5, 0.75, 1.0, 0.0, 0.25, 0.5, 0.75, 1.0, 0.0, 0.25, 0.5, 0.75, 1.0, 0.0, 0.25, 0.5, 0.75, 1.0]}],                        {\"coloraxis\": {\"colorbar\": {\"title\": {\"text\": \"test_accuracy\"}}, \"colorscale\": [[0.0, \"#0d0887\"], [0.1111111111111111, \"#46039f\"], [0.2222222222222222, \"#7201a8\"], [0.3333333333333333, \"#9c179e\"], [0.4444444444444444, \"#bd3786\"], [0.5555555555555556, \"#d8576b\"], [0.6666666666666666, \"#ed7953\"], [0.7777777777777778, \"#fb9f3a\"], [0.8888888888888888, \"#fdca26\"], [1.0, \"#f0f921\"]]}, \"legend\": {\"tracegroupgap\": 0}, \"margin\": {\"t\": 60}, \"scene\": {\"domain\": {\"x\": [0.0, 1.0], \"y\": [0.0, 1.0]}, \"xaxis\": {\"title\": {\"text\": \"learning_rate\"}, \"type\": \"log\"}, \"yaxis\": {\"title\": {\"text\": \"decay\"}, \"type\": \"log\"}, \"zaxis\": {\"title\": {\"text\": \"gamma\"}}}, \"template\": {\"data\": {\"bar\": [{\"error_x\": {\"color\": \"#2a3f5f\"}, \"error_y\": {\"color\": \"#2a3f5f\"}, \"marker\": {\"line\": {\"color\": \"#E5ECF6\", \"width\": 0.5}}, \"type\": \"bar\"}], \"barpolar\": [{\"marker\": {\"line\": {\"color\": \"#E5ECF6\", \"width\": 0.5}}, \"type\": \"barpolar\"}], \"carpet\": [{\"aaxis\": {\"endlinecolor\": \"#2a3f5f\", \"gridcolor\": \"white\", \"linecolor\": \"white\", \"minorgridcolor\": \"white\", \"startlinecolor\": \"#2a3f5f\"}, \"baxis\": {\"endlinecolor\": \"#2a3f5f\", \"gridcolor\": \"white\", \"linecolor\": \"white\", \"minorgridcolor\": \"white\", \"startlinecolor\": \"#2a3f5f\"}, \"type\": \"carpet\"}], \"choropleth\": [{\"colorbar\": {\"outlinewidth\": 0, \"ticks\": \"\"}, \"type\": \"choropleth\"}], \"contour\": [{\"colorbar\": {\"outlinewidth\": 0, \"ticks\": \"\"}, \"colorscale\": [[0.0, \"#0d0887\"], [0.1111111111111111, \"#46039f\"], [0.2222222222222222, \"#7201a8\"], [0.3333333333333333, \"#9c179e\"], [0.4444444444444444, \"#bd3786\"], [0.5555555555555556, \"#d8576b\"], [0.6666666666666666, \"#ed7953\"], [0.7777777777777778, \"#fb9f3a\"], [0.8888888888888888, \"#fdca26\"], [1.0, \"#f0f921\"]], \"type\": \"contour\"}], \"contourcarpet\": [{\"colorbar\": {\"outlinewidth\": 0, \"ticks\": \"\"}, \"type\": \"contourcarpet\"}], \"heatmap\": [{\"colorbar\": {\"outlinewidth\": 0, \"ticks\": \"\"}, \"colorscale\": [[0.0, \"#0d0887\"], [0.1111111111111111, \"#46039f\"], [0.2222222222222222, \"#7201a8\"], [0.3333333333333333, \"#9c179e\"], [0.4444444444444444, \"#bd3786\"], [0.5555555555555556, \"#d8576b\"], [0.6666666666666666, \"#ed7953\"], [0.7777777777777778, \"#fb9f3a\"], [0.8888888888888888, \"#fdca26\"], [1.0, \"#f0f921\"]], \"type\": \"heatmap\"}], \"heatmapgl\": [{\"colorbar\": {\"outlinewidth\": 0, \"ticks\": \"\"}, \"colorscale\": [[0.0, \"#0d0887\"], [0.1111111111111111, \"#46039f\"], [0.2222222222222222, \"#7201a8\"], [0.3333333333333333, \"#9c179e\"], [0.4444444444444444, \"#bd3786\"], [0.5555555555555556, \"#d8576b\"], [0.6666666666666666, \"#ed7953\"], [0.7777777777777778, \"#fb9f3a\"], [0.8888888888888888, \"#fdca26\"], [1.0, \"#f0f921\"]], \"type\": \"heatmapgl\"}], \"histogram\": [{\"marker\": {\"colorbar\": {\"outlinewidth\": 0, \"ticks\": \"\"}}, \"type\": \"histogram\"}], \"histogram2d\": [{\"colorbar\": {\"outlinewidth\": 0, \"ticks\": \"\"}, \"colorscale\": [[0.0, \"#0d0887\"], [0.1111111111111111, \"#46039f\"], [0.2222222222222222, \"#7201a8\"], [0.3333333333333333, \"#9c179e\"], [0.4444444444444444, \"#bd3786\"], [0.5555555555555556, \"#d8576b\"], [0.6666666666666666, \"#ed7953\"], [0.7777777777777778, \"#fb9f3a\"], [0.8888888888888888, \"#fdca26\"], [1.0, \"#f0f921\"]], \"type\": \"histogram2d\"}], \"histogram2dcontour\": [{\"colorbar\": {\"outlinewidth\": 0, \"ticks\": \"\"}, \"colorscale\": [[0.0, \"#0d0887\"], [0.1111111111111111, \"#46039f\"], [0.2222222222222222, \"#7201a8\"], [0.3333333333333333, \"#9c179e\"], [0.4444444444444444, \"#bd3786\"], [0.5555555555555556, \"#d8576b\"], [0.6666666666666666, \"#ed7953\"], [0.7777777777777778, \"#fb9f3a\"], [0.8888888888888888, \"#fdca26\"], [1.0, \"#f0f921\"]], \"type\": \"histogram2dcontour\"}], \"mesh3d\": [{\"colorbar\": {\"outlinewidth\": 0, \"ticks\": \"\"}, \"type\": \"mesh3d\"}], \"parcoords\": [{\"line\": {\"colorbar\": {\"outlinewidth\": 0, \"ticks\": \"\"}}, \"type\": \"parcoords\"}], \"pie\": [{\"automargin\": true, \"type\": \"pie\"}], \"scatter\": [{\"marker\": {\"colorbar\": {\"outlinewidth\": 0, \"ticks\": \"\"}}, \"type\": \"scatter\"}], \"scatter3d\": [{\"line\": {\"colorbar\": {\"outlinewidth\": 0, \"ticks\": \"\"}}, \"marker\": {\"colorbar\": {\"outlinewidth\": 0, \"ticks\": \"\"}}, \"type\": \"scatter3d\"}], \"scattercarpet\": [{\"marker\": {\"colorbar\": {\"outlinewidth\": 0, \"ticks\": \"\"}}, \"type\": \"scattercarpet\"}], \"scattergeo\": [{\"marker\": {\"colorbar\": {\"outlinewidth\": 0, \"ticks\": \"\"}}, \"type\": \"scattergeo\"}], \"scattergl\": [{\"marker\": {\"colorbar\": {\"outlinewidth\": 0, \"ticks\": \"\"}}, \"type\": \"scattergl\"}], \"scattermapbox\": [{\"marker\": {\"colorbar\": {\"outlinewidth\": 0, \"ticks\": \"\"}}, \"type\": \"scattermapbox\"}], \"scatterpolar\": [{\"marker\": {\"colorbar\": {\"outlinewidth\": 0, \"ticks\": \"\"}}, \"type\": \"scatterpolar\"}], \"scatterpolargl\": [{\"marker\": {\"colorbar\": {\"outlinewidth\": 0, \"ticks\": \"\"}}, \"type\": \"scatterpolargl\"}], \"scatterternary\": [{\"marker\": {\"colorbar\": {\"outlinewidth\": 0, \"ticks\": \"\"}}, \"type\": \"scatterternary\"}], \"surface\": [{\"colorbar\": {\"outlinewidth\": 0, \"ticks\": \"\"}, \"colorscale\": [[0.0, \"#0d0887\"], [0.1111111111111111, \"#46039f\"], [0.2222222222222222, \"#7201a8\"], [0.3333333333333333, \"#9c179e\"], [0.4444444444444444, \"#bd3786\"], [0.5555555555555556, \"#d8576b\"], [0.6666666666666666, \"#ed7953\"], [0.7777777777777778, \"#fb9f3a\"], [0.8888888888888888, \"#fdca26\"], [1.0, \"#f0f921\"]], \"type\": \"surface\"}], \"table\": [{\"cells\": {\"fill\": {\"color\": \"#EBF0F8\"}, \"line\": {\"color\": \"white\"}}, \"header\": {\"fill\": {\"color\": \"#C8D4E3\"}, \"line\": {\"color\": \"white\"}}, \"type\": \"table\"}]}, \"layout\": {\"annotationdefaults\": {\"arrowcolor\": \"#2a3f5f\", \"arrowhead\": 0, \"arrowwidth\": 1}, \"autotypenumbers\": \"strict\", \"coloraxis\": {\"colorbar\": {\"outlinewidth\": 0, \"ticks\": \"\"}}, \"colorscale\": {\"diverging\": [[0, \"#8e0152\"], [0.1, \"#c51b7d\"], [0.2, \"#de77ae\"], [0.3, \"#f1b6da\"], [0.4, \"#fde0ef\"], [0.5, \"#f7f7f7\"], [0.6, \"#e6f5d0\"], [0.7, \"#b8e186\"], [0.8, \"#7fbc41\"], [0.9, \"#4d9221\"], [1, \"#276419\"]], \"sequential\": [[0.0, \"#0d0887\"], [0.1111111111111111, \"#46039f\"], [0.2222222222222222, \"#7201a8\"], [0.3333333333333333, \"#9c179e\"], [0.4444444444444444, \"#bd3786\"], [0.5555555555555556, \"#d8576b\"], [0.6666666666666666, \"#ed7953\"], [0.7777777777777778, \"#fb9f3a\"], [0.8888888888888888, \"#fdca26\"], [1.0, \"#f0f921\"]], \"sequentialminus\": [[0.0, \"#0d0887\"], [0.1111111111111111, \"#46039f\"], [0.2222222222222222, \"#7201a8\"], [0.3333333333333333, \"#9c179e\"], [0.4444444444444444, \"#bd3786\"], [0.5555555555555556, \"#d8576b\"], [0.6666666666666666, \"#ed7953\"], [0.7777777777777778, \"#fb9f3a\"], [0.8888888888888888, \"#fdca26\"], [1.0, \"#f0f921\"]]}, \"colorway\": [\"#636efa\", \"#EF553B\", \"#00cc96\", \"#ab63fa\", \"#FFA15A\", \"#19d3f3\", \"#FF6692\", \"#B6E880\", \"#FF97FF\", \"#FECB52\"], \"font\": {\"color\": \"#2a3f5f\"}, \"geo\": {\"bgcolor\": \"white\", \"lakecolor\": \"white\", \"landcolor\": \"#E5ECF6\", \"showlakes\": true, \"showland\": true, \"subunitcolor\": \"white\"}, \"hoverlabel\": {\"align\": \"left\"}, \"hovermode\": \"closest\", \"mapbox\": {\"style\": \"light\"}, \"paper_bgcolor\": \"white\", \"plot_bgcolor\": \"#E5ECF6\", \"polar\": {\"angularaxis\": {\"gridcolor\": \"white\", \"linecolor\": \"white\", \"ticks\": \"\"}, \"bgcolor\": \"#E5ECF6\", \"radialaxis\": {\"gridcolor\": \"white\", \"linecolor\": \"white\", \"ticks\": \"\"}}, \"scene\": {\"xaxis\": {\"backgroundcolor\": \"#E5ECF6\", \"gridcolor\": \"white\", \"gridwidth\": 2, \"linecolor\": \"white\", \"showbackground\": true, \"ticks\": \"\", \"zerolinecolor\": \"white\"}, \"yaxis\": {\"backgroundcolor\": \"#E5ECF6\", \"gridcolor\": \"white\", \"gridwidth\": 2, \"linecolor\": \"white\", \"showbackground\": true, \"ticks\": \"\", \"zerolinecolor\": \"white\"}, \"zaxis\": {\"backgroundcolor\": \"#E5ECF6\", \"gridcolor\": \"white\", \"gridwidth\": 2, \"linecolor\": \"white\", \"showbackground\": true, \"ticks\": \"\", \"zerolinecolor\": \"white\"}}, \"shapedefaults\": {\"line\": {\"color\": \"#2a3f5f\"}}, \"ternary\": {\"aaxis\": {\"gridcolor\": \"white\", \"linecolor\": \"white\", \"ticks\": \"\"}, \"baxis\": {\"gridcolor\": \"white\", \"linecolor\": \"white\", \"ticks\": \"\"}, \"bgcolor\": \"#E5ECF6\", \"caxis\": {\"gridcolor\": \"white\", \"linecolor\": \"white\", \"ticks\": \"\"}}, \"title\": {\"x\": 0.05}, \"xaxis\": {\"automargin\": true, \"gridcolor\": \"white\", \"linecolor\": \"white\", \"ticks\": \"\", \"title\": {\"standoff\": 15}, \"zerolinecolor\": \"white\", \"zerolinewidth\": 2}, \"yaxis\": {\"automargin\": true, \"gridcolor\": \"white\", \"linecolor\": \"white\", \"ticks\": \"\", \"title\": {\"standoff\": 15}, \"zerolinecolor\": \"white\", \"zerolinewidth\": 2}}}},                        {\"responsive\": true}                    ).then(function(){\n",
       "                            \n",
       "var gd = document.getElementById('f0ec1516-be1c-43ea-93f8-4499453b9c7d');\n",
       "var x = new MutationObserver(function (mutations, observer) {{\n",
       "        var display = window.getComputedStyle(gd).display;\n",
       "        if (!display || display === 'none') {{\n",
       "            console.log([gd, 'removed!']);\n",
       "            Plotly.purge(gd);\n",
       "            observer.disconnect();\n",
       "        }}\n",
       "}});\n",
       "\n",
       "// Listen for the removal of the full notebook cells\n",
       "var notebookContainer = gd.closest('#notebook-container');\n",
       "if (notebookContainer) {{\n",
       "    x.observe(notebookContainer, {childList: true});\n",
       "}}\n",
       "\n",
       "// Listen for the clearing of the current output cell\n",
       "var outputEl = gd.closest('.output');\n",
       "if (outputEl) {{\n",
       "    x.observe(outputEl, {childList: true});\n",
       "}}\n",
       "\n",
       "                        })                };                });            </script>        </div>"
      ]
     },
     "metadata": {},
     "output_type": "display_data"
    }
   ],
   "source": [
    "fig = px.scatter_3d(params, x='learning_rate', y='decay', z='gamma',\n",
    "                    log_x=True, log_y=True,\n",
    "                    color='test_accuracy')\n",
    "fig.show()"
   ]
  },
  {
   "cell_type": "code",
   "execution_count": 9,
   "metadata": {},
   "outputs": [],
   "source": [
    "import seaborn as sns\n",
    "import matplotlib.pyplot as plt"
   ]
  },
  {
   "cell_type": "code",
   "execution_count": 15,
   "metadata": {},
   "outputs": [
    {
     "data": {
      "text/plain": [
       "learning_rate     0.01000\n",
       "decay             0.00010\n",
       "gamma             0.25000\n",
       "train_accuracy    0.96036\n",
       "test_accuracy     0.94000\n",
       "Name: 106, dtype: float64"
      ]
     },
     "execution_count": 15,
     "metadata": {},
     "output_type": "execute_result"
    }
   ],
   "source": [
    "params.iloc[156]"
   ]
  },
  {
   "cell_type": "code",
   "execution_count": 19,
   "metadata": {},
   "outputs": [
    {
     "data": {
      "text/plain": [
       "<AxesSubplot:xlabel='decay', ylabel='test_accuracy'>"
      ]
     },
     "execution_count": 19,
     "metadata": {},
     "output_type": "execute_result"
    },
    {
     "data": {
      "image/png": "[encoded data removed]",
      "text/plain": [
       "<Figure size 432x288 with 1 Axes>"
      ]
     },
     "metadata": {
      "needs_background": "light"
     },
     "output_type": "display_data"
    }
   ],
   "source": [
    "fig, ax = plt.subplots()\n",
    "ax.set(xscale=\"log\")\n",
    "\n",
    "sns.scatterplot(data=params[params['learning_rate'] == .01], x='decay', y='test_accuracy', label='test')\n",
    "sns.scatterplot(data=params[params['learning_rate'] == .01], x='decay', y='train_accuracy', label='train')"
   ]
  },
  {
   "cell_type": "code",
   "execution_count": 20,
   "metadata": {},
   "outputs": [
    {
     "data": {
      "text/plain": [
       "<AxesSubplot:xlabel='learning_rate', ylabel='test_accuracy'>"
      ]
     },
     "execution_count": 20,
     "metadata": {},
     "output_type": "execute_result"
    },
    {
     "data": {
      "image/png": "[encoded data removed]",
      "text/plain": [
       "<Figure size 432x288 with 1 Axes>"
      ]
     },
     "metadata": {
      "needs_background": "light"
     },
     "output_type": "display_data"
    }
   ],
   "source": [
    "fig, ax = plt.subplots()\n",
    "ax.set(xscale=\"log\")\n",
    "\n",
    "sns.scatterplot(data=params[params['decay'] == 1e-4], x='learning_rate', y='test_accuracy', label='test')\n",
    "sns.scatterplot(data=params[params['decay'] == 1e-4], x='learning_rate', y='train_accuracy', label='train')"
   ]
  },
  {
   "cell_type": "code",
   "execution_count": 22,
   "metadata": {},
   "outputs": [
    {
     "data": {
      "text/plain": [
       "<AxesSubplot:xlabel='gamma', ylabel='test_accuracy'>"
      ]
     },
     "execution_count": 22,
     "metadata": {},
     "output_type": "execute_result"
    },
    {
     "data": {
      "image/png": "[encoded data removed]",
      "text/plain": [
       "<Figure size 432x288 with 1 Axes>"
      ]
     },
     "metadata": {
      "needs_background": "light"
     },
     "output_type": "display_data"
    }
   ],
   "source": [
    "sns.scatterplot(data=params[(params['decay'] == 1e-4) & (params['learning_rate'] == .01)], x='gamma', y='test_accuracy', label='test')\n",
    "sns.scatterplot(data=params[(params['decay'] == 1e-4) & (params['learning_rate'] == .01)], x='gamma', y='train_accuracy', label='train')"
   ]
  },
  {
   "cell_type": "code",
   "execution_count": 29,
   "metadata": {},
   "outputs": [
    {
     "data": {
      "text/plain": [
       "<AxesSubplot:xlabel='gamma', ylabel='test_accuracy'>"
      ]
     },
     "execution_count": 29,
     "metadata": {},
     "output_type": "execute_result"
    },
    {
     "data": {
      "image/png": "[encoded data removed]",
      "text/plain": [
       "<Figure size 432x288 with 1 Axes>"
      ]
     },
     "metadata": {
      "needs_background": "light"
     },
     "output_type": "display_data"
    }
   ],
   "source": [
    "sns.scatterplot(data=params[(params['decay'].isin([1e-4, 1e-3])) & (params['learning_rate'].isin([1e-2, 5e-3]))], x='gamma', y='test_accuracy', label='test')\n",
    "sns.scatterplot(data=params[(params['decay'].isin([1e-4, 1e-3])) & (params['learning_rate'].isin([1e-2, 5e-3]))], x='gamma', y='train_accuracy', label='train')"
   ]
  },
  {
   "cell_type": "code",
   "execution_count": null,
   "metadata": {},
   "outputs": [],
   "source": [
    "fig, ax = plt.subplots()\n",
    "ax.set(xscale=\"log\", yscale=\"log\")\n",
    "\n",
    "sns.scatterplot(data=params, x='learning_rate', y='train_accuracy', ax=ax)"
   ]
  },
  {
   "cell_type": "code",
   "execution_count": null,
   "metadata": {},
   "outputs": [],
   "source": []
  },
  {
   "cell_type": "code",
   "execution_count": null,
   "metadata": {},
   "outputs": [],
   "source": [
    "import sys, os\n",
    "\n",
    "sys.path.append(os.path.abspath('..'))"
   ]
  },
  {
   "cell_type": "code",
   "execution_count": null,
   "metadata": {},
   "outputs": [],
   "source": [
    "import matplotlib as mpl\n",
    "import matplotlib.pyplot as plt\n",
    "\n",
    "mpl.rcParams['figure.figsize'] = [8.3, 5.1]"
   ]
  },
  {
   "cell_type": "code",
   "execution_count": null,
   "metadata": {},
   "outputs": [],
   "source": [
    "from utils import load_dataset\n",
    "from metrics import TrainingMetrics"
   ]
  },
  {
   "cell_type": "code",
   "execution_count": null,
   "metadata": {},
   "outputs": [],
   "source": [
    "import torch\n",
    "from torch import nn\n",
    "from torch.nn import functional as F\n",
    "from torch.utils.data import TensorDataset, DataLoader"
   ]
  },
  {
   "cell_type": "code",
   "execution_count": null,
   "metadata": {},
   "outputs": [],
   "source": [
    "class Net(nn.Module):\n",
    "    def __init__(self, nb_hidden):\n",
    "        super().__init__()\n",
    "        # Convolutional layers\n",
    "        self.conv1 = nn.Conv2d(2, 24, kernel_size=3)\n",
    "        self.conv2 = nn.Conv2d(24, 49, kernel_size=3)\n",
    "        \n",
    "        # fully connected layers\n",
    "        self.fc1 = nn.Linear(196, 128)\n",
    "        self.fc2 = nn.Linear(128, 20)\n",
    "        self.fc3 = nn.Linear(20, 10)\n",
    "        self.classifier = nn.Linear(10, 1)\n",
    "        \n",
    "        # Regularizers\n",
    "        self.drop = nn.Dropout(0.2)\n",
    "        self.pool = nn.MaxPool2d(2,2)\n",
    "        \n",
    "        # Activation functions\n",
    "        self.relu = nn.ReLU()\n",
    "        self.sigmoid = nn.Sigmoid()\n",
    "\n",
    "    def forward(self, x):\n",
    "        x = self.pool(self.relu(self.conv1(x)))\n",
    "        x = self.pool(self.relu(self.conv2(x)))\n",
    "        \n",
    "        x = self.relu(self.fc1(x.flatten(start_dim=1)))\n",
    "        x = self.drop(x)\n",
    "        \n",
    "        x = self.relu(self.fc2(x))\n",
    "        x = self.drop(x)\n",
    "        \n",
    "        x = self.relu(self.fc3(x.flatten(start_dim=1)))\n",
    "        \n",
    "        x = self.sigmoid(self.classifier(x))\n",
    "        \n",
    "        return x.squeeze(), None"
   ]
  },
  {
   "cell_type": "code",
   "execution_count": null,
   "metadata": {},
   "outputs": [],
   "source": [
    "train_loader, test_loader = load_dataset()"
   ]
  },
  {
   "cell_type": "code",
   "execution_count": null,
   "metadata": {},
   "outputs": [],
   "source": [
    "model = Net(200)"
   ]
  },
  {
   "cell_type": "code",
   "execution_count": null,
   "metadata": {},
   "outputs": [],
   "source": [
    "def accuracy(model, load):\n",
    "    \n",
    "    accuracy = 0.\n",
    "    counter = 0\n",
    "    \n",
    "    model.eval()\n",
    "    \n",
    "    with torch.no_grad():\n",
    "            for (input, target, _) in load:\n",
    "                output, _ = model(input)\n",
    "                \n",
    "                accuracy += (output >= 0.5) == target\n",
    "                counter += target.size(0)\n",
    "                \n",
    "    return (accuracy.sum() / counter).float().item()"
   ]
  },
  {
   "cell_type": "code",
   "execution_count": null,
   "metadata": {},
   "outputs": [],
   "source": [
    "criterion = nn.BCELoss()\n",
    "eta = 1e-2\n",
    "epochs = 25\n",
    "decay = 1e-3\n",
    "\n",
    "optimizer = torch.optim.Adam(model.parameters(), lr=eta, weight_decay=decay)\n",
    "\n",
    "metrics = TrainingMetrics()\n",
    "\n",
    "for epoch in range(epochs):\n",
    "    \n",
    "    acc_loss = 0.\n",
    "    \n",
    "    model.train()\n",
    "    \n",
    "    for input, target, classes in train_loader:\n",
    "        \n",
    "        output, aux = model(input)\n",
    "        loss = criterion(output, target.float())\n",
    "        \n",
    "        acc_loss += loss.item()\n",
    "        \n",
    "        optimizer.zero_grad()\n",
    "        loss.backward()\n",
    "        optimizer.step()\n",
    "        \n",
    "    metrics.add_entry(epoch, acc_loss, accuracy(model, train_loader))\n",
    "    print(metrics)"
   ]
  },
  {
   "cell_type": "code",
   "execution_count": null,
   "metadata": {},
   "outputs": [],
   "source": [
    "print(f\"{4.555:06.3f}\")"
   ]
  },
  {
   "cell_type": "code",
   "execution_count": null,
   "metadata": {},
   "outputs": [],
   "source": [
    "import pandas as pd\n",
    "import seaborn as sns\n",
    "\n",
    "training_stats = pd.DataFrame.from_dict(stats, orient='index')\n",
    "training_stats['epoch'] = training_stats.index"
   ]
  },
  {
   "cell_type": "code",
   "execution_count": null,
   "metadata": {},
   "outputs": [],
   "source": [
    "ax_loss = sns.lineplot(data=training_stats, x=\"epoch\", y=\"loss\", label='loss')\n",
    "\n",
    "ax_acc = ax_loss.twinx()\n",
    "\n",
    "sns.lineplot(data=training_stats, x=\"epoch\", y=\"accuracy\", label='accuracy', ax=ax_acc, color='r')\n",
    "\n",
    "plt.show()"
   ]
  },
  {
   "cell_type": "code",
   "execution_count": null,
   "metadata": {},
   "outputs": [],
   "source": []
  },
  {
   "cell_type": "code",
   "execution_count": null,
   "metadata": {},
   "outputs": [],
   "source": []
  },
  {
   "cell_type": "code",
   "execution_count": 10,
   "metadata": {},
   "outputs": [],
   "source": [
    "import pandas as pd"
   ]
  },
  {
   "cell_type": "code",
   "execution_count": 11,
   "metadata": {},
   "outputs": [],
   "source": [
    "tm = pd.read_csv('../testing_metrics.csv')"
   ]
  },
  {
   "cell_type": "code",
   "execution_count": 12,
   "metadata": {},
   "outputs": [
    {
     "output_type": "execute_result",
     "data": {
      "text/plain": [
       "0.9062000000000001"
      ]
     },
     "metadata": {},
     "execution_count": 12
    }
   ],
   "source": [
    "tm.accuracy.mean()"
   ]
  },
  {
   "cell_type": "code",
   "execution_count": 20,
   "metadata": {},
   "outputs": [],
   "source": [
    "import sys, os\n",
    "\n",
    "sys.path.append(os.path.abspath('../src'))\n",
    "\n",
    "import torch\n",
    "from models.siamese_convnet import SiameseConvNet"
   ]
  },
  {
   "cell_type": "code",
   "execution_count": 24,
   "metadata": {},
   "outputs": [],
   "source": [
    "model = SiameseConvNet()\n",
    "\n",
    "x = torch.randn(1, 2, 14, 14)\n",
    "\n",
    "y = model(x)"
   ]
  },
  {
   "cell_type": "code",
   "execution_count": 36,
   "metadata": {},
   "outputs": [
    {
     "output_type": "execute_result",
     "data": {
      "text/plain": [
       "<graphviz.dot.Digraph at 0x7fb48e7dbc40>"
      ],
      "image/svg+xml": "<?xml version=\"1.0\" encoding=\"UTF-8\" standalone=\"no\"?>\n<!DOCTYPE svg PUBLIC \"-//W3C//DTD SVG 1.1//EN\"\n \"http://www.w3.org/Graphics/SVG/1.1/DTD/svg11.dtd\">\n<!-- Generated by graphviz version 2.47.1 (20210417.1919)\n -->\n<!-- Pages: 1 -->\n<svg width=\"579pt\" height=\"1317pt\"\n viewBox=\"0.00 0.00 579.00 1317.00\" xmlns=\"http://www.w3.org/2000/svg\" xmlns:xlink=\"http://www.w3.org/1999/xlink\">\n<g id=\"graph0\" class=\"graph\" transform=\"scale(1 1) rotate(0) translate(4 1313)\">\n<polygon fill=\"white\" stroke=\"transparent\" points=\"-4,4 -4,-1313 575,-1313 575,4 -4,4\"/>\n<!-- 140413379864320 -->\n<g id=\"node1\" class=\"node\">\n<title>140413379864320</title>\n<polygon fill=\"#caff70\" stroke=\"black\" points=\"238.5,-31 184.5,-31 184.5,0 238.5,0 238.5,-31\"/>\n<text text-anchor=\"middle\" x=\"211.5\" y=\"-7\" font-family=\"monospace\" font-size=\"10.00\"> ()</text>\n</g>\n<!-- 140413461443104 -->\n<g id=\"node2\" class=\"node\">\n<title>140413461443104</title>\n<polygon fill=\"lightgrey\" stroke=\"black\" points=\"216,-92 103,-92 103,-73 216,-73 216,-92\"/>\n<text text-anchor=\"middle\" x=\"159.5\" y=\"-80\" font-family=\"monospace\" font-size=\"10.00\">SqueezeBackward0</text>\n</g>\n<!-- 140413461443104&#45;&gt;140413379864320 -->\n<g id=\"edge70\" class=\"edge\">\n<title>140413461443104&#45;&gt;140413379864320</title>\n<path fill=\"none\" stroke=\"black\" d=\"M166.51,-72.73C173.38,-64.15 184.14,-50.69 193.42,-39.1\"/>\n<polygon fill=\"black\" stroke=\"black\" points=\"196.32,-41.08 199.83,-31.08 190.85,-36.71 196.32,-41.08\"/>\n</g>\n<!-- 140413461444976 -->\n<g id=\"node3\" class=\"node\">\n<title>140413461444976</title>\n<polygon fill=\"lightgrey\" stroke=\"black\" points=\"265,-153 158,-153 158,-134 265,-134 265,-153\"/>\n<text text-anchor=\"middle\" x=\"211.5\" y=\"-141\" font-family=\"monospace\" font-size=\"10.00\">SigmoidBackward</text>\n</g>\n<!-- 140413461444976&#45;&gt;140413461443104 -->\n<g id=\"edge1\" class=\"edge\">\n<title>140413461444976&#45;&gt;140413461443104</title>\n<path fill=\"none\" stroke=\"black\" d=\"M203.83,-133.79C195.99,-124.91 183.64,-110.89 173.96,-99.91\"/>\n<polygon fill=\"black\" stroke=\"black\" points=\"176.44,-97.43 167.2,-92.24 171.19,-102.06 176.44,-97.43\"/>\n</g>\n<!-- 140413462127232 -->\n<g id=\"node64\" class=\"node\">\n<title>140413462127232</title>\n<polygon fill=\"#a2cd5a\" stroke=\"black\" points=\"293,-98 234,-98 234,-67 293,-67 293,-98\"/>\n<text text-anchor=\"middle\" x=\"263.5\" y=\"-74\" font-family=\"monospace\" font-size=\"10.00\"> (1, 1)</text>\n</g>\n<!-- 140413461444976&#45;&gt;140413462127232 -->\n<g id=\"edge71\" class=\"edge\">\n<title>140413461444976&#45;&gt;140413462127232</title>\n<path fill=\"none\" stroke=\"black\" d=\"M219.17,-133.79C225.68,-126.41 235.31,-115.49 243.93,-105.7\"/>\n<polygon fill=\"black\" stroke=\"black\" points=\"246.56,-108.01 250.55,-98.19 241.31,-103.38 246.56,-108.01\"/>\n</g>\n<!-- 140413461445600 -->\n<g id=\"node4\" class=\"node\">\n<title>140413461445600</title>\n<polygon fill=\"lightgrey\" stroke=\"black\" points=\"259,-208 164,-208 164,-189 259,-189 259,-208\"/>\n<text text-anchor=\"middle\" x=\"211.5\" y=\"-196\" font-family=\"monospace\" font-size=\"10.00\">AddmmBackward</text>\n</g>\n<!-- 140413461445600&#45;&gt;140413461444976 -->\n<g id=\"edge2\" class=\"edge\">\n<title>140413461445600&#45;&gt;140413461444976</title>\n<path fill=\"none\" stroke=\"black\" d=\"M211.5,-188.75C211.5,-181.8 211.5,-171.85 211.5,-163.13\"/>\n<polygon fill=\"black\" stroke=\"black\" points=\"215,-163.09 211.5,-153.09 208,-163.09 215,-163.09\"/>\n</g>\n<!-- 140413461445168 -->\n<g id=\"node5\" class=\"node\">\n<title>140413461445168</title>\n<polygon fill=\"lightgrey\" stroke=\"black\" points=\"146,-263 45,-263 45,-244 146,-244 146,-263\"/>\n<text text-anchor=\"middle\" x=\"95.5\" y=\"-251\" font-family=\"monospace\" font-size=\"10.00\">AccumulateGrad</text>\n</g>\n<!-- 140413461445168&#45;&gt;140413461445600 -->\n<g id=\"edge3\" class=\"edge\">\n<title>140413461445168&#45;&gt;140413461445600</title>\n<path fill=\"none\" stroke=\"black\" d=\"M114.14,-243.98C132.8,-235.46 161.75,-222.23 183.24,-212.41\"/>\n<polygon fill=\"black\" stroke=\"black\" points=\"184.88,-215.51 192.52,-208.17 181.97,-209.14 184.88,-215.51\"/>\n</g>\n<!-- 140413432726976 -->\n<g id=\"node6\" class=\"node\">\n<title>140413432726976</title>\n<polygon fill=\"lightblue\" stroke=\"black\" points=\"128,-329.5 63,-329.5 63,-299.5 128,-299.5 128,-329.5\"/>\n<text text-anchor=\"middle\" x=\"95.5\" y=\"-317.5\" font-family=\"monospace\" font-size=\"10.00\">fc4.bias</text>\n<text text-anchor=\"middle\" x=\"95.5\" y=\"-306.5\" font-family=\"monospace\" font-size=\"10.00\"> (1)</text>\n</g>\n<!-- 140413432726976&#45;&gt;140413461445168 -->\n<g id=\"edge4\" class=\"edge\">\n<title>140413432726976&#45;&gt;140413461445168</title>\n<path fill=\"none\" stroke=\"black\" d=\"M95.5,-299.22C95.5,-291.53 95.5,-281.94 95.5,-273.61\"/>\n<polygon fill=\"black\" stroke=\"black\" points=\"99,-273.34 95.5,-263.34 92,-273.34 99,-273.34\"/>\n</g>\n<!-- 140413461445840 -->\n<g id=\"node7\" class=\"node\">\n<title>140413461445840</title>\n<polygon fill=\"lightgrey\" stroke=\"black\" points=\"259,-263 164,-263 164,-244 259,-244 259,-263\"/>\n<text text-anchor=\"middle\" x=\"211.5\" y=\"-251\" font-family=\"monospace\" font-size=\"10.00\">ReluBackward0</text>\n</g>\n<!-- 140413461445840&#45;&gt;140413461445600 -->\n<g id=\"edge5\" class=\"edge\">\n<title>140413461445840&#45;&gt;140413461445600</title>\n<path fill=\"none\" stroke=\"black\" d=\"M211.5,-243.75C211.5,-236.8 211.5,-226.85 211.5,-218.13\"/>\n<polygon fill=\"black\" stroke=\"black\" points=\"215,-218.09 211.5,-208.09 208,-218.09 215,-218.09\"/>\n</g>\n<!-- 140413461445888 -->\n<g id=\"node8\" class=\"node\">\n<title>140413461445888</title>\n<polygon fill=\"lightgrey\" stroke=\"black\" points=\"250,-324 155,-324 155,-305 250,-305 250,-324\"/>\n<text text-anchor=\"middle\" x=\"202.5\" y=\"-312\" font-family=\"monospace\" font-size=\"10.00\">AddmmBackward</text>\n</g>\n<!-- 140413461445888&#45;&gt;140413461445840 -->\n<g id=\"edge6\" class=\"edge\">\n<title>140413461445888&#45;&gt;140413461445840</title>\n<path fill=\"none\" stroke=\"black\" d=\"M203.83,-304.79C205.09,-296.52 207.03,-283.79 208.65,-273.21\"/>\n<polygon fill=\"black\" stroke=\"black\" points=\"212.12,-273.65 210.17,-263.24 205.2,-272.6 212.12,-273.65\"/>\n</g>\n<!-- 140413461446032 -->\n<g id=\"node9\" class=\"node\">\n<title>140413461446032</title>\n<polygon fill=\"lightgrey\" stroke=\"black\" points=\"101,-390.5 0,-390.5 0,-371.5 101,-371.5 101,-390.5\"/>\n<text text-anchor=\"middle\" x=\"50.5\" y=\"-378.5\" font-family=\"monospace\" font-size=\"10.00\">AccumulateGrad</text>\n</g>\n<!-- 140413461446032&#45;&gt;140413461445888 -->\n<g id=\"edge7\" class=\"edge\">\n<title>140413461446032&#45;&gt;140413461445888</title>\n<path fill=\"none\" stroke=\"black\" d=\"M70.68,-371.43C96.8,-360.35 142.53,-340.95 172.66,-328.16\"/>\n<polygon fill=\"black\" stroke=\"black\" points=\"174.39,-331.23 182.23,-324.1 171.66,-324.78 174.39,-331.23\"/>\n</g>\n<!-- 140413432726656 -->\n<g id=\"node10\" class=\"node\">\n<title>140413432726656</title>\n<polygon fill=\"lightblue\" stroke=\"black\" points=\"76,-462 11,-462 11,-432 76,-432 76,-462\"/>\n<text text-anchor=\"middle\" x=\"43.5\" y=\"-450\" font-family=\"monospace\" font-size=\"10.00\">fc3.bias</text>\n<text text-anchor=\"middle\" x=\"43.5\" y=\"-439\" font-family=\"monospace\" font-size=\"10.00\"> (10)</text>\n</g>\n<!-- 140413432726656&#45;&gt;140413461446032 -->\n<g id=\"edge8\" class=\"edge\">\n<title>140413432726656&#45;&gt;140413461446032</title>\n<path fill=\"none\" stroke=\"black\" d=\"M45.05,-431.8C46.05,-422.7 47.35,-410.79 48.43,-400.9\"/>\n<polygon fill=\"black\" stroke=\"black\" points=\"51.92,-401.17 49.53,-390.84 44.97,-400.4 51.92,-401.17\"/>\n</g>\n<!-- 140413461445792 -->\n<g id=\"node11\" class=\"node\">\n<title>140413461445792</title>\n<polygon fill=\"lightgrey\" stroke=\"black\" points=\"297,-390.5 214,-390.5 214,-371.5 297,-371.5 297,-390.5\"/>\n<text text-anchor=\"middle\" x=\"255.5\" y=\"-378.5\" font-family=\"monospace\" font-size=\"10.00\">CatBackward</text>\n</g>\n<!-- 140413461445792&#45;&gt;140413461445888 -->\n<g id=\"edge9\" class=\"edge\">\n<title>140413461445792&#45;&gt;140413461445888</title>\n<path fill=\"none\" stroke=\"black\" d=\"M248.35,-371.3C240.09,-361.24 226.3,-344.47 216,-331.93\"/>\n<polygon fill=\"black\" stroke=\"black\" points=\"218.59,-329.57 209.53,-324.06 213.18,-334.01 218.59,-329.57\"/>\n</g>\n<!-- 140413461445936 -->\n<g id=\"node12\" class=\"node\">\n<title>140413461445936</title>\n<polygon fill=\"lightgrey\" stroke=\"black\" points=\"302,-456.5 213,-456.5 213,-437.5 302,-437.5 302,-456.5\"/>\n<text text-anchor=\"middle\" x=\"257.5\" y=\"-444.5\" font-family=\"monospace\" font-size=\"10.00\">MulBackward0</text>\n</g>\n<!-- 140413461445936&#45;&gt;140413461445792 -->\n<g id=\"edge10\" class=\"edge\">\n<title>140413461445936&#45;&gt;140413461445792</title>\n<path fill=\"none\" stroke=\"black\" d=\"M257.23,-437.37C256.94,-428.16 256.48,-413.29 256.1,-401.27\"/>\n<polygon fill=\"black\" stroke=\"black\" points=\"259.59,-400.79 255.78,-390.91 252.59,-401.01 259.59,-400.79\"/>\n</g>\n<!-- 140413461443296 -->\n<g id=\"node66\" class=\"node\">\n<title>140413461443296</title>\n<polygon fill=\"lightgrey\" stroke=\"black\" points=\"410,-390.5 315,-390.5 315,-371.5 410,-371.5 410,-390.5\"/>\n<text text-anchor=\"middle\" x=\"362.5\" y=\"-378.5\" font-family=\"monospace\" font-size=\"10.00\">StackBackward</text>\n</g>\n<!-- 140413461445936&#45;&gt;140413461443296 -->\n<g id=\"edge73\" class=\"edge\">\n<title>140413461445936&#45;&gt;140413461443296</title>\n<path fill=\"none\" stroke=\"black\" d=\"M271.66,-437.37C289.04,-426.78 318.74,-408.67 339.43,-396.06\"/>\n<polygon fill=\"black\" stroke=\"black\" points=\"341.51,-398.89 348.23,-390.7 337.87,-392.92 341.51,-398.89\"/>\n</g>\n<!-- 140413461446176 -->\n<g id=\"node13\" class=\"node\">\n<title>140413461446176</title>\n<polygon fill=\"lightgrey\" stroke=\"black\" points=\"301,-522.5 206,-522.5 206,-503.5 301,-503.5 301,-522.5\"/>\n<text text-anchor=\"middle\" x=\"253.5\" y=\"-510.5\" font-family=\"monospace\" font-size=\"10.00\">AddmmBackward</text>\n</g>\n<!-- 140413461446176&#45;&gt;140413461445936 -->\n<g id=\"edge11\" class=\"edge\">\n<title>140413461446176&#45;&gt;140413461445936</title>\n<path fill=\"none\" stroke=\"black\" d=\"M254.04,-503.37C254.62,-494.07 255.56,-478.98 256.32,-466.9\"/>\n<polygon fill=\"black\" stroke=\"black\" points=\"259.81,-467.1 256.94,-456.91 252.83,-466.67 259.81,-467.1\"/>\n</g>\n<!-- 140413461446128 -->\n<g id=\"node14\" class=\"node\">\n<title>140413461446128</title>\n<polygon fill=\"lightgrey\" stroke=\"black\" points=\"458,-583 357,-583 357,-564 458,-564 458,-583\"/>\n<text text-anchor=\"middle\" x=\"407.5\" y=\"-571\" font-family=\"monospace\" font-size=\"10.00\">AccumulateGrad</text>\n</g>\n<!-- 140413461446128&#45;&gt;140413461446176 -->\n<g id=\"edge12\" class=\"edge\">\n<title>140413461446128&#45;&gt;140413461446176</title>\n<path fill=\"none\" stroke=\"black\" d=\"M385.11,-563.99C358.88,-554.03 315.22,-537.45 285.44,-526.13\"/>\n<polygon fill=\"black\" stroke=\"black\" points=\"286.51,-522.8 275.92,-522.52 284.03,-529.34 286.51,-522.8\"/>\n</g>\n<!-- 140413458179840 -->\n<g id=\"node44\" class=\"node\">\n<title>140413458179840</title>\n<polygon fill=\"lightgrey\" stroke=\"black\" points=\"415,-522.5 320,-522.5 320,-503.5 415,-503.5 415,-522.5\"/>\n<text text-anchor=\"middle\" x=\"367.5\" y=\"-510.5\" font-family=\"monospace\" font-size=\"10.00\">AddmmBackward</text>\n</g>\n<!-- 140413461446128&#45;&gt;140413458179840 -->\n<g id=\"edge43\" class=\"edge\">\n<title>140413461446128&#45;&gt;140413458179840</title>\n<path fill=\"none\" stroke=\"black\" d=\"M401.6,-563.87C395.75,-555.31 386.63,-541.97 379.29,-531.24\"/>\n<polygon fill=\"black\" stroke=\"black\" points=\"381.96,-528.95 373.43,-522.67 376.18,-532.9 381.96,-528.95\"/>\n</g>\n<!-- 140413432729536 -->\n<g id=\"node15\" class=\"node\">\n<title>140413432729536</title>\n<polygon fill=\"lightblue\" stroke=\"black\" points=\"440,-649 375,-649 375,-619 440,-619 440,-649\"/>\n<text text-anchor=\"middle\" x=\"407.5\" y=\"-637\" font-family=\"monospace\" font-size=\"10.00\">fc2.bias</text>\n<text text-anchor=\"middle\" x=\"407.5\" y=\"-626\" font-family=\"monospace\" font-size=\"10.00\"> (10)</text>\n</g>\n<!-- 140413432729536&#45;&gt;140413461446128 -->\n<g id=\"edge13\" class=\"edge\">\n<title>140413432729536&#45;&gt;140413461446128</title>\n<path fill=\"none\" stroke=\"black\" d=\"M407.5,-618.84C407.5,-611.21 407.5,-601.7 407.5,-593.45\"/>\n<polygon fill=\"black\" stroke=\"black\" points=\"411,-593.27 407.5,-583.27 404,-593.27 411,-593.27\"/>\n</g>\n<!-- 140413461444784 -->\n<g id=\"node16\" class=\"node\">\n<title>140413461444784</title>\n<polygon fill=\"lightgrey\" stroke=\"black\" points=\"161,-583 66,-583 66,-564 161,-564 161,-583\"/>\n<text text-anchor=\"middle\" x=\"113.5\" y=\"-571\" font-family=\"monospace\" font-size=\"10.00\">ReluBackward0</text>\n</g>\n<!-- 140413461444784&#45;&gt;140413461446176 -->\n<g id=\"edge14\" class=\"edge\">\n<title>140413461444784&#45;&gt;140413461446176</title>\n<path fill=\"none\" stroke=\"black\" d=\"M133.86,-563.99C157.5,-554.12 196.7,-537.73 223.75,-526.43\"/>\n<polygon fill=\"black\" stroke=\"black\" points=\"225.24,-529.6 233.12,-522.52 222.54,-523.14 225.24,-529.6\"/>\n</g>\n<!-- 140413461446320 -->\n<g id=\"node17\" class=\"node\">\n<title>140413461446320</title>\n<polygon fill=\"lightgrey\" stroke=\"black\" points=\"159,-643.5 70,-643.5 70,-624.5 159,-624.5 159,-643.5\"/>\n<text text-anchor=\"middle\" x=\"114.5\" y=\"-631.5\" font-family=\"monospace\" font-size=\"10.00\">MulBackward0</text>\n</g>\n<!-- 140413461446320&#45;&gt;140413461444784 -->\n<g id=\"edge15\" class=\"edge\">\n<title>140413461446320&#45;&gt;140413461444784</title>\n<path fill=\"none\" stroke=\"black\" d=\"M114.35,-624.37C114.21,-616.25 114,-603.81 113.82,-593.39\"/>\n<polygon fill=\"black\" stroke=\"black\" points=\"117.32,-593.11 113.65,-583.17 110.32,-593.23 117.32,-593.11\"/>\n</g>\n<!-- 140413461446608 -->\n<g id=\"node18\" class=\"node\">\n<title>140413461446608</title>\n<polygon fill=\"lightgrey\" stroke=\"black\" points=\"163,-709.5 68,-709.5 68,-690.5 163,-690.5 163,-709.5\"/>\n<text text-anchor=\"middle\" x=\"115.5\" y=\"-697.5\" font-family=\"monospace\" font-size=\"10.00\">AddmmBackward</text>\n</g>\n<!-- 140413461446608&#45;&gt;140413461446320 -->\n<g id=\"edge16\" class=\"edge\">\n<title>140413461446608&#45;&gt;140413461446320</title>\n<path fill=\"none\" stroke=\"black\" d=\"M115.37,-690.37C115.22,-681.16 114.99,-666.29 114.8,-654.27\"/>\n<polygon fill=\"black\" stroke=\"black\" points=\"118.3,-653.85 114.64,-643.91 111.3,-653.96 118.3,-653.85\"/>\n</g>\n<!-- 140413461446560 -->\n<g id=\"node19\" class=\"node\">\n<title>140413461446560</title>\n<polygon fill=\"lightgrey\" stroke=\"black\" points=\"420,-770 319,-770 319,-751 420,-751 420,-770\"/>\n<text text-anchor=\"middle\" x=\"369.5\" y=\"-758\" font-family=\"monospace\" font-size=\"10.00\">AccumulateGrad</text>\n</g>\n<!-- 140413461446560&#45;&gt;140413461446608 -->\n<g id=\"edge17\" class=\"edge\">\n<title>140413461446560&#45;&gt;140413461446608</title>\n<path fill=\"none\" stroke=\"black\" d=\"M332.57,-750.99C287.61,-740.64 211.62,-723.14 162.53,-711.83\"/>\n<polygon fill=\"black\" stroke=\"black\" points=\"163.01,-708.35 152.48,-709.52 161.44,-715.17 163.01,-708.35\"/>\n</g>\n<!-- 140413461445072 -->\n<g id=\"node47\" class=\"node\">\n<title>140413461445072</title>\n<polygon fill=\"lightgrey\" stroke=\"black\" points=\"445,-709.5 350,-709.5 350,-690.5 445,-690.5 445,-709.5\"/>\n<text text-anchor=\"middle\" x=\"397.5\" y=\"-697.5\" font-family=\"monospace\" font-size=\"10.00\">AddmmBackward</text>\n</g>\n<!-- 140413461446560&#45;&gt;140413461445072 -->\n<g id=\"edge47\" class=\"edge\">\n<title>140413461446560&#45;&gt;140413461445072</title>\n<path fill=\"none\" stroke=\"black\" d=\"M373.63,-750.87C377.64,-742.49 383.85,-729.51 388.94,-718.89\"/>\n<polygon fill=\"black\" stroke=\"black\" points=\"392.19,-720.2 393.35,-709.67 385.88,-717.18 392.19,-720.2\"/>\n</g>\n<!-- 140413432729344 -->\n<g id=\"node20\" class=\"node\">\n<title>140413432729344</title>\n<polygon fill=\"lightblue\" stroke=\"black\" points=\"402,-836 337,-836 337,-806 402,-806 402,-836\"/>\n<text text-anchor=\"middle\" x=\"369.5\" y=\"-824\" font-family=\"monospace\" font-size=\"10.00\">fc1.bias</text>\n<text text-anchor=\"middle\" x=\"369.5\" y=\"-813\" font-family=\"monospace\" font-size=\"10.00\"> (64)</text>\n</g>\n<!-- 140413432729344&#45;&gt;140413461446560 -->\n<g id=\"edge18\" class=\"edge\">\n<title>140413432729344&#45;&gt;140413461446560</title>\n<path fill=\"none\" stroke=\"black\" d=\"M369.5,-805.84C369.5,-798.21 369.5,-788.7 369.5,-780.45\"/>\n<polygon fill=\"black\" stroke=\"black\" points=\"373,-780.27 369.5,-770.27 366,-780.27 373,-780.27\"/>\n</g>\n<!-- 140413461446512 -->\n<g id=\"node21\" class=\"node\">\n<title>140413461446512</title>\n<polygon fill=\"lightgrey\" stroke=\"black\" points=\"123,-770 34,-770 34,-751 123,-751 123,-770\"/>\n<text text-anchor=\"middle\" x=\"78.5\" y=\"-758\" font-family=\"monospace\" font-size=\"10.00\">ViewBackward</text>\n</g>\n<!-- 140413461446512&#45;&gt;140413461446608 -->\n<g id=\"edge19\" class=\"edge\">\n<title>140413461446512&#45;&gt;140413461446608</title>\n<path fill=\"none\" stroke=\"black\" d=\"M83.96,-750.87C89.37,-742.31 97.81,-728.97 104.6,-718.24\"/>\n<polygon fill=\"black\" stroke=\"black\" points=\"107.63,-719.99 110.02,-709.67 101.71,-716.25 107.63,-719.99\"/>\n</g>\n<!-- 140413461444496 -->\n<g id=\"node22\" class=\"node\">\n<title>140413461444496</title>\n<polygon fill=\"lightgrey\" stroke=\"black\" points=\"131,-830.5 36,-830.5 36,-811.5 131,-811.5 131,-830.5\"/>\n<text text-anchor=\"middle\" x=\"83.5\" y=\"-818.5\" font-family=\"monospace\" font-size=\"10.00\">ReluBackward0</text>\n</g>\n<!-- 140413461444496&#45;&gt;140413461446512 -->\n<g id=\"edge20\" class=\"edge\">\n<title>140413461444496&#45;&gt;140413461446512</title>\n<path fill=\"none\" stroke=\"black\" d=\"M82.76,-811.37C82.07,-803.25 81,-790.81 80.11,-780.39\"/>\n<polygon fill=\"black\" stroke=\"black\" points=\"83.58,-779.83 79.24,-770.17 76.61,-780.43 83.58,-779.83\"/>\n</g>\n<!-- 140413461443872 -->\n<g id=\"node23\" class=\"node\">\n<title>140413461443872</title>\n<polygon fill=\"lightgrey\" stroke=\"black\" points=\"185,-896.5 0,-896.5 0,-877.5 185,-877.5 185,-896.5\"/>\n<text text-anchor=\"middle\" x=\"92.5\" y=\"-884.5\" font-family=\"monospace\" font-size=\"10.00\">MaxPool2DWithIndicesBackward</text>\n</g>\n<!-- 140413461443872&#45;&gt;140413461444496 -->\n<g id=\"edge21\" class=\"edge\">\n<title>140413461443872&#45;&gt;140413461444496</title>\n<path fill=\"none\" stroke=\"black\" d=\"M91.29,-877.37C89.98,-868.07 87.86,-852.98 86.16,-840.9\"/>\n<polygon fill=\"black\" stroke=\"black\" points=\"89.61,-840.32 84.75,-830.91 82.68,-841.3 89.61,-840.32\"/>\n</g>\n<!-- 140413461444016 -->\n<g id=\"node24\" class=\"node\">\n<title>140413461444016</title>\n<polygon fill=\"lightgrey\" stroke=\"black\" points=\"214,-957 125,-957 125,-938 214,-938 214,-957\"/>\n<text text-anchor=\"middle\" x=\"169.5\" y=\"-945\" font-family=\"monospace\" font-size=\"10.00\">MulBackward0</text>\n</g>\n<!-- 140413461444016&#45;&gt;140413461443872 -->\n<g id=\"edge22\" class=\"edge\">\n<title>140413461444016&#45;&gt;140413461443872</title>\n<path fill=\"none\" stroke=\"black\" d=\"M158.14,-937.87C146.08,-928.71 126.8,-914.06 112.25,-903.01\"/>\n<polygon fill=\"black\" stroke=\"black\" points=\"113.99,-899.93 103.91,-896.67 109.75,-905.5 113.99,-899.93\"/>\n</g>\n<!-- 140413462562464 -->\n<g id=\"node25\" class=\"node\">\n<title>140413462562464</title>\n<polygon fill=\"lightgrey\" stroke=\"black\" points=\"271,-1012 146,-1012 146,-993 271,-993 271,-1012\"/>\n<text text-anchor=\"middle\" x=\"208.5\" y=\"-1000\" font-family=\"monospace\" font-size=\"10.00\">ThnnConv2DBackward</text>\n</g>\n<!-- 140413462562464&#45;&gt;140413461444016 -->\n<g id=\"edge23\" class=\"edge\">\n<title>140413462562464&#45;&gt;140413461444016</title>\n<path fill=\"none\" stroke=\"black\" d=\"M202.06,-992.75C196.61,-985.34 188.64,-974.5 181.94,-965.41\"/>\n<polygon fill=\"black\" stroke=\"black\" points=\"184.57,-963.07 175.82,-957.09 178.93,-967.22 184.57,-963.07\"/>\n</g>\n<!-- 140413462512688 -->\n<g id=\"node26\" class=\"node\">\n<title>140413462512688</title>\n<polygon fill=\"lightgrey\" stroke=\"black\" points=\"162,-1067 67,-1067 67,-1048 162,-1048 162,-1067\"/>\n<text text-anchor=\"middle\" x=\"114.5\" y=\"-1055\" font-family=\"monospace\" font-size=\"10.00\">ReluBackward0</text>\n</g>\n<!-- 140413462512688&#45;&gt;140413462562464 -->\n<g id=\"edge24\" class=\"edge\">\n<title>140413462512688&#45;&gt;140413462562464</title>\n<path fill=\"none\" stroke=\"black\" d=\"M129.6,-1047.98C144.32,-1039.69 166.92,-1026.94 184.17,-1017.22\"/>\n<polygon fill=\"black\" stroke=\"black\" points=\"186.13,-1020.13 193.12,-1012.17 182.69,-1014.03 186.13,-1020.13\"/>\n</g>\n<!-- 140413461882288 -->\n<g id=\"node27\" class=\"node\">\n<title>140413461882288</title>\n<polygon fill=\"lightgrey\" stroke=\"black\" points=\"159,-1127.5 70,-1127.5 70,-1108.5 159,-1108.5 159,-1127.5\"/>\n<text text-anchor=\"middle\" x=\"114.5\" y=\"-1115.5\" font-family=\"monospace\" font-size=\"10.00\">MulBackward0</text>\n</g>\n<!-- 140413461882288&#45;&gt;140413462512688 -->\n<g id=\"edge25\" class=\"edge\">\n<title>140413461882288&#45;&gt;140413462512688</title>\n<path fill=\"none\" stroke=\"black\" d=\"M114.5,-1108.37C114.5,-1100.25 114.5,-1087.81 114.5,-1077.39\"/>\n<polygon fill=\"black\" stroke=\"black\" points=\"118,-1077.17 114.5,-1067.17 111,-1077.17 118,-1077.17\"/>\n</g>\n<!-- 140413461882048 -->\n<g id=\"node28\" class=\"node\">\n<title>140413461882048</title>\n<polygon fill=\"lightgrey\" stroke=\"black\" points=\"273,-1188 148,-1188 148,-1169 273,-1169 273,-1188\"/>\n<text text-anchor=\"middle\" x=\"210.5\" y=\"-1176\" font-family=\"monospace\" font-size=\"10.00\">ThnnConv2DBackward</text>\n</g>\n<!-- 140413461882048&#45;&gt;140413461882288 -->\n<g id=\"edge26\" class=\"edge\">\n<title>140413461882048&#45;&gt;140413461882288</title>\n<path fill=\"none\" stroke=\"black\" d=\"M196.33,-1168.87C180.81,-1159.41 155.67,-1144.09 137.35,-1132.92\"/>\n<polygon fill=\"black\" stroke=\"black\" points=\"139.08,-1129.88 128.72,-1127.67 135.44,-1135.86 139.08,-1129.88\"/>\n</g>\n<!-- 140413461882144 -->\n<g id=\"node29\" class=\"node\">\n<title>140413461882144</title>\n<polygon fill=\"lightgrey\" stroke=\"black\" points=\"273,-1243 172,-1243 172,-1224 273,-1224 273,-1243\"/>\n<text text-anchor=\"middle\" x=\"222.5\" y=\"-1231\" font-family=\"monospace\" font-size=\"10.00\">AccumulateGrad</text>\n</g>\n<!-- 140413461882144&#45;&gt;140413461882048 -->\n<g id=\"edge27\" class=\"edge\">\n<title>140413461882144&#45;&gt;140413461882048</title>\n<path fill=\"none\" stroke=\"black\" d=\"M220.52,-1223.75C218.93,-1216.72 216.64,-1206.62 214.65,-1197.84\"/>\n<polygon fill=\"black\" stroke=\"black\" points=\"218.07,-1197.07 212.44,-1188.09 211.24,-1198.62 218.07,-1197.07\"/>\n</g>\n<!-- 140413461849136 -->\n<g id=\"node55\" class=\"node\">\n<title>140413461849136</title>\n<polygon fill=\"lightgrey\" stroke=\"black\" points=\"416,-1188 291,-1188 291,-1169 416,-1169 416,-1188\"/>\n<text text-anchor=\"middle\" x=\"353.5\" y=\"-1176\" font-family=\"monospace\" font-size=\"10.00\">ThnnConv2DBackward</text>\n</g>\n<!-- 140413461882144&#45;&gt;140413461849136 -->\n<g id=\"edge56\" class=\"edge\">\n<title>140413461882144&#45;&gt;140413461849136</title>\n<path fill=\"none\" stroke=\"black\" d=\"M243.55,-1223.98C264.91,-1215.34 298.2,-1201.87 322.56,-1192.02\"/>\n<polygon fill=\"black\" stroke=\"black\" points=\"324.11,-1195.17 332.07,-1188.17 321.49,-1188.68 324.11,-1195.17\"/>\n</g>\n<!-- 140413432728704 -->\n<g id=\"node30\" class=\"node\">\n<title>140413432728704</title>\n<polygon fill=\"lightblue\" stroke=\"black\" points=\"273,-1309 172,-1309 172,-1279 273,-1279 273,-1309\"/>\n<text text-anchor=\"middle\" x=\"222.5\" y=\"-1297\" font-family=\"monospace\" font-size=\"10.00\">conv1.weight</text>\n<text text-anchor=\"middle\" x=\"222.5\" y=\"-1286\" font-family=\"monospace\" font-size=\"10.00\"> (16, 1, 3, 3)</text>\n</g>\n<!-- 140413432728704&#45;&gt;140413461882144 -->\n<g id=\"edge28\" class=\"edge\">\n<title>140413432728704&#45;&gt;140413461882144</title>\n<path fill=\"none\" stroke=\"black\" d=\"M222.5,-1278.84C222.5,-1271.21 222.5,-1261.7 222.5,-1253.45\"/>\n<polygon fill=\"black\" stroke=\"black\" points=\"226,-1253.27 222.5,-1243.27 219,-1253.27 226,-1253.27\"/>\n</g>\n<!-- 140413461882384 -->\n<g id=\"node31\" class=\"node\">\n<title>140413461882384</title>\n<polygon fill=\"lightgrey\" stroke=\"black\" points=\"398,-1243 297,-1243 297,-1224 398,-1224 398,-1243\"/>\n<text text-anchor=\"middle\" x=\"347.5\" y=\"-1231\" font-family=\"monospace\" font-size=\"10.00\">AccumulateGrad</text>\n</g>\n<!-- 140413461882384&#45;&gt;140413461882048 -->\n<g id=\"edge29\" class=\"edge\">\n<title>140413461882384&#45;&gt;140413461882048</title>\n<path fill=\"none\" stroke=\"black\" d=\"M325.49,-1223.98C303.05,-1215.3 268.02,-1201.75 242.51,-1191.88\"/>\n<polygon fill=\"black\" stroke=\"black\" points=\"243.5,-1188.51 232.91,-1188.17 240.98,-1195.04 243.5,-1188.51\"/>\n</g>\n<!-- 140413461882384&#45;&gt;140413461849136 -->\n<g id=\"edge57\" class=\"edge\">\n<title>140413461882384&#45;&gt;140413461849136</title>\n<path fill=\"none\" stroke=\"black\" d=\"M348.49,-1223.75C349.28,-1216.8 350.4,-1206.85 351.39,-1198.13\"/>\n<polygon fill=\"black\" stroke=\"black\" points=\"354.88,-1198.42 352.53,-1188.09 347.92,-1197.63 354.88,-1198.42\"/>\n</g>\n<!-- 140413432728832 -->\n<g id=\"node32\" class=\"node\">\n<title>140413432728832</title>\n<polygon fill=\"lightblue\" stroke=\"black\" points=\"386,-1309 309,-1309 309,-1279 386,-1279 386,-1309\"/>\n<text text-anchor=\"middle\" x=\"347.5\" y=\"-1297\" font-family=\"monospace\" font-size=\"10.00\">conv1.bias</text>\n<text text-anchor=\"middle\" x=\"347.5\" y=\"-1286\" font-family=\"monospace\" font-size=\"10.00\"> (16)</text>\n</g>\n<!-- 140413432728832&#45;&gt;140413461882384 -->\n<g id=\"edge30\" class=\"edge\">\n<title>140413432728832&#45;&gt;140413461882384</title>\n<path fill=\"none\" stroke=\"black\" d=\"M347.5,-1278.84C347.5,-1271.21 347.5,-1261.7 347.5,-1253.45\"/>\n<polygon fill=\"black\" stroke=\"black\" points=\"351,-1253.27 347.5,-1243.27 344,-1253.27 351,-1253.27\"/>\n</g>\n<!-- 140413461444208 -->\n<g id=\"node33\" class=\"node\">\n<title>140413461444208</title>\n<polygon fill=\"lightgrey\" stroke=\"black\" points=\"281,-1067 180,-1067 180,-1048 281,-1048 281,-1067\"/>\n<text text-anchor=\"middle\" x=\"230.5\" y=\"-1055\" font-family=\"monospace\" font-size=\"10.00\">AccumulateGrad</text>\n</g>\n<!-- 140413461444208&#45;&gt;140413462562464 -->\n<g id=\"edge31\" class=\"edge\">\n<title>140413461444208&#45;&gt;140413462562464</title>\n<path fill=\"none\" stroke=\"black\" d=\"M226.87,-1047.75C223.92,-1040.65 219.67,-1030.4 215.99,-1021.56\"/>\n<polygon fill=\"black\" stroke=\"black\" points=\"219.13,-1019.98 212.07,-1012.09 212.67,-1022.67 219.13,-1019.98\"/>\n</g>\n<!-- 140413461884256 -->\n<g id=\"node52\" class=\"node\">\n<title>140413461884256</title>\n<polygon fill=\"lightgrey\" stroke=\"black\" points=\"433,-1012 308,-1012 308,-993 433,-993 433,-1012\"/>\n<text text-anchor=\"middle\" x=\"370.5\" y=\"-1000\" font-family=\"monospace\" font-size=\"10.00\">ThnnConv2DBackward</text>\n</g>\n<!-- 140413461444208&#45;&gt;140413461884256 -->\n<g id=\"edge58\" class=\"edge\">\n<title>140413461444208&#45;&gt;140413461884256</title>\n<path fill=\"none\" stroke=\"black\" d=\"M252.99,-1047.98C276.02,-1039.27 312.04,-1025.63 338.13,-1015.75\"/>\n<polygon fill=\"black\" stroke=\"black\" points=\"339.48,-1018.98 347.6,-1012.17 337.01,-1012.44 339.48,-1018.98\"/>\n</g>\n<!-- 140413432728896 -->\n<g id=\"node34\" class=\"node\">\n<title>140413432728896</title>\n<polygon fill=\"lightblue\" stroke=\"black\" points=\"284,-1133 177,-1133 177,-1103 284,-1103 284,-1133\"/>\n<text text-anchor=\"middle\" x=\"230.5\" y=\"-1121\" font-family=\"monospace\" font-size=\"10.00\">conv2.weight</text>\n<text text-anchor=\"middle\" x=\"230.5\" y=\"-1110\" font-family=\"monospace\" font-size=\"10.00\"> (32, 16, 3, 3)</text>\n</g>\n<!-- 140413432728896&#45;&gt;140413461444208 -->\n<g id=\"edge32\" class=\"edge\">\n<title>140413432728896&#45;&gt;140413461444208</title>\n<path fill=\"none\" stroke=\"black\" d=\"M230.5,-1102.84C230.5,-1095.21 230.5,-1085.7 230.5,-1077.45\"/>\n<polygon fill=\"black\" stroke=\"black\" points=\"234,-1077.27 230.5,-1067.27 227,-1077.27 234,-1077.27\"/>\n</g>\n<!-- 140413458179888 -->\n<g id=\"node35\" class=\"node\">\n<title>140413458179888</title>\n<polygon fill=\"lightgrey\" stroke=\"black\" points=\"400,-1067 299,-1067 299,-1048 400,-1048 400,-1067\"/>\n<text text-anchor=\"middle\" x=\"349.5\" y=\"-1055\" font-family=\"monospace\" font-size=\"10.00\">AccumulateGrad</text>\n</g>\n<!-- 140413458179888&#45;&gt;140413462562464 -->\n<g id=\"edge33\" class=\"edge\">\n<title>140413458179888&#45;&gt;140413462562464</title>\n<path fill=\"none\" stroke=\"black\" d=\"M326.85,-1047.98C303.65,-1039.27 267.38,-1025.63 241.1,-1015.75\"/>\n<polygon fill=\"black\" stroke=\"black\" points=\"242.16,-1012.41 231.57,-1012.17 239.7,-1018.97 242.16,-1012.41\"/>\n</g>\n<!-- 140413458179888&#45;&gt;140413461884256 -->\n<g id=\"edge59\" class=\"edge\">\n<title>140413458179888&#45;&gt;140413461884256</title>\n<path fill=\"none\" stroke=\"black\" d=\"M352.97,-1047.75C355.78,-1040.65 359.84,-1030.4 363.35,-1021.56\"/>\n<polygon fill=\"black\" stroke=\"black\" points=\"366.67,-1022.68 367.1,-1012.09 360.16,-1020.1 366.67,-1022.68\"/>\n</g>\n<!-- 140413432729088 -->\n<g id=\"node36\" class=\"node\">\n<title>140413432729088</title>\n<polygon fill=\"lightblue\" stroke=\"black\" points=\"388,-1133 311,-1133 311,-1103 388,-1103 388,-1133\"/>\n<text text-anchor=\"middle\" x=\"349.5\" y=\"-1121\" font-family=\"monospace\" font-size=\"10.00\">conv2.bias</text>\n<text text-anchor=\"middle\" x=\"349.5\" y=\"-1110\" font-family=\"monospace\" font-size=\"10.00\"> (32)</text>\n</g>\n<!-- 140413432729088&#45;&gt;140413458179888 -->\n<g id=\"edge34\" class=\"edge\">\n<title>140413432729088&#45;&gt;140413458179888</title>\n<path fill=\"none\" stroke=\"black\" d=\"M349.5,-1102.84C349.5,-1095.21 349.5,-1085.7 349.5,-1077.45\"/>\n<polygon fill=\"black\" stroke=\"black\" points=\"353,-1077.27 349.5,-1067.27 346,-1077.27 353,-1077.27\"/>\n</g>\n<!-- 140413461446464 -->\n<g id=\"node37\" class=\"node\">\n<title>140413461446464</title>\n<polygon fill=\"lightgrey\" stroke=\"black\" points=\"212,-770 141,-770 141,-751 212,-751 212,-770\"/>\n<text text-anchor=\"middle\" x=\"176.5\" y=\"-758\" font-family=\"monospace\" font-size=\"10.00\">TBackward</text>\n</g>\n<!-- 140413461446464&#45;&gt;140413461446608 -->\n<g id=\"edge35\" class=\"edge\">\n<title>140413461446464&#45;&gt;140413461446608</title>\n<path fill=\"none\" stroke=\"black\" d=\"M167.5,-750.87C158.13,-741.88 143.25,-727.61 131.8,-716.64\"/>\n<polygon fill=\"black\" stroke=\"black\" points=\"134.18,-714.06 124.54,-709.67 129.33,-719.12 134.18,-714.06\"/>\n</g>\n<!-- 140413461443968 -->\n<g id=\"node38\" class=\"node\">\n<title>140413461443968</title>\n<polygon fill=\"lightgrey\" stroke=\"black\" points=\"297,-830.5 196,-830.5 196,-811.5 297,-811.5 297,-830.5\"/>\n<text text-anchor=\"middle\" x=\"246.5\" y=\"-818.5\" font-family=\"monospace\" font-size=\"10.00\">AccumulateGrad</text>\n</g>\n<!-- 140413461443968&#45;&gt;140413461446464 -->\n<g id=\"edge36\" class=\"edge\">\n<title>140413461443968&#45;&gt;140413461446464</title>\n<path fill=\"none\" stroke=\"black\" d=\"M236.17,-811.37C225.31,-802.3 208.01,-787.84 194.83,-776.82\"/>\n<polygon fill=\"black\" stroke=\"black\" points=\"196.79,-773.89 186.87,-770.17 192.3,-779.27 196.79,-773.89\"/>\n</g>\n<!-- 140413461882240 -->\n<g id=\"node56\" class=\"node\">\n<title>140413461882240</title>\n<polygon fill=\"lightgrey\" stroke=\"black\" points=\"301,-770 230,-770 230,-751 301,-751 301,-770\"/>\n<text text-anchor=\"middle\" x=\"265.5\" y=\"-758\" font-family=\"monospace\" font-size=\"10.00\">TBackward</text>\n</g>\n<!-- 140413461443968&#45;&gt;140413461882240 -->\n<g id=\"edge61\" class=\"edge\">\n<title>140413461443968&#45;&gt;140413461882240</title>\n<path fill=\"none\" stroke=\"black\" d=\"M249.3,-811.37C252,-803.07 256.15,-790.28 259.58,-779.72\"/>\n<polygon fill=\"black\" stroke=\"black\" points=\"262.92,-780.76 262.68,-770.17 256.27,-778.6 262.92,-780.76\"/>\n</g>\n<!-- 140413432729024 -->\n<g id=\"node39\" class=\"node\">\n<title>140413432729024</title>\n<polygon fill=\"lightblue\" stroke=\"black\" points=\"285,-902 208,-902 208,-872 285,-872 285,-902\"/>\n<text text-anchor=\"middle\" x=\"246.5\" y=\"-890\" font-family=\"monospace\" font-size=\"10.00\">fc1.weight</text>\n<text text-anchor=\"middle\" x=\"246.5\" y=\"-879\" font-family=\"monospace\" font-size=\"10.00\"> (64, 800)</text>\n</g>\n<!-- 140413432729024&#45;&gt;140413461443968 -->\n<g id=\"edge37\" class=\"edge\">\n<title>140413432729024&#45;&gt;140413461443968</title>\n<path fill=\"none\" stroke=\"black\" d=\"M246.5,-871.8C246.5,-862.7 246.5,-850.79 246.5,-840.9\"/>\n<polygon fill=\"black\" stroke=\"black\" points=\"250,-840.84 246.5,-830.84 243,-840.84 250,-840.84\"/>\n</g>\n<!-- 140413461445984 -->\n<g id=\"node40\" class=\"node\">\n<title>140413461445984</title>\n<polygon fill=\"lightgrey\" stroke=\"black\" points=\"250,-583 179,-583 179,-564 250,-564 250,-583\"/>\n<text text-anchor=\"middle\" x=\"214.5\" y=\"-571\" font-family=\"monospace\" font-size=\"10.00\">TBackward</text>\n</g>\n<!-- 140413461445984&#45;&gt;140413461446176 -->\n<g id=\"edge38\" class=\"edge\">\n<title>140413461445984&#45;&gt;140413461446176</title>\n<path fill=\"none\" stroke=\"black\" d=\"M220.25,-563.87C225.96,-555.31 234.85,-541.97 242.01,-531.24\"/>\n<polygon fill=\"black\" stroke=\"black\" points=\"245.09,-532.93 247.72,-522.67 239.26,-529.05 245.09,-532.93\"/>\n</g>\n<!-- 140413462563616 -->\n<g id=\"node41\" class=\"node\">\n<title>140413462563616</title>\n<polygon fill=\"lightgrey\" stroke=\"black\" points=\"325,-643.5 224,-643.5 224,-624.5 325,-624.5 325,-643.5\"/>\n<text text-anchor=\"middle\" x=\"274.5\" y=\"-631.5\" font-family=\"monospace\" font-size=\"10.00\">AccumulateGrad</text>\n</g>\n<!-- 140413462563616&#45;&gt;140413461445984 -->\n<g id=\"edge39\" class=\"edge\">\n<title>140413462563616&#45;&gt;140413461445984</title>\n<path fill=\"none\" stroke=\"black\" d=\"M265.65,-624.37C256.52,-615.47 242.08,-601.39 230.86,-590.45\"/>\n<polygon fill=\"black\" stroke=\"black\" points=\"232.99,-587.64 223.39,-583.17 228.11,-592.65 232.99,-587.64\"/>\n</g>\n<!-- 140413461444160 -->\n<g id=\"node57\" class=\"node\">\n<title>140413461444160</title>\n<polygon fill=\"lightgrey\" stroke=\"black\" points=\"339,-583 268,-583 268,-564 339,-564 339,-583\"/>\n<text text-anchor=\"middle\" x=\"303.5\" y=\"-571\" font-family=\"monospace\" font-size=\"10.00\">TBackward</text>\n</g>\n<!-- 140413462563616&#45;&gt;140413461444160 -->\n<g id=\"edge63\" class=\"edge\">\n<title>140413462563616&#45;&gt;140413461444160</title>\n<path fill=\"none\" stroke=\"black\" d=\"M278.78,-624.37C282.93,-615.99 289.37,-603.01 294.63,-592.39\"/>\n<polygon fill=\"black\" stroke=\"black\" points=\"297.9,-593.68 299.2,-583.17 291.63,-590.57 297.9,-593.68\"/>\n</g>\n<!-- 140413432729408 -->\n<g id=\"node42\" class=\"node\">\n<title>140413432729408</title>\n<polygon fill=\"lightblue\" stroke=\"black\" points=\"313,-715 236,-715 236,-685 313,-685 313,-715\"/>\n<text text-anchor=\"middle\" x=\"274.5\" y=\"-703\" font-family=\"monospace\" font-size=\"10.00\">fc2.weight</text>\n<text text-anchor=\"middle\" x=\"274.5\" y=\"-692\" font-family=\"monospace\" font-size=\"10.00\"> (10, 64)</text>\n</g>\n<!-- 140413432729408&#45;&gt;140413462563616 -->\n<g id=\"edge40\" class=\"edge\">\n<title>140413432729408&#45;&gt;140413462563616</title>\n<path fill=\"none\" stroke=\"black\" d=\"M274.5,-684.8C274.5,-675.7 274.5,-663.79 274.5,-653.9\"/>\n<polygon fill=\"black\" stroke=\"black\" points=\"278,-653.84 274.5,-643.84 271,-653.84 278,-653.84\"/>\n</g>\n<!-- 140413461446224 -->\n<g id=\"node43\" class=\"node\">\n<title>140413461446224</title>\n<polygon fill=\"lightgrey\" stroke=\"black\" points=\"409,-456.5 320,-456.5 320,-437.5 409,-437.5 409,-456.5\"/>\n<text text-anchor=\"middle\" x=\"364.5\" y=\"-444.5\" font-family=\"monospace\" font-size=\"10.00\">MulBackward0</text>\n</g>\n<!-- 140413461446224&#45;&gt;140413461445792 -->\n<g id=\"edge41\" class=\"edge\">\n<title>140413461446224&#45;&gt;140413461445792</title>\n<path fill=\"none\" stroke=\"black\" d=\"M349.8,-437.37C331.68,-426.73 300.65,-408.51 279.16,-395.89\"/>\n<polygon fill=\"black\" stroke=\"black\" points=\"280.71,-392.74 270.32,-390.7 277.17,-398.78 280.71,-392.74\"/>\n</g>\n<!-- 140413461446224&#45;&gt;140413461443296 -->\n<g id=\"edge74\" class=\"edge\">\n<title>140413461446224&#45;&gt;140413461443296</title>\n<path fill=\"none\" stroke=\"black\" d=\"M364.23,-437.37C363.94,-428.16 363.48,-413.29 363.1,-401.27\"/>\n<polygon fill=\"black\" stroke=\"black\" points=\"366.59,-400.79 362.78,-390.91 359.59,-401.01 366.59,-400.79\"/>\n</g>\n<!-- 140413458179840&#45;&gt;140413461446224 -->\n<g id=\"edge42\" class=\"edge\">\n<title>140413458179840&#45;&gt;140413461446224</title>\n<path fill=\"none\" stroke=\"black\" d=\"M367.1,-503.37C366.66,-494.07 365.95,-478.98 365.39,-466.9\"/>\n<polygon fill=\"black\" stroke=\"black\" points=\"368.88,-466.73 364.92,-456.91 361.89,-467.06 368.88,-466.73\"/>\n</g>\n<!-- 140413461446368 -->\n<g id=\"node45\" class=\"node\">\n<title>140413461446368</title>\n<polygon fill=\"lightgrey\" stroke=\"black\" points=\"571,-583 476,-583 476,-564 571,-564 571,-583\"/>\n<text text-anchor=\"middle\" x=\"523.5\" y=\"-571\" font-family=\"monospace\" font-size=\"10.00\">ReluBackward0</text>\n</g>\n<!-- 140413461446368&#45;&gt;140413458179840 -->\n<g id=\"edge44\" class=\"edge\">\n<title>140413461446368&#45;&gt;140413458179840</title>\n<path fill=\"none\" stroke=\"black\" d=\"M500.82,-563.99C474.24,-554.03 430.02,-537.45 399.86,-526.13\"/>\n<polygon fill=\"black\" stroke=\"black\" points=\"400.8,-522.75 390.21,-522.52 398.35,-529.31 400.8,-522.75\"/>\n</g>\n<!-- 140413461443920 -->\n<g id=\"node46\" class=\"node\">\n<title>140413461443920</title>\n<polygon fill=\"lightgrey\" stroke=\"black\" points=\"557,-643.5 468,-643.5 468,-624.5 557,-624.5 557,-643.5\"/>\n<text text-anchor=\"middle\" x=\"512.5\" y=\"-631.5\" font-family=\"monospace\" font-size=\"10.00\">MulBackward0</text>\n</g>\n<!-- 140413461443920&#45;&gt;140413461446368 -->\n<g id=\"edge45\" class=\"edge\">\n<title>140413461443920&#45;&gt;140413461446368</title>\n<path fill=\"none\" stroke=\"black\" d=\"M514.12,-624.37C515.67,-616.16 518.04,-603.54 520.01,-593.05\"/>\n<polygon fill=\"black\" stroke=\"black\" points=\"523.46,-593.64 521.87,-583.17 516.58,-592.35 523.46,-593.64\"/>\n</g>\n<!-- 140413461445072&#45;&gt;140413461443920 -->\n<g id=\"edge46\" class=\"edge\">\n<title>140413461445072&#45;&gt;140413461443920</title>\n<path fill=\"none\" stroke=\"black\" d=\"M413.01,-690.37C432.21,-679.68 465.16,-661.35 487.85,-648.72\"/>\n<polygon fill=\"black\" stroke=\"black\" points=\"489.83,-651.62 496.87,-643.7 486.43,-645.5 489.83,-651.62\"/>\n</g>\n<!-- 140413461882096 -->\n<g id=\"node48\" class=\"node\">\n<title>140413461882096</title>\n<polygon fill=\"lightgrey\" stroke=\"black\" points=\"527,-770 438,-770 438,-751 527,-751 527,-770\"/>\n<text text-anchor=\"middle\" x=\"482.5\" y=\"-758\" font-family=\"monospace\" font-size=\"10.00\">ViewBackward</text>\n</g>\n<!-- 140413461882096&#45;&gt;140413461445072 -->\n<g id=\"edge48\" class=\"edge\">\n<title>140413461882096&#45;&gt;140413461445072</title>\n<path fill=\"none\" stroke=\"black\" d=\"M469.96,-750.87C456.4,-741.54 434.56,-726.51 418.4,-715.38\"/>\n<polygon fill=\"black\" stroke=\"black\" points=\"420.32,-712.45 410.09,-709.67 416.35,-718.22 420.32,-712.45\"/>\n</g>\n<!-- 140413461883296 -->\n<g id=\"node49\" class=\"node\">\n<title>140413461883296</title>\n<polygon fill=\"lightgrey\" stroke=\"black\" points=\"522,-830.5 427,-830.5 427,-811.5 522,-811.5 522,-830.5\"/>\n<text text-anchor=\"middle\" x=\"474.5\" y=\"-818.5\" font-family=\"monospace\" font-size=\"10.00\">ReluBackward0</text>\n</g>\n<!-- 140413461883296&#45;&gt;140413461882096 -->\n<g id=\"edge49\" class=\"edge\">\n<title>140413461883296&#45;&gt;140413461882096</title>\n<path fill=\"none\" stroke=\"black\" d=\"M475.68,-811.37C476.79,-803.25 478.49,-790.81 479.92,-780.39\"/>\n<polygon fill=\"black\" stroke=\"black\" points=\"483.43,-780.55 481.31,-770.17 476.49,-779.6 483.43,-780.55\"/>\n</g>\n<!-- 140413461882528 -->\n<g id=\"node50\" class=\"node\">\n<title>140413461882528</title>\n<polygon fill=\"lightgrey\" stroke=\"black\" points=\"524,-896.5 339,-896.5 339,-877.5 524,-877.5 524,-896.5\"/>\n<text text-anchor=\"middle\" x=\"431.5\" y=\"-884.5\" font-family=\"monospace\" font-size=\"10.00\">MaxPool2DWithIndicesBackward</text>\n</g>\n<!-- 140413461882528&#45;&gt;140413461883296 -->\n<g id=\"edge50\" class=\"edge\">\n<title>140413461882528&#45;&gt;140413461883296</title>\n<path fill=\"none\" stroke=\"black\" d=\"M437.3,-877.37C443.8,-867.69 454.52,-851.74 462.78,-839.44\"/>\n<polygon fill=\"black\" stroke=\"black\" points=\"465.85,-841.16 468.52,-830.91 460.03,-837.25 465.85,-841.16\"/>\n</g>\n<!-- 140413461883488 -->\n<g id=\"node51\" class=\"node\">\n<title>140413461883488</title>\n<polygon fill=\"lightgrey\" stroke=\"black\" points=\"425,-957 336,-957 336,-938 425,-938 425,-957\"/>\n<text text-anchor=\"middle\" x=\"380.5\" y=\"-945\" font-family=\"monospace\" font-size=\"10.00\">MulBackward0</text>\n</g>\n<!-- 140413461883488&#45;&gt;140413461882528 -->\n<g id=\"edge51\" class=\"edge\">\n<title>140413461883488&#45;&gt;140413461882528</title>\n<path fill=\"none\" stroke=\"black\" d=\"M388.03,-937.87C395.71,-929.05 407.82,-915.16 417.31,-904.27\"/>\n<polygon fill=\"black\" stroke=\"black\" points=\"420.01,-906.51 423.94,-896.67 414.73,-901.91 420.01,-906.51\"/>\n</g>\n<!-- 140413461884256&#45;&gt;140413461883488 -->\n<g id=\"edge52\" class=\"edge\">\n<title>140413461884256&#45;&gt;140413461883488</title>\n<path fill=\"none\" stroke=\"black\" d=\"M372.15,-992.75C373.46,-985.8 375.34,-975.85 376.98,-967.13\"/>\n<polygon fill=\"black\" stroke=\"black\" points=\"380.46,-967.56 378.88,-957.09 373.59,-966.27 380.46,-967.56\"/>\n</g>\n<!-- 140413461884640 -->\n<g id=\"node53\" class=\"node\">\n<title>140413461884640</title>\n<polygon fill=\"lightgrey\" stroke=\"black\" points=\"513,-1067 418,-1067 418,-1048 513,-1048 513,-1067\"/>\n<text text-anchor=\"middle\" x=\"465.5\" y=\"-1055\" font-family=\"monospace\" font-size=\"10.00\">ReluBackward0</text>\n</g>\n<!-- 140413461884640&#45;&gt;140413461884256 -->\n<g id=\"edge53\" class=\"edge\">\n<title>140413461884640&#45;&gt;140413461884256</title>\n<path fill=\"none\" stroke=\"black\" d=\"M450.24,-1047.98C435.37,-1039.69 412.52,-1026.94 395.08,-1017.22\"/>\n<polygon fill=\"black\" stroke=\"black\" points=\"396.48,-1013.99 386.04,-1012.17 393.07,-1020.1 396.48,-1013.99\"/>\n</g>\n<!-- 140413461884688 -->\n<g id=\"node54\" class=\"node\">\n<title>140413461884688</title>\n<polygon fill=\"lightgrey\" stroke=\"black\" points=\"502,-1127.5 413,-1127.5 413,-1108.5 502,-1108.5 502,-1127.5\"/>\n<text text-anchor=\"middle\" x=\"457.5\" y=\"-1115.5\" font-family=\"monospace\" font-size=\"10.00\">MulBackward0</text>\n</g>\n<!-- 140413461884688&#45;&gt;140413461884640 -->\n<g id=\"edge54\" class=\"edge\">\n<title>140413461884688&#45;&gt;140413461884640</title>\n<path fill=\"none\" stroke=\"black\" d=\"M458.68,-1108.37C459.79,-1100.25 461.49,-1087.81 462.92,-1077.39\"/>\n<polygon fill=\"black\" stroke=\"black\" points=\"466.43,-1077.55 464.31,-1067.17 459.49,-1076.6 466.43,-1077.55\"/>\n</g>\n<!-- 140413461849136&#45;&gt;140413461884688 -->\n<g id=\"edge55\" class=\"edge\">\n<title>140413461849136&#45;&gt;140413461884688</title>\n<path fill=\"none\" stroke=\"black\" d=\"M368.85,-1168.87C385.82,-1159.32 413.4,-1143.81 433.29,-1132.62\"/>\n<polygon fill=\"black\" stroke=\"black\" points=\"435.09,-1135.62 442.09,-1127.67 431.66,-1129.52 435.09,-1135.62\"/>\n</g>\n<!-- 140413461882240&#45;&gt;140413461445072 -->\n<g id=\"edge60\" class=\"edge\">\n<title>140413461882240&#45;&gt;140413461445072</title>\n<path fill=\"none\" stroke=\"black\" d=\"M284.69,-750.99C306.89,-741.16 343.62,-724.88 369.12,-713.58\"/>\n<polygon fill=\"black\" stroke=\"black\" points=\"370.56,-716.77 378.28,-709.52 367.72,-710.37 370.56,-716.77\"/>\n</g>\n<!-- 140413461444160&#45;&gt;140413458179840 -->\n<g id=\"edge62\" class=\"edge\">\n<title>140413461444160&#45;&gt;140413458179840</title>\n<path fill=\"none\" stroke=\"black\" d=\"M312.94,-563.87C322.77,-554.88 338.39,-540.61 350.39,-529.64\"/>\n<polygon fill=\"black\" stroke=\"black\" points=\"353,-532 358.02,-522.67 348.28,-526.83 353,-532\"/>\n</g>\n<!-- 140413461445504 -->\n<g id=\"node58\" class=\"node\">\n<title>140413461445504</title>\n<polygon fill=\"lightgrey\" stroke=\"black\" points=\"194,-390.5 123,-390.5 123,-371.5 194,-371.5 194,-390.5\"/>\n<text text-anchor=\"middle\" x=\"158.5\" y=\"-378.5\" font-family=\"monospace\" font-size=\"10.00\">TBackward</text>\n</g>\n<!-- 140413461445504&#45;&gt;140413461445888 -->\n<g id=\"edge64\" class=\"edge\">\n<title>140413461445504&#45;&gt;140413461445888</title>\n<path fill=\"none\" stroke=\"black\" d=\"M164.43,-371.3C171.16,-361.44 182.3,-345.11 190.8,-332.66\"/>\n<polygon fill=\"black\" stroke=\"black\" points=\"193.92,-334.29 196.66,-324.06 188.13,-330.35 193.92,-334.29\"/>\n</g>\n<!-- 140413461446272 -->\n<g id=\"node59\" class=\"node\">\n<title>140413461446272</title>\n<polygon fill=\"lightgrey\" stroke=\"black\" points=\"195,-456.5 94,-456.5 94,-437.5 195,-437.5 195,-456.5\"/>\n<text text-anchor=\"middle\" x=\"144.5\" y=\"-444.5\" font-family=\"monospace\" font-size=\"10.00\">AccumulateGrad</text>\n</g>\n<!-- 140413461446272&#45;&gt;140413461445504 -->\n<g id=\"edge65\" class=\"edge\">\n<title>140413461446272&#45;&gt;140413461445504</title>\n<path fill=\"none\" stroke=\"black\" d=\"M146.39,-437.37C148.42,-428.07 151.72,-412.98 154.37,-400.9\"/>\n<polygon fill=\"black\" stroke=\"black\" points=\"157.83,-401.42 156.55,-390.91 151,-399.93 157.83,-401.42\"/>\n</g>\n<!-- 140413432726272 -->\n<g id=\"node60\" class=\"node\">\n<title>140413432726272</title>\n<polygon fill=\"lightblue\" stroke=\"black\" points=\"183,-528 106,-528 106,-498 183,-498 183,-528\"/>\n<text text-anchor=\"middle\" x=\"144.5\" y=\"-516\" font-family=\"monospace\" font-size=\"10.00\">fc3.weight</text>\n<text text-anchor=\"middle\" x=\"144.5\" y=\"-505\" font-family=\"monospace\" font-size=\"10.00\"> (10, 20)</text>\n</g>\n<!-- 140413432726272&#45;&gt;140413461446272 -->\n<g id=\"edge66\" class=\"edge\">\n<title>140413432726272&#45;&gt;140413461446272</title>\n<path fill=\"none\" stroke=\"black\" d=\"M144.5,-497.8C144.5,-488.7 144.5,-476.79 144.5,-466.9\"/>\n<polygon fill=\"black\" stroke=\"black\" points=\"148,-466.84 144.5,-456.84 141,-466.84 148,-466.84\"/>\n</g>\n<!-- 140413461445648 -->\n<g id=\"node61\" class=\"node\">\n<title>140413461445648</title>\n<polygon fill=\"lightgrey\" stroke=\"black\" points=\"446,-263 375,-263 375,-244 446,-244 446,-263\"/>\n<text text-anchor=\"middle\" x=\"410.5\" y=\"-251\" font-family=\"monospace\" font-size=\"10.00\">TBackward</text>\n</g>\n<!-- 140413461445648&#45;&gt;140413461445600 -->\n<g id=\"edge67\" class=\"edge\">\n<title>140413461445648&#45;&gt;140413461445600</title>\n<path fill=\"none\" stroke=\"black\" d=\"M378.53,-243.98C344.68,-234.97 291.1,-220.7 253.79,-210.76\"/>\n<polygon fill=\"black\" stroke=\"black\" points=\"254.29,-207.27 243.72,-208.08 252.49,-214.04 254.29,-207.27\"/>\n</g>\n<!-- 140413461446416 -->\n<g id=\"node62\" class=\"node\">\n<title>140413461446416</title>\n<polygon fill=\"lightgrey\" stroke=\"black\" points=\"520,-324 419,-324 419,-305 520,-305 520,-324\"/>\n<text text-anchor=\"middle\" x=\"469.5\" y=\"-312\" font-family=\"monospace\" font-size=\"10.00\">AccumulateGrad</text>\n</g>\n<!-- 140413461446416&#45;&gt;140413461445648 -->\n<g id=\"edge68\" class=\"edge\">\n<title>140413461446416&#45;&gt;140413461445648</title>\n<path fill=\"none\" stroke=\"black\" d=\"M460.79,-304.79C451.82,-295.82 437.62,-281.62 426.59,-270.59\"/>\n<polygon fill=\"black\" stroke=\"black\" points=\"428.79,-267.84 419.24,-263.24 423.84,-272.79 428.79,-267.84\"/>\n</g>\n<!-- 140413432726720 -->\n<g id=\"node63\" class=\"node\">\n<title>140413432726720</title>\n<polygon fill=\"lightblue\" stroke=\"black\" points=\"508,-396 431,-396 431,-366 508,-366 508,-396\"/>\n<text text-anchor=\"middle\" x=\"469.5\" y=\"-384\" font-family=\"monospace\" font-size=\"10.00\">fc4.weight</text>\n<text text-anchor=\"middle\" x=\"469.5\" y=\"-373\" font-family=\"monospace\" font-size=\"10.00\"> (1, 10)</text>\n</g>\n<!-- 140413432726720&#45;&gt;140413461446416 -->\n<g id=\"edge69\" class=\"edge\">\n<title>140413432726720&#45;&gt;140413461446416</title>\n<path fill=\"none\" stroke=\"black\" d=\"M469.5,-365.69C469.5,-356.41 469.5,-344.23 469.5,-334.19\"/>\n<polygon fill=\"black\" stroke=\"black\" points=\"473,-334.04 469.5,-324.04 466,-334.04 473,-334.04\"/>\n</g>\n<!-- 140413462127232&#45;&gt;140413379864320 -->\n<g id=\"edge72\" class=\"edge\">\n<title>140413462127232&#45;&gt;140413379864320</title>\n<path fill=\"none\" stroke=\"black\" stroke-dasharray=\"1,5\" d=\"M251.7,-66.75C245.18,-58.61 236.95,-48.32 229.64,-39.17\"/>\n<polygon fill=\"black\" stroke=\"black\" points=\"232.23,-36.81 223.25,-31.19 226.77,-41.19 232.23,-36.81\"/>\n</g>\n<!-- 140413434037120 -->\n<g id=\"node65\" class=\"node\">\n<title>140413434037120</title>\n<polygon fill=\"#caff70\" stroke=\"black\" points=\"401,-330 318,-330 318,-299 401,-299 401,-330\"/>\n<text text-anchor=\"middle\" x=\"359.5\" y=\"-306\" font-family=\"monospace\" font-size=\"10.00\"> (1, 2, 10)</text>\n</g>\n<!-- 140413461443296&#45;&gt;140413434037120 -->\n<g id=\"edge75\" class=\"edge\">\n<title>140413461443296&#45;&gt;140413434037120</title>\n<path fill=\"none\" stroke=\"black\" d=\"M362.1,-371.3C361.73,-363.46 361.18,-351.54 360.67,-340.72\"/>\n<polygon fill=\"black\" stroke=\"black\" points=\"364.16,-340.3 360.2,-330.47 357.16,-340.62 364.16,-340.3\"/>\n</g>\n</g>\n</svg>\n"
     },
     "metadata": {},
     "execution_count": 36
    }
   ],
   "source": [
    "from torchviz import make_dot\n",
    "\n",
    "make_dot(y, params=dict(model.named_parameters()))"
   ]
  },
  {
   "cell_type": "code",
   "execution_count": 30,
   "metadata": {},
   "outputs": [
    {
     "output_type": "execute_result",
     "data": {
      "text/plain": [
       "(<AxesSubplot:>, <matplotlib.image.AxesImage at 0x7fb48e892790>)"
      ]
     },
     "metadata": {},
     "execution_count": 30
    },
    {
     "output_type": "display_data",
     "data": {
      "text/plain": "<Figure size 432x288 with 2 Axes>",
      "image/svg+xml": "<?xml version=\"1.0\" encoding=\"utf-8\" standalone=\"no\"?>\n<!DOCTYPE svg PUBLIC \"-//W3C//DTD SVG 1.1//EN\"\n  \"http://www.w3.org/Graphics/SVG/1.1/DTD/svg11.dtd\">\n<!-- Created with matplotlib (https://matplotlib.org/) -->\n<svg height=\"183.259943pt\" version=\"1.1\" viewBox=\"0 0 368.925 183.259943\" width=\"368.925pt\" xmlns=\"http://www.w3.org/2000/svg\" xmlns:xlink=\"http://www.w3.org/1999/xlink\">\n <metadata>\n  <rdf:RDF xmlns:cc=\"http://creativecommons.org/ns#\" xmlns:dc=\"http://purl.org/dc/elements/1.1/\" xmlns:rdf=\"http://www.w3.org/1999/02/22-rdf-syntax-ns#\">\n   <cc:Work>\n    <dc:type rdf:resource=\"http://purl.org/dc/dcmitype/StillImage\"/>\n    <dc:date>2021-05-08T13:08:55.595348</dc:date>\n    <dc:format>image/svg+xml</dc:format>\n    <dc:creator>\n     <cc:Agent>\n      <dc:title>Matplotlib v3.3.4, https://matplotlib.org/</dc:title>\n     </cc:Agent>\n    </dc:creator>\n   </cc:Work>\n  </rdf:RDF>\n </metadata>\n <defs>\n  <style type=\"text/css\">*{stroke-linecap:butt;stroke-linejoin:round;}</style>\n </defs>\n <g id=\"figure_1\">\n  <g id=\"patch_1\">\n   <path d=\"M -0 183.259943 \nL 368.925 183.259943 \nL 368.925 0 \nL -0 0 \nz\n\" style=\"fill:none;\"/>\n  </g>\n  <g id=\"axes_1\">\n   <g id=\"patch_2\">\n    <path d=\"M 26.925 159.381818 \nL 179.106818 159.381818 \nL 179.106818 7.2 \nL 26.925 7.2 \nz\n\" style=\"fill:#ffffff;\"/>\n   </g>\n   <g clip-path=\"url(#paf353325ee)\">\n    <image height=\"153\" id=\"imagee2c17fb11d\" transform=\"scale(1 -1)translate(0 -153)\" width=\"153\" x=\"26.925\" xlink:href=\"data:image/png;base64,\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\" y=\"-6.381818\"/>\n   </g>\n   <g id=\"matplotlib.axis_1\">\n    <g id=\"xtick_1\">\n     <g id=\"line2d_1\">\n      <defs>\n       <path d=\"M 0 0 \nL 0 3.5 \n\" id=\"m21db342b76\" style=\"stroke:#000000;stroke-width:0.8;\"/>\n      </defs>\n      <g>\n       <use style=\"stroke:#000000;stroke-width:0.8;\" x=\"32.360065\" xlink:href=\"#m21db342b76\" y=\"159.381818\"/>\n      </g>\n     </g>\n     <g id=\"text_1\">\n      <!-- 0 -->\n      <g transform=\"translate(29.178815 173.980256)scale(0.1 -0.1)\">\n       <defs>\n        <path d=\"M 31.78125 66.40625 \nQ 24.171875 66.40625 20.328125 58.90625 \nQ 16.5 51.421875 16.5 36.375 \nQ 16.5 21.390625 20.328125 13.890625 \nQ 24.171875 6.390625 31.78125 6.390625 \nQ 39.453125 6.390625 43.28125 13.890625 \nQ 47.125 21.390625 47.125 36.375 \nQ 47.125 51.421875 43.28125 58.90625 \nQ 39.453125 66.40625 31.78125 66.40625 \nz\nM 31.78125 74.21875 \nQ 44.046875 74.21875 50.515625 64.515625 \nQ 56.984375 54.828125 56.984375 36.375 \nQ 56.984375 17.96875 50.515625 8.265625 \nQ 44.046875 -1.421875 31.78125 -1.421875 \nQ 19.53125 -1.421875 13.0625 8.265625 \nQ 6.59375 17.96875 6.59375 36.375 \nQ 6.59375 54.828125 13.0625 64.515625 \nQ 19.53125 74.21875 31.78125 74.21875 \nz\n\" id=\"DejaVuSans-48\"/>\n       </defs>\n       <use xlink:href=\"#DejaVuSans-48\"/>\n      </g>\n     </g>\n    </g>\n    <g id=\"xtick_2\">\n     <g id=\"line2d_2\">\n      <g>\n       <use style=\"stroke:#000000;stroke-width:0.8;\" x=\"86.710714\" xlink:href=\"#m21db342b76\" y=\"159.381818\"/>\n      </g>\n     </g>\n     <g id=\"text_2\">\n      <!-- 5 -->\n      <g transform=\"translate(83.529464 173.980256)scale(0.1 -0.1)\">\n       <defs>\n        <path d=\"M 10.796875 72.90625 \nL 49.515625 72.90625 \nL 49.515625 64.59375 \nL 19.828125 64.59375 \nL 19.828125 46.734375 \nQ 21.96875 47.46875 24.109375 47.828125 \nQ 26.265625 48.1875 28.421875 48.1875 \nQ 40.625 48.1875 47.75 41.5 \nQ 54.890625 34.8125 54.890625 23.390625 \nQ 54.890625 11.625 47.5625 5.09375 \nQ 40.234375 -1.421875 26.90625 -1.421875 \nQ 22.3125 -1.421875 17.546875 -0.640625 \nQ 12.796875 0.140625 7.71875 1.703125 \nL 7.71875 11.625 \nQ 12.109375 9.234375 16.796875 8.0625 \nQ 21.484375 6.890625 26.703125 6.890625 \nQ 35.15625 6.890625 40.078125 11.328125 \nQ 45.015625 15.765625 45.015625 23.390625 \nQ 45.015625 31 40.078125 35.4375 \nQ 35.15625 39.890625 26.703125 39.890625 \nQ 22.75 39.890625 18.8125 39.015625 \nQ 14.890625 38.140625 10.796875 36.28125 \nz\n\" id=\"DejaVuSans-53\"/>\n       </defs>\n       <use xlink:href=\"#DejaVuSans-53\"/>\n      </g>\n     </g>\n    </g>\n    <g id=\"xtick_3\">\n     <g id=\"line2d_3\">\n      <g>\n       <use style=\"stroke:#000000;stroke-width:0.8;\" x=\"141.061364\" xlink:href=\"#m21db342b76\" y=\"159.381818\"/>\n      </g>\n     </g>\n     <g id=\"text_3\">\n      <!-- 10 -->\n      <g transform=\"translate(134.698864 173.980256)scale(0.1 -0.1)\">\n       <defs>\n        <path d=\"M 12.40625 8.296875 \nL 28.515625 8.296875 \nL 28.515625 63.921875 \nL 10.984375 60.40625 \nL 10.984375 69.390625 \nL 28.421875 72.90625 \nL 38.28125 72.90625 \nL 38.28125 8.296875 \nL 54.390625 8.296875 \nL 54.390625 0 \nL 12.40625 0 \nz\n\" id=\"DejaVuSans-49\"/>\n       </defs>\n       <use xlink:href=\"#DejaVuSans-49\"/>\n       <use x=\"63.623047\" xlink:href=\"#DejaVuSans-48\"/>\n      </g>\n     </g>\n    </g>\n   </g>\n   <g id=\"matplotlib.axis_2\">\n    <g id=\"ytick_1\">\n     <g id=\"line2d_4\">\n      <defs>\n       <path d=\"M 0 0 \nL -3.5 0 \n\" id=\"m1c84345f72\" style=\"stroke:#000000;stroke-width:0.8;\"/>\n      </defs>\n      <g>\n       <use style=\"stroke:#000000;stroke-width:0.8;\" x=\"26.925\" xlink:href=\"#m1c84345f72\" y=\"12.635065\"/>\n      </g>\n     </g>\n     <g id=\"text_4\">\n      <!-- 0 -->\n      <g transform=\"translate(13.5625 16.434284)scale(0.1 -0.1)\">\n       <use xlink:href=\"#DejaVuSans-48\"/>\n      </g>\n     </g>\n    </g>\n    <g id=\"ytick_2\">\n     <g id=\"line2d_5\">\n      <g>\n       <use style=\"stroke:#000000;stroke-width:0.8;\" x=\"26.925\" xlink:href=\"#m1c84345f72\" y=\"34.375325\"/>\n      </g>\n     </g>\n     <g id=\"text_5\">\n      <!-- 2 -->\n      <g transform=\"translate(13.5625 38.174543)scale(0.1 -0.1)\">\n       <defs>\n        <path d=\"M 19.1875 8.296875 \nL 53.609375 8.296875 \nL 53.609375 0 \nL 7.328125 0 \nL 7.328125 8.296875 \nQ 12.9375 14.109375 22.625 23.890625 \nQ 32.328125 33.6875 34.8125 36.53125 \nQ 39.546875 41.84375 41.421875 45.53125 \nQ 43.3125 49.21875 43.3125 52.78125 \nQ 43.3125 58.59375 39.234375 62.25 \nQ 35.15625 65.921875 28.609375 65.921875 \nQ 23.96875 65.921875 18.8125 64.3125 \nQ 13.671875 62.703125 7.8125 59.421875 \nL 7.8125 69.390625 \nQ 13.765625 71.78125 18.9375 73 \nQ 24.125 74.21875 28.421875 74.21875 \nQ 39.75 74.21875 46.484375 68.546875 \nQ 53.21875 62.890625 53.21875 53.421875 \nQ 53.21875 48.921875 51.53125 44.890625 \nQ 49.859375 40.875 45.40625 35.40625 \nQ 44.1875 33.984375 37.640625 27.21875 \nQ 31.109375 20.453125 19.1875 8.296875 \nz\n\" id=\"DejaVuSans-50\"/>\n       </defs>\n       <use xlink:href=\"#DejaVuSans-50\"/>\n      </g>\n     </g>\n    </g>\n    <g id=\"ytick_3\">\n     <g id=\"line2d_6\">\n      <g>\n       <use style=\"stroke:#000000;stroke-width:0.8;\" x=\"26.925\" xlink:href=\"#m1c84345f72\" y=\"56.115584\"/>\n      </g>\n     </g>\n     <g id=\"text_6\">\n      <!-- 4 -->\n      <g transform=\"translate(13.5625 59.914803)scale(0.1 -0.1)\">\n       <defs>\n        <path d=\"M 37.796875 64.3125 \nL 12.890625 25.390625 \nL 37.796875 25.390625 \nz\nM 35.203125 72.90625 \nL 47.609375 72.90625 \nL 47.609375 25.390625 \nL 58.015625 25.390625 \nL 58.015625 17.1875 \nL 47.609375 17.1875 \nL 47.609375 0 \nL 37.796875 0 \nL 37.796875 17.1875 \nL 4.890625 17.1875 \nL 4.890625 26.703125 \nz\n\" id=\"DejaVuSans-52\"/>\n       </defs>\n       <use xlink:href=\"#DejaVuSans-52\"/>\n      </g>\n     </g>\n    </g>\n    <g id=\"ytick_4\">\n     <g id=\"line2d_7\">\n      <g>\n       <use style=\"stroke:#000000;stroke-width:0.8;\" x=\"26.925\" xlink:href=\"#m1c84345f72\" y=\"77.855844\"/>\n      </g>\n     </g>\n     <g id=\"text_7\">\n      <!-- 6 -->\n      <g transform=\"translate(13.5625 81.655063)scale(0.1 -0.1)\">\n       <defs>\n        <path d=\"M 33.015625 40.375 \nQ 26.375 40.375 22.484375 35.828125 \nQ 18.609375 31.296875 18.609375 23.390625 \nQ 18.609375 15.53125 22.484375 10.953125 \nQ 26.375 6.390625 33.015625 6.390625 \nQ 39.65625 6.390625 43.53125 10.953125 \nQ 47.40625 15.53125 47.40625 23.390625 \nQ 47.40625 31.296875 43.53125 35.828125 \nQ 39.65625 40.375 33.015625 40.375 \nz\nM 52.59375 71.296875 \nL 52.59375 62.3125 \nQ 48.875 64.0625 45.09375 64.984375 \nQ 41.3125 65.921875 37.59375 65.921875 \nQ 27.828125 65.921875 22.671875 59.328125 \nQ 17.53125 52.734375 16.796875 39.40625 \nQ 19.671875 43.65625 24.015625 45.921875 \nQ 28.375 48.1875 33.59375 48.1875 \nQ 44.578125 48.1875 50.953125 41.515625 \nQ 57.328125 34.859375 57.328125 23.390625 \nQ 57.328125 12.15625 50.6875 5.359375 \nQ 44.046875 -1.421875 33.015625 -1.421875 \nQ 20.359375 -1.421875 13.671875 8.265625 \nQ 6.984375 17.96875 6.984375 36.375 \nQ 6.984375 53.65625 15.1875 63.9375 \nQ 23.390625 74.21875 37.203125 74.21875 \nQ 40.921875 74.21875 44.703125 73.484375 \nQ 48.484375 72.75 52.59375 71.296875 \nz\n\" id=\"DejaVuSans-54\"/>\n       </defs>\n       <use xlink:href=\"#DejaVuSans-54\"/>\n      </g>\n     </g>\n    </g>\n    <g id=\"ytick_5\">\n     <g id=\"line2d_8\">\n      <g>\n       <use style=\"stroke:#000000;stroke-width:0.8;\" x=\"26.925\" xlink:href=\"#m1c84345f72\" y=\"99.596104\"/>\n      </g>\n     </g>\n     <g id=\"text_8\">\n      <!-- 8 -->\n      <g transform=\"translate(13.5625 103.395323)scale(0.1 -0.1)\">\n       <defs>\n        <path d=\"M 31.78125 34.625 \nQ 24.75 34.625 20.71875 30.859375 \nQ 16.703125 27.09375 16.703125 20.515625 \nQ 16.703125 13.921875 20.71875 10.15625 \nQ 24.75 6.390625 31.78125 6.390625 \nQ 38.8125 6.390625 42.859375 10.171875 \nQ 46.921875 13.96875 46.921875 20.515625 \nQ 46.921875 27.09375 42.890625 30.859375 \nQ 38.875 34.625 31.78125 34.625 \nz\nM 21.921875 38.8125 \nQ 15.578125 40.375 12.03125 44.71875 \nQ 8.5 49.078125 8.5 55.328125 \nQ 8.5 64.0625 14.71875 69.140625 \nQ 20.953125 74.21875 31.78125 74.21875 \nQ 42.671875 74.21875 48.875 69.140625 \nQ 55.078125 64.0625 55.078125 55.328125 \nQ 55.078125 49.078125 51.53125 44.71875 \nQ 48 40.375 41.703125 38.8125 \nQ 48.828125 37.15625 52.796875 32.3125 \nQ 56.78125 27.484375 56.78125 20.515625 \nQ 56.78125 9.90625 50.3125 4.234375 \nQ 43.84375 -1.421875 31.78125 -1.421875 \nQ 19.734375 -1.421875 13.25 4.234375 \nQ 6.78125 9.90625 6.78125 20.515625 \nQ 6.78125 27.484375 10.78125 32.3125 \nQ 14.796875 37.15625 21.921875 38.8125 \nz\nM 18.3125 54.390625 \nQ 18.3125 48.734375 21.84375 45.5625 \nQ 25.390625 42.390625 31.78125 42.390625 \nQ 38.140625 42.390625 41.71875 45.5625 \nQ 45.3125 48.734375 45.3125 54.390625 \nQ 45.3125 60.0625 41.71875 63.234375 \nQ 38.140625 66.40625 31.78125 66.40625 \nQ 25.390625 66.40625 21.84375 63.234375 \nQ 18.3125 60.0625 18.3125 54.390625 \nz\n\" id=\"DejaVuSans-56\"/>\n       </defs>\n       <use xlink:href=\"#DejaVuSans-56\"/>\n      </g>\n     </g>\n    </g>\n    <g id=\"ytick_6\">\n     <g id=\"line2d_9\">\n      <g>\n       <use style=\"stroke:#000000;stroke-width:0.8;\" x=\"26.925\" xlink:href=\"#m1c84345f72\" y=\"121.336364\"/>\n      </g>\n     </g>\n     <g id=\"text_9\">\n      <!-- 10 -->\n      <g transform=\"translate(7.2 125.135582)scale(0.1 -0.1)\">\n       <use xlink:href=\"#DejaVuSans-49\"/>\n       <use x=\"63.623047\" xlink:href=\"#DejaVuSans-48\"/>\n      </g>\n     </g>\n    </g>\n    <g id=\"ytick_7\">\n     <g id=\"line2d_10\">\n      <g>\n       <use style=\"stroke:#000000;stroke-width:0.8;\" x=\"26.925\" xlink:href=\"#m1c84345f72\" y=\"143.076623\"/>\n      </g>\n     </g>\n     <g id=\"text_10\">\n      <!-- 12 -->\n      <g transform=\"translate(7.2 146.875842)scale(0.1 -0.1)\">\n       <use xlink:href=\"#DejaVuSans-49\"/>\n       <use x=\"63.623047\" xlink:href=\"#DejaVuSans-50\"/>\n      </g>\n     </g>\n    </g>\n   </g>\n   <g id=\"patch_3\">\n    <path d=\"M 26.925 159.381818 \nL 26.925 7.2 \n\" style=\"fill:none;stroke:#000000;stroke-linecap:square;stroke-linejoin:miter;stroke-width:0.8;\"/>\n   </g>\n   <g id=\"patch_4\">\n    <path d=\"M 179.106818 159.381818 \nL 179.106818 7.2 \n\" style=\"fill:none;stroke:#000000;stroke-linecap:square;stroke-linejoin:miter;stroke-width:0.8;\"/>\n   </g>\n   <g id=\"patch_5\">\n    <path d=\"M 26.925 159.381818 \nL 179.106818 159.381818 \n\" style=\"fill:none;stroke:#000000;stroke-linecap:square;stroke-linejoin:miter;stroke-width:0.8;\"/>\n   </g>\n   <g id=\"patch_6\">\n    <path d=\"M 26.925 7.2 \nL 179.106818 7.2 \n\" style=\"fill:none;stroke:#000000;stroke-linecap:square;stroke-linejoin:miter;stroke-width:0.8;\"/>\n   </g>\n  </g>\n  <g id=\"axes_2\">\n   <g id=\"patch_7\">\n    <path d=\"M 209.543182 159.381818 \nL 361.725 159.381818 \nL 361.725 7.2 \nL 209.543182 7.2 \nz\n\" style=\"fill:#ffffff;\"/>\n   </g>\n   <g clip-path=\"url(#pf2f6f47b97)\">\n    <image height=\"153\" id=\"image272bfd7ae6\" transform=\"scale(1 -1)translate(0 -153)\" width=\"153\" x=\"209.543182\" xlink:href=\"data:image/png;base64,\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\" y=\"-6.381818\"/>\n   </g>\n   <g id=\"matplotlib.axis_3\">\n    <g id=\"xtick_4\">\n     <g id=\"line2d_11\">\n      <g>\n       <use style=\"stroke:#000000;stroke-width:0.8;\" x=\"214.978247\" xlink:href=\"#m21db342b76\" y=\"159.381818\"/>\n      </g>\n     </g>\n     <g id=\"text_11\">\n      <!-- 0 -->\n      <g transform=\"translate(211.796997 173.980256)scale(0.1 -0.1)\">\n       <use xlink:href=\"#DejaVuSans-48\"/>\n      </g>\n     </g>\n    </g>\n    <g id=\"xtick_5\">\n     <g id=\"line2d_12\">\n      <g>\n       <use style=\"stroke:#000000;stroke-width:0.8;\" x=\"269.328896\" xlink:href=\"#m21db342b76\" y=\"159.381818\"/>\n      </g>\n     </g>\n     <g id=\"text_12\">\n      <!-- 5 -->\n      <g transform=\"translate(266.147646 173.980256)scale(0.1 -0.1)\">\n       <use xlink:href=\"#DejaVuSans-53\"/>\n      </g>\n     </g>\n    </g>\n    <g id=\"xtick_6\">\n     <g id=\"line2d_13\">\n      <g>\n       <use style=\"stroke:#000000;stroke-width:0.8;\" x=\"323.679545\" xlink:href=\"#m21db342b76\" y=\"159.381818\"/>\n      </g>\n     </g>\n     <g id=\"text_13\">\n      <!-- 10 -->\n      <g transform=\"translate(317.317045 173.980256)scale(0.1 -0.1)\">\n       <use xlink:href=\"#DejaVuSans-49\"/>\n       <use x=\"63.623047\" xlink:href=\"#DejaVuSans-48\"/>\n      </g>\n     </g>\n    </g>\n   </g>\n   <g id=\"matplotlib.axis_4\">\n    <g id=\"ytick_8\">\n     <g id=\"line2d_14\">\n      <g>\n       <use style=\"stroke:#000000;stroke-width:0.8;\" x=\"209.543182\" xlink:href=\"#m1c84345f72\" y=\"12.635065\"/>\n      </g>\n     </g>\n     <g id=\"text_14\">\n      <!-- 0 -->\n      <g transform=\"translate(196.180682 16.434284)scale(0.1 -0.1)\">\n       <use xlink:href=\"#DejaVuSans-48\"/>\n      </g>\n     </g>\n    </g>\n    <g id=\"ytick_9\">\n     <g id=\"line2d_15\">\n      <g>\n       <use style=\"stroke:#000000;stroke-width:0.8;\" x=\"209.543182\" xlink:href=\"#m1c84345f72\" y=\"34.375325\"/>\n      </g>\n     </g>\n     <g id=\"text_15\">\n      <!-- 2 -->\n      <g transform=\"translate(196.180682 38.174543)scale(0.1 -0.1)\">\n       <use xlink:href=\"#DejaVuSans-50\"/>\n      </g>\n     </g>\n    </g>\n    <g id=\"ytick_10\">\n     <g id=\"line2d_16\">\n      <g>\n       <use style=\"stroke:#000000;stroke-width:0.8;\" x=\"209.543182\" xlink:href=\"#m1c84345f72\" y=\"56.115584\"/>\n      </g>\n     </g>\n     <g id=\"text_16\">\n      <!-- 4 -->\n      <g transform=\"translate(196.180682 59.914803)scale(0.1 -0.1)\">\n       <use xlink:href=\"#DejaVuSans-52\"/>\n      </g>\n     </g>\n    </g>\n    <g id=\"ytick_11\">\n     <g id=\"line2d_17\">\n      <g>\n       <use style=\"stroke:#000000;stroke-width:0.8;\" x=\"209.543182\" xlink:href=\"#m1c84345f72\" y=\"77.855844\"/>\n      </g>\n     </g>\n     <g id=\"text_17\">\n      <!-- 6 -->\n      <g transform=\"translate(196.180682 81.655063)scale(0.1 -0.1)\">\n       <use xlink:href=\"#DejaVuSans-54\"/>\n      </g>\n     </g>\n    </g>\n    <g id=\"ytick_12\">\n     <g id=\"line2d_18\">\n      <g>\n       <use style=\"stroke:#000000;stroke-width:0.8;\" x=\"209.543182\" xlink:href=\"#m1c84345f72\" y=\"99.596104\"/>\n      </g>\n     </g>\n     <g id=\"text_18\">\n      <!-- 8 -->\n      <g transform=\"translate(196.180682 103.395323)scale(0.1 -0.1)\">\n       <use xlink:href=\"#DejaVuSans-56\"/>\n      </g>\n     </g>\n    </g>\n    <g id=\"ytick_13\">\n     <g id=\"line2d_19\">\n      <g>\n       <use style=\"stroke:#000000;stroke-width:0.8;\" x=\"209.543182\" xlink:href=\"#m1c84345f72\" y=\"121.336364\"/>\n      </g>\n     </g>\n     <g id=\"text_19\">\n      <!-- 10 -->\n      <g transform=\"translate(189.818182 125.135582)scale(0.1 -0.1)\">\n       <use xlink:href=\"#DejaVuSans-49\"/>\n       <use x=\"63.623047\" xlink:href=\"#DejaVuSans-48\"/>\n      </g>\n     </g>\n    </g>\n    <g id=\"ytick_14\">\n     <g id=\"line2d_20\">\n      <g>\n       <use style=\"stroke:#000000;stroke-width:0.8;\" x=\"209.543182\" xlink:href=\"#m1c84345f72\" y=\"143.076623\"/>\n      </g>\n     </g>\n     <g id=\"text_20\">\n      <!-- 12 -->\n      <g transform=\"translate(189.818182 146.875842)scale(0.1 -0.1)\">\n       <use xlink:href=\"#DejaVuSans-49\"/>\n       <use x=\"63.623047\" xlink:href=\"#DejaVuSans-50\"/>\n      </g>\n     </g>\n    </g>\n   </g>\n   <g id=\"patch_8\">\n    <path d=\"M 209.543182 159.381818 \nL 209.543182 7.2 \n\" style=\"fill:none;stroke:#000000;stroke-linecap:square;stroke-linejoin:miter;stroke-width:0.8;\"/>\n   </g>\n   <g id=\"patch_9\">\n    <path d=\"M 361.725 159.381818 \nL 361.725 7.2 \n\" style=\"fill:none;stroke:#000000;stroke-linecap:square;stroke-linejoin:miter;stroke-width:0.8;\"/>\n   </g>\n   <g id=\"patch_10\">\n    <path d=\"M 209.543182 159.381818 \nL 361.725 159.381818 \n\" style=\"fill:none;stroke:#000000;stroke-linecap:square;stroke-linejoin:miter;stroke-width:0.8;\"/>\n   </g>\n   <g id=\"patch_11\">\n    <path d=\"M 209.543182 7.2 \nL 361.725 7.2 \n\" style=\"fill:none;stroke:#000000;stroke-linecap:square;stroke-linejoin:miter;stroke-width:0.8;\"/>\n   </g>\n  </g>\n </g>\n <defs>\n  <clipPath id=\"paf353325ee\">\n   <rect height=\"152.181818\" width=\"152.181818\" x=\"26.925\" y=\"7.2\"/>\n  </clipPath>\n  <clipPath id=\"pf2f6f47b97\">\n   <rect height=\"152.181818\" width=\"152.181818\" x=\"209.543182\" y=\"7.2\"/>\n  </clipPath>\n </defs>\n</svg>\n",
      "image/png": "[encoded data removed]"
     },
     "metadata": {
      "needs_background": "light"
     }
    }
   ],
   "source": [
    "import matplotlib.pyplot as plt\n",
    "\n",
    "plt.subplot(121), plt.imshow(x[0, 0, :, :])\n",
    "plt.subplot(122), plt.imshow(x[0, 1, :, :])"
   ]
  },
  {
   "cell_type": "code",
   "execution_count": null,
   "metadata": {},
   "outputs": [],
   "source": []
  }
 ],
 "metadata": {
  "kernelspec": {
   "name": "python385jvsc74a57bd0cd2edb166c77106dd34676ef998b71cb296d61cfffa45bb0b64ff16e7b773021",
   "display_name": "Python 3.8.5 64-bit ('ds': conda)"
  },
  "language_info": {
   "codemirror_mode": {
    "name": "ipython",
    "version": 3
   },
   "file_extension": ".py",
   "mimetype": "text/x-python",
   "name": "python",
   "nbconvert_exporter": "python",
   "pygments_lexer": "ipython3",
   "version": "3.8.5"
  }
 },
 "nbformat": 4,
 "nbformat_minor": 4
}